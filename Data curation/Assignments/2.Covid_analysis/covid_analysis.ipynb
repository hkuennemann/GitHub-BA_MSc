{
 "cells": [
  {
   "cell_type": "markdown",
   "metadata": {
    "id": "aMsET9540ezR"
   },
   "source": [
    "## Assignment 2 Data Analysis using Pandas\n",
    "\n",
    "This assignment will contain 14 questions with details as below. The due date is October 8 (Sunday), 2023 23:59PM. Each late day will result in 20% loss of total points."
   ]
  },
  {
   "cell_type": "markdown",
   "metadata": {
    "id": "0ixiRTpx0ezT"
   },
   "source": [
    "The file of 'Daily reports (csse_covid_19_daily_reports)' contains 01-01-2023 (MM-DD-YYYY) daily case report. All timestamps are in UTC (GMT+0). More Description can be found in [COVID-19 Data Repository by the Center for Systems Science and Engineering (CSSE) at Johns Hopkins University.](https://github.com/CSSEGISandData/COVID-19)\n",
    "\n",
    "References:\n",
    "\n",
    "- Dong E, Du H, Gardner L. An interactive web-based dashboard to track COVID-19 in real time. Lancet Inf Dis. 20(5):533-534. doi: 10.1016/S1473-3099(20)30120-1\n",
    "- Additional Information about the Visual Dashboard: https://systems.jhu.edu/research/public-health/ncov/\n",
    "- Miller, Meg. \"2019 Novel Coronavirus COVID-19 (2019-nCoV) Data Repository: Johns Hopkins University Center for Systems Science and Engineering.\" Bulletin-Association of Canadian Map Libraries and Archives (ACMLA) 164 (2020): 47-51."
   ]
  },
  {
   "cell_type": "markdown",
   "metadata": {
    "id": "HuawZ8oS0ezU"
   },
   "source": [
    "Field/Feature/Column names descriptions are listed as follows\n",
    "\n",
    "- FIPS: US only. Federal Information Processing Standards code that uniquely identifies counties within the USA.\n",
    "\n",
    "- Admin2: County name. US only.\n",
    "\n",
    "- Province_State: Province, state or dependency name.\n",
    "\n",
    "- Country_Region: Country, region or sovereignty name. The names of locations included on the Website correspond with the official designations used by the U.S. Department of State.\n",
    "\n",
    "- Last Update: MM/DD/YYYY HH:mm:ss (24 hour format, in UTC).\n",
    "\n",
    "- Lat and Long: Dot locations on the dashboard. All points (except for Australia) shown on the map are based on geographic centroids, and are not representative of a specific address, building or any location at a spatial scale finer than a province/state. Australian dots are located at the centroid of the largest city in each state.\n",
    "\n",
    "- Confirmed: Counts include confirmed and probable (where reported).\n",
    "\n",
    "- Deaths: Counts include confirmed and probable (where reported).\n",
    "\n",
    "- Recovered: Recovered cases are estimates based on local media reports, and state and local reporting when available, and therefore may be substantially lower than the true number. US state-level recovered cases are from COVID Tracking Project. We stopped to maintain the recovered cases.\n",
    "\n",
    "- Active: Active cases = total cases - total recovered - total deaths. This value is for reference only after we stopped to report the recovered cases.\n",
    "\n",
    "- Incident_Rate: Incidence Rate = cases per 100,000 persons.\n",
    "\n",
    "- Case_Fatality_Ratio (%): Case-Fatality Ratio (%) = 100 * Number recorded deaths / Number cases.\n",
    "\n",
    "- All cases, deaths, and recoveries reported are based on the date of initial report.\n"
   ]
  },
  {
   "cell_type": "markdown",
   "metadata": {
    "id": "7IfTdZtx0ezV"
   },
   "source": [
    "Note: Please download the dataset \"01-01-2023.csv\" from the moodle to your local path for performing the analysis, as some modification on the original data was done to suit the needs for this assignment."
   ]
  },
  {
   "cell_type": "code",
   "execution_count": 1,
   "metadata": {
    "id": "7pxSIZk20ezW"
   },
   "outputs": [],
   "source": [
    "import pandas as pd\n",
    "import numpy as np"
   ]
  },
  {
   "cell_type": "markdown",
   "metadata": {
    "id": "eszmTSTn0ezX"
   },
   "source": [
    "## Question 1 (5 points)\n",
    "\n",
    "Now you need to use ```pandas``` to read the downloaded file from your local path.\n",
    "\n",
    "**Print the column names, and also print a general description of it by using ```.describe()``` function.**"
   ]
  },
  {
   "cell_type": "code",
   "execution_count": 2,
   "metadata": {
    "id": "zFCfzR1-0ezX"
   },
   "outputs": [
    {
     "data": {
      "text/html": [
       "<div>\n",
       "<style scoped>\n",
       "    .dataframe tbody tr th:only-of-type {\n",
       "        vertical-align: middle;\n",
       "    }\n",
       "\n",
       "    .dataframe tbody tr th {\n",
       "        vertical-align: top;\n",
       "    }\n",
       "\n",
       "    .dataframe thead th {\n",
       "        text-align: right;\n",
       "    }\n",
       "</style>\n",
       "<table border=\"1\" class=\"dataframe\">\n",
       "  <thead>\n",
       "    <tr style=\"text-align: right;\">\n",
       "      <th></th>\n",
       "      <th>FIPS</th>\n",
       "      <th>Admin2</th>\n",
       "      <th>Province_State</th>\n",
       "      <th>Country_Region</th>\n",
       "      <th>Last_Update</th>\n",
       "      <th>Lat</th>\n",
       "      <th>Long_</th>\n",
       "      <th>Confirmed</th>\n",
       "      <th>Deaths</th>\n",
       "      <th>Recovered</th>\n",
       "      <th>Active</th>\n",
       "      <th>Combined_Key</th>\n",
       "      <th>Incident_Rate</th>\n",
       "      <th>Case_Fatality_Ratio</th>\n",
       "    </tr>\n",
       "  </thead>\n",
       "  <tbody>\n",
       "    <tr>\n",
       "      <th>0</th>\n",
       "      <td>NaN</td>\n",
       "      <td>NaN</td>\n",
       "      <td>NaN</td>\n",
       "      <td>Afghanistan</td>\n",
       "      <td>2023-01-02 04:20:57</td>\n",
       "      <td>33.939110</td>\n",
       "      <td>67.709953</td>\n",
       "      <td>207616</td>\n",
       "      <td>7849</td>\n",
       "      <td>NaN</td>\n",
       "      <td>NaN</td>\n",
       "      <td>Afghanistan</td>\n",
       "      <td>533.328662</td>\n",
       "      <td>3.780537</td>\n",
       "    </tr>\n",
       "    <tr>\n",
       "      <th>1</th>\n",
       "      <td>NaN</td>\n",
       "      <td>NaN</td>\n",
       "      <td>NaN</td>\n",
       "      <td>Albania</td>\n",
       "      <td>2023-01-02 04:20:57</td>\n",
       "      <td>41.153300</td>\n",
       "      <td>20.168300</td>\n",
       "      <td>333811</td>\n",
       "      <td>3595</td>\n",
       "      <td>NaN</td>\n",
       "      <td>NaN</td>\n",
       "      <td>Albania</td>\n",
       "      <td>11599.520467</td>\n",
       "      <td>1.076957</td>\n",
       "    </tr>\n",
       "    <tr>\n",
       "      <th>2</th>\n",
       "      <td>NaN</td>\n",
       "      <td>NaN</td>\n",
       "      <td>NaN</td>\n",
       "      <td>Algeria</td>\n",
       "      <td>2023-01-02 04:20:57</td>\n",
       "      <td>28.033900</td>\n",
       "      <td>1.659600</td>\n",
       "      <td>271229</td>\n",
       "      <td>6881</td>\n",
       "      <td>NaN</td>\n",
       "      <td>NaN</td>\n",
       "      <td>Algeria</td>\n",
       "      <td>618.523486</td>\n",
       "      <td>2.536971</td>\n",
       "    </tr>\n",
       "    <tr>\n",
       "      <th>3</th>\n",
       "      <td>NaN</td>\n",
       "      <td>NaN</td>\n",
       "      <td>NaN</td>\n",
       "      <td>Andorra</td>\n",
       "      <td>2023-01-02 04:20:57</td>\n",
       "      <td>42.506300</td>\n",
       "      <td>1.521800</td>\n",
       "      <td>47751</td>\n",
       "      <td>165</td>\n",
       "      <td>NaN</td>\n",
       "      <td>NaN</td>\n",
       "      <td>Andorra</td>\n",
       "      <td>61801.591924</td>\n",
       "      <td>0.345543</td>\n",
       "    </tr>\n",
       "    <tr>\n",
       "      <th>4</th>\n",
       "      <td>NaN</td>\n",
       "      <td>NaN</td>\n",
       "      <td>NaN</td>\n",
       "      <td>Angola</td>\n",
       "      <td>2023-01-02 04:20:57</td>\n",
       "      <td>-11.202700</td>\n",
       "      <td>17.873900</td>\n",
       "      <td>105095</td>\n",
       "      <td>1930</td>\n",
       "      <td>NaN</td>\n",
       "      <td>NaN</td>\n",
       "      <td>Angola</td>\n",
       "      <td>319.765542</td>\n",
       "      <td>1.836434</td>\n",
       "    </tr>\n",
       "    <tr>\n",
       "      <th>...</th>\n",
       "      <td>...</td>\n",
       "      <td>...</td>\n",
       "      <td>...</td>\n",
       "      <td>...</td>\n",
       "      <td>...</td>\n",
       "      <td>...</td>\n",
       "      <td>...</td>\n",
       "      <td>...</td>\n",
       "      <td>...</td>\n",
       "      <td>...</td>\n",
       "      <td>...</td>\n",
       "      <td>...</td>\n",
       "      <td>...</td>\n",
       "      <td>...</td>\n",
       "    </tr>\n",
       "    <tr>\n",
       "      <th>4011</th>\n",
       "      <td>NaN</td>\n",
       "      <td>NaN</td>\n",
       "      <td>NaN</td>\n",
       "      <td>West Bank and Gaza</td>\n",
       "      <td>2023-01-02 04:20:57</td>\n",
       "      <td>31.952200</td>\n",
       "      <td>35.233200</td>\n",
       "      <td>703228</td>\n",
       "      <td>5708</td>\n",
       "      <td>NaN</td>\n",
       "      <td>NaN</td>\n",
       "      <td>West Bank and Gaza</td>\n",
       "      <td>13784.956961</td>\n",
       "      <td>0.811686</td>\n",
       "    </tr>\n",
       "    <tr>\n",
       "      <th>4012</th>\n",
       "      <td>NaN</td>\n",
       "      <td>NaN</td>\n",
       "      <td>NaN</td>\n",
       "      <td>Winter Olympics 2022</td>\n",
       "      <td>2023-01-02 04:20:57</td>\n",
       "      <td>39.904200</td>\n",
       "      <td>116.407400</td>\n",
       "      <td>535</td>\n",
       "      <td>0</td>\n",
       "      <td>NaN</td>\n",
       "      <td>NaN</td>\n",
       "      <td>Winter Olympics 2022</td>\n",
       "      <td>NaN</td>\n",
       "      <td>0.000000</td>\n",
       "    </tr>\n",
       "    <tr>\n",
       "      <th>4013</th>\n",
       "      <td>NaN</td>\n",
       "      <td>NaN</td>\n",
       "      <td>NaN</td>\n",
       "      <td>Yemen</td>\n",
       "      <td>2023-01-02 04:20:57</td>\n",
       "      <td>15.552727</td>\n",
       "      <td>48.516388</td>\n",
       "      <td>11945</td>\n",
       "      <td>2159</td>\n",
       "      <td>NaN</td>\n",
       "      <td>NaN</td>\n",
       "      <td>Yemen</td>\n",
       "      <td>40.048994</td>\n",
       "      <td>18.074508</td>\n",
       "    </tr>\n",
       "    <tr>\n",
       "      <th>4014</th>\n",
       "      <td>NaN</td>\n",
       "      <td>NaN</td>\n",
       "      <td>NaN</td>\n",
       "      <td>Zambia</td>\n",
       "      <td>2023-01-02 04:20:57</td>\n",
       "      <td>-13.133897</td>\n",
       "      <td>27.849332</td>\n",
       "      <td>334629</td>\n",
       "      <td>4024</td>\n",
       "      <td>NaN</td>\n",
       "      <td>NaN</td>\n",
       "      <td>Zambia</td>\n",
       "      <td>1820.223025</td>\n",
       "      <td>1.202526</td>\n",
       "    </tr>\n",
       "    <tr>\n",
       "      <th>4015</th>\n",
       "      <td>NaN</td>\n",
       "      <td>NaN</td>\n",
       "      <td>NaN</td>\n",
       "      <td>Zimbabwe</td>\n",
       "      <td>2023-01-02 04:20:57</td>\n",
       "      <td>-19.015438</td>\n",
       "      <td>29.154857</td>\n",
       "      <td>259981</td>\n",
       "      <td>5637</td>\n",
       "      <td>NaN</td>\n",
       "      <td>NaN</td>\n",
       "      <td>Zimbabwe</td>\n",
       "      <td>1749.191125</td>\n",
       "      <td>2.168235</td>\n",
       "    </tr>\n",
       "  </tbody>\n",
       "</table>\n",
       "<p>4016 rows × 14 columns</p>\n",
       "</div>"
      ],
      "text/plain": [
       "      FIPS Admin2 Province_State        Country_Region          Last_Update  \\\n",
       "0      NaN    NaN            NaN           Afghanistan  2023-01-02 04:20:57   \n",
       "1      NaN    NaN            NaN               Albania  2023-01-02 04:20:57   \n",
       "2      NaN    NaN            NaN               Algeria  2023-01-02 04:20:57   \n",
       "3      NaN    NaN            NaN               Andorra  2023-01-02 04:20:57   \n",
       "4      NaN    NaN            NaN                Angola  2023-01-02 04:20:57   \n",
       "...    ...    ...            ...                   ...                  ...   \n",
       "4011   NaN    NaN            NaN    West Bank and Gaza  2023-01-02 04:20:57   \n",
       "4012   NaN    NaN            NaN  Winter Olympics 2022  2023-01-02 04:20:57   \n",
       "4013   NaN    NaN            NaN                 Yemen  2023-01-02 04:20:57   \n",
       "4014   NaN    NaN            NaN                Zambia  2023-01-02 04:20:57   \n",
       "4015   NaN    NaN            NaN              Zimbabwe  2023-01-02 04:20:57   \n",
       "\n",
       "            Lat       Long_  Confirmed  Deaths  Recovered  Active  \\\n",
       "0     33.939110   67.709953     207616    7849        NaN     NaN   \n",
       "1     41.153300   20.168300     333811    3595        NaN     NaN   \n",
       "2     28.033900    1.659600     271229    6881        NaN     NaN   \n",
       "3     42.506300    1.521800      47751     165        NaN     NaN   \n",
       "4    -11.202700   17.873900     105095    1930        NaN     NaN   \n",
       "...         ...         ...        ...     ...        ...     ...   \n",
       "4011  31.952200   35.233200     703228    5708        NaN     NaN   \n",
       "4012  39.904200  116.407400        535       0        NaN     NaN   \n",
       "4013  15.552727   48.516388      11945    2159        NaN     NaN   \n",
       "4014 -13.133897   27.849332     334629    4024        NaN     NaN   \n",
       "4015 -19.015438   29.154857     259981    5637        NaN     NaN   \n",
       "\n",
       "              Combined_Key  Incident_Rate  Case_Fatality_Ratio  \n",
       "0              Afghanistan     533.328662             3.780537  \n",
       "1                  Albania   11599.520467             1.076957  \n",
       "2                  Algeria     618.523486             2.536971  \n",
       "3                  Andorra   61801.591924             0.345543  \n",
       "4                   Angola     319.765542             1.836434  \n",
       "...                    ...            ...                  ...  \n",
       "4011    West Bank and Gaza   13784.956961             0.811686  \n",
       "4012  Winter Olympics 2022            NaN             0.000000  \n",
       "4013                 Yemen      40.048994            18.074508  \n",
       "4014                Zambia    1820.223025             1.202526  \n",
       "4015              Zimbabwe    1749.191125             2.168235  \n",
       "\n",
       "[4016 rows x 14 columns]"
      ]
     },
     "execution_count": 2,
     "metadata": {},
     "output_type": "execute_result"
    }
   ],
   "source": [
    "### Q1\n",
    "\n",
    "# Reading the file\n",
    "reportDF = pd.read_csv(\"01-01-2023.csv\")\n",
    "\n",
    "# Printing out dataframe\n",
    "reportDF"
   ]
  },
  {
   "cell_type": "code",
   "execution_count": 3,
   "metadata": {},
   "outputs": [
    {
     "name": "stdout",
     "output_type": "stream",
     "text": [
      "Index(['FIPS', 'Admin2', 'Province_State', 'Country_Region', 'Last_Update',\n",
      "       'Lat', 'Long_', 'Confirmed', 'Deaths', 'Recovered', 'Active',\n",
      "       'Combined_Key', 'Incident_Rate', 'Case_Fatality_Ratio'],\n",
      "      dtype='object')\n"
     ]
    }
   ],
   "source": [
    "# Printing the column names\n",
    "print(reportDF.columns)"
   ]
  },
  {
   "cell_type": "code",
   "execution_count": 4,
   "metadata": {},
   "outputs": [
    {
     "name": "stdout",
     "output_type": "stream",
     "text": [
      "               FIPS          Lat        Long_     Confirmed         Deaths  \\\n",
      "count   3268.000000  3925.000000  3925.000000  4.016000e+03    4016.000000   \n",
      "mean   32405.943390    35.736183   -71.109728  1.645364e+05    1666.937749   \n",
      "std    18056.381177    13.441327    55.361480  1.045288e+06    8702.992446   \n",
      "min       60.000000   -71.949900  -178.116500  0.000000e+00       0.000000   \n",
      "25%    19048.500000    33.191535   -96.595639  3.721250e+03      46.000000   \n",
      "50%    30068.000000    37.895700   -86.717326  1.050600e+04     130.500000   \n",
      "75%    47041.500000    42.176955   -77.357900  4.577075e+04     465.250000   \n",
      "max    99999.000000    71.706900   178.065000  3.826700e+07  183247.000000   \n",
      "\n",
      "       Recovered  Active  Incident_Rate  Case_Fatality_Ratio  \n",
      "count        0.0     0.0    3922.000000          3974.000000  \n",
      "mean         NaN     NaN   27690.256958             3.396189  \n",
      "std          NaN     NaN   10386.943044            93.482132  \n",
      "min          NaN     NaN       0.000000             0.000000  \n",
      "25%          NaN     NaN   23340.816452             0.892777  \n",
      "50%          NaN     NaN   28611.368832             1.287045  \n",
      "75%          NaN     NaN   33162.638320             1.739872  \n",
      "max          NaN     NaN  218343.195266          5651.724138  \n"
     ]
    }
   ],
   "source": [
    "# Printing general description\n",
    "print(reportDF.describe())"
   ]
  },
  {
   "cell_type": "markdown",
   "metadata": {
    "id": "00U5V1Fb0ezY"
   },
   "source": [
    "## Question 2  (10 points)\n",
    "\n",
    "Meanwhile, the data contains a few errors that need to be resolved:\n",
    "\n",
    "- the ```Long``` column is mistakenly encoded as ```Long_```\n",
    "- the ```Recovered``` column contains mostly missing values and needs to be deleted\n",
    "- the ```Active``` column contains mostly missing values and needs to be deleted\n",
    "- the ```Incident_Rate``` column is miscalculated by multiplying 100 on its original value"
   ]
  },
  {
   "cell_type": "code",
   "execution_count": 5,
   "metadata": {
    "id": "IJeqvM7-0ezZ"
   },
   "outputs": [
    {
     "data": {
      "text/html": [
       "<div>\n",
       "<style scoped>\n",
       "    .dataframe tbody tr th:only-of-type {\n",
       "        vertical-align: middle;\n",
       "    }\n",
       "\n",
       "    .dataframe tbody tr th {\n",
       "        vertical-align: top;\n",
       "    }\n",
       "\n",
       "    .dataframe thead th {\n",
       "        text-align: right;\n",
       "    }\n",
       "</style>\n",
       "<table border=\"1\" class=\"dataframe\">\n",
       "  <thead>\n",
       "    <tr style=\"text-align: right;\">\n",
       "      <th></th>\n",
       "      <th>FIPS</th>\n",
       "      <th>Admin2</th>\n",
       "      <th>Province_State</th>\n",
       "      <th>Country_Region</th>\n",
       "      <th>Last_Update</th>\n",
       "      <th>Lat</th>\n",
       "      <th>Long</th>\n",
       "      <th>Confirmed</th>\n",
       "      <th>Deaths</th>\n",
       "      <th>Combined_Key</th>\n",
       "      <th>Incident_Rate</th>\n",
       "      <th>Case_Fatality_Ratio</th>\n",
       "    </tr>\n",
       "  </thead>\n",
       "  <tbody>\n",
       "    <tr>\n",
       "      <th>0</th>\n",
       "      <td>NaN</td>\n",
       "      <td>NaN</td>\n",
       "      <td>NaN</td>\n",
       "      <td>Afghanistan</td>\n",
       "      <td>2023-01-02 04:20:57</td>\n",
       "      <td>33.939110</td>\n",
       "      <td>67.709953</td>\n",
       "      <td>207616</td>\n",
       "      <td>7849</td>\n",
       "      <td>Afghanistan</td>\n",
       "      <td>5.333287</td>\n",
       "      <td>3.780537</td>\n",
       "    </tr>\n",
       "    <tr>\n",
       "      <th>1</th>\n",
       "      <td>NaN</td>\n",
       "      <td>NaN</td>\n",
       "      <td>NaN</td>\n",
       "      <td>Albania</td>\n",
       "      <td>2023-01-02 04:20:57</td>\n",
       "      <td>41.153300</td>\n",
       "      <td>20.168300</td>\n",
       "      <td>333811</td>\n",
       "      <td>3595</td>\n",
       "      <td>Albania</td>\n",
       "      <td>115.995205</td>\n",
       "      <td>1.076957</td>\n",
       "    </tr>\n",
       "    <tr>\n",
       "      <th>2</th>\n",
       "      <td>NaN</td>\n",
       "      <td>NaN</td>\n",
       "      <td>NaN</td>\n",
       "      <td>Algeria</td>\n",
       "      <td>2023-01-02 04:20:57</td>\n",
       "      <td>28.033900</td>\n",
       "      <td>1.659600</td>\n",
       "      <td>271229</td>\n",
       "      <td>6881</td>\n",
       "      <td>Algeria</td>\n",
       "      <td>6.185235</td>\n",
       "      <td>2.536971</td>\n",
       "    </tr>\n",
       "    <tr>\n",
       "      <th>3</th>\n",
       "      <td>NaN</td>\n",
       "      <td>NaN</td>\n",
       "      <td>NaN</td>\n",
       "      <td>Andorra</td>\n",
       "      <td>2023-01-02 04:20:57</td>\n",
       "      <td>42.506300</td>\n",
       "      <td>1.521800</td>\n",
       "      <td>47751</td>\n",
       "      <td>165</td>\n",
       "      <td>Andorra</td>\n",
       "      <td>618.015919</td>\n",
       "      <td>0.345543</td>\n",
       "    </tr>\n",
       "    <tr>\n",
       "      <th>4</th>\n",
       "      <td>NaN</td>\n",
       "      <td>NaN</td>\n",
       "      <td>NaN</td>\n",
       "      <td>Angola</td>\n",
       "      <td>2023-01-02 04:20:57</td>\n",
       "      <td>-11.202700</td>\n",
       "      <td>17.873900</td>\n",
       "      <td>105095</td>\n",
       "      <td>1930</td>\n",
       "      <td>Angola</td>\n",
       "      <td>3.197655</td>\n",
       "      <td>1.836434</td>\n",
       "    </tr>\n",
       "    <tr>\n",
       "      <th>...</th>\n",
       "      <td>...</td>\n",
       "      <td>...</td>\n",
       "      <td>...</td>\n",
       "      <td>...</td>\n",
       "      <td>...</td>\n",
       "      <td>...</td>\n",
       "      <td>...</td>\n",
       "      <td>...</td>\n",
       "      <td>...</td>\n",
       "      <td>...</td>\n",
       "      <td>...</td>\n",
       "      <td>...</td>\n",
       "    </tr>\n",
       "    <tr>\n",
       "      <th>4011</th>\n",
       "      <td>NaN</td>\n",
       "      <td>NaN</td>\n",
       "      <td>NaN</td>\n",
       "      <td>West Bank and Gaza</td>\n",
       "      <td>2023-01-02 04:20:57</td>\n",
       "      <td>31.952200</td>\n",
       "      <td>35.233200</td>\n",
       "      <td>703228</td>\n",
       "      <td>5708</td>\n",
       "      <td>West Bank and Gaza</td>\n",
       "      <td>137.849570</td>\n",
       "      <td>0.811686</td>\n",
       "    </tr>\n",
       "    <tr>\n",
       "      <th>4012</th>\n",
       "      <td>NaN</td>\n",
       "      <td>NaN</td>\n",
       "      <td>NaN</td>\n",
       "      <td>Winter Olympics 2022</td>\n",
       "      <td>2023-01-02 04:20:57</td>\n",
       "      <td>39.904200</td>\n",
       "      <td>116.407400</td>\n",
       "      <td>535</td>\n",
       "      <td>0</td>\n",
       "      <td>Winter Olympics 2022</td>\n",
       "      <td>NaN</td>\n",
       "      <td>0.000000</td>\n",
       "    </tr>\n",
       "    <tr>\n",
       "      <th>4013</th>\n",
       "      <td>NaN</td>\n",
       "      <td>NaN</td>\n",
       "      <td>NaN</td>\n",
       "      <td>Yemen</td>\n",
       "      <td>2023-01-02 04:20:57</td>\n",
       "      <td>15.552727</td>\n",
       "      <td>48.516388</td>\n",
       "      <td>11945</td>\n",
       "      <td>2159</td>\n",
       "      <td>Yemen</td>\n",
       "      <td>0.400490</td>\n",
       "      <td>18.074508</td>\n",
       "    </tr>\n",
       "    <tr>\n",
       "      <th>4014</th>\n",
       "      <td>NaN</td>\n",
       "      <td>NaN</td>\n",
       "      <td>NaN</td>\n",
       "      <td>Zambia</td>\n",
       "      <td>2023-01-02 04:20:57</td>\n",
       "      <td>-13.133897</td>\n",
       "      <td>27.849332</td>\n",
       "      <td>334629</td>\n",
       "      <td>4024</td>\n",
       "      <td>Zambia</td>\n",
       "      <td>18.202230</td>\n",
       "      <td>1.202526</td>\n",
       "    </tr>\n",
       "    <tr>\n",
       "      <th>4015</th>\n",
       "      <td>NaN</td>\n",
       "      <td>NaN</td>\n",
       "      <td>NaN</td>\n",
       "      <td>Zimbabwe</td>\n",
       "      <td>2023-01-02 04:20:57</td>\n",
       "      <td>-19.015438</td>\n",
       "      <td>29.154857</td>\n",
       "      <td>259981</td>\n",
       "      <td>5637</td>\n",
       "      <td>Zimbabwe</td>\n",
       "      <td>17.491911</td>\n",
       "      <td>2.168235</td>\n",
       "    </tr>\n",
       "  </tbody>\n",
       "</table>\n",
       "<p>4016 rows × 12 columns</p>\n",
       "</div>"
      ],
      "text/plain": [
       "      FIPS Admin2 Province_State        Country_Region          Last_Update  \\\n",
       "0      NaN    NaN            NaN           Afghanistan  2023-01-02 04:20:57   \n",
       "1      NaN    NaN            NaN               Albania  2023-01-02 04:20:57   \n",
       "2      NaN    NaN            NaN               Algeria  2023-01-02 04:20:57   \n",
       "3      NaN    NaN            NaN               Andorra  2023-01-02 04:20:57   \n",
       "4      NaN    NaN            NaN                Angola  2023-01-02 04:20:57   \n",
       "...    ...    ...            ...                   ...                  ...   \n",
       "4011   NaN    NaN            NaN    West Bank and Gaza  2023-01-02 04:20:57   \n",
       "4012   NaN    NaN            NaN  Winter Olympics 2022  2023-01-02 04:20:57   \n",
       "4013   NaN    NaN            NaN                 Yemen  2023-01-02 04:20:57   \n",
       "4014   NaN    NaN            NaN                Zambia  2023-01-02 04:20:57   \n",
       "4015   NaN    NaN            NaN              Zimbabwe  2023-01-02 04:20:57   \n",
       "\n",
       "            Lat        Long  Confirmed  Deaths          Combined_Key  \\\n",
       "0     33.939110   67.709953     207616    7849           Afghanistan   \n",
       "1     41.153300   20.168300     333811    3595               Albania   \n",
       "2     28.033900    1.659600     271229    6881               Algeria   \n",
       "3     42.506300    1.521800      47751     165               Andorra   \n",
       "4    -11.202700   17.873900     105095    1930                Angola   \n",
       "...         ...         ...        ...     ...                   ...   \n",
       "4011  31.952200   35.233200     703228    5708    West Bank and Gaza   \n",
       "4012  39.904200  116.407400        535       0  Winter Olympics 2022   \n",
       "4013  15.552727   48.516388      11945    2159                 Yemen   \n",
       "4014 -13.133897   27.849332     334629    4024                Zambia   \n",
       "4015 -19.015438   29.154857     259981    5637              Zimbabwe   \n",
       "\n",
       "      Incident_Rate  Case_Fatality_Ratio  \n",
       "0          5.333287             3.780537  \n",
       "1        115.995205             1.076957  \n",
       "2          6.185235             2.536971  \n",
       "3        618.015919             0.345543  \n",
       "4          3.197655             1.836434  \n",
       "...             ...                  ...  \n",
       "4011     137.849570             0.811686  \n",
       "4012            NaN             0.000000  \n",
       "4013       0.400490            18.074508  \n",
       "4014      18.202230             1.202526  \n",
       "4015      17.491911             2.168235  \n",
       "\n",
       "[4016 rows x 12 columns]"
      ]
     },
     "execution_count": 5,
     "metadata": {},
     "output_type": "execute_result"
    }
   ],
   "source": [
    "### Q2\n",
    "# Changing \"Long_\" in \"Long\"\n",
    "reportDF.rename(columns={\"Long_\": \"Long\"}, inplace = True)\n",
    "\n",
    "# Delete columns \"Recovered\" and \"Action\"\n",
    "reportDF.drop([\"Recovered\", \"Active\"], axis = 1, inplace = True)\n",
    "\n",
    "# dividing \"Incident_Rate\" by 100\n",
    "reportDF[\"Incident_Rate\"] = reportDF[\"Incident_Rate\"] / 100\n",
    "\n",
    "# printing transformed dataframe\n",
    "reportDF"
   ]
  },
  {
   "cell_type": "markdown",
   "metadata": {
    "id": "zhEopJ_S0ezZ"
   },
   "source": [
    "## Question 3  (5 points)\n",
    "\n",
    "The column ```Last_Update``` involves some timestamps that are not in the year of 2023. Find them out and delete those rows.\n",
    "\n",
    "**The updated dataframe should have only rows with timestamp in 2023.**\n",
    "\n",
    "Hint: use value_counts() to count unique values first."
   ]
  },
  {
   "cell_type": "code",
   "execution_count": 6,
   "metadata": {},
   "outputs": [
    {
     "data": {
      "text/plain": [
       "2023-01-02 04:20:57    4002\n",
       "2020-12-21 13:27:30       5\n",
       "2022-11-22 23:21:06       2\n",
       "2020-08-04 02:27:56       2\n",
       "2022-10-21 23:21:56       1\n",
       "2022-09-12 23:21:04       1\n",
       "2020-08-07 22:34:20       1\n",
       "2021-10-10 23:21:42       1\n",
       "2021-07-31 23:21:38       1\n",
       "Name: Last_Update, dtype: int64"
      ]
     },
     "execution_count": 6,
     "metadata": {},
     "output_type": "execute_result"
    }
   ],
   "source": [
    "# Looking at the information in the \"Last_Update\" column\n",
    "reportDF[\"Last_Update\"].value_counts()"
   ]
  },
  {
   "cell_type": "code",
   "execution_count": 7,
   "metadata": {
    "id": "UbIvBC530ezZ"
   },
   "outputs": [
    {
     "data": {
      "text/html": [
       "<div>\n",
       "<style scoped>\n",
       "    .dataframe tbody tr th:only-of-type {\n",
       "        vertical-align: middle;\n",
       "    }\n",
       "\n",
       "    .dataframe tbody tr th {\n",
       "        vertical-align: top;\n",
       "    }\n",
       "\n",
       "    .dataframe thead th {\n",
       "        text-align: right;\n",
       "    }\n",
       "</style>\n",
       "<table border=\"1\" class=\"dataframe\">\n",
       "  <thead>\n",
       "    <tr style=\"text-align: right;\">\n",
       "      <th></th>\n",
       "      <th>FIPS</th>\n",
       "      <th>Admin2</th>\n",
       "      <th>Province_State</th>\n",
       "      <th>Country_Region</th>\n",
       "      <th>Last_Update</th>\n",
       "      <th>Lat</th>\n",
       "      <th>Long</th>\n",
       "      <th>Confirmed</th>\n",
       "      <th>Deaths</th>\n",
       "      <th>Combined_Key</th>\n",
       "      <th>Incident_Rate</th>\n",
       "      <th>Case_Fatality_Ratio</th>\n",
       "    </tr>\n",
       "  </thead>\n",
       "  <tbody>\n",
       "    <tr>\n",
       "      <th>0</th>\n",
       "      <td>NaN</td>\n",
       "      <td>NaN</td>\n",
       "      <td>NaN</td>\n",
       "      <td>Afghanistan</td>\n",
       "      <td>2023-01-02 04:20:57</td>\n",
       "      <td>33.939110</td>\n",
       "      <td>67.709953</td>\n",
       "      <td>207616</td>\n",
       "      <td>7849</td>\n",
       "      <td>Afghanistan</td>\n",
       "      <td>5.333287</td>\n",
       "      <td>3.780537</td>\n",
       "    </tr>\n",
       "    <tr>\n",
       "      <th>1</th>\n",
       "      <td>NaN</td>\n",
       "      <td>NaN</td>\n",
       "      <td>NaN</td>\n",
       "      <td>Albania</td>\n",
       "      <td>2023-01-02 04:20:57</td>\n",
       "      <td>41.153300</td>\n",
       "      <td>20.168300</td>\n",
       "      <td>333811</td>\n",
       "      <td>3595</td>\n",
       "      <td>Albania</td>\n",
       "      <td>115.995205</td>\n",
       "      <td>1.076957</td>\n",
       "    </tr>\n",
       "    <tr>\n",
       "      <th>2</th>\n",
       "      <td>NaN</td>\n",
       "      <td>NaN</td>\n",
       "      <td>NaN</td>\n",
       "      <td>Algeria</td>\n",
       "      <td>2023-01-02 04:20:57</td>\n",
       "      <td>28.033900</td>\n",
       "      <td>1.659600</td>\n",
       "      <td>271229</td>\n",
       "      <td>6881</td>\n",
       "      <td>Algeria</td>\n",
       "      <td>6.185235</td>\n",
       "      <td>2.536971</td>\n",
       "    </tr>\n",
       "    <tr>\n",
       "      <th>3</th>\n",
       "      <td>NaN</td>\n",
       "      <td>NaN</td>\n",
       "      <td>NaN</td>\n",
       "      <td>Andorra</td>\n",
       "      <td>2023-01-02 04:20:57</td>\n",
       "      <td>42.506300</td>\n",
       "      <td>1.521800</td>\n",
       "      <td>47751</td>\n",
       "      <td>165</td>\n",
       "      <td>Andorra</td>\n",
       "      <td>618.015919</td>\n",
       "      <td>0.345543</td>\n",
       "    </tr>\n",
       "    <tr>\n",
       "      <th>4</th>\n",
       "      <td>NaN</td>\n",
       "      <td>NaN</td>\n",
       "      <td>NaN</td>\n",
       "      <td>Angola</td>\n",
       "      <td>2023-01-02 04:20:57</td>\n",
       "      <td>-11.202700</td>\n",
       "      <td>17.873900</td>\n",
       "      <td>105095</td>\n",
       "      <td>1930</td>\n",
       "      <td>Angola</td>\n",
       "      <td>3.197655</td>\n",
       "      <td>1.836434</td>\n",
       "    </tr>\n",
       "    <tr>\n",
       "      <th>...</th>\n",
       "      <td>...</td>\n",
       "      <td>...</td>\n",
       "      <td>...</td>\n",
       "      <td>...</td>\n",
       "      <td>...</td>\n",
       "      <td>...</td>\n",
       "      <td>...</td>\n",
       "      <td>...</td>\n",
       "      <td>...</td>\n",
       "      <td>...</td>\n",
       "      <td>...</td>\n",
       "      <td>...</td>\n",
       "    </tr>\n",
       "    <tr>\n",
       "      <th>4011</th>\n",
       "      <td>NaN</td>\n",
       "      <td>NaN</td>\n",
       "      <td>NaN</td>\n",
       "      <td>West Bank and Gaza</td>\n",
       "      <td>2023-01-02 04:20:57</td>\n",
       "      <td>31.952200</td>\n",
       "      <td>35.233200</td>\n",
       "      <td>703228</td>\n",
       "      <td>5708</td>\n",
       "      <td>West Bank and Gaza</td>\n",
       "      <td>137.849570</td>\n",
       "      <td>0.811686</td>\n",
       "    </tr>\n",
       "    <tr>\n",
       "      <th>4012</th>\n",
       "      <td>NaN</td>\n",
       "      <td>NaN</td>\n",
       "      <td>NaN</td>\n",
       "      <td>Winter Olympics 2022</td>\n",
       "      <td>2023-01-02 04:20:57</td>\n",
       "      <td>39.904200</td>\n",
       "      <td>116.407400</td>\n",
       "      <td>535</td>\n",
       "      <td>0</td>\n",
       "      <td>Winter Olympics 2022</td>\n",
       "      <td>NaN</td>\n",
       "      <td>0.000000</td>\n",
       "    </tr>\n",
       "    <tr>\n",
       "      <th>4013</th>\n",
       "      <td>NaN</td>\n",
       "      <td>NaN</td>\n",
       "      <td>NaN</td>\n",
       "      <td>Yemen</td>\n",
       "      <td>2023-01-02 04:20:57</td>\n",
       "      <td>15.552727</td>\n",
       "      <td>48.516388</td>\n",
       "      <td>11945</td>\n",
       "      <td>2159</td>\n",
       "      <td>Yemen</td>\n",
       "      <td>0.400490</td>\n",
       "      <td>18.074508</td>\n",
       "    </tr>\n",
       "    <tr>\n",
       "      <th>4014</th>\n",
       "      <td>NaN</td>\n",
       "      <td>NaN</td>\n",
       "      <td>NaN</td>\n",
       "      <td>Zambia</td>\n",
       "      <td>2023-01-02 04:20:57</td>\n",
       "      <td>-13.133897</td>\n",
       "      <td>27.849332</td>\n",
       "      <td>334629</td>\n",
       "      <td>4024</td>\n",
       "      <td>Zambia</td>\n",
       "      <td>18.202230</td>\n",
       "      <td>1.202526</td>\n",
       "    </tr>\n",
       "    <tr>\n",
       "      <th>4015</th>\n",
       "      <td>NaN</td>\n",
       "      <td>NaN</td>\n",
       "      <td>NaN</td>\n",
       "      <td>Zimbabwe</td>\n",
       "      <td>2023-01-02 04:20:57</td>\n",
       "      <td>-19.015438</td>\n",
       "      <td>29.154857</td>\n",
       "      <td>259981</td>\n",
       "      <td>5637</td>\n",
       "      <td>Zimbabwe</td>\n",
       "      <td>17.491911</td>\n",
       "      <td>2.168235</td>\n",
       "    </tr>\n",
       "  </tbody>\n",
       "</table>\n",
       "<p>4002 rows × 12 columns</p>\n",
       "</div>"
      ],
      "text/plain": [
       "      FIPS Admin2 Province_State        Country_Region          Last_Update  \\\n",
       "0      NaN    NaN            NaN           Afghanistan  2023-01-02 04:20:57   \n",
       "1      NaN    NaN            NaN               Albania  2023-01-02 04:20:57   \n",
       "2      NaN    NaN            NaN               Algeria  2023-01-02 04:20:57   \n",
       "3      NaN    NaN            NaN               Andorra  2023-01-02 04:20:57   \n",
       "4      NaN    NaN            NaN                Angola  2023-01-02 04:20:57   \n",
       "...    ...    ...            ...                   ...                  ...   \n",
       "4011   NaN    NaN            NaN    West Bank and Gaza  2023-01-02 04:20:57   \n",
       "4012   NaN    NaN            NaN  Winter Olympics 2022  2023-01-02 04:20:57   \n",
       "4013   NaN    NaN            NaN                 Yemen  2023-01-02 04:20:57   \n",
       "4014   NaN    NaN            NaN                Zambia  2023-01-02 04:20:57   \n",
       "4015   NaN    NaN            NaN              Zimbabwe  2023-01-02 04:20:57   \n",
       "\n",
       "            Lat        Long  Confirmed  Deaths          Combined_Key  \\\n",
       "0     33.939110   67.709953     207616    7849           Afghanistan   \n",
       "1     41.153300   20.168300     333811    3595               Albania   \n",
       "2     28.033900    1.659600     271229    6881               Algeria   \n",
       "3     42.506300    1.521800      47751     165               Andorra   \n",
       "4    -11.202700   17.873900     105095    1930                Angola   \n",
       "...         ...         ...        ...     ...                   ...   \n",
       "4011  31.952200   35.233200     703228    5708    West Bank and Gaza   \n",
       "4012  39.904200  116.407400        535       0  Winter Olympics 2022   \n",
       "4013  15.552727   48.516388      11945    2159                 Yemen   \n",
       "4014 -13.133897   27.849332     334629    4024                Zambia   \n",
       "4015 -19.015438   29.154857     259981    5637              Zimbabwe   \n",
       "\n",
       "      Incident_Rate  Case_Fatality_Ratio  \n",
       "0          5.333287             3.780537  \n",
       "1        115.995205             1.076957  \n",
       "2          6.185235             2.536971  \n",
       "3        618.015919             0.345543  \n",
       "4          3.197655             1.836434  \n",
       "...             ...                  ...  \n",
       "4011     137.849570             0.811686  \n",
       "4012            NaN             0.000000  \n",
       "4013       0.400490            18.074508  \n",
       "4014      18.202230             1.202526  \n",
       "4015      17.491911             2.168235  \n",
       "\n",
       "[4002 rows x 12 columns]"
      ]
     },
     "execution_count": 7,
     "metadata": {},
     "output_type": "execute_result"
    }
   ],
   "source": [
    "### Q3\n",
    "# Only considering the inputs where the first 4 elements of each row in \"Last_update\" are equal to 2023\n",
    "reports_2023 = reportDF[reportDF[\"Last_Update\"].str[:4] == \"2023\"]\n",
    "\n",
    "# Printing out the transformed dataframe\n",
    "reports_2023"
   ]
  },
  {
   "cell_type": "code",
   "execution_count": 8,
   "metadata": {},
   "outputs": [
    {
     "data": {
      "text/plain": [
       "2023-01-02 04:20:57    4002\n",
       "Name: Last_Update, dtype: int64"
      ]
     },
     "execution_count": 8,
     "metadata": {},
     "output_type": "execute_result"
    }
   ],
   "source": [
    "# Checking if everything worked\n",
    "reports_2023[\"Last_Update\"].value_counts()"
   ]
  },
  {
   "cell_type": "markdown",
   "metadata": {},
   "source": [
    "**Note** From here onwards I will work only with the 2023 dataframe"
   ]
  },
  {
   "cell_type": "markdown",
   "metadata": {
    "id": "Yk2aXUNi0eza"
   },
   "source": [
    "## Question 4  (5 points)\n",
    "\n",
    "There are two provinces/states that have the same latitude (```Lat```) 52.939900. Print out these two provinces/states."
   ]
  },
  {
   "cell_type": "code",
   "execution_count": 9,
   "metadata": {
    "id": "9LvwzA3O0eza"
   },
   "outputs": [
    {
     "data": {
      "text/html": [
       "<div>\n",
       "<style scoped>\n",
       "    .dataframe tbody tr th:only-of-type {\n",
       "        vertical-align: middle;\n",
       "    }\n",
       "\n",
       "    .dataframe tbody tr th {\n",
       "        vertical-align: top;\n",
       "    }\n",
       "\n",
       "    .dataframe thead th {\n",
       "        text-align: right;\n",
       "    }\n",
       "</style>\n",
       "<table border=\"1\" class=\"dataframe\">\n",
       "  <thead>\n",
       "    <tr style=\"text-align: right;\">\n",
       "      <th></th>\n",
       "      <th>FIPS</th>\n",
       "      <th>Admin2</th>\n",
       "      <th>Province_State</th>\n",
       "      <th>Country_Region</th>\n",
       "      <th>Last_Update</th>\n",
       "      <th>Lat</th>\n",
       "      <th>Long</th>\n",
       "      <th>Confirmed</th>\n",
       "      <th>Deaths</th>\n",
       "      <th>Combined_Key</th>\n",
       "      <th>Incident_Rate</th>\n",
       "      <th>Case_Fatality_Ratio</th>\n",
       "    </tr>\n",
       "  </thead>\n",
       "  <tbody>\n",
       "    <tr>\n",
       "      <th>89</th>\n",
       "      <td>NaN</td>\n",
       "      <td>NaN</td>\n",
       "      <td>Quebec</td>\n",
       "      <td>Canada</td>\n",
       "      <td>2023-01-02 04:20:57</td>\n",
       "      <td>52.9399</td>\n",
       "      <td>-73.5491</td>\n",
       "      <td>1284873</td>\n",
       "      <td>17692</td>\n",
       "      <td>Quebec, Canada</td>\n",
       "      <td>150.494502</td>\n",
       "      <td>1.376945</td>\n",
       "    </tr>\n",
       "    <tr>\n",
       "      <th>91</th>\n",
       "      <td>NaN</td>\n",
       "      <td>NaN</td>\n",
       "      <td>Saskatchewan</td>\n",
       "      <td>Canada</td>\n",
       "      <td>2023-01-02 04:20:57</td>\n",
       "      <td>52.9399</td>\n",
       "      <td>-106.4509</td>\n",
       "      <td>150942</td>\n",
       "      <td>1781</td>\n",
       "      <td>Saskatchewan, Canada</td>\n",
       "      <td>127.736602</td>\n",
       "      <td>1.179923</td>\n",
       "    </tr>\n",
       "  </tbody>\n",
       "</table>\n",
       "</div>"
      ],
      "text/plain": [
       "    FIPS Admin2 Province_State Country_Region          Last_Update      Lat  \\\n",
       "89   NaN    NaN         Quebec         Canada  2023-01-02 04:20:57  52.9399   \n",
       "91   NaN    NaN   Saskatchewan         Canada  2023-01-02 04:20:57  52.9399   \n",
       "\n",
       "        Long  Confirmed  Deaths          Combined_Key  Incident_Rate  \\\n",
       "89  -73.5491    1284873   17692        Quebec, Canada     150.494502   \n",
       "91 -106.4509     150942    1781  Saskatchewan, Canada     127.736602   \n",
       "\n",
       "    Case_Fatality_Ratio  \n",
       "89             1.376945  \n",
       "91             1.179923  "
      ]
     },
     "execution_count": 9,
     "metadata": {},
     "output_type": "execute_result"
    }
   ],
   "source": [
    "### Q4\n",
    "# Printing all the data where \"Lat\" = 52.939900\n",
    "reports_2023[reports_2023[\"Lat\"] == 52.939900]"
   ]
  },
  {
   "cell_type": "code",
   "execution_count": 10,
   "metadata": {},
   "outputs": [
    {
     "data": {
      "text/plain": [
       "89          Quebec\n",
       "91    Saskatchewan\n",
       "Name: Province_State, dtype: object"
      ]
     },
     "execution_count": 10,
     "metadata": {},
     "output_type": "execute_result"
    }
   ],
   "source": [
    "# Printing out only the Provinces/States\n",
    "reports_2023[reports_2023[\"Lat\"] == 52.939900][\"Province_State\"]"
   ]
  },
  {
   "cell_type": "markdown",
   "metadata": {
    "id": "YHNqX0rW0eza"
   },
   "source": [
    "## Question 5  (5 points)\n",
    "\n",
    "Show the average ```Confirmed``` number of all regions. Show also the median ```Deaths``` number per county of the US."
   ]
  },
  {
   "cell_type": "markdown",
   "metadata": {},
   "source": [
    "**Note** Here, the solution strongly depends on the interpretation of the question. \n",
    "Option 1: Always looking at the entire population\n",
    "Option 2: First building up the subsamples and then applying the aggregation functions"
   ]
  },
  {
   "cell_type": "raw",
   "metadata": {},
   "source": [
    "Example:\n",
    "\n",
    "Assume the following dataset:\n",
    "Region, Confirmed\n",
    "A, 10\n",
    "A, 20\n",
    "A, 80\n",
    "B, 40\n",
    "B, 50\n",
    "B, 100"
   ]
  },
  {
   "cell_type": "markdown",
   "metadata": {},
   "source": [
    "Here, the mean over the entire population (option 1) is (10 + 20 + 80 + 40 + 50 + 100) / 6 = 50. If we would, however, look at each subsample, here region, first (option 2), the mean-value changes. The total number of confirmed cases in region A is 10 + 20 + 80 = 110 and in region B is 40 + 50 + 100 = 190, leading to a mean of (110 + 190) / 2 = 150.\n",
    "\n",
    "The same logic applies to the median: Option 1: 45; Option 2: 150\n",
    "\n",
    "As the question can be understood in both ways, I decided to implement each. In the comment above each code, I state which version I am computing."
   ]
  },
  {
   "cell_type": "code",
   "execution_count": 11,
   "metadata": {
    "id": "3_qX8_P_0eza"
   },
   "outputs": [
    {
     "data": {
      "text/plain": [
       "165106.29985007495"
      ]
     },
     "execution_count": 11,
     "metadata": {},
     "output_type": "execute_result"
    }
   ],
   "source": [
    "### Q5\n",
    "# Mean Option1: Average over all entries\n",
    "reports_2023[\"Confirmed\"].mean()"
   ]
  },
  {
   "cell_type": "code",
   "execution_count": 12,
   "metadata": {},
   "outputs": [
    {
     "data": {
      "text/plain": [
       "3287340.3582089553"
      ]
     },
     "execution_count": 12,
     "metadata": {},
     "output_type": "execute_result"
    }
   ],
   "source": [
    "# Mean Option2: Average of all regions\n",
    "reports_2023.groupby(\"Country_Region\")[\"Confirmed\"].sum().mean()"
   ]
  },
  {
   "cell_type": "code",
   "execution_count": 13,
   "metadata": {},
   "outputs": [
    {
     "data": {
      "text/plain": [
       "103.0"
      ]
     },
     "execution_count": 13,
     "metadata": {},
     "output_type": "execute_result"
    }
   ],
   "source": [
    "# Median Option1: Median over all entries within US\n",
    "reports_2023[reports_2023[\"Country_Region\"] == \"US\"][\"Deaths\"].median()"
   ]
  },
  {
   "cell_type": "code",
   "execution_count": 14,
   "metadata": {},
   "outputs": [
    {
     "data": {
      "text/plain": [
       "139.0"
      ]
     },
     "execution_count": 14,
     "metadata": {},
     "output_type": "execute_result"
    }
   ],
   "source": [
    "# Median Option2: Median of all counties\n",
    "reports_2023[reports_2023[\"Country_Region\"] == \"US\"].groupby(\"Admin2\")[\"Deaths\"].sum().median()"
   ]
  },
  {
   "cell_type": "markdown",
   "metadata": {
    "id": "i9pfMJlk0eza"
   },
   "source": [
    "## Question 6 (5 points)\n",
    "\n",
    "Show the difference of average ```Deaths``` number between Alabama in US and Wyoming in US ."
   ]
  },
  {
   "cell_type": "code",
   "execution_count": 15,
   "metadata": {
    "id": "a66cHJgQ0eza"
   },
   "outputs": [
    {
     "name": "stdout",
     "output_type": "stream",
     "text": [
      "309.5074626865672\n"
     ]
    }
   ],
   "source": [
    "### Q6\n",
    "# Filtering for Alabama and computing the Deaths mean\n",
    "Avg_death_Alabama = reports_2023[reports_2023[\"Province_State\"] == \"Alabama\"][\"Deaths\"].mean()\n",
    "print(Avg_death_Alabama)"
   ]
  },
  {
   "cell_type": "code",
   "execution_count": 16,
   "metadata": {},
   "outputs": [
    {
     "name": "stdout",
     "output_type": "stream",
     "text": [
      "81.58333333333333\n"
     ]
    }
   ],
   "source": [
    "# Filtering for Wyoming and computing the Deaths mean\n",
    "Avg_death_Wyoming = reports_2023[reports_2023[\"Province_State\"] == \"Wyoming\"][\"Deaths\"].mean()\n",
    "print(Avg_death_Wyoming)"
   ]
  },
  {
   "cell_type": "code",
   "execution_count": 17,
   "metadata": {},
   "outputs": [
    {
     "name": "stdout",
     "output_type": "stream",
     "text": [
      "227.92412935323387\n"
     ]
    }
   ],
   "source": [
    "# Computing and printing out the difference in Deaths mean\n",
    "print(Avg_death_Alabama - Avg_death_Wyoming)"
   ]
  },
  {
   "cell_type": "markdown",
   "metadata": {
    "id": "0hQXhdUo0eza"
   },
   "source": [
    "## Question 7 (10 points)\n",
    "\n",
    "Find the outputs of ```Province_State``` and ```Country_Region``` where the ```Deaths``` number reaches at the maximum and the second maximum."
   ]
  },
  {
   "cell_type": "code",
   "execution_count": 18,
   "metadata": {
    "id": "UkwImlFg0ezb"
   },
   "outputs": [
    {
     "data": {
      "text/html": [
       "<div>\n",
       "<style scoped>\n",
       "    .dataframe tbody tr th:only-of-type {\n",
       "        vertical-align: middle;\n",
       "    }\n",
       "\n",
       "    .dataframe tbody tr th {\n",
       "        vertical-align: top;\n",
       "    }\n",
       "\n",
       "    .dataframe thead th {\n",
       "        text-align: right;\n",
       "    }\n",
       "</style>\n",
       "<table border=\"1\" class=\"dataframe\">\n",
       "  <thead>\n",
       "    <tr style=\"text-align: right;\">\n",
       "      <th></th>\n",
       "      <th>FIPS</th>\n",
       "      <th>Admin2</th>\n",
       "      <th>Province_State</th>\n",
       "      <th>Country_Region</th>\n",
       "      <th>Last_Update</th>\n",
       "      <th>Lat</th>\n",
       "      <th>Long</th>\n",
       "      <th>Confirmed</th>\n",
       "      <th>Deaths</th>\n",
       "      <th>Combined_Key</th>\n",
       "      <th>Incident_Rate</th>\n",
       "      <th>Case_Fatality_Ratio</th>\n",
       "    </tr>\n",
       "  </thead>\n",
       "  <tbody>\n",
       "    <tr>\n",
       "      <th>66</th>\n",
       "      <td>NaN</td>\n",
       "      <td>NaN</td>\n",
       "      <td>Sao Paulo</td>\n",
       "      <td>Brazil</td>\n",
       "      <td>2023-01-02 04:20:57</td>\n",
       "      <td>-23.5505</td>\n",
       "      <td>-46.6333</td>\n",
       "      <td>6315333</td>\n",
       "      <td>177411</td>\n",
       "      <td>Sao Paulo, Brazil</td>\n",
       "      <td>137.531877</td>\n",
       "      <td>2.809211</td>\n",
       "    </tr>\n",
       "    <tr>\n",
       "      <th>3992</th>\n",
       "      <td>NaN</td>\n",
       "      <td>NaN</td>\n",
       "      <td>England</td>\n",
       "      <td>United Kingdom</td>\n",
       "      <td>2023-01-02 04:20:57</td>\n",
       "      <td>52.3555</td>\n",
       "      <td>-1.1743</td>\n",
       "      <td>20392339</td>\n",
       "      <td>183247</td>\n",
       "      <td>England, United Kingdom</td>\n",
       "      <td>364.297232</td>\n",
       "      <td>0.885833</td>\n",
       "    </tr>\n",
       "  </tbody>\n",
       "</table>\n",
       "</div>"
      ],
      "text/plain": [
       "      FIPS Admin2 Province_State  Country_Region          Last_Update  \\\n",
       "66     NaN    NaN      Sao Paulo          Brazil  2023-01-02 04:20:57   \n",
       "3992   NaN    NaN        England  United Kingdom  2023-01-02 04:20:57   \n",
       "\n",
       "          Lat     Long  Confirmed  Deaths             Combined_Key  \\\n",
       "66   -23.5505 -46.6333    6315333  177411        Sao Paulo, Brazil   \n",
       "3992  52.3555  -1.1743   20392339  183247  England, United Kingdom   \n",
       "\n",
       "      Incident_Rate  Case_Fatality_Ratio  \n",
       "66       137.531877             2.809211  \n",
       "3992     364.297232             0.885833  "
      ]
     },
     "execution_count": 18,
     "metadata": {},
     "output_type": "execute_result"
    }
   ],
   "source": [
    "### Q7\n",
    "# getting the two largest values of Deaths and putting it into a list\n",
    "two_largest_Death = list(reports_2023[\"Deaths\"].nlargest(2))\n",
    "\n",
    "# Printing out the data where \"Deaths\" are either maximum or second maximum\n",
    "reports_2023[reports_2023[\"Deaths\"].isin(two_largest_Death)]"
   ]
  },
  {
   "cell_type": "code",
   "execution_count": 19,
   "metadata": {},
   "outputs": [
    {
     "data": {
      "text/html": [
       "<div>\n",
       "<style scoped>\n",
       "    .dataframe tbody tr th:only-of-type {\n",
       "        vertical-align: middle;\n",
       "    }\n",
       "\n",
       "    .dataframe tbody tr th {\n",
       "        vertical-align: top;\n",
       "    }\n",
       "\n",
       "    .dataframe thead th {\n",
       "        text-align: right;\n",
       "    }\n",
       "</style>\n",
       "<table border=\"1\" class=\"dataframe\">\n",
       "  <thead>\n",
       "    <tr style=\"text-align: right;\">\n",
       "      <th></th>\n",
       "      <th>Province_State</th>\n",
       "      <th>Country_Region</th>\n",
       "      <th>Deaths</th>\n",
       "    </tr>\n",
       "  </thead>\n",
       "  <tbody>\n",
       "    <tr>\n",
       "      <th>66</th>\n",
       "      <td>Sao Paulo</td>\n",
       "      <td>Brazil</td>\n",
       "      <td>177411</td>\n",
       "    </tr>\n",
       "    <tr>\n",
       "      <th>3992</th>\n",
       "      <td>England</td>\n",
       "      <td>United Kingdom</td>\n",
       "      <td>183247</td>\n",
       "    </tr>\n",
       "  </tbody>\n",
       "</table>\n",
       "</div>"
      ],
      "text/plain": [
       "     Province_State  Country_Region  Deaths\n",
       "66        Sao Paulo          Brazil  177411\n",
       "3992        England  United Kingdom  183247"
      ]
     },
     "execution_count": 19,
     "metadata": {},
     "output_type": "execute_result"
    }
   ],
   "source": [
    "# Printing out only the \"Province_State\" and \"Country_Region\" where \"Deaths\" are either maximum or second maximum\n",
    "reports_2023[reports_2023[\"Deaths\"].isin(two_largest_Death)][[\"Province_State\", \"Country_Region\", \"Deaths\"]]"
   ]
  },
  {
   "cell_type": "markdown",
   "metadata": {
    "id": "F-WyrqBA0ezb"
   },
   "source": [
    "## Question 8 (10 points)\n",
    "\n",
    "Build a subset dataframe for samples collected from US. **Use the values in column ```Combined_Key``` to create a new column** ```Province_State_recovered``` by containing only the information of the province, state or dependency name.  The county name and country, region or sovereignty name should be omitted.\n",
    "\n",
    "# ***Note: From this question, please complete ALL the following data curation tasks with the U.S. subset dataframe.***"
   ]
  },
  {
   "cell_type": "code",
   "execution_count": 20,
   "metadata": {
    "id": "USe5B4lu0ezb"
   },
   "outputs": [
    {
     "name": "stdout",
     "output_type": "stream",
     "text": [
      "       FIPS   Admin2 Province_State Country_Region          Last_Update  \\\n",
      "678  1001.0  Autauga        Alabama             US  2023-01-02 04:20:57   \n",
      "679  1003.0  Baldwin        Alabama             US  2023-01-02 04:20:57   \n",
      "680  1005.0  Barbour        Alabama             US  2023-01-02 04:20:57   \n",
      "681  1007.0     Bibb        Alabama             US  2023-01-02 04:20:57   \n",
      "682  1009.0   Blount        Alabama             US  2023-01-02 04:20:57   \n",
      "\n",
      "           Lat       Long  Confirmed  Deaths          Combined_Key  \\\n",
      "678  32.539527 -86.644082      18961     230  Autauga, Alabama, US   \n",
      "679  30.727750 -87.722071      67496     719  Baldwin, Alabama, US   \n",
      "680  31.868263 -85.387129       7027     103  Barbour, Alabama, US   \n",
      "681  32.996421 -87.125115       7692     108     Bibb, Alabama, US   \n",
      "682  33.982109 -86.567906      17731     260   Blount, Alabama, US   \n",
      "\n",
      "     Incident_Rate  Case_Fatality_Ratio  \n",
      "678     339.383200             1.213016  \n",
      "679     302.355376             1.065248  \n",
      "680     284.655270             1.465775  \n",
      "681     343.484862             1.404056  \n",
      "682     306.626777             1.466358  \n"
     ]
    }
   ],
   "source": [
    "### Q8\n",
    "# Filtering \"Country_Region\" on only the US\n",
    "reports_2023_US = reports_2023[reports_2023[\"Country_Region\"] == \"US\"]\n",
    "\n",
    "# Looking at the dataset\n",
    "print(reports_2023_US.head(5))"
   ]
  },
  {
   "cell_type": "code",
   "execution_count": 21,
   "metadata": {},
   "outputs": [
    {
     "data": {
      "text/html": [
       "<div>\n",
       "<style scoped>\n",
       "    .dataframe tbody tr th:only-of-type {\n",
       "        vertical-align: middle;\n",
       "    }\n",
       "\n",
       "    .dataframe tbody tr th {\n",
       "        vertical-align: top;\n",
       "    }\n",
       "\n",
       "    .dataframe thead th {\n",
       "        text-align: right;\n",
       "    }\n",
       "</style>\n",
       "<table border=\"1\" class=\"dataframe\">\n",
       "  <thead>\n",
       "    <tr style=\"text-align: right;\">\n",
       "      <th></th>\n",
       "      <th>FIPS</th>\n",
       "      <th>Admin2</th>\n",
       "      <th>Province_State</th>\n",
       "      <th>Country_Region</th>\n",
       "      <th>Last_Update</th>\n",
       "      <th>Lat</th>\n",
       "      <th>Long</th>\n",
       "      <th>Confirmed</th>\n",
       "      <th>Deaths</th>\n",
       "      <th>Combined_Key</th>\n",
       "      <th>Incident_Rate</th>\n",
       "      <th>Case_Fatality_Ratio</th>\n",
       "      <th>Province_State_recovered</th>\n",
       "    </tr>\n",
       "  </thead>\n",
       "  <tbody>\n",
       "    <tr>\n",
       "      <th>678</th>\n",
       "      <td>1001.0</td>\n",
       "      <td>Autauga</td>\n",
       "      <td>Alabama</td>\n",
       "      <td>US</td>\n",
       "      <td>2023-01-02 04:20:57</td>\n",
       "      <td>32.539527</td>\n",
       "      <td>-86.644082</td>\n",
       "      <td>18961</td>\n",
       "      <td>230</td>\n",
       "      <td>Autauga, Alabama, US</td>\n",
       "      <td>339.383200</td>\n",
       "      <td>1.213016</td>\n",
       "      <td>Alabama</td>\n",
       "    </tr>\n",
       "    <tr>\n",
       "      <th>679</th>\n",
       "      <td>1003.0</td>\n",
       "      <td>Baldwin</td>\n",
       "      <td>Alabama</td>\n",
       "      <td>US</td>\n",
       "      <td>2023-01-02 04:20:57</td>\n",
       "      <td>30.727750</td>\n",
       "      <td>-87.722071</td>\n",
       "      <td>67496</td>\n",
       "      <td>719</td>\n",
       "      <td>Baldwin, Alabama, US</td>\n",
       "      <td>302.355376</td>\n",
       "      <td>1.065248</td>\n",
       "      <td>Alabama</td>\n",
       "    </tr>\n",
       "    <tr>\n",
       "      <th>680</th>\n",
       "      <td>1005.0</td>\n",
       "      <td>Barbour</td>\n",
       "      <td>Alabama</td>\n",
       "      <td>US</td>\n",
       "      <td>2023-01-02 04:20:57</td>\n",
       "      <td>31.868263</td>\n",
       "      <td>-85.387129</td>\n",
       "      <td>7027</td>\n",
       "      <td>103</td>\n",
       "      <td>Barbour, Alabama, US</td>\n",
       "      <td>284.655270</td>\n",
       "      <td>1.465775</td>\n",
       "      <td>Alabama</td>\n",
       "    </tr>\n",
       "    <tr>\n",
       "      <th>681</th>\n",
       "      <td>1007.0</td>\n",
       "      <td>Bibb</td>\n",
       "      <td>Alabama</td>\n",
       "      <td>US</td>\n",
       "      <td>2023-01-02 04:20:57</td>\n",
       "      <td>32.996421</td>\n",
       "      <td>-87.125115</td>\n",
       "      <td>7692</td>\n",
       "      <td>108</td>\n",
       "      <td>Bibb, Alabama, US</td>\n",
       "      <td>343.484862</td>\n",
       "      <td>1.404056</td>\n",
       "      <td>Alabama</td>\n",
       "    </tr>\n",
       "    <tr>\n",
       "      <th>682</th>\n",
       "      <td>1009.0</td>\n",
       "      <td>Blount</td>\n",
       "      <td>Alabama</td>\n",
       "      <td>US</td>\n",
       "      <td>2023-01-02 04:20:57</td>\n",
       "      <td>33.982109</td>\n",
       "      <td>-86.567906</td>\n",
       "      <td>17731</td>\n",
       "      <td>260</td>\n",
       "      <td>Blount, Alabama, US</td>\n",
       "      <td>306.626777</td>\n",
       "      <td>1.466358</td>\n",
       "      <td>Alabama</td>\n",
       "    </tr>\n",
       "    <tr>\n",
       "      <th>...</th>\n",
       "      <td>...</td>\n",
       "      <td>...</td>\n",
       "      <td>...</td>\n",
       "      <td>...</td>\n",
       "      <td>...</td>\n",
       "      <td>...</td>\n",
       "      <td>...</td>\n",
       "      <td>...</td>\n",
       "      <td>...</td>\n",
       "      <td>...</td>\n",
       "      <td>...</td>\n",
       "      <td>...</td>\n",
       "      <td>...</td>\n",
       "    </tr>\n",
       "    <tr>\n",
       "      <th>3952</th>\n",
       "      <td>56039.0</td>\n",
       "      <td>Teton</td>\n",
       "      <td>Wyoming</td>\n",
       "      <td>US</td>\n",
       "      <td>2023-01-02 04:20:57</td>\n",
       "      <td>43.935225</td>\n",
       "      <td>-110.589080</td>\n",
       "      <td>12010</td>\n",
       "      <td>16</td>\n",
       "      <td>Teton, Wyoming, US</td>\n",
       "      <td>511.847937</td>\n",
       "      <td>0.133222</td>\n",
       "      <td>Wyoming</td>\n",
       "    </tr>\n",
       "    <tr>\n",
       "      <th>3953</th>\n",
       "      <td>56041.0</td>\n",
       "      <td>Uinta</td>\n",
       "      <td>Wyoming</td>\n",
       "      <td>US</td>\n",
       "      <td>2023-01-02 04:20:57</td>\n",
       "      <td>41.287818</td>\n",
       "      <td>-110.547578</td>\n",
       "      <td>6305</td>\n",
       "      <td>43</td>\n",
       "      <td>Uinta, Wyoming, US</td>\n",
       "      <td>311.727479</td>\n",
       "      <td>0.681998</td>\n",
       "      <td>Wyoming</td>\n",
       "    </tr>\n",
       "    <tr>\n",
       "      <th>3954</th>\n",
       "      <td>90056.0</td>\n",
       "      <td>Unassigned</td>\n",
       "      <td>Wyoming</td>\n",
       "      <td>US</td>\n",
       "      <td>2023-01-02 04:20:57</td>\n",
       "      <td>NaN</td>\n",
       "      <td>NaN</td>\n",
       "      <td>0</td>\n",
       "      <td>0</td>\n",
       "      <td>Unassigned, Wyoming, US</td>\n",
       "      <td>NaN</td>\n",
       "      <td>NaN</td>\n",
       "      <td>Wyoming</td>\n",
       "    </tr>\n",
       "    <tr>\n",
       "      <th>3955</th>\n",
       "      <td>56043.0</td>\n",
       "      <td>Washakie</td>\n",
       "      <td>Wyoming</td>\n",
       "      <td>US</td>\n",
       "      <td>2023-01-02 04:20:57</td>\n",
       "      <td>43.904516</td>\n",
       "      <td>-107.680187</td>\n",
       "      <td>2722</td>\n",
       "      <td>47</td>\n",
       "      <td>Washakie, Wyoming, US</td>\n",
       "      <td>348.750801</td>\n",
       "      <td>1.726672</td>\n",
       "      <td>Wyoming</td>\n",
       "    </tr>\n",
       "    <tr>\n",
       "      <th>3956</th>\n",
       "      <td>56045.0</td>\n",
       "      <td>Weston</td>\n",
       "      <td>Wyoming</td>\n",
       "      <td>US</td>\n",
       "      <td>2023-01-02 04:20:57</td>\n",
       "      <td>43.839612</td>\n",
       "      <td>-104.567488</td>\n",
       "      <td>1880</td>\n",
       "      <td>22</td>\n",
       "      <td>Weston, Wyoming, US</td>\n",
       "      <td>271.401761</td>\n",
       "      <td>1.170213</td>\n",
       "      <td>Wyoming</td>\n",
       "    </tr>\n",
       "  </tbody>\n",
       "</table>\n",
       "<p>3269 rows × 13 columns</p>\n",
       "</div>"
      ],
      "text/plain": [
       "         FIPS      Admin2 Province_State Country_Region          Last_Update  \\\n",
       "678    1001.0     Autauga        Alabama             US  2023-01-02 04:20:57   \n",
       "679    1003.0     Baldwin        Alabama             US  2023-01-02 04:20:57   \n",
       "680    1005.0     Barbour        Alabama             US  2023-01-02 04:20:57   \n",
       "681    1007.0        Bibb        Alabama             US  2023-01-02 04:20:57   \n",
       "682    1009.0      Blount        Alabama             US  2023-01-02 04:20:57   \n",
       "...       ...         ...            ...            ...                  ...   \n",
       "3952  56039.0       Teton        Wyoming             US  2023-01-02 04:20:57   \n",
       "3953  56041.0       Uinta        Wyoming             US  2023-01-02 04:20:57   \n",
       "3954  90056.0  Unassigned        Wyoming             US  2023-01-02 04:20:57   \n",
       "3955  56043.0    Washakie        Wyoming             US  2023-01-02 04:20:57   \n",
       "3956  56045.0      Weston        Wyoming             US  2023-01-02 04:20:57   \n",
       "\n",
       "            Lat        Long  Confirmed  Deaths             Combined_Key  \\\n",
       "678   32.539527  -86.644082      18961     230     Autauga, Alabama, US   \n",
       "679   30.727750  -87.722071      67496     719     Baldwin, Alabama, US   \n",
       "680   31.868263  -85.387129       7027     103     Barbour, Alabama, US   \n",
       "681   32.996421  -87.125115       7692     108        Bibb, Alabama, US   \n",
       "682   33.982109  -86.567906      17731     260      Blount, Alabama, US   \n",
       "...         ...         ...        ...     ...                      ...   \n",
       "3952  43.935225 -110.589080      12010      16       Teton, Wyoming, US   \n",
       "3953  41.287818 -110.547578       6305      43       Uinta, Wyoming, US   \n",
       "3954        NaN         NaN          0       0  Unassigned, Wyoming, US   \n",
       "3955  43.904516 -107.680187       2722      47    Washakie, Wyoming, US   \n",
       "3956  43.839612 -104.567488       1880      22      Weston, Wyoming, US   \n",
       "\n",
       "      Incident_Rate  Case_Fatality_Ratio Province_State_recovered  \n",
       "678      339.383200             1.213016                  Alabama  \n",
       "679      302.355376             1.065248                  Alabama  \n",
       "680      284.655270             1.465775                  Alabama  \n",
       "681      343.484862             1.404056                  Alabama  \n",
       "682      306.626777             1.466358                  Alabama  \n",
       "...             ...                  ...                      ...  \n",
       "3952     511.847937             0.133222                  Wyoming  \n",
       "3953     311.727479             0.681998                  Wyoming  \n",
       "3954            NaN                  NaN                  Wyoming  \n",
       "3955     348.750801             1.726672                  Wyoming  \n",
       "3956     271.401761             1.170213                  Wyoming  \n",
       "\n",
       "[3269 rows x 13 columns]"
      ]
     },
     "execution_count": 21,
     "metadata": {},
     "output_type": "execute_result"
    }
   ],
   "source": [
    "# Creating a copy\n",
    "US_2023_DF = reports_2023_US.copy() # Moritz gave me the hint of copying the dataset\n",
    "\n",
    "# Defining \"Province_State_recovered\"\n",
    "US_2023_DF[\"Province_State_recovered\"] = reports_2023_US[\"Combined_Key\"].str.split(',').str[1]\n",
    "US_2023_DF"
   ]
  },
  {
   "cell_type": "markdown",
   "metadata": {
    "id": "5BhnCJ_x0ezb"
   },
   "source": [
    "## Question 9 (5 points)\n",
    "\n",
    "Compute the correlation between ```Confirmed, Deaths, Incident_Rate, Case_Fatality_Ratio```. What do you observe?"
   ]
  },
  {
   "cell_type": "code",
   "execution_count": 22,
   "metadata": {
    "id": "sIqW2dH_3iOw"
   },
   "outputs": [
    {
     "data": {
      "text/html": [
       "<div>\n",
       "<style scoped>\n",
       "    .dataframe tbody tr th:only-of-type {\n",
       "        vertical-align: middle;\n",
       "    }\n",
       "\n",
       "    .dataframe tbody tr th {\n",
       "        vertical-align: top;\n",
       "    }\n",
       "\n",
       "    .dataframe thead th {\n",
       "        text-align: right;\n",
       "    }\n",
       "</style>\n",
       "<table border=\"1\" class=\"dataframe\">\n",
       "  <thead>\n",
       "    <tr style=\"text-align: right;\">\n",
       "      <th></th>\n",
       "      <th>Confirmed</th>\n",
       "      <th>Deaths</th>\n",
       "      <th>Incident_Rate</th>\n",
       "      <th>Case_Fatality_Ratio</th>\n",
       "    </tr>\n",
       "  </thead>\n",
       "  <tbody>\n",
       "    <tr>\n",
       "      <th>Confirmed</th>\n",
       "      <td>1.000000</td>\n",
       "      <td>0.960176</td>\n",
       "      <td>0.054209</td>\n",
       "      <td>-0.007169</td>\n",
       "    </tr>\n",
       "    <tr>\n",
       "      <th>Deaths</th>\n",
       "      <td>0.960176</td>\n",
       "      <td>1.000000</td>\n",
       "      <td>0.048942</td>\n",
       "      <td>0.077919</td>\n",
       "    </tr>\n",
       "    <tr>\n",
       "      <th>Incident_Rate</th>\n",
       "      <td>0.054209</td>\n",
       "      <td>0.048942</td>\n",
       "      <td>1.000000</td>\n",
       "      <td>-0.256701</td>\n",
       "    </tr>\n",
       "    <tr>\n",
       "      <th>Case_Fatality_Ratio</th>\n",
       "      <td>-0.007169</td>\n",
       "      <td>0.077919</td>\n",
       "      <td>-0.256701</td>\n",
       "      <td>1.000000</td>\n",
       "    </tr>\n",
       "  </tbody>\n",
       "</table>\n",
       "</div>"
      ],
      "text/plain": [
       "                     Confirmed    Deaths  Incident_Rate  Case_Fatality_Ratio\n",
       "Confirmed             1.000000  0.960176       0.054209            -0.007169\n",
       "Deaths                0.960176  1.000000       0.048942             0.077919\n",
       "Incident_Rate         0.054209  0.048942       1.000000            -0.256701\n",
       "Case_Fatality_Ratio  -0.007169  0.077919      -0.256701             1.000000"
      ]
     },
     "execution_count": 22,
     "metadata": {},
     "output_type": "execute_result"
    }
   ],
   "source": [
    "### Q9\n",
    "US_2023_DF[[\"Confirmed\", \"Deaths\", \"Incident_Rate\", \"Case_Fatality_Ratio\"]].corr()"
   ]
  },
  {
   "cell_type": "markdown",
   "metadata": {},
   "source": [
    "**What do I observe** \n",
    "\n",
    "Gerneral interpretation scheme: \n",
    "- abs(correlation) in [0, 0.2) --> very weakly correlated\n",
    "- abs(correlation) in [0.2, 0.4) --> weakly correlated\n",
    "- abs(correlation) in [0.4, 0.6) --> moderately correlated\n",
    "- abs(correlation) in [0.6, 0.8) --> strongly correlated\n",
    "- abs(correlation) in [0.8, 0.1] --> very strongly correlated\n",
    "\n",
    "Correlation between a series and itself is always equal to 1. Thus, those entries do not need any additional interpretation.\n",
    "\n",
    "Important note: Correlation *not equal* causation!\n",
    "\n",
    "/-----------------------------------------------------------------------------------------------------------------/\n",
    "\n",
    "Correlation between:\n",
    "- Confirmed and Deaths:\n",
    "    The correlation is approx. 0.96 meaning that they are *very strongly* correlated.\n",
    "    This implies that if # Confirmed goes up, there is a *very strong* tendency, that # Deaths also goes up, \n",
    "    and vice versa.\n",
    "- Confirmed and Incident_Rate: \n",
    "    The correlation is approx. 0.05 meaning that they are *very weakly* correlated.\n",
    "    This implies that if # Confirmed goes up, there is a *very weak* tendency, that the Incident_Rate also goes up, \n",
    "    and vice versa.\n",
    "- Confirmed and Case_Fatality_Ratio: \n",
    "    The correlation is approx. -0.01 meaning that they are *very weakly* negatively correlated.\n",
    "    This implies that if # Confirmed goes up, there is a *very weak* tendency, that the Case_Fatality_Ratio goes\n",
    "    down, and vice versa.\n",
    "- Deaths and Incident_Rate:\n",
    "    The correlation is approx. 0.05 meaning that they are *very weakly* correlated.\n",
    "    This implies that if # Deaths goes up, there is a *very weak* tendency, that the Incident_Rate also goes up, \n",
    "    and vice versa.\n",
    "- Deaths and Case_Fatality_Ratio:\n",
    "    The correlation is approx. 0.08 meaning that they are *very weakly* correlated.\n",
    "    This implies that if # Deaths goes up, there is a *very weak* tendency, that the Case_Fatality_Ratio also \n",
    "    goes up, and vice versa.   \n",
    "- Incident_Rate and Case_Fatility_Rate:\n",
    "    The correlation is approx. -0.26 meaning that they are *weakly* negatively correlated.\n",
    "    This implies that if the Incident_Rate goes up, there is a *weak* tendency, that the Case_Fatality_Rate goes\n",
    "    down, and vice versa.\n",
    "    \n",
    "*In conclusion*: The only interesting correlation here is between \"Confirmed\" and \"Deaths\". The others are neglegtable\n"
   ]
  },
  {
   "cell_type": "markdown",
   "metadata": {
    "id": "3YFIAsCl0ezb"
   },
   "source": [
    "## Question 10 (5 points)\n",
    "\n",
    "Find the number of miscalculated samples when the ```Case_Fatality_Ratio```(%) is not equal to 100 * Deaths number divided by Confirmed number. Note that in this case you also need to make sure the ```Confirmed```, as the denominator, is not zero."
   ]
  },
  {
   "cell_type": "code",
   "execution_count": 23,
   "metadata": {
    "id": "QMuns52Y0ezc"
   },
   "outputs": [
    {
     "data": {
      "text/plain": [
       "1370"
      ]
     },
     "execution_count": 23,
     "metadata": {},
     "output_type": "execute_result"
    }
   ],
   "source": [
    "### Q10\n",
    "US_2023_DF[(US_2023_DF[\"Case_Fatality_Ratio\"] != (100 * (US_2023_DF[\"Deaths\"] / US_2023_DF[\"Confirmed\"]))) \\\n",
    "           & (US_2023_DF[\"Confirmed\"] != 0)].shape[0]"
   ]
  },
  {
   "cell_type": "markdown",
   "metadata": {
    "id": "wy5Tai0B0ezc"
   },
   "source": [
    "## Question 11 (5 points)\n",
    "\n",
    "Create a new column ```Case_Fatality_Ratio_short``` to extract and store the first three digits of the original values.\n",
    "Create a new column ```Case_Fatality_Ratio_calculated``` and compute Case-Fatality Ratio(%) by yourself. Store the first three digits of the computed values as well.\n",
    "\n",
    "Note that Case-Fatality Ratio(%) = 100 * Number recorded deaths / Number cases."
   ]
  },
  {
   "cell_type": "code",
   "execution_count": 24,
   "metadata": {
    "id": "ybICVOXU0ezc"
   },
   "outputs": [
    {
     "data": {
      "text/plain": [
       "678     1.21\n",
       "679     1.06\n",
       "680     1.46\n",
       "681     1.40\n",
       "682     1.46\n",
       "        ... \n",
       "3952    0.13\n",
       "3953    0.68\n",
       "3954     NaN\n",
       "3955    1.72\n",
       "3956    1.17\n",
       "Name: Case_Fatality_Ratio_short, Length: 3269, dtype: float64"
      ]
     },
     "execution_count": 24,
     "metadata": {},
     "output_type": "execute_result"
    }
   ],
   "source": [
    "### Q11\n",
    "# Part 1: creating \"Case_Fatality_Ratio_short\"\n",
    "\n",
    "# Converting the \"Case_Fatility_Ratio\" to string and then looking at the first 4 elements. \n",
    "US_2023_DF[\"Case_Fatality_Ratio_short\"] = US_2023_DF[\"Case_Fatality_Ratio\"].astype(str).str[:4]\n",
    "\n",
    "# Converting \"Case_Fatility_Ratio_short\" back to type float\n",
    "US_2023_DF[\"Case_Fatality_Ratio_short\"] = US_2023_DF[\"Case_Fatality_Ratio_short\"].astype(float)\n",
    "\n",
    "# Looking at the output\n",
    "US_2023_DF[\"Case_Fatality_Ratio_short\"]"
   ]
  },
  {
   "cell_type": "markdown",
   "metadata": {},
   "source": [
    "**Note**: In order to store the first three digits of the original values, we have to convert the column to type \"string\" and then extract the first 4 elements of each entry. First 4 elements, because \".\" is also a element, thus this method leads to extracting the first three digits. Beware, that, as discussed, we can ignore the two cases with more than 1 digit before \".\""
   ]
  },
  {
   "cell_type": "code",
   "execution_count": 25,
   "metadata": {},
   "outputs": [
    {
     "data": {
      "text/plain": [
       "678     1.21\n",
       "679     1.06\n",
       "680     1.46\n",
       "681     1.40\n",
       "682     1.46\n",
       "        ... \n",
       "3952    0.13\n",
       "3953    0.68\n",
       "3954     NaN\n",
       "3955    1.72\n",
       "3956    1.17\n",
       "Name: Case_Fatality_Ratio_calculated_short, Length: 3269, dtype: float64"
      ]
     },
     "execution_count": 25,
     "metadata": {},
     "output_type": "execute_result"
    }
   ],
   "source": [
    "# Part 2: creating \"Case_Fatality_Ratio_calculated\"\n",
    "\n",
    "# Caluclating the right ratio and storing it in a new column\n",
    "US_2023_DF[\"Case_Fatality_Ratio_calculated\"] = (100 * US_2023_DF[\"Deaths\"] / US_2023_DF[\"Confirmed\"])\n",
    "\n",
    "# Converting the \"Case_Fatility_Ratio\" to string and then looking at the first 4 elements. \n",
    "US_2023_DF[\"Case_Fatality_Ratio_calculated_short\"] = US_2023_DF[\"Case_Fatality_Ratio_calculated\"].astype(str).str[:4]\n",
    "\n",
    "# Converting \"Case_Fatility_Ratio\" back to type float\n",
    "US_2023_DF[\"Case_Fatality_Ratio_calculated_short\"] = US_2023_DF[\"Case_Fatality_Ratio_calculated_short\"].astype(float)\n",
    "\n",
    "# Looking at the output\n",
    "US_2023_DF[\"Case_Fatality_Ratio_calculated_short\"]"
   ]
  },
  {
   "cell_type": "markdown",
   "metadata": {
    "id": "nHAGowrJ0ezd"
   },
   "source": [
    "## Question 12 (10 points)\n",
    "\n",
    "Find the number of samples when the ```Case_Fatality_Ratio_short``` is not equal to```Case_Fatality_Ratio_calculated```. Remember to drop the missing values appeared in these two columns, before count the sample size."
   ]
  },
  {
   "cell_type": "code",
   "execution_count": 26,
   "metadata": {
    "id": "eGpnJBsZ0ezd"
   },
   "outputs": [
    {
     "data": {
      "text/plain": [
       "202"
      ]
     },
     "execution_count": 26,
     "metadata": {},
     "output_type": "execute_result"
    }
   ],
   "source": [
    "### Q12\n",
    "# Dropping the missing values\n",
    "US_2023_DF.dropna(subset=[\"Case_Fatality_Ratio_calculated_short\", \"Case_Fatality_Ratio_short\"], inplace = True)\n",
    "\n",
    "# Finding the number of samples when the Case_Fatality_Ratio_short is not equal to Case_Fatality_Ratio_calculated_short\n",
    "US_2023_DF[US_2023_DF[\"Case_Fatality_Ratio_short\"] != US_2023_DF[\"Case_Fatality_Ratio_calculated_short\"]].shape[0]"
   ]
  },
  {
   "cell_type": "markdown",
   "metadata": {
    "id": "RSZHFUkM0ezd"
   },
   "source": [
    "## Question 13 (10 points)\n",
    "\n",
    "Here we define a new concept, ```acceptable percentage error```, to measure how large the error is. It is computed as the absolute value of the difference between the calculated value and the originally stored value (in three digits), divided by the calculated value, as a percent, i.e., 100 * abs(original - calculated)/calculated.\n",
    "\n",
    "Compute this acceptable percentage error, add it as a new column of the data frame, and group this continuous acceptable percentage error into discrete bins ([0,0.5], (0.5,1], (1,50], (50,100]) to generate a new categorical object. Note that the lowest number 0 is included in the first bin. Check the resulting distribution, i.e., how many samples fall into each bin, by ```value_counts()``` method."
   ]
  },
  {
   "cell_type": "code",
   "execution_count": 27,
   "metadata": {
    "id": "QH-zqBip0ezd"
   },
   "outputs": [
    {
     "name": "stdout",
     "output_type": "stream",
     "text": [
      "3244\n"
     ]
    },
    {
     "data": {
      "text/plain": [
       "(-0.001, 0.5]    3051\n",
       "(0.5, 1.0]        122\n",
       "(1.0, 50.0]        71\n",
       "(50.0, 100.0]       0\n",
       "Name: acceptable_prc_error, dtype: int64"
      ]
     },
     "execution_count": 27,
     "metadata": {},
     "output_type": "execute_result"
    }
   ],
   "source": [
    "### Q13\n",
    "print(US_2023_DF.shape[0])\n",
    "# Calculating the acceptable percentage error and storing it in a new column\n",
    "US_2023_DF[\"acceptable_prc_error\"] = (100 * \\\n",
    "                                      (abs(US_2023_DF[\"Case_Fatality_Ratio_calculated_short\"] - US_2023_DF[\"Case_Fatality_Ratio_short\"])\\\n",
    "                                      / US_2023_DF[\"Case_Fatality_Ratio_calculated_short\"])).fillna(0)\n",
    "\n",
    "# creating bins\n",
    "bins = [0, 0.5, 1, 50, 100]\n",
    "\n",
    "# discretinization: include_lowest = True includes the left most value in bins, here: 0\n",
    "cats = pd.cut(US_2023_DF[\"acceptable_prc_error\"], bins, include_lowest = True)\n",
    "cats.value_counts()"
   ]
  },
  {
   "cell_type": "markdown",
   "metadata": {},
   "source": [
    "**Note** It is also possible to rename the labels (using labels = within the pd.cut statement), such that the output shows [0,0.5], (0.5,1], (1,50], (50,100], instead of (-0.001,0.5], (0.5,1], (1,50], (50,100]. This, however, does not make a difference, because the \"include_lowest = True\" statement is the important part!"
   ]
  },
  {
   "cell_type": "markdown",
   "metadata": {
    "id": "Z1BPsPHi0ezd"
   },
   "source": [
    "## Question 14 (10 points)\n",
    "\n",
    "Use ```map()``` method to perform element-wise transformation on the generated categorical object and create a new series, according to the following rules:\n",
    "\n",
    "- if error is in range [0, 0.5] or (0.5, 1], transform as 'Accept'\n",
    "- if error is in range (1, 50] or (50, 100], transform as 'Reject'\n",
    "- if error is missing, transform as 'Missing'\n",
    "\n",
    "Use ```value_counts()``` to check the counts for these three types."
   ]
  },
  {
   "cell_type": "code",
   "execution_count": 28,
   "metadata": {
    "id": "KFYc_jOm0eze"
   },
   "outputs": [
    {
     "name": "stdout",
     "output_type": "stream",
     "text": [
      "Accept    3173\n",
      "Reject      71\n",
      "Name: acceptable_prc_error, dtype: int64\n"
     ]
    }
   ],
   "source": [
    "### Q14\n",
    "# Define a mapping function for element-wise transformation\n",
    "def map_error_category(error):\n",
    "    Int1 = pd.Interval(left=0, right=0.5, closed=\"both\")\n",
    "    Int2 = pd.Interval(left=0.5, right=1, closed=\"right\")\n",
    "    Int3 = pd.Interval(left=1, right=50, closed=\"right\")\n",
    "    Int4 = pd.Interval(left=50, right=100, closed=\"right\")\n",
    "\n",
    "    if Int1.overlaps(error) or Int2.overlaps(error):\n",
    "        return \"Accept\"\n",
    "    elif Int3.overlaps(error) or Int4.overlaps(error):\n",
    "        return \"Reject\"\n",
    "    else:\n",
    "        return \"Missing\"\n",
    "\n",
    "# Apply the mapping function to create a new series\n",
    "error_category = cats.map(map_error_category)\n",
    "\n",
    "# Count the samples in each category\n",
    "print(error_category.value_counts())"
   ]
  }
 ],
 "metadata": {
  "colab": {
   "provenance": [
    {
     "file_id": "1Tg3IJl3yjaecdJvNbvSLTeauiEw6P5Rt",
     "timestamp": 1696168179514
    },
    {
     "file_id": "1ZcmKXUfv0BDRnvjTp5fnRgXkKN3rhnCS",
     "timestamp": 1695922999265
    }
   ]
  },
  "kernelspec": {
   "display_name": "Python 3 (ipykernel)",
   "language": "python",
   "name": "python3"
  },
  "language_info": {
   "codemirror_mode": {
    "name": "ipython",
    "version": 3
   },
   "file_extension": ".py",
   "mimetype": "text/x-python",
   "name": "python",
   "nbconvert_exporter": "python",
   "pygments_lexer": "ipython3",
   "version": "3.11.4"
  },
  "latex_envs": {
   "LaTeX_envs_menu_present": true,
   "autoclose": false,
   "autocomplete": true,
   "bibliofile": "biblio.bib",
   "cite_by": "apalike",
   "current_citInitial": 1,
   "eqLabelWithNumbers": true,
   "eqNumInitial": 1,
   "hotkeys": {
    "equation": "Ctrl-E",
    "itemize": "Ctrl-I"
   },
   "labels_anchors": false,
   "latex_user_defs": false,
   "report_style_numbering": false,
   "user_envs_cfg": false
  }
 },
 "nbformat": 4,
 "nbformat_minor": 1
}
