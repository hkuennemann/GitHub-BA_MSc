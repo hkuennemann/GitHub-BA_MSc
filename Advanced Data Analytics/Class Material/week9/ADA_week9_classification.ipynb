{
 "cells": [
  {
   "cell_type": "markdown",
   "metadata": {},
   "source": [
    "# Classification"
   ]
  },
  {
   "cell_type": "code",
   "execution_count": 2,
   "metadata": {},
   "outputs": [],
   "source": [
    "import numpy as np\n",
    "import matplotlib.pyplot as plt\n",
    "import pandas as pd\n",
    "from sklearn.preprocessing import StandardScaler\n",
    "from sklearn.linear_model import LogisticRegression\n",
    "import seaborn as sns\n",
    "plt.style.use('default')\n",
    "from sklearn.model_selection import GridSearchCV\n",
    "\n",
    "\n",
    "import os\n",
    "import warnings\n",
    "warnings.filterwarnings(\"ignore\")\n",
    "seed = 0\n"
   ]
  },
  {
   "cell_type": "markdown",
   "metadata": {},
   "source": [
    "# Support Vector Machine"
   ]
  },
  {
   "cell_type": "markdown",
   "metadata": {},
   "source": [
    "Pulsars are a rare type of Neutron star that produce radio emission detectable here on Earth. They are of considerable scientific interest as probes of space-time, the inter-stellar medium, and states of matter. Machine learning tools are now being used to automatically label pulsar candidates to facilitate rapid analysis."
   ]
  },
  {
   "cell_type": "markdown",
   "metadata": {},
   "source": [
    "Each candidate is described by 8 continuous variables, and a single class variable. The first four are simple statistics obtained from the integrated pulse profile (folded profile).\n",
    "\n",
    "1. Mean of the integrated profile.\n",
    "2. Standard deviation of the integrated profile.\n",
    "3. Excess kurtosis of the integrated profile.\n",
    "4. Skewness of the integrated profile.\n",
    "5. Mean of the DM-SNR curve.\n",
    "6. Standard deviation of the DM-SNR curve.\n",
    "7. Excess kurtosis of the DM-SNR curve.\n",
    "8. Skewness of the DM-SNR curve.\n",
    "9. Class"
   ]
  },
  {
   "cell_type": "code",
   "execution_count": 4,
   "metadata": {},
   "outputs": [
    {
     "name": "stdout",
     "output_type": "stream",
     "text": [
      "[0. 1.]\n"
     ]
    },
    {
     "data": {
      "text/html": [
       "<div>\n",
       "<style scoped>\n",
       "    .dataframe tbody tr th:only-of-type {\n",
       "        vertical-align: middle;\n",
       "    }\n",
       "\n",
       "    .dataframe tbody tr th {\n",
       "        vertical-align: top;\n",
       "    }\n",
       "\n",
       "    .dataframe thead th {\n",
       "        text-align: right;\n",
       "    }\n",
       "</style>\n",
       "<table border=\"1\" class=\"dataframe\">\n",
       "  <thead>\n",
       "    <tr style=\"text-align: right;\">\n",
       "      <th></th>\n",
       "      <th>0</th>\n",
       "      <th>1</th>\n",
       "      <th>2</th>\n",
       "      <th>3</th>\n",
       "      <th>4</th>\n",
       "      <th>5</th>\n",
       "      <th>6</th>\n",
       "      <th>7</th>\n",
       "    </tr>\n",
       "  </thead>\n",
       "  <tbody>\n",
       "    <tr>\n",
       "      <th>0</th>\n",
       "      <td>0.390208</td>\n",
       "      <td>0.274138</td>\n",
       "      <td>-0.097154</td>\n",
       "      <td>-0.286951</td>\n",
       "      <td>-0.321398</td>\n",
       "      <td>-0.405724</td>\n",
       "      <td>-0.192994</td>\n",
       "      <td>-0.375589</td>\n",
       "    </tr>\n",
       "    <tr>\n",
       "      <th>1</th>\n",
       "      <td>-1.330153</td>\n",
       "      <td>-1.524637</td>\n",
       "      <td>0.217862</td>\n",
       "      <td>0.254214</td>\n",
       "      <td>-0.347241</td>\n",
       "      <td>-0.448114</td>\n",
       "      <td>0.238857</td>\n",
       "      <td>-0.028295</td>\n",
       "    </tr>\n",
       "    <tr>\n",
       "      <th>2</th>\n",
       "      <td>0.757336</td>\n",
       "      <td>0.990345</td>\n",
       "      <td>-0.323162</td>\n",
       "      <td>-0.332141</td>\n",
       "      <td>-0.335696</td>\n",
       "      <td>-0.202916</td>\n",
       "      <td>0.039658</td>\n",
       "      <td>-0.293563</td>\n",
       "    </tr>\n",
       "    <tr>\n",
       "      <th>3</th>\n",
       "      <td>-1.025075</td>\n",
       "      <td>-1.533176</td>\n",
       "      <td>0.322535</td>\n",
       "      <td>0.235985</td>\n",
       "      <td>-0.334123</td>\n",
       "      <td>-0.292190</td>\n",
       "      <td>0.016941</td>\n",
       "      <td>-0.272670</td>\n",
       "    </tr>\n",
       "    <tr>\n",
       "      <th>4</th>\n",
       "      <td>-0.067257</td>\n",
       "      <td>1.386010</td>\n",
       "      <td>0.079880</td>\n",
       "      <td>-0.275909</td>\n",
       "      <td>-0.333870</td>\n",
       "      <td>-0.349579</td>\n",
       "      <td>0.245149</td>\n",
       "      <td>-0.077743</td>\n",
       "    </tr>\n",
       "  </tbody>\n",
       "</table>\n",
       "</div>"
      ],
      "text/plain": [
       "          0         1         2         3         4         5         6  \\\n",
       "0  0.390208  0.274138 -0.097154 -0.286951 -0.321398 -0.405724 -0.192994   \n",
       "1 -1.330153 -1.524637  0.217862  0.254214 -0.347241 -0.448114  0.238857   \n",
       "2  0.757336  0.990345 -0.323162 -0.332141 -0.335696 -0.202916  0.039658   \n",
       "3 -1.025075 -1.533176  0.322535  0.235985 -0.334123 -0.292190  0.016941   \n",
       "4 -0.067257  1.386010  0.079880 -0.275909 -0.333870 -0.349579  0.245149   \n",
       "\n",
       "          7  \n",
       "0 -0.375589  \n",
       "1 -0.028295  \n",
       "2 -0.293563  \n",
       "3 -0.272670  \n",
       "4 -0.077743  "
      ]
     },
     "execution_count": 4,
     "metadata": {},
     "output_type": "execute_result"
    }
   ],
   "source": [
    "dt_filename = os.path.join( \"data/classification\", \"pulsar_data.csv\")\n",
    "\n",
    "df_pulsar = pd.read_csv(dt_filename).dropna()\n",
    "print(df_pulsar['target_class'].unique())\n",
    "features = pd.DataFrame(StandardScaler().fit_transform(df_pulsar.drop(['target_class'], axis = 1)))\n",
    "\n",
    "features.head()\n"
   ]
  },
  {
   "cell_type": "code",
   "execution_count": 3,
   "metadata": {},
   "outputs": [
    {
     "data": {
      "text/plain": [
       "(9273, 9)"
      ]
     },
     "execution_count": 3,
     "metadata": {},
     "output_type": "execute_result"
    }
   ],
   "source": [
    "df_pulsar.shape"
   ]
  },
  {
   "cell_type": "code",
   "execution_count": 4,
   "metadata": {},
   "outputs": [
    {
     "data": {
      "text/plain": [
       "0.9797260864876524"
      ]
     },
     "execution_count": 4,
     "metadata": {},
     "output_type": "execute_result"
    }
   ],
   "source": [
    "from sklearn import svm\n",
    "\n",
    "# instantiate classifier with default hyperparameters with kernel=rbf, C=1.0 and gamma=auto\n",
    "svc=svm.SVC() \n",
    "\n",
    "# declare parameters for hyperparameter tuning\n",
    "parameters = [ {'C':[1, 10, 100, 1000], 'kernel':['linear']},\n",
    "               {'C':[1, 10, 100, 1000], 'kernel':['rbf'], 'gamma':[0.1, 0.2, 0.3, 0.4, 0.5, 0.6, 0.7, 0.8, 0.9]},\n",
    "               {'C':[1, 10, 100, 1000], 'kernel':['poly'], 'degree': [2,3,4] ,'gamma':[0.01,0.02,0.03,0.04,0.05]} \n",
    "             ]\n",
    "\n",
    "grid_search = GridSearchCV(estimator = svc,  \n",
    "                           param_grid = parameters,\n",
    "                           scoring = 'accuracy',\n",
    "                           cv = 3,\n",
    "                           verbose=0)\n",
    "\n",
    "\n",
    "grid_result = grid_search.fit(features, df_pulsar['target_class'])\n",
    "grid_result.best_estimator_  \n",
    "grid_result.best_score_\n",
    "                              "
   ]
  },
  {
   "cell_type": "code",
   "execution_count": null,
   "metadata": {},
   "outputs": [],
   "source": []
  }
 ],
 "metadata": {
  "anaconda-cloud": {},
  "kernelspec": {
   "display_name": "Python 3 (ipykernel)",
   "language": "python",
   "name": "python3"
  },
  "language_info": {
   "codemirror_mode": {
    "name": "ipython",
    "version": 3
   },
   "file_extension": ".py",
   "mimetype": "text/x-python",
   "name": "python",
   "nbconvert_exporter": "python",
   "pygments_lexer": "ipython3",
   "version": "3.11.4"
  }
 },
 "nbformat": 4,
 "nbformat_minor": 1
}
