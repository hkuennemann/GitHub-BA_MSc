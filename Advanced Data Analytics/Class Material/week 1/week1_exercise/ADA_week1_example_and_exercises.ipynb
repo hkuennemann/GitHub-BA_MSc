{
 "cells": [
  {
   "cell_type": "markdown",
   "id": "d9e90bac",
   "metadata": {},
   "source": [
    "# Advanced Data Analysis - week 1 exercises - part 1\n",
    "\n",
    "In the advanced data analysis course, we assume basic knowledge of Python, as could be acquired by attending the *Introduction to Programming* bridging course.\n",
    "\n",
    "This notebook includes exercises for autonomous study related with **Week 1**. There will be a second notebook with more exercises in early next week.\n",
    "\n",
    "We will use a dataset consisting in a set of files with data for COVID obtained from this site:\n",
    "\n",
    "[https://github.com/GCGImdea/coronasurveys](https://github.com/GCGImdea/coronasurveys)\n"
   ]
  },
  {
   "cell_type": "markdown",
   "id": "7a3c4a3c",
   "metadata": {},
   "source": [
    "## Preliminaries\n",
    "\n",
    "Let's start by import Pandas, matplotlib and os libraries."
   ]
  },
  {
   "cell_type": "code",
   "execution_count": 48,
   "id": "dc27bd22",
   "metadata": {},
   "outputs": [],
   "source": [
    "# imports pandas\n",
    "import pandas as pd\n",
    "\n",
    "# imports matplotlib\n",
    "import matplotlib.pyplot as plt\n",
    "\n",
    "import os"
   ]
  },
  {
   "cell_type": "markdown",
   "id": "4bb93293",
   "metadata": {},
   "source": [
    "## Examples and exercises\n",
    "\n",
    "File \"ALL-covid.csv\" has the information for COVID in all countries."
   ]
  },
  {
   "cell_type": "code",
   "execution_count": 49,
   "id": "e655c50b",
   "metadata": {},
   "outputs": [
    {
     "name": "stdout",
     "output_type": "stream",
     "text": [
      "              date countrycode  population  cases  deaths\n",
      "0       2020-01-25          MY    31949789      0       0\n",
      "1       2020-01-26          MY    31949789      1       0\n",
      "2       2020-01-27          MY    31949789      0       0\n",
      "3       2020-01-28          MY    31949789      0       0\n",
      "4       2020-01-29          MY    31949789      3       0\n",
      "...            ...         ...         ...    ...     ...\n",
      "104946  2021-08-07          AU    25203200    277      -1\n",
      "104947  2021-08-08          AU    25203200    302       1\n",
      "104948  2021-08-09          AU    25203200    380       4\n",
      "104949  2021-08-10          AU    25203200    367       2\n",
      "104950  2021-08-11          AU    25203200    372       2\n",
      "\n",
      "[104951 rows x 5 columns]\n"
     ]
    }
   ],
   "source": [
    "# create the path for the global file\n",
    "fileName = os.path.join( \"data\", \"ALL-covid.csv\")\n",
    "\n",
    "# Read a CSV file into a DataFrame\n",
    "covidDF = pd.read_csv(fileName)\n",
    "\n",
    "print( covidDF)"
   ]
  },
  {
   "cell_type": "markdown",
   "id": "ac043e0b",
   "metadata": {},
   "source": [
    "Using ```covidDF```, which includes full data, print the total number of cases and deaths for a country of your choice."
   ]
  },
  {
   "cell_type": "code",
   "execution_count": 50,
   "id": "88c0c11a",
   "metadata": {},
   "outputs": [
    {
     "name": "stdout",
     "output_type": "stream",
     "text": [
      "cases     14890\n",
      "deaths      129\n",
      "dtype: int64\n",
      "               cases  deaths\n",
      "countrycode                 \n",
      "AD             14890     129\n",
      "AE            696902    1988\n",
      "AF            151290    6978\n",
      "AG              1371      43\n",
      "AL            134485    2460\n",
      "...              ...     ...\n",
      "XK            111642    2274\n",
      "YE              7212    1392\n",
      "ZA           2554239   75774\n",
      "ZM            201340    3509\n",
      "ZW            117953    3991\n",
      "\n",
      "[198 rows x 2 columns]\n"
     ]
    }
   ],
   "source": [
    "## TODO : complete the code\n",
    "print(covidDF[covidDF[\"countrycode\"] == \"AD\"][[\"cases\", \"deaths\"]].sum())\n",
    "print(covidDF.groupby(\"countrycode\")[[\"cases\", \"deaths\"]].sum())"
   ]
  },
  {
   "cell_type": "markdown",
   "id": "0e3bd439",
   "metadata": {},
   "source": [
    "Compute the top-3 countries with more deaths."
   ]
  },
  {
   "cell_type": "code",
   "execution_count": 51,
   "id": "39d5777a",
   "metadata": {},
   "outputs": [
    {
     "name": "stdout",
     "output_type": "stream",
     "text": [
      "countrycode\n",
      "US    618137\n",
      "BR    565748\n",
      "IN    429179\n",
      "Name: deaths, dtype: int64\n"
     ]
    }
   ],
   "source": [
    "## TODO : complete the code\n",
    "\n",
    "print(covidDF.groupby(\"countrycode\")[\"deaths\"].sum().sort_values(ascending = False).iloc[:3])"
   ]
  },
  {
   "cell_type": "markdown",
   "id": "ae9847f6",
   "metadata": {},
   "source": [
    "Not all countries have the same population, so probably what would make sense is to compute the number of deaths as a function of the population. \n",
    "\n",
    "For doing this, it would be useful to have the number of deaths per 1M persons, instead of the raw number. This can be done by adding a column to the bases DataFrame.\n"
   ]
  },
  {
   "cell_type": "code",
   "execution_count": 52,
   "id": "9e70669e",
   "metadata": {},
   "outputs": [
    {
     "name": "stdout",
     "output_type": "stream",
     "text": [
      "              date countrycode  population  cases  deaths  deathsPer1M\n",
      "0       2020-01-25          MY    31949789      0       0     0.000000\n",
      "1       2020-01-26          MY    31949789      1       0     0.000000\n",
      "2       2020-01-27          MY    31949789      0       0     0.000000\n",
      "3       2020-01-28          MY    31949789      0       0     0.000000\n",
      "4       2020-01-29          MY    31949789      3       0     0.000000\n",
      "...            ...         ...         ...    ...     ...          ...\n",
      "104946  2021-08-07          AU    25203200    277      -1    -0.039678\n",
      "104947  2021-08-08          AU    25203200    302       1     0.039678\n",
      "104948  2021-08-09          AU    25203200    380       4     0.158710\n",
      "104949  2021-08-10          AU    25203200    367       2     0.079355\n",
      "104950  2021-08-11          AU    25203200    372       2     0.079355\n",
      "\n",
      "[104951 rows x 6 columns]\n"
     ]
    }
   ],
   "source": [
    "covidDF[\"deathsPer1M\"] = covidDF[\"deaths\"] / (covidDF[\"population\"] / 1000000)\n",
    "\n",
    "print(covidDF)\n"
   ]
  },
  {
   "cell_type": "markdown",
   "id": "21400047",
   "metadata": {},
   "source": [
    "You can now compute the top-3 countries with more deaths, as a function of the population."
   ]
  },
  {
   "cell_type": "code",
   "execution_count": 53,
   "id": "eaeb1796",
   "metadata": {},
   "outputs": [
    {
     "name": "stdout",
     "output_type": "stream",
     "text": [
      "countrycode\n",
      "PA    16305.422895\n",
      "PE     6064.047936\n",
      "SV     4259.671034\n",
      "Name: deathsPer1M, dtype: float64\n"
     ]
    }
   ],
   "source": [
    "## TODO : complete the code\n",
    "\n",
    "print(covidDF.groupby(\"countrycode\")[\"deathsPer1M\"].sum().sort_values(ascending = False).iloc[:3])"
   ]
  },
  {
   "cell_type": "markdown",
   "id": "e38e4f12",
   "metadata": {},
   "source": [
    "What were the 3 days with more cases (worldwide)?"
   ]
  },
  {
   "cell_type": "code",
   "execution_count": 54,
   "id": "ae2da5ed",
   "metadata": {},
   "outputs": [
    {
     "name": "stdout",
     "output_type": "stream",
     "text": [
      "date\n",
      "2020-12-10    1498372\n",
      "2021-04-28     905902\n",
      "2021-04-23     904281\n",
      "Name: cases, dtype: int64\n"
     ]
    }
   ],
   "source": [
    "## TODO : complete the code\n",
    "\n",
    "print(covidDF.groupby(\"date\")[\"cases\"].sum().sort_values(ascending = False).iloc[:3])\n"
   ]
  },
  {
   "cell_type": "markdown",
   "id": "ca6b7842",
   "metadata": {},
   "source": [
    "If we wanted to compute statistics by months, it would be useful to have a column with the month, instead of the having only the full date. This can be done by creating an additional column and using the functions to compute a substring of a column."
   ]
  },
  {
   "cell_type": "code",
   "execution_count": 55,
   "id": "425d28e4",
   "metadata": {},
   "outputs": [
    {
     "name": "stdout",
     "output_type": "stream",
     "text": [
      "              date countrycode  population  cases  deaths  deathsPer1M  \\\n",
      "0       2020-01-25          MY    31949789      0       0     0.000000   \n",
      "1       2020-01-26          MY    31949789      1       0     0.000000   \n",
      "2       2020-01-27          MY    31949789      0       0     0.000000   \n",
      "3       2020-01-28          MY    31949789      0       0     0.000000   \n",
      "4       2020-01-29          MY    31949789      3       0     0.000000   \n",
      "...            ...         ...         ...    ...     ...          ...   \n",
      "104946  2021-08-07          AU    25203200    277      -1    -0.039678   \n",
      "104947  2021-08-08          AU    25203200    302       1     0.039678   \n",
      "104948  2021-08-09          AU    25203200    380       4     0.158710   \n",
      "104949  2021-08-10          AU    25203200    367       2     0.079355   \n",
      "104950  2021-08-11          AU    25203200    372       2     0.079355   \n",
      "\n",
      "          month  \n",
      "0       2020-01  \n",
      "1       2020-01  \n",
      "2       2020-01  \n",
      "3       2020-01  \n",
      "4       2020-01  \n",
      "...         ...  \n",
      "104946  2021-08  \n",
      "104947  2021-08  \n",
      "104948  2021-08  \n",
      "104949  2021-08  \n",
      "104950  2021-08  \n",
      "\n",
      "[104951 rows x 7 columns]\n"
     ]
    }
   ],
   "source": [
    "covidDF[\"month\"] = covidDF[\"date\"].str[:7]\n",
    "\n",
    "print(covidDF)\n"
   ]
  },
  {
   "cell_type": "markdown",
   "id": "2deb6e9d",
   "metadata": {},
   "source": [
    "We can now compute the three months with more cases."
   ]
  },
  {
   "cell_type": "code",
   "execution_count": 56,
   "id": "e4de143a",
   "metadata": {},
   "outputs": [
    {
     "name": "stdout",
     "output_type": "stream",
     "text": [
      "month\n",
      "2021-04    22522676\n",
      "2020-12    20189717\n",
      "2021-01    19467053\n",
      "Name: cases, dtype: int64\n"
     ]
    }
   ],
   "source": [
    "## TODO : complete the code\n",
    "\n",
    "print(covidDF.groupby(\"month\")[\"cases\"].sum().sort_values(ascending = False).iloc[:3])\n"
   ]
  },
  {
   "cell_type": "markdown",
   "id": "f3a5a1b6",
   "metadata": {},
   "source": [
    "Explore Dataframe documentation [https://pandas.pydata.org/docs/reference/api/pandas.DataFrame.html](https://pandas.pydata.org/docs/reference/api/pandas.DataFrame.html) to find out out to compute the cummulative number of cases for a country of your choice - the goal is to have a Dataframe that includes the data for the country you selected, with two additional columns for the cumulative number of cases and deaths."
   ]
  },
  {
   "cell_type": "code",
   "execution_count": 57,
   "id": "a27d8d09",
   "metadata": {},
   "outputs": [
    {
     "name": "stdout",
     "output_type": "stream",
     "text": [
      "             date countrycode  population  cases  deaths  deathsPer1M  \\\n",
      "76917  2020-03-02          PT    10276617      0       0     0.000000   \n",
      "76918  2020-03-03          PT    10276617      0       0     0.000000   \n",
      "76919  2020-03-04          PT    10276617      3       0     0.000000   \n",
      "76920  2020-03-05          PT    10276617      3       0     0.000000   \n",
      "76921  2020-03-06          PT    10276617      5       0     0.000000   \n",
      "...           ...         ...         ...    ...     ...          ...   \n",
      "77440  2021-08-07          PT    10276617   2621      17     1.654241   \n",
      "77441  2021-08-08          PT    10276617   1982      10     0.973083   \n",
      "77442  2021-08-09          PT    10276617   1094      18     1.751549   \n",
      "77443  2021-08-10          PT    10276617   2232      17     1.654241   \n",
      "77444  2021-08-11          PT    10276617   2948      12     1.167699   \n",
      "\n",
      "         month  cum_cases  \n",
      "76917  2020-03          0  \n",
      "76918  2020-03          0  \n",
      "76919  2020-03          3  \n",
      "76920  2020-03          6  \n",
      "76921  2020-03         11  \n",
      "...        ...        ...  \n",
      "77440  2021-08     984983  \n",
      "77441  2021-08     986965  \n",
      "77442  2021-08     988059  \n",
      "77443  2021-08     990291  \n",
      "77444  2021-08     993239  \n",
      "\n",
      "[528 rows x 8 columns]\n"
     ]
    },
    {
     "name": "stderr",
     "output_type": "stream",
     "text": [
      "/var/folders/dp/96r0nmqx4vjcyxc81yzfj01r0000gn/T/ipykernel_17607/4245497012.py:5: SettingWithCopyWarning: \n",
      "A value is trying to be set on a copy of a slice from a DataFrame.\n",
      "Try using .loc[row_indexer,col_indexer] = value instead\n",
      "\n",
      "See the caveats in the documentation: https://pandas.pydata.org/pandas-docs/stable/user_guide/indexing.html#returning-a-view-versus-a-copy\n",
      "  ptCovidDF[\"cum_cases\"] = ptCovidDF[\"cases\"].cumsum()\n"
     ]
    }
   ],
   "source": [
    "ptCovidDF = covidDF[covidDF[\"countrycode\"]==\"PT\"]\n",
    "\n",
    "# TODO : complete\n",
    "\n",
    "ptCovidDF[\"cum_cases\"] = ptCovidDF[\"cases\"].cumsum()\n",
    "print(ptCovidDF)"
   ]
  },
  {
   "cell_type": "markdown",
   "id": "f5d5c920",
   "metadata": {},
   "source": [
    "You might end up getting an error ```SettingWithCopyWarning```. What is happening? \n",
    "Although the model of Pandas is that functions over a DataFrame will create a new DataFrame, Pandas tries to optimize execution by not creating copies of DataFrames when not necessary. It turns out that sometime this leads to problems. When that happens, you can explicitly force Pandas to create a copy of the Dataframe by using the function ```copy()```.\n"
   ]
  },
  {
   "cell_type": "code",
   "execution_count": 58,
   "id": "d02a9204",
   "metadata": {},
   "outputs": [
    {
     "name": "stdout",
     "output_type": "stream",
     "text": [
      "             date countrycode  population  cases  deaths  deathsPer1M  \\\n",
      "76917  2020-03-02          PT    10276617      0       0     0.000000   \n",
      "76918  2020-03-03          PT    10276617      0       0     0.000000   \n",
      "76919  2020-03-04          PT    10276617      3       0     0.000000   \n",
      "76920  2020-03-05          PT    10276617      3       0     0.000000   \n",
      "76921  2020-03-06          PT    10276617      5       0     0.000000   \n",
      "...           ...         ...         ...    ...     ...          ...   \n",
      "77440  2021-08-07          PT    10276617   2621      17     1.654241   \n",
      "77441  2021-08-08          PT    10276617   1982      10     0.973083   \n",
      "77442  2021-08-09          PT    10276617   1094      18     1.751549   \n",
      "77443  2021-08-10          PT    10276617   2232      17     1.654241   \n",
      "77444  2021-08-11          PT    10276617   2948      12     1.167699   \n",
      "\n",
      "         month  cum_cases  \n",
      "76917  2020-03          0  \n",
      "76918  2020-03          0  \n",
      "76919  2020-03          3  \n",
      "76920  2020-03          6  \n",
      "76921  2020-03         11  \n",
      "...        ...        ...  \n",
      "77440  2021-08     984983  \n",
      "77441  2021-08     986965  \n",
      "77442  2021-08     988059  \n",
      "77443  2021-08     990291  \n",
      "77444  2021-08     993239  \n",
      "\n",
      "[528 rows x 8 columns]\n"
     ]
    }
   ],
   "source": [
    "ptCovidDF = covidDF[covidDF[\"countrycode\"]==\"PT\"].copy()\n",
    "\n",
    "# TODO : complete\n",
    "\n",
    "ptCovidDF[\"cum_cases\"] = ptCovidDF[\"cases\"].cumsum()\n",
    "print(ptCovidDF)"
   ]
  },
  {
   "cell_type": "markdown",
   "id": "d195f8bf",
   "metadata": {},
   "source": [
    "File ```countries.csv``` has information about countries. Let's check.\n"
   ]
  },
  {
   "cell_type": "code",
   "execution_count": 59,
   "id": "74fb220d",
   "metadata": {},
   "outputs": [
    {
     "name": "stdout",
     "output_type": "stream",
     "text": [
      "    Continent_Name Continent_Code  \\\n",
      "0             Asia             AS   \n",
      "1           Europe             EU   \n",
      "2       Antarctica             AN   \n",
      "3           Africa             AF   \n",
      "4          Oceania             OC   \n",
      "..             ...            ...   \n",
      "257         Africa             AF   \n",
      "258        Oceania             OC   \n",
      "259           Asia             AS   \n",
      "260           Asia             AS   \n",
      "261           Asia             AS   \n",
      "\n",
      "                                     Country_Name Two_Letter_Country_Code  \\\n",
      "0                Afghanistan, Islamic Republic of                      AF   \n",
      "1                            Albania, Republic of                      AL   \n",
      "2    Antarctica (the territory South of 60 deg S)                      AQ   \n",
      "3        Algeria, People's Democratic Republic of                      DZ   \n",
      "4                                  American Samoa                      AS   \n",
      "..                                            ...                     ...   \n",
      "257                           Zambia, Republic of                      ZM   \n",
      "258                            Disputed Territory                      XX   \n",
      "259                Iraq-Saudi Arabia Neutral Zone                      XE   \n",
      "260                   United Nations Neutral Zone                      XD   \n",
      "261                               Spratly Islands                      XS   \n",
      "\n",
      "    Three_Letter_Country_Code  Country_Number  \n",
      "0                         AFG             4.0  \n",
      "1                         ALB             8.0  \n",
      "2                         ATA            10.0  \n",
      "3                         DZA            12.0  \n",
      "4                         ASM            16.0  \n",
      "..                        ...             ...  \n",
      "257                       ZMB           894.0  \n",
      "258                       NaN             NaN  \n",
      "259                       NaN             NaN  \n",
      "260                       NaN             NaN  \n",
      "261                       NaN             NaN  \n",
      "\n",
      "[262 rows x 6 columns]\n"
     ]
    }
   ],
   "source": [
    "# create the path for the global file\n",
    "countriesFileName = os.path.join( \"data\", \"countries.csv\")\n",
    "\n",
    "# Read a CSV file into a DataFrame\n",
    "countriesDF = pd.read_csv(countriesFileName)\n",
    "\n",
    "print( countriesDF)\n"
   ]
  },
  {
   "cell_type": "markdown",
   "id": "77035e11",
   "metadata": {},
   "source": [
    "With this information, let's compute the total number of cases and deaths by continent."
   ]
  },
  {
   "cell_type": "code",
   "execution_count": 60,
   "id": "0ab13e54",
   "metadata": {},
   "outputs": [
    {
     "name": "stdout",
     "output_type": "stream",
     "text": [
      "              date countrycode  population  cases  deaths  deathsPer1M  \\\n",
      "0       2020-01-25          MY    31949789      0       0     0.000000   \n",
      "1       2020-01-26          MY    31949789      1       0     0.000000   \n",
      "2       2020-01-27          MY    31949789      0       0     0.000000   \n",
      "3       2020-01-28          MY    31949789      0       0     0.000000   \n",
      "4       2020-01-29          MY    31949789      3       0     0.000000   \n",
      "...            ...         ...         ...    ...     ...          ...   \n",
      "104946  2021-08-07          AU    25203200    277      -1    -0.039678   \n",
      "104947  2021-08-08          AU    25203200    302       1     0.039678   \n",
      "104948  2021-08-09          AU    25203200    380       4     0.158710   \n",
      "104949  2021-08-10          AU    25203200    367       2     0.079355   \n",
      "104950  2021-08-11          AU    25203200    372       2     0.079355   \n",
      "\n",
      "          month Continent_Name Continent_Code                Country_Name  \\\n",
      "0       2020-01           Asia             AS                    Malaysia   \n",
      "1       2020-01           Asia             AS                    Malaysia   \n",
      "2       2020-01           Asia             AS                    Malaysia   \n",
      "3       2020-01           Asia             AS                    Malaysia   \n",
      "4       2020-01           Asia             AS                    Malaysia   \n",
      "...         ...            ...            ...                         ...   \n",
      "104946  2021-08        Oceania             OC  Australia, Commonwealth of   \n",
      "104947  2021-08        Oceania             OC  Australia, Commonwealth of   \n",
      "104948  2021-08        Oceania             OC  Australia, Commonwealth of   \n",
      "104949  2021-08        Oceania             OC  Australia, Commonwealth of   \n",
      "104950  2021-08        Oceania             OC  Australia, Commonwealth of   \n",
      "\n",
      "       Three_Letter_Country_Code  Country_Number  \n",
      "0                            MYS           458.0  \n",
      "1                            MYS           458.0  \n",
      "2                            MYS           458.0  \n",
      "3                            MYS           458.0  \n",
      "4                            MYS           458.0  \n",
      "...                          ...             ...  \n",
      "104946                       AUS            36.0  \n",
      "104947                       AUS            36.0  \n",
      "104948                       AUS            36.0  \n",
      "104949                       AUS            36.0  \n",
      "104950                       AUS            36.0  \n",
      "\n",
      "[108658 rows x 12 columns]\n",
      "                   cases   deaths\n",
      "Continent_Name                   \n",
      "Africa           7114303   179873\n",
      "Asia            71445002  1114988\n",
      "Europe          60655961  1220272\n",
      "North America   43374758   939540\n",
      "Oceania           105648     1649\n",
      "South America   36079108  1106612\n"
     ]
    }
   ],
   "source": [
    "# TODO : complete\n",
    "\n",
    "joined = covidDF.join(countriesDF.set_index(\"Two_Letter_Country_Code\"), on = \"countrycode\")\n",
    "print(joined)\n",
    "print(joined.groupby(\"Continent_Name\")[[\"cases\", \"deaths\"]].sum())"
   ]
  },
  {
   "cell_type": "markdown",
   "id": "afe665e1",
   "metadata": {},
   "source": [
    "What about the number of cases and death per 1M population in each continent?"
   ]
  },
  {
   "cell_type": "code",
   "execution_count": 61,
   "id": "5200e959",
   "metadata": {},
   "outputs": [
    {
     "name": "stdout",
     "output_type": "stream",
     "text": [
      "                   cases   deathsPer1M\n",
      "Continent_Name                        \n",
      "Africa           7114303  11257.670742\n",
      "Asia            71445002  19711.478246\n",
      "Europe          60655961  69568.176577\n",
      "North America   43374758  35340.040122\n",
      "Oceania           105648   1232.625206\n",
      "South America   36079108  24810.228610\n"
     ]
    }
   ],
   "source": [
    "# TODO : complete\n",
    "\n",
    "print(joined.groupby(\"Continent_Name\")[[\"cases\", \"deathsPer1M\"]].sum())"
   ]
  }
 ],
 "metadata": {
  "kernelspec": {
   "display_name": "Python 3 (ipykernel)",
   "language": "python",
   "name": "python3"
  },
  "language_info": {
   "codemirror_mode": {
    "name": "ipython",
    "version": 3
   },
   "file_extension": ".py",
   "mimetype": "text/x-python",
   "name": "python",
   "nbconvert_exporter": "python",
   "pygments_lexer": "ipython3",
   "version": "3.11.4"
  }
 },
 "nbformat": 4,
 "nbformat_minor": 5
}
