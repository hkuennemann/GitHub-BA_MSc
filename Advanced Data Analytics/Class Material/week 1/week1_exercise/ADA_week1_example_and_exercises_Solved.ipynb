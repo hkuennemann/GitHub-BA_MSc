{
 "cells": [
  {
   "cell_type": "markdown",
   "id": "d9e90bac",
   "metadata": {},
   "source": [
    "# Advanced Data Analysis - week 1 exercises - part 1\n",
    "\n",
    "In the advanced data analysis course, we assume basic knowledge of Python, as could be acquired by attending the *Introduction to Programming* bridging course.\n",
    "\n",
    "This notebook includes exercises for autonomous study related with **Week 1**. There will be a second notebook with more exercises in early next week.\n",
    "\n",
    "We will use a dataset consisting in a set of files with data for COVID obtained from this site:\n",
    "\n",
    "[https://github.com/GCGImdea/coronasurveys](https://github.com/GCGImdea/coronasurveys)\n"
   ]
  },
  {
   "cell_type": "markdown",
   "id": "7a3c4a3c",
   "metadata": {},
   "source": [
    "## Preliminaries\n",
    "\n",
    "Let's start by import Pandas, matplotlib and os libraries."
   ]
  },
  {
   "cell_type": "code",
   "execution_count": 1,
   "id": "dc27bd22",
   "metadata": {},
   "outputs": [],
   "source": [
    "# imports pandas\n",
    "import pandas as pd\n",
    "\n",
    "# imports matplotlib\n",
    "import matplotlib.pyplot as plt\n",
    "\n",
    "import os"
   ]
  },
  {
   "cell_type": "markdown",
   "id": "4bb93293",
   "metadata": {},
   "source": [
    "## Examples and exercises\n",
    "\n",
    "File \"ALL-covid.csv\" has the information for COVID in all countries."
   ]
  },
  {
   "cell_type": "code",
   "execution_count": 2,
   "id": "e655c50b",
   "metadata": {},
   "outputs": [
    {
     "name": "stdout",
     "output_type": "stream",
     "text": [
      "              date countrycode  population  cases  deaths\n",
      "0       2020-01-25          MY    31949789      0       0\n",
      "1       2020-01-26          MY    31949789      1       0\n",
      "2       2020-01-27          MY    31949789      0       0\n",
      "3       2020-01-28          MY    31949789      0       0\n",
      "4       2020-01-29          MY    31949789      3       0\n",
      "...            ...         ...         ...    ...     ...\n",
      "104946  2021-08-07          AU    25203200    277      -1\n",
      "104947  2021-08-08          AU    25203200    302       1\n",
      "104948  2021-08-09          AU    25203200    380       4\n",
      "104949  2021-08-10          AU    25203200    367       2\n",
      "104950  2021-08-11          AU    25203200    372       2\n",
      "\n",
      "[104951 rows x 5 columns]\n"
     ]
    }
   ],
   "source": [
    "# create the path for the global file\n",
    "fileName = os.path.join( \"data\", \"ALL-covid.csv\")\n",
    "\n",
    "# Read a CSV file into a DataFrame\n",
    "covidDF = pd.read_csv(fileName)\n",
    "\n",
    "print( covidDF)"
   ]
  },
  {
   "cell_type": "markdown",
   "id": "ac043e0b",
   "metadata": {},
   "source": [
    "Using ```covidDF```, which includes full data, print the total number of cases and deaths for a country of your choice."
   ]
  },
  {
   "cell_type": "code",
   "execution_count": 3,
   "id": "88c0c11a",
   "metadata": {},
   "outputs": [
    {
     "name": "stdout",
     "output_type": "stream",
     "text": [
      "cases     993239\n",
      "deaths     17514\n",
      "dtype: int64\n"
     ]
    }
   ],
   "source": [
    "## TODO : complete the code\n",
    "\n",
    "resultDF = covidDF[covidDF[\"countrycode\"]==\"PT\"][[\"cases\",\"deaths\"]].sum()\n",
    "print(resultDF)\n"
   ]
  },
  {
   "cell_type": "markdown",
   "id": "0e3bd439",
   "metadata": {},
   "source": [
    "Compute the top-3 countries with more deaths."
   ]
  },
  {
   "cell_type": "code",
   "execution_count": 4,
   "id": "39d5777a",
   "metadata": {},
   "outputs": [
    {
     "name": "stdout",
     "output_type": "stream",
     "text": [
      "             deaths\n",
      "countrycode        \n",
      "US           618137\n",
      "BR           565748\n",
      "IN           429179\n"
     ]
    }
   ],
   "source": [
    "## TODO : complete the code\n",
    "\n",
    "resultDF = covidDF[[\"deaths\",\"countrycode\"]].groupby(\"countrycode\").sum()\n",
    "resultDF = resultDF.nlargest(3,\"deaths\")\n",
    "print(resultDF)\n"
   ]
  },
  {
   "cell_type": "markdown",
   "id": "ae9847f6",
   "metadata": {},
   "source": [
    "Not all countries have the same population, so probably what would make sense is to compute the number of deaths as a function of the population. \n",
    "\n",
    "For doing this, it would be useful to have the number of deaths per 1M persons, instead of the raw number. This can be done by adding a column to the bases DataFrame.\n"
   ]
  },
  {
   "cell_type": "code",
   "execution_count": 5,
   "id": "9e70669e",
   "metadata": {},
   "outputs": [
    {
     "name": "stdout",
     "output_type": "stream",
     "text": [
      "              date countrycode  population  cases  deaths  deathsPer1M\n",
      "0       2020-01-25          MY    31949789      0       0     0.000000\n",
      "1       2020-01-26          MY    31949789      1       0     0.000000\n",
      "2       2020-01-27          MY    31949789      0       0     0.000000\n",
      "3       2020-01-28          MY    31949789      0       0     0.000000\n",
      "4       2020-01-29          MY    31949789      3       0     0.000000\n",
      "...            ...         ...         ...    ...     ...          ...\n",
      "104946  2021-08-07          AU    25203200    277      -1    -0.039678\n",
      "104947  2021-08-08          AU    25203200    302       1     0.039678\n",
      "104948  2021-08-09          AU    25203200    380       4     0.158710\n",
      "104949  2021-08-10          AU    25203200    367       2     0.079355\n",
      "104950  2021-08-11          AU    25203200    372       2     0.079355\n",
      "\n",
      "[104951 rows x 6 columns]\n"
     ]
    }
   ],
   "source": [
    "covidDF[\"deathsPer1M\"] = covidDF[\"deaths\"] / (covidDF[\"population\"] / 1000000)\n",
    "\n",
    "print(covidDF)\n"
   ]
  },
  {
   "cell_type": "markdown",
   "id": "21400047",
   "metadata": {},
   "source": [
    "You can now compute the top-3 countries with more deaths, as a function of the population."
   ]
  },
  {
   "cell_type": "code",
   "execution_count": 6,
   "id": "eaeb1796",
   "metadata": {},
   "outputs": [
    {
     "name": "stdout",
     "output_type": "stream",
     "text": [
      "              deathsPer1M\n",
      "countrycode              \n",
      "PA           16305.422895\n",
      "PE            6064.047936\n",
      "SV            4259.671034\n"
     ]
    }
   ],
   "source": [
    "## TODO : complete the code\n",
    "\n",
    "\n",
    "resultDF = covidDF[[\"deathsPer1M\",\"countrycode\"]].groupby(\"countrycode\").sum()\n",
    "resultDF = resultDF.nlargest(3,\"deathsPer1M\")\n",
    "print(resultDF)"
   ]
  },
  {
   "cell_type": "markdown",
   "id": "e38e4f12",
   "metadata": {},
   "source": [
    "What were the 3 days with more cases (worldwide)?"
   ]
  },
  {
   "cell_type": "code",
   "execution_count": 7,
   "id": "ae2da5ed",
   "metadata": {},
   "outputs": [
    {
     "name": "stdout",
     "output_type": "stream",
     "text": [
      "            deaths\n",
      "date              \n",
      "2020-10-29   37846\n",
      "2021-07-20   20751\n",
      "2021-01-20   17743\n"
     ]
    }
   ],
   "source": [
    "## TODO : complete the code\n",
    "\n",
    "resultDF = covidDF[[\"deaths\",\"date\"]].groupby(\"date\").sum()\n",
    "resultDF = resultDF.nlargest(3,\"deaths\")\n",
    "print(resultDF)\n"
   ]
  },
  {
   "cell_type": "markdown",
   "id": "ca6b7842",
   "metadata": {},
   "source": [
    "If we wanted to compute statistics by months, it would be useful to have a column with the month, instead of the having only the full date. This can be done by creating an additional column and using the functions to compute a substring of a column."
   ]
  },
  {
   "cell_type": "code",
   "execution_count": 8,
   "id": "425d28e4",
   "metadata": {},
   "outputs": [
    {
     "name": "stdout",
     "output_type": "stream",
     "text": [
      "              date countrycode  population  cases  deaths  deathsPer1M   \n",
      "0       2020-01-25          MY    31949789      0       0     0.000000  \\\n",
      "1       2020-01-26          MY    31949789      1       0     0.000000   \n",
      "2       2020-01-27          MY    31949789      0       0     0.000000   \n",
      "3       2020-01-28          MY    31949789      0       0     0.000000   \n",
      "4       2020-01-29          MY    31949789      3       0     0.000000   \n",
      "...            ...         ...         ...    ...     ...          ...   \n",
      "104946  2021-08-07          AU    25203200    277      -1    -0.039678   \n",
      "104947  2021-08-08          AU    25203200    302       1     0.039678   \n",
      "104948  2021-08-09          AU    25203200    380       4     0.158710   \n",
      "104949  2021-08-10          AU    25203200    367       2     0.079355   \n",
      "104950  2021-08-11          AU    25203200    372       2     0.079355   \n",
      "\n",
      "          month  \n",
      "0       2020-01  \n",
      "1       2020-01  \n",
      "2       2020-01  \n",
      "3       2020-01  \n",
      "4       2020-01  \n",
      "...         ...  \n",
      "104946  2021-08  \n",
      "104947  2021-08  \n",
      "104948  2021-08  \n",
      "104949  2021-08  \n",
      "104950  2021-08  \n",
      "\n",
      "[104951 rows x 7 columns]\n"
     ]
    }
   ],
   "source": [
    "covidDF[\"month\"] = covidDF[\"date\"].str[:7]\n",
    "\n",
    "print(covidDF)\n"
   ]
  },
  {
   "cell_type": "markdown",
   "id": "2deb6e9d",
   "metadata": {},
   "source": [
    "We can now compute the three months with more cases."
   ]
  },
  {
   "cell_type": "code",
   "execution_count": 9,
   "id": "e4de143a",
   "metadata": {},
   "outputs": [
    {
     "name": "stdout",
     "output_type": "stream",
     "text": [
      "         deaths\n",
      "month          \n",
      "2021-01  418383\n",
      "2021-05  379217\n",
      "2021-04  377988\n"
     ]
    }
   ],
   "source": [
    "## TODO : complete the code\n",
    "\n",
    "\n",
    "resultDF = covidDF[[\"deaths\",\"month\"]].groupby(\"month\").sum()\n",
    "resultDF = resultDF.nlargest(3,\"deaths\")\n",
    "print(resultDF)\n"
   ]
  },
  {
   "cell_type": "markdown",
   "id": "f3a5a1b6",
   "metadata": {},
   "source": [
    "Explore Dataframe documentation [https://pandas.pydata.org/docs/reference/api/pandas.DataFrame.html](https://pandas.pydata.org/docs/reference/api/pandas.DataFrame.html) to find out out to compute the cummulative number of cases for a country of your choice - the goal is to have a Dataframe that includes the data for the country you selected, with two additional columns for the cumulative number of cases and deaths."
   ]
  },
  {
   "cell_type": "code",
   "execution_count": 10,
   "id": "a27d8d09",
   "metadata": {},
   "outputs": [
    {
     "name": "stderr",
     "output_type": "stream",
     "text": [
      "<ipython-input-10-cb0890f15d8c>:4: SettingWithCopyWarning: \n",
      "A value is trying to be set on a copy of a slice from a DataFrame.\n",
      "Try using .loc[row_indexer,col_indexer] = value instead\n",
      "\n",
      "See the caveats in the documentation: https://pandas.pydata.org/pandas-docs/stable/user_guide/indexing.html#returning-a-view-versus-a-copy\n",
      "  ptCovidDF[\"cumCases\"] = ptCovidDF[\"cases\"].cumsum()\n"
     ]
    },
    {
     "data": {
      "text/html": [
       "<div>\n",
       "<style scoped>\n",
       "    .dataframe tbody tr th:only-of-type {\n",
       "        vertical-align: middle;\n",
       "    }\n",
       "\n",
       "    .dataframe tbody tr th {\n",
       "        vertical-align: top;\n",
       "    }\n",
       "\n",
       "    .dataframe thead th {\n",
       "        text-align: right;\n",
       "    }\n",
       "</style>\n",
       "<table border=\"1\" class=\"dataframe\">\n",
       "  <thead>\n",
       "    <tr style=\"text-align: right;\">\n",
       "      <th></th>\n",
       "      <th>date</th>\n",
       "      <th>countrycode</th>\n",
       "      <th>population</th>\n",
       "      <th>cases</th>\n",
       "      <th>deaths</th>\n",
       "      <th>deathsPer1M</th>\n",
       "      <th>month</th>\n",
       "      <th>cumCases</th>\n",
       "    </tr>\n",
       "  </thead>\n",
       "  <tbody>\n",
       "    <tr>\n",
       "      <th>76917</th>\n",
       "      <td>2020-03-02</td>\n",
       "      <td>PT</td>\n",
       "      <td>10276617</td>\n",
       "      <td>0</td>\n",
       "      <td>0</td>\n",
       "      <td>0.000000</td>\n",
       "      <td>2020-03</td>\n",
       "      <td>0</td>\n",
       "    </tr>\n",
       "    <tr>\n",
       "      <th>76918</th>\n",
       "      <td>2020-03-03</td>\n",
       "      <td>PT</td>\n",
       "      <td>10276617</td>\n",
       "      <td>0</td>\n",
       "      <td>0</td>\n",
       "      <td>0.000000</td>\n",
       "      <td>2020-03</td>\n",
       "      <td>0</td>\n",
       "    </tr>\n",
       "    <tr>\n",
       "      <th>76919</th>\n",
       "      <td>2020-03-04</td>\n",
       "      <td>PT</td>\n",
       "      <td>10276617</td>\n",
       "      <td>3</td>\n",
       "      <td>0</td>\n",
       "      <td>0.000000</td>\n",
       "      <td>2020-03</td>\n",
       "      <td>3</td>\n",
       "    </tr>\n",
       "    <tr>\n",
       "      <th>76920</th>\n",
       "      <td>2020-03-05</td>\n",
       "      <td>PT</td>\n",
       "      <td>10276617</td>\n",
       "      <td>3</td>\n",
       "      <td>0</td>\n",
       "      <td>0.000000</td>\n",
       "      <td>2020-03</td>\n",
       "      <td>6</td>\n",
       "    </tr>\n",
       "    <tr>\n",
       "      <th>76921</th>\n",
       "      <td>2020-03-06</td>\n",
       "      <td>PT</td>\n",
       "      <td>10276617</td>\n",
       "      <td>5</td>\n",
       "      <td>0</td>\n",
       "      <td>0.000000</td>\n",
       "      <td>2020-03</td>\n",
       "      <td>11</td>\n",
       "    </tr>\n",
       "    <tr>\n",
       "      <th>...</th>\n",
       "      <td>...</td>\n",
       "      <td>...</td>\n",
       "      <td>...</td>\n",
       "      <td>...</td>\n",
       "      <td>...</td>\n",
       "      <td>...</td>\n",
       "      <td>...</td>\n",
       "      <td>...</td>\n",
       "    </tr>\n",
       "    <tr>\n",
       "      <th>77440</th>\n",
       "      <td>2021-08-07</td>\n",
       "      <td>PT</td>\n",
       "      <td>10276617</td>\n",
       "      <td>2621</td>\n",
       "      <td>17</td>\n",
       "      <td>1.654241</td>\n",
       "      <td>2021-08</td>\n",
       "      <td>984983</td>\n",
       "    </tr>\n",
       "    <tr>\n",
       "      <th>77441</th>\n",
       "      <td>2021-08-08</td>\n",
       "      <td>PT</td>\n",
       "      <td>10276617</td>\n",
       "      <td>1982</td>\n",
       "      <td>10</td>\n",
       "      <td>0.973083</td>\n",
       "      <td>2021-08</td>\n",
       "      <td>986965</td>\n",
       "    </tr>\n",
       "    <tr>\n",
       "      <th>77442</th>\n",
       "      <td>2021-08-09</td>\n",
       "      <td>PT</td>\n",
       "      <td>10276617</td>\n",
       "      <td>1094</td>\n",
       "      <td>18</td>\n",
       "      <td>1.751549</td>\n",
       "      <td>2021-08</td>\n",
       "      <td>988059</td>\n",
       "    </tr>\n",
       "    <tr>\n",
       "      <th>77443</th>\n",
       "      <td>2021-08-10</td>\n",
       "      <td>PT</td>\n",
       "      <td>10276617</td>\n",
       "      <td>2232</td>\n",
       "      <td>17</td>\n",
       "      <td>1.654241</td>\n",
       "      <td>2021-08</td>\n",
       "      <td>990291</td>\n",
       "    </tr>\n",
       "    <tr>\n",
       "      <th>77444</th>\n",
       "      <td>2021-08-11</td>\n",
       "      <td>PT</td>\n",
       "      <td>10276617</td>\n",
       "      <td>2948</td>\n",
       "      <td>12</td>\n",
       "      <td>1.167699</td>\n",
       "      <td>2021-08</td>\n",
       "      <td>993239</td>\n",
       "    </tr>\n",
       "  </tbody>\n",
       "</table>\n",
       "<p>528 rows × 8 columns</p>\n",
       "</div>"
      ],
      "text/plain": [
       "             date countrycode  population  cases  deaths  deathsPer1M   \n",
       "76917  2020-03-02          PT    10276617      0       0     0.000000  \\\n",
       "76918  2020-03-03          PT    10276617      0       0     0.000000   \n",
       "76919  2020-03-04          PT    10276617      3       0     0.000000   \n",
       "76920  2020-03-05          PT    10276617      3       0     0.000000   \n",
       "76921  2020-03-06          PT    10276617      5       0     0.000000   \n",
       "...           ...         ...         ...    ...     ...          ...   \n",
       "77440  2021-08-07          PT    10276617   2621      17     1.654241   \n",
       "77441  2021-08-08          PT    10276617   1982      10     0.973083   \n",
       "77442  2021-08-09          PT    10276617   1094      18     1.751549   \n",
       "77443  2021-08-10          PT    10276617   2232      17     1.654241   \n",
       "77444  2021-08-11          PT    10276617   2948      12     1.167699   \n",
       "\n",
       "         month  cumCases  \n",
       "76917  2020-03         0  \n",
       "76918  2020-03         0  \n",
       "76919  2020-03         3  \n",
       "76920  2020-03         6  \n",
       "76921  2020-03        11  \n",
       "...        ...       ...  \n",
       "77440  2021-08    984983  \n",
       "77441  2021-08    986965  \n",
       "77442  2021-08    988059  \n",
       "77443  2021-08    990291  \n",
       "77444  2021-08    993239  \n",
       "\n",
       "[528 rows x 8 columns]"
      ]
     },
     "execution_count": 10,
     "metadata": {},
     "output_type": "execute_result"
    }
   ],
   "source": [
    "ptCovidDF = covidDF[covidDF[\"countrycode\"]==\"PT\"]\n",
    "\n",
    "# TODO : complete\n",
    "ptCovidDF[\"cumCases\"] = ptCovidDF[\"cases\"].cumsum()\n",
    "ptCovidDF\n"
   ]
  },
  {
   "cell_type": "markdown",
   "id": "f5d5c920",
   "metadata": {},
   "source": [
    "You might end up getting an error ```SettingWithCopyWarning```. What is happening? \n",
    "Although the model of Pandas is that functions over a DataFrame will create a new DataFrame, Pandas tries to optimize execution by not creating copies of DataFrames when not necessary. It turns out that sometime this leads to problems. When that happens, you can explicitly force Pandas to create a copy of the Dataframe by using the function ```copy()```.\n"
   ]
  },
  {
   "cell_type": "code",
   "execution_count": 11,
   "id": "d02a9204",
   "metadata": {},
   "outputs": [
    {
     "data": {
      "text/html": [
       "<div>\n",
       "<style scoped>\n",
       "    .dataframe tbody tr th:only-of-type {\n",
       "        vertical-align: middle;\n",
       "    }\n",
       "\n",
       "    .dataframe tbody tr th {\n",
       "        vertical-align: top;\n",
       "    }\n",
       "\n",
       "    .dataframe thead th {\n",
       "        text-align: right;\n",
       "    }\n",
       "</style>\n",
       "<table border=\"1\" class=\"dataframe\">\n",
       "  <thead>\n",
       "    <tr style=\"text-align: right;\">\n",
       "      <th></th>\n",
       "      <th>date</th>\n",
       "      <th>countrycode</th>\n",
       "      <th>population</th>\n",
       "      <th>cases</th>\n",
       "      <th>deaths</th>\n",
       "      <th>deathsPer1M</th>\n",
       "      <th>month</th>\n",
       "      <th>cumCases</th>\n",
       "    </tr>\n",
       "  </thead>\n",
       "  <tbody>\n",
       "    <tr>\n",
       "      <th>76917</th>\n",
       "      <td>2020-03-02</td>\n",
       "      <td>PT</td>\n",
       "      <td>10276617</td>\n",
       "      <td>0</td>\n",
       "      <td>0</td>\n",
       "      <td>0.000000</td>\n",
       "      <td>2020-03</td>\n",
       "      <td>0</td>\n",
       "    </tr>\n",
       "    <tr>\n",
       "      <th>76918</th>\n",
       "      <td>2020-03-03</td>\n",
       "      <td>PT</td>\n",
       "      <td>10276617</td>\n",
       "      <td>0</td>\n",
       "      <td>0</td>\n",
       "      <td>0.000000</td>\n",
       "      <td>2020-03</td>\n",
       "      <td>0</td>\n",
       "    </tr>\n",
       "    <tr>\n",
       "      <th>76919</th>\n",
       "      <td>2020-03-04</td>\n",
       "      <td>PT</td>\n",
       "      <td>10276617</td>\n",
       "      <td>3</td>\n",
       "      <td>0</td>\n",
       "      <td>0.000000</td>\n",
       "      <td>2020-03</td>\n",
       "      <td>3</td>\n",
       "    </tr>\n",
       "    <tr>\n",
       "      <th>76920</th>\n",
       "      <td>2020-03-05</td>\n",
       "      <td>PT</td>\n",
       "      <td>10276617</td>\n",
       "      <td>3</td>\n",
       "      <td>0</td>\n",
       "      <td>0.000000</td>\n",
       "      <td>2020-03</td>\n",
       "      <td>6</td>\n",
       "    </tr>\n",
       "    <tr>\n",
       "      <th>76921</th>\n",
       "      <td>2020-03-06</td>\n",
       "      <td>PT</td>\n",
       "      <td>10276617</td>\n",
       "      <td>5</td>\n",
       "      <td>0</td>\n",
       "      <td>0.000000</td>\n",
       "      <td>2020-03</td>\n",
       "      <td>11</td>\n",
       "    </tr>\n",
       "    <tr>\n",
       "      <th>...</th>\n",
       "      <td>...</td>\n",
       "      <td>...</td>\n",
       "      <td>...</td>\n",
       "      <td>...</td>\n",
       "      <td>...</td>\n",
       "      <td>...</td>\n",
       "      <td>...</td>\n",
       "      <td>...</td>\n",
       "    </tr>\n",
       "    <tr>\n",
       "      <th>77440</th>\n",
       "      <td>2021-08-07</td>\n",
       "      <td>PT</td>\n",
       "      <td>10276617</td>\n",
       "      <td>2621</td>\n",
       "      <td>17</td>\n",
       "      <td>1.654241</td>\n",
       "      <td>2021-08</td>\n",
       "      <td>984983</td>\n",
       "    </tr>\n",
       "    <tr>\n",
       "      <th>77441</th>\n",
       "      <td>2021-08-08</td>\n",
       "      <td>PT</td>\n",
       "      <td>10276617</td>\n",
       "      <td>1982</td>\n",
       "      <td>10</td>\n",
       "      <td>0.973083</td>\n",
       "      <td>2021-08</td>\n",
       "      <td>986965</td>\n",
       "    </tr>\n",
       "    <tr>\n",
       "      <th>77442</th>\n",
       "      <td>2021-08-09</td>\n",
       "      <td>PT</td>\n",
       "      <td>10276617</td>\n",
       "      <td>1094</td>\n",
       "      <td>18</td>\n",
       "      <td>1.751549</td>\n",
       "      <td>2021-08</td>\n",
       "      <td>988059</td>\n",
       "    </tr>\n",
       "    <tr>\n",
       "      <th>77443</th>\n",
       "      <td>2021-08-10</td>\n",
       "      <td>PT</td>\n",
       "      <td>10276617</td>\n",
       "      <td>2232</td>\n",
       "      <td>17</td>\n",
       "      <td>1.654241</td>\n",
       "      <td>2021-08</td>\n",
       "      <td>990291</td>\n",
       "    </tr>\n",
       "    <tr>\n",
       "      <th>77444</th>\n",
       "      <td>2021-08-11</td>\n",
       "      <td>PT</td>\n",
       "      <td>10276617</td>\n",
       "      <td>2948</td>\n",
       "      <td>12</td>\n",
       "      <td>1.167699</td>\n",
       "      <td>2021-08</td>\n",
       "      <td>993239</td>\n",
       "    </tr>\n",
       "  </tbody>\n",
       "</table>\n",
       "<p>528 rows × 8 columns</p>\n",
       "</div>"
      ],
      "text/plain": [
       "             date countrycode  population  cases  deaths  deathsPer1M   \n",
       "76917  2020-03-02          PT    10276617      0       0     0.000000  \\\n",
       "76918  2020-03-03          PT    10276617      0       0     0.000000   \n",
       "76919  2020-03-04          PT    10276617      3       0     0.000000   \n",
       "76920  2020-03-05          PT    10276617      3       0     0.000000   \n",
       "76921  2020-03-06          PT    10276617      5       0     0.000000   \n",
       "...           ...         ...         ...    ...     ...          ...   \n",
       "77440  2021-08-07          PT    10276617   2621      17     1.654241   \n",
       "77441  2021-08-08          PT    10276617   1982      10     0.973083   \n",
       "77442  2021-08-09          PT    10276617   1094      18     1.751549   \n",
       "77443  2021-08-10          PT    10276617   2232      17     1.654241   \n",
       "77444  2021-08-11          PT    10276617   2948      12     1.167699   \n",
       "\n",
       "         month  cumCases  \n",
       "76917  2020-03         0  \n",
       "76918  2020-03         0  \n",
       "76919  2020-03         3  \n",
       "76920  2020-03         6  \n",
       "76921  2020-03        11  \n",
       "...        ...       ...  \n",
       "77440  2021-08    984983  \n",
       "77441  2021-08    986965  \n",
       "77442  2021-08    988059  \n",
       "77443  2021-08    990291  \n",
       "77444  2021-08    993239  \n",
       "\n",
       "[528 rows x 8 columns]"
      ]
     },
     "execution_count": 11,
     "metadata": {},
     "output_type": "execute_result"
    }
   ],
   "source": [
    "ptCovidDF = covidDF[covidDF[\"countrycode\"]==\"PT\"].copy()\n",
    "\n",
    "# TODO : complete\n",
    "ptCovidDF[\"cumCases\"] = ptCovidDF[\"cases\"].cumsum()\n",
    "ptCovidDF\n",
    "\n"
   ]
  },
  {
   "cell_type": "markdown",
   "id": "d195f8bf",
   "metadata": {},
   "source": [
    "File ```countries.csv``` has information about countries. Let's check.\n"
   ]
  },
  {
   "cell_type": "code",
   "execution_count": 12,
   "id": "74fb220d",
   "metadata": {},
   "outputs": [
    {
     "name": "stdout",
     "output_type": "stream",
     "text": [
      "    Continent_Name Continent_Code   \n",
      "0             Asia             AS  \\\n",
      "1           Europe             EU   \n",
      "2       Antarctica             AN   \n",
      "3           Africa             AF   \n",
      "4          Oceania             OC   \n",
      "..             ...            ...   \n",
      "257         Africa             AF   \n",
      "258        Oceania             OC   \n",
      "259           Asia             AS   \n",
      "260           Asia             AS   \n",
      "261           Asia             AS   \n",
      "\n",
      "                                     Country_Name Two_Letter_Country_Code   \n",
      "0                Afghanistan, Islamic Republic of                      AF  \\\n",
      "1                            Albania, Republic of                      AL   \n",
      "2    Antarctica (the territory South of 60 deg S)                      AQ   \n",
      "3        Algeria, People's Democratic Republic of                      DZ   \n",
      "4                                  American Samoa                      AS   \n",
      "..                                            ...                     ...   \n",
      "257                           Zambia, Republic of                      ZM   \n",
      "258                            Disputed Territory                      XX   \n",
      "259                Iraq-Saudi Arabia Neutral Zone                      XE   \n",
      "260                   United Nations Neutral Zone                      XD   \n",
      "261                               Spratly Islands                      XS   \n",
      "\n",
      "    Three_Letter_Country_Code  Country_Number  \n",
      "0                         AFG             4.0  \n",
      "1                         ALB             8.0  \n",
      "2                         ATA            10.0  \n",
      "3                         DZA            12.0  \n",
      "4                         ASM            16.0  \n",
      "..                        ...             ...  \n",
      "257                       ZMB           894.0  \n",
      "258                       NaN             NaN  \n",
      "259                       NaN             NaN  \n",
      "260                       NaN             NaN  \n",
      "261                       NaN             NaN  \n",
      "\n",
      "[262 rows x 6 columns]\n"
     ]
    }
   ],
   "source": [
    "# create the path for the global file\n",
    "countriesFileName = os.path.join( \"data\", \"countries.csv\")\n",
    "\n",
    "# Read a CSV file into a DataFrame\n",
    "countriesDF = pd.read_csv(countriesFileName)\n",
    "\n",
    "print( countriesDF)\n"
   ]
  },
  {
   "cell_type": "markdown",
   "id": "77035e11",
   "metadata": {},
   "source": [
    "With this information, let's compute the total number of cases and deaths by continent."
   ]
  },
  {
   "cell_type": "code",
   "execution_count": 13,
   "id": "0ab13e54",
   "metadata": {},
   "outputs": [
    {
     "name": "stdout",
     "output_type": "stream",
     "text": [
      "                   cases   deaths\n",
      "Continent_Name                   \n",
      "Africa           7114303   179873\n",
      "Asia            71445002  1114988\n",
      "Europe          60655961  1220272\n",
      "North America   43374758   939540\n",
      "Oceania           105648     1649\n",
      "South America   36079108  1106612\n"
     ]
    }
   ],
   "source": [
    "# TODO : complete\n",
    "\n",
    "# we are only interested in the lines that have a match, so we will use inner join\n",
    "extCovidDF = covidDF.join( countriesDF.set_index(\"Two_Letter_Country_Code\"),on=\"countrycode\",how=\"inner\")\n",
    "resultDF = extCovidDF[[\"cases\",\"deaths\",\"Continent_Name\"]].groupby(\"Continent_Name\").sum()\n",
    "print(resultDF)\n",
    "\n"
   ]
  },
  {
   "cell_type": "markdown",
   "id": "afe665e1",
   "metadata": {},
   "source": [
    "What about the number of cases and death per 1M population in each continent?"
   ]
  },
  {
   "cell_type": "code",
   "execution_count": 18,
   "id": "5200e959",
   "metadata": {},
   "outputs": [
    {
     "name": "stdout",
     "output_type": "stream",
     "text": [
      "               cases  deaths  population Continent_Name Continent_Code   \n",
      "countrycode                                                              \n",
      "AD             14890     129       78015         Europe             EU  \\\n",
      "AE            696902    1988     9770526           Asia             AS   \n",
      "AF            151290    6978    38041757           Asia             AS   \n",
      "AG              1371      43       99000  North America            NaN   \n",
      "AL            134485    2460     2880913         Europe             EU   \n",
      "...              ...     ...         ...            ...            ...   \n",
      "WS                 3       0      199853        Oceania             OC   \n",
      "YE              7212    1392    29161922           Asia             AS   \n",
      "ZA           2554239   75774    58558267         Africa             AF   \n",
      "ZM            201340    3509    18400556         Africa             AF   \n",
      "ZW            117953    3991    15790716         Africa             AF   \n",
      "\n",
      "                                 Country_Name Three_Letter_Country_Code   \n",
      "countrycode                                                               \n",
      "AD                   Andorra, Principality of                       AND  \\\n",
      "AE                       United Arab Emirates                       ARE   \n",
      "AF           Afghanistan, Islamic Republic of                       AFG   \n",
      "AG                        Antigua and Barbuda                       ATG   \n",
      "AL                       Albania, Republic of                       ALB   \n",
      "...                                       ...                       ...   \n",
      "WS                Samoa, Independent State of                       WSM   \n",
      "YE                                      Yemen                       YEM   \n",
      "ZA                  South Africa, Republic of                       ZAF   \n",
      "ZM                        Zambia, Republic of                       ZMB   \n",
      "ZW                      Zimbabwe, Republic of                       ZWE   \n",
      "\n",
      "             Country_Number  \n",
      "countrycode                  \n",
      "AD                     20.0  \n",
      "AE                    784.0  \n",
      "AF                      4.0  \n",
      "AG                     28.0  \n",
      "AL                      8.0  \n",
      "...                     ...  \n",
      "WS                    882.0  \n",
      "YE                    887.0  \n",
      "ZA                    710.0  \n",
      "ZM                    894.0  \n",
      "ZW                    716.0  \n",
      "\n",
      "[203 rows x 8 columns]\n",
      "                   cases   deaths  population\n",
      "Continent_Name                               \n",
      "Africa           6992702   176647  1323792148\n",
      "Asia            71445002  1114988  4666830332\n",
      "Europe          60655961  1220272   834456597\n",
      "North America   43374758   939540   576342552\n",
      "Oceania           105648     1649    41645938\n",
      "South America   36079108  1106612   426923092\n",
      "                  casesPer1M  deathsPer1M\n",
      "Continent_Name                           \n",
      "Africa           5282.326240   133.440133\n",
      "Asia            15309.106378   238.917621\n",
      "Europe          72689.174270  1462.355267\n",
      "North America   75258.642364  1630.176354\n",
      "Oceania          2536.814035    39.595698\n",
      "South America   84509.619358  2592.064053\n"
     ]
    }
   ],
   "source": [
    "# TODO : complete\n",
    "\n",
    "covidCountriesDF = covidDF[[\"cases\",\"deaths\",\"population\",\"countrycode\"]].groupby(\"countrycode\")\\\n",
    "                                                   .agg({\"cases\":\"sum\",\"deaths\":\"sum\",\"population\":\"max\"})\n",
    "extCovidDF = covidCountriesDF.join( countriesDF.set_index(\"Two_Letter_Country_Code\"),how=\"inner\")\n",
    "resultDF = extCovidDF[[\"cases\",\"deaths\",\"population\",\"Continent_Name\"]].groupby(\"Continent_Name\").sum()\n",
    "resultDF[\"casesPer1M\"] = resultDF[\"cases\"] / (resultDF[\"population\"] / 1000000)\n",
    "resultDF[\"deathsPer1M\"] = resultDF[\"deaths\"] / (resultDF[\"population\"] / 1000000)\n",
    "resultDF = resultDF[[\"casesPer1M\",\"deathsPer1M\"]]\n",
    "print(resultDF)"
   ]
  },
  {
   "cell_type": "code",
   "execution_count": null,
   "id": "1c95b478-9e9f-4b37-9e7a-c2e6eb09ac3b",
   "metadata": {},
   "outputs": [],
   "source": []
  }
 ],
 "metadata": {
  "kernelspec": {
   "display_name": "Python 3 (ipykernel)",
   "language": "python",
   "name": "python3"
  },
  "language_info": {
   "codemirror_mode": {
    "name": "ipython",
    "version": 3
   },
   "file_extension": ".py",
   "mimetype": "text/x-python",
   "name": "python",
   "nbconvert_exporter": "python",
   "pygments_lexer": "ipython3",
   "version": "3.11.4"
  }
 },
 "nbformat": 4,
 "nbformat_minor": 5
}
