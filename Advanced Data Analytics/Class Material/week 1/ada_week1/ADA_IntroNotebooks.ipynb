{
 "cells": [
  {
   "cell_type": "markdown",
   "metadata": {
    "colab_type": "text",
    "id": "zjtcvlAnrehd"
   },
   "source": [
    "# Introduction to Notebooks\n",
    "\n",
    "This is an introduction to notebooks.\n",
    "\n",
    "In general, a notebook is used to show the execution of some process. It is often used in data science / ML processes.\n",
    "\n",
    "There are several cloud platforms that provide access to running processes using Jupyer. For example Google colab (http://colab.research.google.com/) offers running of notebooks for free, and it is used to perform data science works. Colab offers machines with GPUs, that we will be using later on.\n",
    "\n",
    "The suggested environment for running notebooks is Google Colab.\n",
    "\n",
    "For the examples that do not use Spark or GPUs, you can run notebooks locally in an application that runs notebooks, such as:\n",
    "* Anaconda [https://www.anaconda.com/download](https://www.anaconda.com/download)\n",
    "* JupyteLab [https://jupyterlab.readthedocs.io/en/stable/getting_started/installation.html](https://jupyterlab.readthedocs.io/en/stable/getting_started/installation.html)\n",
    "\n",
    "In this course, we will make available a local deployment, running on docker, that includes both Jupyter for running the notebooks and a local deployment of Spark distribtued analytics framework."
   ]
  },
  {
   "cell_type": "markdown",
   "metadata": {
    "colab_type": "text",
    "id": "9lxt4LtD5KvI"
   },
   "source": [
    "## Running Python code\n",
    "\n",
    "In notebooks, you can have text cells and code cells.\n",
    "\n",
    "In text cells, you can have text formatted in MarkDown format: [https://daringfireball.net/projects/markdown/](https://daringfireball.net/projects/markdown/)\n",
    "\n",
    "In code cells, you can write Python code. You can run the code in the cell by using the **run** menu or the button close to the cell. The following code just initializes an array with a list of names and prints each of them. The output is printed after the cell."
   ]
  },
  {
   "cell_type": "code",
   "execution_count": 2,
   "metadata": {
    "colab": {
     "base_uri": "https://localhost:8080/",
     "height": 68
    },
    "colab_type": "code",
    "id": "O_pLlQBf7XfX",
    "outputId": "40de71d4-1873-4e62-cc3c-40fbe9b0e6b9"
   },
   "outputs": [
    {
     "name": "stdout",
     "output_type": "stream",
     "text": [
      "Nuno\n",
      "Ricardo\n",
      "Ana\n",
      "Guilherme\n"
     ]
    }
   ],
   "source": [
    "profs = [\"Nuno\", \"Ricardo\", \"Ana\", \"Guilherme\"]\n",
    "for name in profs:\n",
    "  print(name) \n"
   ]
  },
  {
   "cell_type": "markdown",
   "metadata": {
    "colab_type": "text",
    "id": "b0NF5inK8mr_"
   },
   "source": [
    "The notebook has an associataed Python runtime. Thus, the functions and variables defined in a cell are still visible in other cells.\n",
    "\n",
    "Let's check it by printing the name in the previous list."
   ]
  },
  {
   "cell_type": "code",
   "execution_count": 3,
   "metadata": {
    "colab": {
     "base_uri": "https://localhost:8080/",
     "height": 68
    },
    "colab_type": "code",
    "id": "JzGbf5sk8mLA",
    "outputId": "01b46bf9-2c80-46a6-dece-1573f079d08a"
   },
   "outputs": [
    {
     "name": "stdout",
     "output_type": "stream",
     "text": [
      "Nuno\n",
      "Ricardo\n",
      "Ana\n",
      "Guilherme\n"
     ]
    }
   ],
   "source": [
    "for name in profs:\n",
    "  print(name)"
   ]
  },
  {
   "cell_type": "markdown",
   "metadata": {
    "colab_type": "text",
    "id": "c_Bm5K_c76pZ"
   },
   "source": [
    "You can change the code of any cell and run it again.\n",
    "\n",
    "You can also create new text and code cells."
   ]
  },
  {
   "cell_type": "markdown",
   "metadata": {
    "colab_type": "text",
    "id": "cNjy8CGzrvz2"
   },
   "source": [
    "## Understanding runtimes\n",
    "\n",
    "In Jupyer, there is a single execution runtime for each notebook of the user, independently of the number of times you open the notebook. The execution runtime keeps running in google servers for sometime even after you close your notebook windows.\n",
    "\n",
    "Let's make some quick experiments to check this."
   ]
  },
  {
   "cell_type": "markdown",
   "metadata": {
    "colab_type": "text",
    "id": "cH-OqHilr2TB"
   },
   "source": [
    "### Single runtime for multiple browser windows\n",
    "\n",
    "**First**, we will start by checking the value of a variable \"v\". The variable is not initialized when the notebooks starts for the first time. However, if the notebook is already open is some other window/tab, or has been open at some time in the past, the value of the variable is already initialized."
   ]
  },
  {
   "cell_type": "code",
   "execution_count": 4,
   "metadata": {
    "colab": {
     "base_uri": "https://localhost:8080/",
     "height": 34
    },
    "colab_type": "code",
    "id": "8Y934ox3sXGh",
    "outputId": "91259988-d549-4d0a-d1e5-c4794d47474f"
   },
   "outputs": [
    {
     "name": "stdout",
     "output_type": "stream",
     "text": [
      "Variable v not initialized\n"
     ]
    }
   ],
   "source": [
    "try:\n",
    "  print( v)\n",
    "except NameError:\n",
    "  print( 'Variable v not initialized')"
   ]
  },
  {
   "cell_type": "markdown",
   "metadata": {
    "colab_type": "text",
    "id": "wSYtNgJQwxSy"
   },
   "source": [
    "**Second**, we will set a value to variable \"v\" and check its value."
   ]
  },
  {
   "cell_type": "code",
   "execution_count": 5,
   "metadata": {
    "colab": {
     "base_uri": "https://localhost:8080/",
     "height": 34
    },
    "colab_type": "code",
    "id": "trEb16fjxXS2",
    "outputId": "d333d120-d28f-45ee-b4df-616c422ac2f2"
   },
   "outputs": [
    {
     "name": "stdout",
     "output_type": "stream",
     "text": [
      "10\n"
     ]
    }
   ],
   "source": [
    "v = 10\n",
    "print( v)"
   ]
  },
  {
   "cell_type": "markdown",
   "metadata": {
    "colab_type": "text",
    "id": "yw_G7rdWxcdJ"
   },
   "source": [
    "**Now**, open a new tab/window of your browser, open the same notebook and check the value of the variable, by running the first cell again. you can see that the value is already set."
   ]
  },
  {
   "cell_type": "markdown",
   "metadata": {
    "colab_type": "text",
    "id": "9wye6kve0OHN"
   },
   "source": [
    "### Runtime lasts for some time even without any connected window\n",
    "\n",
    "For checking that the underlying runtime lasts for some time even if there is no connected browser tab/window, just close your windows and reopen the notebook again. The time for which it is running depends on the configuration of Jupyer.\n",
    "You can then check that the value of the variable \"v\" remains, by running the first celll again. "
   ]
  },
  {
   "cell_type": "markdown",
   "metadata": {
    "colab_type": "text",
    "id": "CnysYD5812u9"
   },
   "source": [
    "### Reseting a runtime\n",
    "\n",
    "For reseting the runtime associated with a notebook, you can use the \"Runtime > Restart runtime\" in the menu. After doing that, if you run the first cell, you will check that the variable \"v\" is again uninitialized."
   ]
  },
  {
   "cell_type": "code",
   "execution_count": null,
   "metadata": {},
   "outputs": [],
   "source": []
  }
 ],
 "metadata": {
  "colab": {
   "name": "SBE_ADA_IntroNotebooks.ipynb",
   "provenance": []
  },
  "kernelspec": {
   "display_name": "Python 3 (ipykernel)",
   "language": "python",
   "name": "python3"
  },
  "language_info": {
   "codemirror_mode": {
    "name": "ipython",
    "version": 3
   },
   "file_extension": ".py",
   "mimetype": "text/x-python",
   "name": "python",
   "nbconvert_exporter": "python",
   "pygments_lexer": "ipython3",
   "version": "3.11.4"
  }
 },
 "nbformat": 4,
 "nbformat_minor": 4
}
