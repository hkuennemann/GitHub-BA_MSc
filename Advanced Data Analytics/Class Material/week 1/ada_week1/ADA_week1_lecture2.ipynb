{
 "cells": [
  {
   "cell_type": "markdown",
   "id": "d9e90bac",
   "metadata": {},
   "source": [
    "# Advanced Data Analysis - week 1, lecture 2, examples\n",
    "\n",
    "In the advanced data analysis course, we assume basic knowledge of Python, as could be acquired by attending the *Introduction to Programming* bridging course.\n",
    "\n",
    "This notebook includes the examples and exercises presented in **Week 1** lecture no. 2. There is an additional notebook with the examples and exercises suggested for autonomous study during the week.\n",
    "\n",
    "In **week 1**, we will focus mainly on introducing the dataflow/functional programming paradigm often used for data analysis. \n"
   ]
  },
  {
   "cell_type": "markdown",
   "id": "68296553",
   "metadata": {},
   "source": [
    "## Data model\n",
    "\n",
    "We consider data that is organized according to a tabular model - we call it a DataFrame.\n",
    "\n",
    "A DataFrame consists of a 2-dimension table, with labeled columns, i.e., each column has a label. The values in each row can have different types - e.g. Strings, integers, floats, etc. \n",
    "\n",
    "The following example shows the table shown in lecture 1, with 4 labeled columns, *Name*, *Age*, *Educational level*, *Company*.\n",
    "\n",
    "![table](images/lec1-fulltable.png)"
   ]
  },
  {
   "cell_type": "markdown",
   "id": "804357d4",
   "metadata": {},
   "source": [
    "## Data processing / analysis\n",
    "\n",
    "A DataFrame can be transformed into another DataFrame by applying a function.\n",
    "\n",
    "Data processing consists of applying a sequence of operators/functions to DataFrame. Each operation transforms one DataFrame into another Dataframe.\n",
    "\n",
    "Check the following example. What computation is being performed?\n",
    "\n",
    "![transform](images/lec1-transform.png)\n",
    "\n",
    "Interestingly, we can classify the transformations that are being performed in a single Dataframe in two main types:\n",
    "* **One-to-one** transformations. These transformations apply a function to each row independently, generating a new row. More generally, the function can produce as result zero, one or many rows. A **filter** is a special *ont-to-one* transformation that either returns the row itself or no row.\n",
    "* **Many-to-one** transformations. These transformations apply a function to multiple rows and transform them into a single one.\n"
   ]
  },
  {
   "cell_type": "markdown",
   "id": "bf5325ea",
   "metadata": {},
   "source": [
    "### Map - one-to-one (one-to-*) transformations\n",
    "\n",
    "The first type of transformation, a map transformation, applies a function to each row individually, generating a new row, no row, or multiple rows.\n",
    "\n",
    "Is this performed in the previous example?"
   ]
  },
  {
   "cell_type": "markdown",
   "id": "a4daf5df",
   "metadata": {},
   "source": [
    "Yes. The first transformation checks each row, and if the value of *Company* is *Good*, it generates the exactly same row. Otherwise, it generates no row. \n",
    "\n",
    "**NOTE:** the transformation in this specific example is often called a **filter**, but most map functions are not filters.\n",
    "\n",
    "**NOTE:** An interesting aspect, that is explored by frameworks that support parallel execution (e.g. using GPUs or distributed processing), is that map functions can be applied in parallel (at the same time) to different data items."
   ]
  },
  {
   "cell_type": "markdown",
   "id": "46112193",
   "metadata": {},
   "source": [
    "### Reduce - many-to-one transformations\n",
    "\n",
    "The second type of transformation, a reduce transformation, applies a function to multiple rows and generates a new row. These function are often called aggregations also.\n",
    "\n",
    "Is this performed in the previous example?\n"
   ]
  },
  {
   "cell_type": "markdown",
   "id": "2b889500",
   "metadata": {},
   "source": [
    "Yes. The second transformation gets all rows and applies the a function that returns the row with the lowest age."
   ]
  },
  {
   "cell_type": "markdown",
   "id": "6d475e0c",
   "metadata": {},
   "source": [
    "Often, frameworks iterate over the rows to be reduced and apply the function to two elements at each time. In the previous example, the reduce would proceed as follows: \n",
    "1. ```youngest((Andrew,55,1,Good),(Bernhard,43,2,Good)) -> (Bernhard,43,2,Good)``` - the first step applies the function to the first two elements;\n",
    "2. ```youngest((Bernhard,43,2,Good),(Dennis,82,3,Good)) -> (Bernhard,43,2,Good)``` - the nth step applies the function to the result of the previous step and the (n+1)th element.\n",
    "3. ...\n",
    "\n",
    "**NOTE:** When there is support for parallel execution, this can be done more efficiently by comparing at the same time multiple pairs - if enough parallelism exist, this lead to executing the function is log(n) steps."
   ]
  },
  {
   "cell_type": "markdown",
   "id": "139f89d6",
   "metadata": {},
   "source": [
    "### ReduceByKey / GroupBy - multiple many-to-one transformations at once\n",
    "\n",
    "Often, we do not want to apply the reduce transformation to all elements of a table. Instead, we want to apply the function to different groups of rows at the same time. \n",
    "\n",
    "In the previous example, we might want to know the youngest person for Good and for Bad company sub-groups. \n",
    "\n",
    "This can be seen as the general **Reduce** case, where the rows are grouped and the reduce transformation is applied to each sub-group at the same time.\n"
   ]
  },
  {
   "cell_type": "markdown",
   "id": "95dcca0d",
   "metadata": {},
   "source": [
    "### Exercises\n",
    "\n",
    "What transformations would you use to:\n",
    "\n",
    "* Compute the average age of good and bad companies ? \n",
    "--> A: one-to-one (group by good/bad), many-to-one (average of each group)\n",
    "\n",
    "* Know which group has lower average Education level: good or bad companies ?\n",
    "--> A: one-to-one (group by good/bad), many-to-one (average of each group), many-to-one (min)"
   ]
  },
  {
   "cell_type": "markdown",
   "id": "b6f57801",
   "metadata": {},
   "source": [
    "## Programming (with Pandas)"
   ]
  },
  {
   "cell_type": "markdown",
   "id": "d3aac495",
   "metadata": {},
   "source": [
    "We now show how to program in Python adopting the given programming paradigm. \n",
    "\n",
    "We will use the popular [**Pandas**](https://pandas.pydata.org/) library for our examples, althouth the underlying paradigm can be found in different libraries and frameworks.\n",
    "\n",
    "For using Pandas, we start by importing *pandas*."
   ]
  },
  {
   "cell_type": "code",
   "execution_count": 2,
   "id": "69621cc6",
   "metadata": {},
   "outputs": [],
   "source": [
    "# imports pandas\n",
    "import pandas as pd\n"
   ]
  },
  {
   "cell_type": "markdown",
   "id": "e95d7e68",
   "metadata": {},
   "source": [
    "### Data model : DataFrame\n",
    "\n",
    "In *Pandas*, a table is represented as a [**DataFrame**](https://pandas.pydata.org/docs/reference/frame.html). (follow the link for DataFrame documentation)\n",
    "\n",
    "There are multiple ways to create an initial DataFrame. For example, you can create date from a Python dictionary, as follows:"
   ]
  },
  {
   "cell_type": "code",
   "execution_count": 3,
   "id": "f01ea8e2",
   "metadata": {},
   "outputs": [
    {
     "name": "stdout",
     "output_type": "stream",
     "text": [
      "  country  population\n",
      "0      PT    10276617\n",
      "1      ES    46937060\n",
      "2      DE    83019213\n"
     ]
    }
   ],
   "source": [
    "population = pd.DataFrame( { \"country\": [\"PT\", \"ES\", \"DE\"] , \\\n",
    "                            \"population\": [10276617, 46937060, 83019213]})\n",
    "\n",
    "print( population)\n"
   ]
  },
  {
   "cell_type": "markdown",
   "id": "e5703d67",
   "metadata": {},
   "source": [
    "Pandas will maintain an additional column, the index, with a increasing integer. This column - the first column when printing the dataframe - is created automatically."
   ]
  },
  {
   "cell_type": "markdown",
   "id": "2a985f4a",
   "metadata": {},
   "source": [
    "#### Loading DataFrame from CSV files\n",
    "\n",
    "More often, will want to load the data from files. To create a DataFrame from a CSV file, you can use the ```load_csv``` function.\n",
    "\n",
    "Note: If the following code fails, the most likely reason is that you do not have the *data* directory with the data files."
   ]
  },
  {
   "cell_type": "code",
   "execution_count": 4,
   "id": "3da4bdbc",
   "metadata": {},
   "outputs": [
    {
     "name": "stdout",
     "output_type": "stream",
     "text": [
      "        Name  Age  Educational level Company\n",
      "0     Andrew   55                1.0    Good\n",
      "1   Bernhard   43                2.0    Good\n",
      "2   Carolina   37                5.0     Bad\n",
      "3     Dennis   82                3.0    Good\n",
      "4        Eve   23                3.2     Bad\n",
      "5       Fred   46                5.0    Good\n",
      "6    Gwyneth   38                4.2     Bad\n",
      "7     Hayden   50                4.0     Bad\n",
      "8      Irene   29                4.5     Bad\n",
      "9      James   42                4.1    Good\n",
      "10     Kevin   35                4.5     Bad\n",
      "11       Lea   38                2.5    Good\n",
      "12    Marcus   31                4.8     Bad\n",
      "13     Nigel   71                2.3    Good\n"
     ]
    }
   ],
   "source": [
    "import os\n",
    "\n",
    "# Let's create a PATH in a OS independent way\n",
    "# File lec1-example.csv is in directory data\n",
    "fileName = os.path.join( \"data\", \"lec1-example.csv\")\n",
    "\n",
    "# Read a CSV file into a DataFrame\n",
    "df = pd.read_csv(fileName)\n",
    "\n",
    "print( df)\n"
   ]
  },
  {
   "cell_type": "markdown",
   "id": "27d453bc",
   "metadata": {},
   "source": [
    "#### Saving DataFrame into CSV files\n",
    "\n",
    "You can save a DataFrame into a CSV file using ```to_csv``` function."
   ]
  },
  {
   "cell_type": "code",
   "execution_count": 5,
   "id": "3249bd35",
   "metadata": {},
   "outputs": [],
   "source": [
    "import os\n",
    "\n",
    "# Let's create a PATH in a OS independent way\n",
    "# File lec1-saved.csv will be in directory data\n",
    "fileName = os.path.join( \"data\", \"lec1-saved.csv\")\n",
    "\n",
    "# Save DataFrameRead a CSV file into a DataFrame\n",
    "df.to_csv( fileName)\n"
   ]
  },
  {
   "cell_type": "markdown",
   "id": "61cd810e",
   "metadata": {},
   "source": [
    "Please check the file created. Is it the same as the original lec1-saved.csv?\n",
    "\n",
    "No, it has an additional column with the row number. You can also save the DataFrame without this number by using the ```index=False``` option."
   ]
  },
  {
   "cell_type": "code",
   "execution_count": 6,
   "id": "772fb54e",
   "metadata": {},
   "outputs": [],
   "source": [
    "import os\n",
    "\n",
    "# Let's create a PATH in a OS independent way\n",
    "# File lec1-saved-noindex.csv will be in directory data\n",
    "fileName = os.path.join( \"data\", \"lec1-saved-noindex.csv\")\n",
    "\n",
    "# Save DataFrameRead a CSV file into a DataFrame\n",
    "df.to_csv( fileName, index=False)\n"
   ]
  },
  {
   "cell_type": "markdown",
   "id": "eece8b1d",
   "metadata": {},
   "source": [
    "### Data processing with Pandas\n",
    "\n",
    "We now show the transformations necessary to perform the exercises proposed above.\n"
   ]
  },
  {
   "cell_type": "markdown",
   "id": "4ae30ef2",
   "metadata": {},
   "source": [
    "#### Selecting rows based on conditions\n",
    "\n",
    "It is possible to select the rows for which a column has a given value as follows:"
   ]
  },
  {
   "cell_type": "code",
   "execution_count": 7,
   "id": "5e21d039",
   "metadata": {},
   "outputs": [
    {
     "name": "stdout",
     "output_type": "stream",
     "text": [
      "        Name  Age  Educational level Company\n",
      "0     Andrew   55                1.0    Good\n",
      "1   Bernhard   43                2.0    Good\n",
      "3     Dennis   82                3.0    Good\n",
      "5       Fred   46                5.0    Good\n",
      "9      James   42                4.1    Good\n",
      "11       Lea   38                2.5    Good\n",
      "13     Nigel   71                2.3    Good\n"
     ]
    }
   ],
   "source": [
    "# Select the persons that are good company.\n",
    "good = df[df[\"Company\"]==\"Good\"]\n",
    "\n",
    "print(good)"
   ]
  },
  {
   "cell_type": "code",
   "execution_count": 8,
   "id": "a778b139",
   "metadata": {},
   "outputs": [
    {
     "name": "stdout",
     "output_type": "stream",
     "text": [
      "     Name  Age  Educational level Company\n",
      "3  Dennis   82                3.0    Good\n",
      "5    Fred   46                5.0    Good\n",
      "9   James   42                4.1    Good\n"
     ]
    }
   ],
   "source": [
    "# Select the persons that are good company and have educational level larger than 3.\n",
    "goodEd3plus = df[(df[\"Company\"]==\"Good\") & (df[\"Educational level\"]>=3.0)]\n",
    "\n",
    "print(goodEd3plus)"
   ]
  },
  {
   "cell_type": "markdown",
   "id": "ab0e8d1f",
   "metadata": {},
   "source": [
    "#### Selecting a subset of the columns\n",
    "\n",
    "Often, we do not need all data that is in a table. We can get rid of the data we do not need by selecting the columns we want using the following syntax ```dataframe[[col1,col2,...]]```. \n",
    "\n",
    "In the following example we create a new DataFrame containing only the Name and Age columns."
   ]
  },
  {
   "cell_type": "code",
   "execution_count": 9,
   "id": "6127b277",
   "metadata": {},
   "outputs": [
    {
     "name": "stdout",
     "output_type": "stream",
     "text": [
      "        Name  Age\n",
      "0     Andrew   55\n",
      "1   Bernhard   43\n",
      "2   Carolina   37\n",
      "3     Dennis   82\n",
      "4        Eve   23\n",
      "5       Fred   46\n",
      "6    Gwyneth   38\n",
      "7     Hayden   50\n",
      "8      Irene   29\n",
      "9      James   42\n",
      "10     Kevin   35\n",
      "11       Lea   38\n",
      "12    Marcus   31\n",
      "13     Nigel   71\n"
     ]
    }
   ],
   "source": [
    "# Select the persons that are good company.\n",
    "person_age = df[[\"Name\",\"Age\"]]\n",
    "\n",
    "print(person_age)"
   ]
  },
  {
   "cell_type": "markdown",
   "id": "90b3d2fc",
   "metadata": {},
   "source": [
    "#### Applying reduce/aggregation functions\n",
    "\n",
    "Pandas allow to compute the reduction/aggregation for the values of one or multiple columns.\n",
    "\n",
    "You must select the columns for which you want to perform the computation, and then call the reduce/aggregation function.\n",
    "\n",
    "The following example computes first, the minimum age (```min```function), and then the minimum of both *Age* and *Educational level* at the same time. Pandas has multiple useful aggregation functions, including, maximum (```max```), minimum (```min```), mean (```mean```), median (```median```), standard deviation (```std```), etc. - check the [**DataFrame** documentation](https://pandas.pydata.org/docs/reference/frame.html) for the list of available functions."
   ]
  },
  {
   "cell_type": "code",
   "execution_count": 10,
   "id": "865e51fc",
   "metadata": {},
   "outputs": [
    {
     "name": "stdout",
     "output_type": "stream",
     "text": [
      "Minimum age is \n",
      "38\n",
      "Minimum information for several columns now\n",
      "Name                 Andrew\n",
      "Age                      38\n",
      "Educational level       1.0\n",
      "dtype: object\n"
     ]
    }
   ],
   "source": [
    "minAge = good[\"Age\"].min()\n",
    "print( \"Minimum age is \")\n",
    "print( minAge)\n",
    "\n",
    "mins = good[[\"Name\", \"Age\",\"Educational level\"]].min()\n",
    "print( \"Minimum information for several columns now\")\n",
    "print( mins)\n"
   ]
  },
  {
   "cell_type": "markdown",
   "id": "38411953-b5b5-4a12-b869-8ccec2c409fd",
   "metadata": {},
   "source": [
    "It is also possible to apply different aggregation function to different columns using the [```dataframe.agg()``` function.](https://pandas.pydata.org/docs/reference/api/pandas.DataFrame.agg.html)\n"
   ]
  },
  {
   "cell_type": "code",
   "execution_count": 11,
   "id": "13ca394d-3bac-43ff-85a8-0c6eb3b0e8e1",
   "metadata": {},
   "outputs": [
    {
     "name": "stdout",
     "output_type": "stream",
     "text": [
      "Minimum and max in the same operation\n",
      "Age                  38.0\n",
      "Educational level     5.0\n",
      "dtype: float64\n"
     ]
    }
   ],
   "source": [
    "stats = good.agg({'Age' : 'min', 'Educational level' : 'max'})\n",
    "print( \"Minimum and max in the same operation\")\n",
    "print( stats)"
   ]
  },
  {
   "cell_type": "markdown",
   "id": "696f1e58",
   "metadata": {},
   "source": [
    "Wait, this was not what we wanted in the first place - we want the information about the youngest person that is a good company.\n",
    "\n",
    "Function ```nsmallest(num elems, columns)``` allow to compute that."
   ]
  },
  {
   "cell_type": "code",
   "execution_count": 12,
   "id": "857c0251",
   "metadata": {},
   "outputs": [
    {
     "name": "stdout",
     "output_type": "stream",
     "text": [
      "        Name  Age  Educational level Company\n",
      "11       Lea   38                2.5    Good\n",
      "9      James   42                4.1    Good\n",
      "1   Bernhard   43                2.0    Good\n"
     ]
    }
   ],
   "source": [
    "youngestGood = good.nsmallest(3,[\"Age\"])\n",
    "#print( good.nsmallest(1,[\"Age\"]))\n",
    "print(youngestGood)\n"
   ]
  },
  {
   "cell_type": "markdown",
   "id": "117a2619-714d-41c8-87d3-35a1d25b53c9",
   "metadata": {},
   "source": [
    "#### Series\n",
    "\n",
    "In Pandas, a Series is a sequence of values of any type, with an associated index - each value has an associated index. \n",
    "\n",
    "A Series can be created from a Dataframe by using the syntax ```dataframe[col]```.\n"
   ]
  },
  {
   "cell_type": "code",
   "execution_count": 13,
   "id": "6f5c8b1d-4e60-4936-99ce-3c80f583e4eb",
   "metadata": {},
   "outputs": [
    {
     "data": {
      "text/plain": [
       "0       Andrew\n",
       "1     Bernhard\n",
       "3       Dennis\n",
       "5         Fred\n",
       "9        James\n",
       "11         Lea\n",
       "13       Nigel\n",
       "Name: Name, dtype: object"
      ]
     },
     "execution_count": 13,
     "metadata": {},
     "output_type": "execute_result"
    }
   ],
   "source": [
    "#Creates a series with the values of column Name\n",
    "good[\"Name\"]"
   ]
  },
  {
   "cell_type": "markdown",
   "id": "8946ccad-b7ac-4b14-a44c-32bc67d648cb",
   "metadata": {},
   "source": [
    "Some Dataframe functions also generate series as a result. For example, the result of an aggregation over multiple columns in a Series.\n"
   ]
  },
  {
   "cell_type": "code",
   "execution_count": 14,
   "id": "20056a9b-92c3-4fde-86f9-2440f330a203",
   "metadata": {},
   "outputs": [
    {
     "data": {
      "text/plain": [
       "pandas.core.series.Series"
      ]
     },
     "execution_count": 14,
     "metadata": {},
     "output_type": "execute_result"
    }
   ],
   "source": [
    "type(good[[\"Age\",\"Educational level\"]].min())"
   ]
  },
  {
   "cell_type": "markdown",
   "id": "59240648-1a0d-46c7-980a-ad4cca2e5b24",
   "metadata": {},
   "source": [
    "A Series can be converted into a Dataframe using the ```to_frame``` function"
   ]
  },
  {
   "cell_type": "code",
   "execution_count": 15,
   "id": "a393ef22-12b4-4ad7-a632-39c3f34b1fb6",
   "metadata": {},
   "outputs": [
    {
     "data": {
      "text/html": [
       "<div>\n",
       "<style scoped>\n",
       "    .dataframe tbody tr th:only-of-type {\n",
       "        vertical-align: middle;\n",
       "    }\n",
       "\n",
       "    .dataframe tbody tr th {\n",
       "        vertical-align: top;\n",
       "    }\n",
       "\n",
       "    .dataframe thead th {\n",
       "        text-align: right;\n",
       "    }\n",
       "</style>\n",
       "<table border=\"1\" class=\"dataframe\">\n",
       "  <thead>\n",
       "    <tr style=\"text-align: right;\">\n",
       "      <th></th>\n",
       "      <th>Name</th>\n",
       "    </tr>\n",
       "  </thead>\n",
       "  <tbody>\n",
       "    <tr>\n",
       "      <th>0</th>\n",
       "      <td>Andrew</td>\n",
       "    </tr>\n",
       "    <tr>\n",
       "      <th>1</th>\n",
       "      <td>Bernhard</td>\n",
       "    </tr>\n",
       "    <tr>\n",
       "      <th>3</th>\n",
       "      <td>Dennis</td>\n",
       "    </tr>\n",
       "    <tr>\n",
       "      <th>5</th>\n",
       "      <td>Fred</td>\n",
       "    </tr>\n",
       "    <tr>\n",
       "      <th>9</th>\n",
       "      <td>James</td>\n",
       "    </tr>\n",
       "    <tr>\n",
       "      <th>11</th>\n",
       "      <td>Lea</td>\n",
       "    </tr>\n",
       "    <tr>\n",
       "      <th>13</th>\n",
       "      <td>Nigel</td>\n",
       "    </tr>\n",
       "  </tbody>\n",
       "</table>\n",
       "</div>"
      ],
      "text/plain": [
       "        Name\n",
       "0     Andrew\n",
       "1   Bernhard\n",
       "3     Dennis\n",
       "5       Fred\n",
       "9      James\n",
       "11       Lea\n",
       "13     Nigel"
      ]
     },
     "execution_count": 15,
     "metadata": {},
     "output_type": "execute_result"
    }
   ],
   "source": [
    "good[\"Name\"].to_frame()"
   ]
  },
  {
   "cell_type": "markdown",
   "id": "f1674b54",
   "metadata": {},
   "source": [
    "#### Applying reduce/aggregation functions per group\n",
    "\n",
    "```groupby([cols])``` allows to group elements of a DataFrame before applying an aggregation function to each of the groups. \n",
    "\n",
    "The following example computes the lowest age for each value of Company.\n"
   ]
  },
  {
   "cell_type": "code",
   "execution_count": 29,
   "id": "17ce4e10",
   "metadata": {},
   "outputs": [
    {
     "name": "stdout",
     "output_type": "stream",
     "text": [
      "         Age\n",
      "Company     \n",
      "Bad       23\n",
      "Good      38\n",
      "The youngest person is Bad\n"
     ]
    }
   ],
   "source": [
    "youngest = df[[\"Age\",\"Company\"]].groupby([\"Company\"]).min()\n",
    "print( youngest)\n",
    "\n",
    "youngestAny = youngest.idxmin()\n",
    "print( \"The youngest person is \" + youngestAny[\"Age\"])"
   ]
  },
  {
   "cell_type": "markdown",
   "id": "875770fa",
   "metadata": {},
   "source": [
    "### Code for exercises above"
   ]
  },
  {
   "cell_type": "code",
   "execution_count": 17,
   "id": "ddc16477",
   "metadata": {},
   "outputs": [
    {
     "name": "stdout",
     "output_type": "stream",
     "text": [
      "               Age\n",
      "Company           \n",
      "Bad      34.714286\n",
      "Good     53.857143\n"
     ]
    }
   ],
   "source": [
    "# Compute the average age of good and bad companies ?\n",
    "\n",
    "# TODO: complete the code\n",
    "\n",
    "print(df[[\"Company\", \"Age\"]].groupby(\"Company\").mean())\n",
    "#Alternative: \n",
    "# df[[\"Company\", \"Age\"]].\\\n",
    "    #groupby(\"Company\").\\\n",
    "    #mean()\n"
   ]
  },
  {
   "cell_type": "code",
   "execution_count": 33,
   "id": "06b286d8",
   "metadata": {},
   "outputs": [
    {
     "name": "stdout",
     "output_type": "stream",
     "text": [
      "         Educational level\n",
      "Company                   \n",
      "Bad               4.314286\n",
      "Good              2.842857\n",
      "Educational level    2.842857\n",
      "dtype: float64\n"
     ]
    }
   ],
   "source": [
    "# Know which group has lower average Education level: good or bad companies ?\n",
    "\n",
    "# TODO: complete the code\n",
    "print(df[[\"Educational level\", \"Company\"]].groupby(\"Company\").mean())\n",
    "print(df[[\"Educational level\", \"Company\"]].groupby(\"Company\").mean().min())"
   ]
  },
  {
   "cell_type": "markdown",
   "id": "00790476",
   "metadata": {},
   "source": [
    "## Functions over multiple Dataframe\n",
    "\n",
    "Often, data will be in multiple tables/Dataframes. To process data, it is necessary to execute operations over these tables. \n",
    "\n",
    "We now introduce some of the operations available on Pandas for combining multiple tables.\n"
   ]
  },
  {
   "cell_type": "markdown",
   "id": "dc783041",
   "metadata": {},
   "source": [
    "### Appending tables\n",
    "\n",
    "Sometimes, we have data over which we want to perform a computation that is in two different Dataframes - e.g. because we read data from different files.\n",
    "\n",
    "Consider we have the following tables:\n",
    "\n",
    "| country | population |\n",
    "|---------|------------|\n",
    "| PT | 10276617 |\n",
    "| ES | 46937060 |\n",
    "| DE | 83019213 |\n",
    "\n",
    "and \n",
    "\n",
    "| capital | population | country |\n",
    "|---------|------------|---------|\n",
    "| Brasilia | 211049519 | BR |\n",
    "| Mexico City | 127575529 | MX |\n",
    "| Montevideu | 3461731 | UY |\n",
    "\n",
    "```pd.concat([dataframe,dataframe2])``` creates a new table that combines the values in the first dataframe followed by the values in dataframe2, using the columns name. If some column does not exist in one table, the value of the rows will be **NaN**.\n",
    "\n",
    "| country | population | capital |\n",
    "|---------|------------|---------|\n",
    "| PT | 10276617 | NaN |\n",
    "| ES | 46937060 | NaN |\n",
    "| DE | 83019213 | NaN |\n",
    "| BR | 211049519 | Brasilia |\n",
    "| MX | 127575529 | Mexico City |\n",
    "| UY | 3461731 | Montevideu |\n",
    "\n",
    "| country | population | language |\n",
    "|---------|------------|---------|\n",
    "| PT | 10276617 | Portuguese |\n",
    "| ES | 46937060 | Spanish |\n",
    "| ES | 46937060 | Catalan |\n",
    "| DE | 83019213 | German |\n",
    "| BR | 211049519 | Portuguese |\n",
    "| MX | 127575529 | Spanish |\n",
    "| UY | 3461731 | NaN |\n",
    "| AR | NaN | Spanish |\n",
    "| IT | NaN | Italian |\n",
    "\n",
    "The following code show the example running.\n"
   ]
  },
  {
   "cell_type": "code",
   "execution_count": 19,
   "id": "19a02400",
   "metadata": {},
   "outputs": [
    {
     "name": "stdout",
     "output_type": "stream",
     "text": [
      "  country  population\n",
      "0      PT    10276617\n",
      "1      ES    46937060\n",
      "2      DE    83019213\n"
     ]
    }
   ],
   "source": [
    "population1 = pd.DataFrame( { \"country\": [\"PT\", \"ES\", \"DE\"] , \\\n",
    "                            \"population\": [10276617, 46937060, 83019213]})\n",
    "\n",
    "print( population1)\n",
    "\n"
   ]
  },
  {
   "cell_type": "code",
   "execution_count": 20,
   "id": "c8d61f46",
   "metadata": {},
   "outputs": [
    {
     "name": "stdout",
     "output_type": "stream",
     "text": [
      "       capital  population country\n",
      "0     Brasilia   211049519      BR\n",
      "1  Mexico City   127575529      MX\n",
      "2   Montevideu     3461731      UY\n"
     ]
    }
   ],
   "source": [
    "population2 = pd.DataFrame( {\"capital\" : [\"Brasilia\", \"Mexico City\", \"Montevideu\"],\\\n",
    "                            \"population\": [211049519, 127575529, 3461731], \\\n",
    "                            \"country\": [\"BR\", \"MX\", \"UY\"]})\n",
    "\n",
    "print( population2)\n",
    "\n"
   ]
  },
  {
   "cell_type": "code",
   "execution_count": 21,
   "id": "126dea23",
   "metadata": {},
   "outputs": [
    {
     "name": "stdout",
     "output_type": "stream",
     "text": [
      "  country  population      capital\n",
      "0      PT    10276617          NaN\n",
      "1      ES    46937060          NaN\n",
      "2      DE    83019213          NaN\n",
      "0      BR   211049519     Brasilia\n",
      "1      MX   127575529  Mexico City\n",
      "2      UY     3461731   Montevideu\n"
     ]
    }
   ],
   "source": [
    "population = pd.concat([population1,population2]) \n",
    "print( population)"
   ]
  },
  {
   "cell_type": "markdown",
   "id": "481c2940",
   "metadata": {},
   "source": [
    "### Joining tables\n",
    "\n",
    "More interestingly, we might want to combine the columns from one or more tables into a new table.\n",
    "\n",
    "Consider thehat we have the following two tables. The first table has a list of countries and their population.\n",
    "\n",
    "| country | population |\n",
    "|---------|------------|\n",
    "| PT | 10276617 |\n",
    "| ES | 46937060 |\n",
    "| DE | 83019213 |\n",
    "\n",
    "The second table has the language spoken in each country.\n",
    "\n",
    "| country | language |\n",
    "|---------|----------|\n",
    "| PT | Portuguese |\n",
    "| ES | Spanish |\n",
    "| MX | Spanish |\n",
    "| AR | Spanish |\n",
    "| DE | German |\n",
    "| IT | Italian |\n",
    "| BR | Portuguese |\n",
    "\n",
    "\n",
    "| country | language |\n",
    "|---------|----------|\n",
    "| DE | German |\n",
    "| PT | Portuguese |\n",
    "| ES | Spanish |\n",
    "\n",
    "\n",
    "\n",
    "If we want to compute the number of persons that speak each language, it would be interesting to have a single table with the country, population and language columns. To this end, we need to combine both of the previous tables (this can also be seen as extending the first table with the values of the second table).\n",
    "\n",
    "What we want to achieve is the following table, with columns country, population and language: \n",
    "\n",
    "| country | population | language |\n",
    "|---------|------------|----------|\n",
    "| PT | 10276617 | Portuguese |\n",
    "| ES | 46937060 | Spanish |\n",
    "| DE | 83019213 | German |\n",
    "\n",
    "\n",
    "The ```dataframe.join(dataframe2,on=column,how=\"left\"|\"right\"|\"inner\")``` function allows to combine two tables. By default, the two table are combined using the index, i.e., a row with index **i** in daataframe is combined with the row with index **i** in dataframe2. \n",
    "\n",
    "The ```dataframe.merge(dataframe2,left_on=column,right_on=column,how=\"left\"|\"right\"|\"inner\")``` function does the same as join, but allows to specify the columns to be used to combine in both dataframes. \n",
    "\n",
    "In our example, we want to combine the row with country value **N** of the first table with the row with country value **N** in the second table. To this end, we can use the ```on=\"country\"```to specify that we want to use the value of the column *country* in the first table. For dataframe2, the index will be used -- this require us to chaneg the index of dataframe2, using the ```dataframe2.set_index( col)``` function.\n",
    "\n",
    "This example is coded in the following cells."
   ]
  },
  {
   "cell_type": "markdown",
   "id": "215138eb",
   "metadata": {},
   "source": [
    "### Joining tables\n",
    "\n",
    "More interestingly, we might want to combine the columns from one or more tables into a new table.\n",
    "\n",
    "Consider thehat we have the following two tables. The first table has a list of countries and their population.\n",
    "\n",
    "| country | population |\n",
    "|---------|------------|\n",
    "| PT | 10276617 |\n",
    "| ES | 46937060 |\n",
    "| DE | 83019213 |\n",
    "\n",
    "The second table has the language spoken in each country.\n",
    "\n",
    "| country | language |\n",
    "|---------|----------|\n",
    "| PT | Portuguese |\n",
    "| ES | Spanish |\n",
    "| MX | Spanish |\n",
    "| AR | Spanish |\n",
    "| DE | German |\n",
    "| IT | Italian |\n",
    "| BR | Portuguese |\n",
    "\n",
    "If we want to compute the number of persons that speak each language, it would be interesting to have a single table with the country, population and language columns. To this end, we need to combine both of the previous tables (this can also be seen as extending the first table with the values of the second table).\n",
    "\n",
    "What we want to achieve is the following table, with columns country, population and language: \n",
    "\n",
    "| country | population | language |\n",
    "|---------|------------|----------|\n",
    "| PT | 10276617 | Portuguese |\n",
    "| ES | 46937060 | Spanish |\n",
    "| DE | 83019213 | German |\n",
    "\n",
    "\n",
    "The ```dataframe.join(dataframe2,on=column,how=\"left\"|\"right\"|\"inner\")``` function allows to combine two tables. By default, the two table are combined using the index, i.e., a row with index **i** in daataframe is combined with the row with index **i** in dataframe2. \n",
    "\n",
    "In our example, we want to combine the row with country value **N** of the first table with the row with country value **N** in the second table. To this end, we can use the ```on=\"country\"```to specify that we want to use the value of the column *country* in the first table. For dataframe2, the index will be used -- this require us to chaneg the index of dataframe2, using the ```dataframe2.set_index( col)``` function.\n",
    "\n",
    "This example is coded in the following cells."
   ]
  },
  {
   "cell_type": "code",
   "execution_count": 22,
   "id": "985f60cf",
   "metadata": {},
   "outputs": [
    {
     "name": "stdout",
     "output_type": "stream",
     "text": [
      "  country0    language\n",
      "0       PT  Portuguese\n",
      "1       ES     Spanish\n",
      "2       MX     Spanish\n",
      "3       AR     Spanish\n",
      "4       DE      German\n",
      "5       BR  Portuguese\n"
     ]
    }
   ],
   "source": [
    "language = pd.DataFrame( { \"country0\": [\"PT\", \"ES\", \"MX\", \"AR\", \"DE\", \"BR\"] , \\\n",
    "                            \"language\": [\"Portuguese\", \"Spanish\", \"Spanish\", \"Spanish\", \"German\", \"Portuguese\"]})\n",
    "\n",
    "print( language)\n",
    "\n"
   ]
  },
  {
   "cell_type": "code",
   "execution_count": 23,
   "id": "fceaf588",
   "metadata": {},
   "outputs": [
    {
     "name": "stdout",
     "output_type": "stream",
     "text": [
      "  country  population    language\n",
      "0      PT    10276617  Portuguese\n",
      "1      ES    46937060     Spanish\n",
      "2      DE    83019213      German\n"
     ]
    }
   ],
   "source": [
    "countries1 = population1.join(language.set_index(\"country0\"),on=\"country\")\n",
    "\n",
    "print(countries1)"
   ]
  },
  {
   "cell_type": "code",
   "execution_count": 24,
   "id": "df7dbc66-7201-47c5-bfb8-521b0ea7b013",
   "metadata": {},
   "outputs": [
    {
     "name": "stdout",
     "output_type": "stream",
     "text": [
      "  country  population country0    language\n",
      "0      PT    10276617       PT  Portuguese\n",
      "1      ES    46937060       ES     Spanish\n",
      "2      DE    83019213       DE      German\n"
     ]
    }
   ],
   "source": [
    "countries1merge = population1.merge(language,left_on=\"country\",right_on=\"country0\")\n",
    "\n",
    "print(countries1merge)"
   ]
  },
  {
   "cell_type": "markdown",
   "id": "a88930e6",
   "metadata": {},
   "source": [
    "Based on the population Dataframe computed before, compute the number of persons that speak each language."
   ]
  },
  {
   "cell_type": "code",
   "execution_count": 36,
   "id": "ceecc1e0",
   "metadata": {},
   "outputs": [
    {
     "name": "stdout",
     "output_type": "stream",
     "text": [
      "     language  population\n",
      "0  Portuguese    10276617\n",
      "1     Spanish    46937060\n",
      "2      German    83019213\n"
     ]
    }
   ],
   "source": [
    "## TODO Complete\n",
    "langStats = countries1[[\"language\", \"population\"]]\n",
    "\n",
    "print(langStats)"
   ]
  },
  {
   "cell_type": "markdown",
   "id": "a9d7d58c",
   "metadata": {},
   "source": [
    "### Join type : left (default)\n",
    "\n",
    "The way join works varies depending on the \n",
    "\n",
    "In a left join, each row of *dataframe* is combined with all possible values of *dataframe2*. If no row in the second dataframe matches the joining column of the first, then the value for the columns will be **NaN**.\n",
    "\n",
    "For better exemplifying, we start by extending our language table to include one other language for Spain : Catalan.\n",
    "\n",
    "| country | language |\n",
    "|---------|----------|\n",
    "| PT | Portuguese |\n",
    "| ES | Spanish |\n",
    "| ES | Catalan |\n",
    "| MX | Spanish |\n",
    "| AR | Spanish |\n",
    "| DE | German |\n",
    "| IT | Italian |\n",
    "| BR | Portuguese |\n"
   ]
  },
  {
   "cell_type": "code",
   "execution_count": 37,
   "id": "e1242faa",
   "metadata": {},
   "outputs": [
    {
     "name": "stdout",
     "output_type": "stream",
     "text": [
      "  country    language\n",
      "0      PT  Portuguese\n",
      "1      ES     Spanish\n",
      "2      ES     Catalan\n",
      "3      MX     Spanish\n",
      "4      AR     Spanish\n",
      "5      DE      German\n",
      "6      IT     Italian\n",
      "7      BR  Portuguese\n"
     ]
    }
   ],
   "source": [
    "languageExt = pd.DataFrame( { \"country\": [\"PT\", \"ES\", \"ES\", \"MX\", \"AR\", \"DE\", \"IT\", \"BR\"] , \\\n",
    "                            \"language\": [\"Portuguese\", \"Spanish\", \"Catalan\", \"Spanish\", \"Spanish\", \"German\", \"Italian\", \"Portuguese\"]})\n",
    "\n",
    "print( languageExt)\n"
   ]
  },
  {
   "cell_type": "code",
   "execution_count": 38,
   "id": "29a60261",
   "metadata": {},
   "outputs": [
    {
     "name": "stdout",
     "output_type": "stream",
     "text": [
      "  country  population    language\n",
      "0      PT    10276617  Portuguese\n",
      "1      ES    46937060     Spanish\n",
      "1      ES    46937060     Catalan\n",
      "2      DE    83019213      German\n",
      "0      BR   211049519  Portuguese\n",
      "1      MX   127575529     Spanish\n",
      "2      UY     3461731         NaN\n"
     ]
    }
   ],
   "source": [
    "countries = population[[\"country\",\"population\"]].join(languageExt.set_index(\"country\"),on=\"country\")\n",
    "\n",
    "print(countries)"
   ]
  },
  {
   "cell_type": "code",
   "execution_count": 39,
   "id": "c49afed3-36b9-42cd-ae73-4a252ddf13cc",
   "metadata": {},
   "outputs": [
    {
     "name": "stdout",
     "output_type": "stream",
     "text": [
      "  country  population    language\n",
      "0      PT    10276617  Portuguese\n",
      "1      ES    46937060     Spanish\n",
      "2      ES    46937060     Catalan\n",
      "3      DE    83019213      German\n",
      "4      BR   211049519  Portuguese\n",
      "5      MX   127575529     Spanish\n"
     ]
    }
   ],
   "source": [
    "# merge with just \"on\" will use the column with the specified name in both Dataframes \n",
    "countries = population[[\"country\",\"population\"]].merge(languageExt,on=\"country\")\n",
    "\n",
    "print(countries)"
   ]
  },
  {
   "cell_type": "markdown",
   "id": "5552476a",
   "metadata": {},
   "source": [
    "The line for Uruguay (UY) has **NaN** in the language column.\n"
   ]
  },
  {
   "cell_type": "markdown",
   "id": "2b35d405",
   "metadata": {},
   "source": [
    "### Join type : right\n",
    "\n",
    "In a right join, each row of *dataframe2* is combined with all possible values in the first *dataframe*. If no row in the first dataframe matches the joining column of the second, then the value for the columns will be **NaN**.\n",
    "\n"
   ]
  },
  {
   "cell_type": "code",
   "execution_count": 40,
   "id": "6b5ad906",
   "metadata": {},
   "outputs": [
    {
     "name": "stdout",
     "output_type": "stream",
     "text": [
      "    country   population      capital    language\n",
      "0.0      PT   10276617.0          NaN  Portuguese\n",
      "1.0      ES   46937060.0          NaN     Spanish\n",
      "1.0      ES   46937060.0          NaN     Catalan\n",
      "1.0      MX  127575529.0  Mexico City     Spanish\n",
      "NaN      AR          NaN          NaN     Spanish\n",
      "2.0      DE   83019213.0          NaN      German\n",
      "NaN      IT          NaN          NaN     Italian\n",
      "0.0      BR  211049519.0     Brasilia  Portuguese\n"
     ]
    }
   ],
   "source": [
    "countries = population.join(languageExt.set_index(\"country\"),on=\"country\",how=\"right\")\n",
    "\n",
    "print(countries)\n"
   ]
  },
  {
   "cell_type": "code",
   "execution_count": 41,
   "id": "57a7c203-630a-4e1a-ae04-382da4b842f8",
   "metadata": {},
   "outputs": [
    {
     "name": "stdout",
     "output_type": "stream",
     "text": [
      "  country  population      capital    language\n",
      "0      PT    10276617          NaN  Portuguese\n",
      "1      ES    46937060          NaN     Spanish\n",
      "2      ES    46937060          NaN     Catalan\n",
      "3      DE    83019213          NaN      German\n",
      "4      BR   211049519     Brasilia  Portuguese\n",
      "5      MX   127575529  Mexico City     Spanish\n"
     ]
    }
   ],
   "source": [
    "countriesMerge = population.merge(languageExt,on=\"country\")\n",
    "\n",
    "print(countriesMerge)\n"
   ]
  },
  {
   "cell_type": "markdown",
   "id": "59400c03",
   "metadata": {},
   "source": [
    "### Join type : inner\n",
    "\n",
    "In an inner join, each row of *dataframe* is combined with all possible values in the second *dataframe*. If no row in the second dataframe matches the joining column of the first, then the row will not be part of the result.\n",
    "\n"
   ]
  },
  {
   "cell_type": "code",
   "execution_count": 42,
   "id": "8357bfd9",
   "metadata": {},
   "outputs": [
    {
     "name": "stdout",
     "output_type": "stream",
     "text": [
      "  country  population      capital    language\n",
      "0      PT    10276617          NaN  Portuguese\n",
      "1      ES    46937060          NaN     Spanish\n",
      "1      ES    46937060          NaN     Catalan\n",
      "2      DE    83019213          NaN      German\n",
      "0      BR   211049519     Brasilia  Portuguese\n",
      "1      MX   127575529  Mexico City     Spanish\n"
     ]
    }
   ],
   "source": [
    "countries = population.join(languageExt.set_index(\"country\"),on=\"country\",how=\"inner\")\n",
    "\n",
    "print(countries)\n"
   ]
  },
  {
   "cell_type": "code",
   "execution_count": 43,
   "id": "c77bcb18-17ec-4450-bb78-3ff0c1bae1b3",
   "metadata": {},
   "outputs": [
    {
     "name": "stdout",
     "output_type": "stream",
     "text": [
      "  country  population      capital    language\n",
      "0      PT    10276617          NaN  Portuguese\n",
      "1      ES    46937060          NaN     Spanish\n",
      "2      ES    46937060          NaN     Catalan\n",
      "3      DE    83019213          NaN      German\n",
      "4      BR   211049519     Brasilia  Portuguese\n",
      "5      MX   127575529  Mexico City     Spanish\n"
     ]
    }
   ],
   "source": [
    "countries = population.merge(languageExt,on=\"country\",how=\"inner\")\n",
    "\n",
    "print(countries)\n"
   ]
  },
  {
   "cell_type": "markdown",
   "id": "3126348d",
   "metadata": {},
   "source": [
    "### Join type : outer\n",
    "\n",
    "In an outnner join, each row of *dataframe* is combined with all possible values in the second *dataframe*. If no row exists in any of the dataframes, both row will appear in the final result.\n",
    "\n"
   ]
  },
  {
   "cell_type": "code",
   "execution_count": 44,
   "id": "109c1387",
   "metadata": {},
   "outputs": [
    {
     "name": "stdout",
     "output_type": "stream",
     "text": [
      "    country   population      capital    language\n",
      "0.0      PT   10276617.0          NaN  Portuguese\n",
      "1.0      ES   46937060.0          NaN     Spanish\n",
      "1.0      ES   46937060.0          NaN     Catalan\n",
      "2.0      DE   83019213.0          NaN      German\n",
      "0.0      BR  211049519.0     Brasilia  Portuguese\n",
      "1.0      MX  127575529.0  Mexico City     Spanish\n",
      "2.0      UY    3461731.0   Montevideu         NaN\n",
      "NaN      AR          NaN          NaN     Spanish\n",
      "NaN      IT          NaN          NaN     Italian\n"
     ]
    }
   ],
   "source": [
    "countries = population.join(languageExt.set_index(\"country\"),on=\"country\",how=\"outer\")\n",
    "\n",
    "print(countries)"
   ]
  },
  {
   "cell_type": "code",
   "execution_count": 45,
   "id": "1666eb6f-4467-4703-8582-e32158b6a790",
   "metadata": {},
   "outputs": [
    {
     "name": "stdout",
     "output_type": "stream",
     "text": [
      "  country   population      capital    language\n",
      "0      PT   10276617.0          NaN  Portuguese\n",
      "1      ES   46937060.0          NaN     Spanish\n",
      "2      ES   46937060.0          NaN     Catalan\n",
      "3      DE   83019213.0          NaN      German\n",
      "4      BR  211049519.0     Brasilia  Portuguese\n",
      "5      MX  127575529.0  Mexico City     Spanish\n",
      "6      UY    3461731.0   Montevideu         NaN\n",
      "7      AR          NaN          NaN     Spanish\n",
      "8      IT          NaN          NaN     Italian\n"
     ]
    }
   ],
   "source": [
    "countries = population.merge(languageExt,on=\"country\",how=\"outer\")\n",
    "\n",
    "print(countries)"
   ]
  },
  {
   "cell_type": "markdown",
   "id": "d9a019da",
   "metadata": {},
   "source": [
    "## Exercises\n"
   ]
  },
  {
   "cell_type": "markdown",
   "id": "9b916263",
   "metadata": {},
   "source": [
    "### Exercise 1\n",
    "\n",
    "Based on the given data, compute the population that speaks Spanish."
   ]
  },
  {
   "cell_type": "code",
   "execution_count": 51,
   "id": "6f9ea070",
   "metadata": {},
   "outputs": [
    {
     "name": "stdout",
     "output_type": "stream",
     "text": [
      "174512589\n"
     ]
    }
   ],
   "source": [
    "countries = population[[\"country\",\"population\"]].join(languageExt.set_index(\"country\"),on=\"country\")\n",
    "spanish_speaking = countries[countries[\"language\"] == \"Spanish\"]\n",
    "print(spanish_speaking[\"population\"].sum())"
   ]
  },
  {
   "cell_type": "markdown",
   "id": "71e0bf2b",
   "metadata": {},
   "source": [
    "### Exercise 2\n",
    "\n",
    "For each language for which there is some known population, compute the population that speaks such language."
   ]
  },
  {
   "cell_type": "code",
   "execution_count": 65,
   "id": "03b8b314",
   "metadata": {},
   "outputs": [
    {
     "name": "stdout",
     "output_type": "stream",
     "text": [
      "     language  population\n",
      "0  Portuguese    10276617\n",
      "1     Spanish    46937060\n",
      "2     Catalan    46937060\n",
      "3      German    83019213\n",
      "4  Portuguese   211049519\n",
      "5     Spanish   127575529\n"
     ]
    }
   ],
   "source": [
    "countries = population[[\"country\",\"population\"]].join(languageExt.set_index(\"country\"),on=\"country\")\n",
    "reduced = countries[[\"language\", \"population\"]].dropna().reset_index(drop=True)\n",
    "print(reduced)"
   ]
  }
 ],
 "metadata": {
  "kernelspec": {
   "display_name": "Python 3 (ipykernel)",
   "language": "python",
   "name": "python3"
  },
  "language_info": {
   "codemirror_mode": {
    "name": "ipython",
    "version": 3
   },
   "file_extension": ".py",
   "mimetype": "text/x-python",
   "name": "python",
   "nbconvert_exporter": "python",
   "pygments_lexer": "ipython3",
   "version": "3.11.4"
  }
 },
 "nbformat": 4,
 "nbformat_minor": 5
}
