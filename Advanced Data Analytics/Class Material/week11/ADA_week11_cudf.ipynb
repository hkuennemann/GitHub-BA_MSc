{
 "cells": [
  {
   "cell_type": "markdown",
   "metadata": {
    "application/vnd.databricks.v1+cell": {
     "inputWidgets": {},
     "nuid": "3d64f0fd-710e-48c7-8e5b-e56c877e3f79",
     "showTitle": false,
     "title": ""
    },
    "id": "TN5t6y9LOF4M"
   },
   "source": [
    "# Advanced data analysis 23/24- CuDF GPU-based examples\n",
    "\n",
    "Examples of code using CuDF - a Pandas-like framework that uses GPUs - cuML - a machine-learning library that uses GPUs - and cuGraph - a graph library that uses GPUs.\n",
    "\n",
    "**IMPORTANT:** To use GPUs in Colab, you need to go to the menu ```Edit > Notebook settings``` and select GPU as the hardware accelerator."
   ]
  },
  {
   "cell_type": "code",
   "execution_count": 3,
   "metadata": {
    "id": "FhmGSxS-gw2u"
   },
   "outputs": [],
   "source": [
    "import sys\n",
    "import os\n",
    "\n",
    "IN_COLAB = 'google.colab' in sys.modules"
   ]
  },
  {
   "cell_type": "markdown",
   "metadata": {
    "id": "RwjqyPaJ9_n-"
   },
   "source": [
    "## Setup Data\n",
    "\n",
    "The first time you run the notebook, before running this cell, you should access the following link [https://drive.google.com/drive/folders/1G6YAxMT9dciRZWemnRzsCaEPeVfSBHZo?usp=sharing](https://drive.google.com/drive/folders/1G6YAxMT9dciRZWemnRzsCaEPeVfSBHZo?usp=sharing) and select the \"Add Shortcut to Drive\". This will add a shortcut to the datasets to your Google Drive.\n",
    "\n",
    "The following cell will mount the directory into Colab environment, so that it can be accessed as a local file.\n"
   ]
  },
  {
   "cell_type": "code",
   "execution_count": 2,
   "metadata": {
    "colab": {
     "base_uri": "https://localhost:8080/"
    },
    "id": "V-pmuME98Y_d",
    "outputId": "99f006da-6492-42d4-cb23-c350cff7c6f3"
   },
   "outputs": [
    {
     "name": "stdout",
     "output_type": "stream",
     "text": [
      "Mounted at /content/drive\n"
     ]
    }
   ],
   "source": [
    "from google.colab import drive\n",
    "drive.mount('/content/drive')\n"
   ]
  },
  {
   "cell_type": "code",
   "execution_count": 4,
   "metadata": {
    "id": "4r_gWWm1_Z3G"
   },
   "outputs": [],
   "source": [
    "#Select the dataset you want to use by uncommnting the appropriate line and running this cell\n",
    "\n",
    "#Default dataset 2M lines\n",
    "FILENAME=\"/content/drive/MyDrive/sbd2223ada/sample.csv.gz\"\n"
   ]
  },
  {
   "cell_type": "markdown",
   "metadata": {
    "id": "SUk6MRUgo4Tb"
   },
   "source": [
    "## Install software\n",
    "\n",
    "Start by checking that we have access to the GPU."
   ]
  },
  {
   "cell_type": "code",
   "execution_count": 5,
   "metadata": {
    "colab": {
     "base_uri": "https://localhost:8080/"
    },
    "id": "F3Lgpxgeo1Pq",
    "outputId": "c6e780ca-a362-47cc-f466-6486949da1a7"
   },
   "outputs": [
    {
     "name": "stdout",
     "output_type": "stream",
     "text": [
      "Wed Nov 22 22:47:21 2023       \n",
      "+-----------------------------------------------------------------------------+\n",
      "| NVIDIA-SMI 525.105.17   Driver Version: 525.105.17   CUDA Version: 12.0     |\n",
      "|-------------------------------+----------------------+----------------------+\n",
      "| GPU  Name        Persistence-M| Bus-Id        Disp.A | Volatile Uncorr. ECC |\n",
      "| Fan  Temp  Perf  Pwr:Usage/Cap|         Memory-Usage | GPU-Util  Compute M. |\n",
      "|                               |                      |               MIG M. |\n",
      "|===============================+======================+======================|\n",
      "|   0  Tesla T4            Off  | 00000000:00:04.0 Off |                    0 |\n",
      "| N/A   53C    P8    12W /  70W |      0MiB / 15360MiB |      0%      Default |\n",
      "|                               |                      |                  N/A |\n",
      "+-------------------------------+----------------------+----------------------+\n",
      "                                                                               \n",
      "+-----------------------------------------------------------------------------+\n",
      "| Processes:                                                                  |\n",
      "|  GPU   GI   CI        PID   Type   Process name                  GPU Memory |\n",
      "|        ID   ID                                                   Usage      |\n",
      "|=============================================================================|\n",
      "|  No running processes found                                                 |\n",
      "+-----------------------------------------------------------------------------+\n",
      "nvcc: NVIDIA (R) Cuda compiler driver\n",
      "Copyright (c) 2005-2022 NVIDIA Corporation\n",
      "Built on Wed_Sep_21_10:33:58_PDT_2022\n",
      "Cuda compilation tools, release 11.8, V11.8.89\n",
      "Build cuda_11.8.r11.8/compiler.31833905_0\n"
     ]
    }
   ],
   "source": [
    "!nvidia-smi\n",
    "!nvcc -V"
   ]
  },
  {
   "cell_type": "markdown",
   "metadata": {
    "id": "EY5Agc3klXF2"
   },
   "source": [
    "And now let's install the needed software."
   ]
  },
  {
   "cell_type": "code",
   "execution_count": 6,
   "metadata": {
    "colab": {
     "base_uri": "https://localhost:8080/"
    },
    "id": "rgXTUAjrscqw",
    "outputId": "d4327bf0-3d82-4d22-e381-11872890d7c3"
   },
   "outputs": [
    {
     "name": "stdout",
     "output_type": "stream",
     "text": [
      "Found existing installation: protobuf 3.20.3\n",
      "Uninstalling protobuf-3.20.3:\n",
      "  Successfully uninstalled protobuf-3.20.3\n",
      "Found existing installation: tensorflow 2.14.0\n",
      "Uninstalling tensorflow-2.14.0:\n",
      "  Successfully uninstalled tensorflow-2.14.0\n",
      "Found existing installation: tensorboard 2.14.1\n",
      "Uninstalling tensorboard-2.14.1:\n",
      "  Successfully uninstalled tensorboard-2.14.1\n",
      "Requirement already satisfied: cupy-cuda11x in /usr/local/lib/python3.10/dist-packages (11.0.0)\n",
      "Requirement already satisfied: numpy<1.26,>=1.20 in /usr/local/lib/python3.10/dist-packages (from cupy-cuda11x) (1.23.5)\n",
      "Requirement already satisfied: fastrlock>=0.5 in /usr/local/lib/python3.10/dist-packages (from cupy-cuda11x) (0.8.2)\n",
      "Looking in indexes: https://pypi.org/simple, https://pypi.nvidia.com\n",
      "Collecting cudf-cu11\n",
      "  Downloading https://pypi.nvidia.com/cudf-cu11/cudf_cu11-23.10.2-cp310-cp310-manylinux_2_17_x86_64.manylinux2014_x86_64.whl (502.6 MB)\n",
      "\u001b[2K     \u001b[90m━━━━━━━━━━━━━━━━━━━━━━━━━━━━━━━━━━━━━━━━\u001b[0m \u001b[32m502.6/502.6 MB\u001b[0m \u001b[31m1.4 MB/s\u001b[0m eta \u001b[36m0:00:00\u001b[0m\n",
      "\u001b[?25hCollecting dask-cudf-cu11\n",
      "  Downloading https://pypi.nvidia.com/dask-cudf-cu11/dask_cudf_cu11-23.10.2-py3-none-any.whl (81 kB)\n",
      "\u001b[2K     \u001b[90m━━━━━━━━━━━━━━━━━━━━━━━━━━━━━━━━━━━━━━━━\u001b[0m \u001b[32m82.0/82.0 kB\u001b[0m \u001b[31m12.6 MB/s\u001b[0m eta \u001b[36m0:00:00\u001b[0m\n",
      "\u001b[?25hCollecting cuml-cu11\n",
      "  Downloading https://pypi.nvidia.com/cuml-cu11/cuml_cu11-23.10.0-cp310-cp310-manylinux_2_17_x86_64.manylinux2014_x86_64.whl (1078.5 MB)\n",
      "\u001b[2K     \u001b[90m━━━━━━━━━━━━━━━━━━━━━━━━━━━━━━━━━━━━━━━━\u001b[0m \u001b[32m1.1/1.1 GB\u001b[0m \u001b[31m1.6 MB/s\u001b[0m eta \u001b[36m0:00:00\u001b[0m\n",
      "\u001b[?25hCollecting cugraph-cu11\n",
      "  Downloading https://pypi.nvidia.com/cugraph-cu11/cugraph_cu11-23.10.0-cp310-cp310-manylinux_2_17_x86_64.manylinux2014_x86_64.whl (1231.8 MB)\n",
      "\u001b[2K     \u001b[90m━━━━━━━━━━━━━━━━━━━━━━━━━━━━━━━━━━━━━━━━\u001b[0m \u001b[32m1.2/1.2 GB\u001b[0m \u001b[31m1.0 MB/s\u001b[0m eta \u001b[36m0:00:00\u001b[0m\n",
      "\u001b[?25hRequirement already satisfied: cachetools in /usr/local/lib/python3.10/dist-packages (from cudf-cu11) (5.3.2)\n",
      "Collecting cubinlinker-cu11 (from cudf-cu11)\n",
      "  Downloading https://pypi.nvidia.com/cubinlinker-cu11/cubinlinker_cu11-0.3.0.post1-cp310-cp310-manylinux_2_17_x86_64.manylinux2014_x86_64.whl (8.8 MB)\n",
      "\u001b[2K     \u001b[90m━━━━━━━━━━━━━━━━━━━━━━━━━━━━━━━━━━━━━━━━\u001b[0m \u001b[32m8.8/8.8 MB\u001b[0m \u001b[31m113.4 MB/s\u001b[0m eta \u001b[36m0:00:00\u001b[0m\n",
      "\u001b[?25hCollecting cuda-python<12.0a0,>=11.7.1 (from cudf-cu11)\n",
      "  Downloading cuda_python-11.8.3-cp310-cp310-manylinux_2_17_x86_64.manylinux2014_x86_64.whl (18.7 MB)\n",
      "\u001b[2K     \u001b[90m━━━━━━━━━━━━━━━━━━━━━━━━━━━━━━━━━━━━━━━━\u001b[0m \u001b[32m18.7/18.7 MB\u001b[0m \u001b[31m79.2 MB/s\u001b[0m eta \u001b[36m0:00:00\u001b[0m\n",
      "\u001b[?25hCollecting cupy-cuda11x>=12.0.0 (from cudf-cu11)\n",
      "  Downloading cupy_cuda11x-12.2.0-cp310-cp310-manylinux2014_x86_64.whl (89.6 MB)\n",
      "\u001b[2K     \u001b[90m━━━━━━━━━━━━━━━━━━━━━━━━━━━━━━━━━━━━━━━━\u001b[0m \u001b[32m89.6/89.6 MB\u001b[0m \u001b[31m16.8 MB/s\u001b[0m eta \u001b[36m0:00:00\u001b[0m\n",
      "\u001b[?25hRequirement already satisfied: fsspec>=0.6.0 in /usr/local/lib/python3.10/dist-packages (from cudf-cu11) (2023.6.0)\n",
      "Collecting numba<0.58,>=0.57 (from cudf-cu11)\n",
      "  Downloading numba-0.57.1-cp310-cp310-manylinux2014_x86_64.manylinux_2_17_x86_64.whl (3.6 MB)\n",
      "\u001b[2K     \u001b[90m━━━━━━━━━━━━━━━━━━━━━━━━━━━━━━━━━━━━━━━━\u001b[0m \u001b[32m3.6/3.6 MB\u001b[0m \u001b[31m109.5 MB/s\u001b[0m eta \u001b[36m0:00:00\u001b[0m\n",
      "\u001b[?25hRequirement already satisfied: numpy<1.25,>=1.21 in /usr/local/lib/python3.10/dist-packages (from cudf-cu11) (1.23.5)\n",
      "Collecting nvtx>=0.2.1 (from cudf-cu11)\n",
      "  Downloading nvtx-0.2.8-cp310-cp310-manylinux_2_17_x86_64.manylinux2014_x86_64.whl (582 kB)\n",
      "\u001b[2K     \u001b[90m━━━━━━━━━━━━━━━━━━━━━━━━━━━━━━━━━━━━━━━━\u001b[0m \u001b[32m582.4/582.4 kB\u001b[0m \u001b[31m57.7 MB/s\u001b[0m eta \u001b[36m0:00:00\u001b[0m\n",
      "\u001b[?25hRequirement already satisfied: packaging in /usr/local/lib/python3.10/dist-packages (from cudf-cu11) (23.2)\n",
      "Requirement already satisfied: pandas<1.6.0dev0,>=1.3 in /usr/local/lib/python3.10/dist-packages (from cudf-cu11) (1.5.3)\n",
      "Collecting protobuf<5,>=4.21 (from cudf-cu11)\n",
      "  Downloading protobuf-4.25.1-cp37-abi3-manylinux2014_x86_64.whl (294 kB)\n",
      "\u001b[2K     \u001b[90m━━━━━━━━━━━━━━━━━━━━━━━━━━━━━━━━━━━━━━━━\u001b[0m \u001b[32m294.6/294.6 kB\u001b[0m \u001b[31m27.1 MB/s\u001b[0m eta \u001b[36m0:00:00\u001b[0m\n",
      "\u001b[?25hCollecting ptxcompiler-cu11 (from cudf-cu11)\n",
      "  Downloading https://pypi.nvidia.com/ptxcompiler-cu11/ptxcompiler_cu11-0.7.0.post1-cp310-cp310-manylinux_2_17_x86_64.manylinux2014_x86_64.whl (8.8 MB)\n",
      "\u001b[2K     \u001b[90m━━━━━━━━━━━━━━━━━━━━━━━━━━━━━━━━━━━━━━━━\u001b[0m \u001b[32m8.8/8.8 MB\u001b[0m \u001b[31m83.6 MB/s\u001b[0m eta \u001b[36m0:00:00\u001b[0m\n",
      "\u001b[?25hCollecting pyarrow==12.* (from cudf-cu11)\n",
      "  Downloading pyarrow-12.0.1-cp310-cp310-manylinux_2_17_x86_64.manylinux2014_x86_64.whl (38.9 MB)\n",
      "\u001b[2K     \u001b[90m━━━━━━━━━━━━━━━━━━━━━━━━━━━━━━━━━━━━━━━━\u001b[0m \u001b[32m38.9/38.9 MB\u001b[0m \u001b[31m13.0 MB/s\u001b[0m eta \u001b[36m0:00:00\u001b[0m\n",
      "\u001b[?25hRequirement already satisfied: rich in /usr/local/lib/python3.10/dist-packages (from cudf-cu11) (13.7.0)\n",
      "Collecting rmm-cu11==23.10.* (from cudf-cu11)\n",
      "  Downloading https://pypi.nvidia.com/rmm-cu11/rmm_cu11-23.10.0-cp310-cp310-manylinux_2_17_x86_64.manylinux2014_x86_64.whl (2.0 MB)\n",
      "\u001b[2K     \u001b[90m━━━━━━━━━━━━━━━━━━━━━━━━━━━━━━━━━━━━━━━━\u001b[0m \u001b[32m2.0/2.0 MB\u001b[0m \u001b[31m105.6 MB/s\u001b[0m eta \u001b[36m0:00:00\u001b[0m\n",
      "\u001b[?25hRequirement already satisfied: typing-extensions>=4.0.0 in /usr/local/lib/python3.10/dist-packages (from cudf-cu11) (4.5.0)\n",
      "Collecting dask==2023.9.2 (from dask-cudf-cu11)\n",
      "  Downloading dask-2023.9.2-py3-none-any.whl (1.2 MB)\n",
      "\u001b[2K     \u001b[90m━━━━━━━━━━━━━━━━━━━━━━━━━━━━━━━━━━━━━━━━\u001b[0m \u001b[32m1.2/1.2 MB\u001b[0m \u001b[31m84.6 MB/s\u001b[0m eta \u001b[36m0:00:00\u001b[0m\n",
      "\u001b[?25hCollecting distributed==2023.9.2 (from dask-cudf-cu11)\n",
      "  Downloading distributed-2023.9.2-py3-none-any.whl (994 kB)\n",
      "\u001b[2K     \u001b[90m━━━━━━━━━━━━━━━━━━━━━━━━━━━━━━━━━━━━━━━━\u001b[0m \u001b[32m994.9/994.9 kB\u001b[0m \u001b[31m74.0 MB/s\u001b[0m eta \u001b[36m0:00:00\u001b[0m\n",
      "\u001b[?25hRequirement already satisfied: click>=8.0 in /usr/local/lib/python3.10/dist-packages (from dask==2023.9.2->dask-cudf-cu11) (8.1.7)\n",
      "Requirement already satisfied: cloudpickle>=1.5.0 in /usr/local/lib/python3.10/dist-packages (from dask==2023.9.2->dask-cudf-cu11) (2.2.1)\n",
      "Requirement already satisfied: partd>=1.2.0 in /usr/local/lib/python3.10/dist-packages (from dask==2023.9.2->dask-cudf-cu11) (1.4.1)\n",
      "Requirement already satisfied: pyyaml>=5.3.1 in /usr/local/lib/python3.10/dist-packages (from dask==2023.9.2->dask-cudf-cu11) (6.0.1)\n",
      "Requirement already satisfied: toolz>=0.10.0 in /usr/local/lib/python3.10/dist-packages (from dask==2023.9.2->dask-cudf-cu11) (0.12.0)\n",
      "Requirement already satisfied: importlib-metadata>=4.13.0 in /usr/local/lib/python3.10/dist-packages (from dask==2023.9.2->dask-cudf-cu11) (6.8.0)\n",
      "Requirement already satisfied: jinja2>=2.10.3 in /usr/local/lib/python3.10/dist-packages (from distributed==2023.9.2->dask-cudf-cu11) (3.1.2)\n",
      "Requirement already satisfied: locket>=1.0.0 in /usr/local/lib/python3.10/dist-packages (from distributed==2023.9.2->dask-cudf-cu11) (1.0.0)\n",
      "Requirement already satisfied: msgpack>=1.0.0 in /usr/local/lib/python3.10/dist-packages (from distributed==2023.9.2->dask-cudf-cu11) (1.0.7)\n",
      "Requirement already satisfied: psutil>=5.7.2 in /usr/local/lib/python3.10/dist-packages (from distributed==2023.9.2->dask-cudf-cu11) (5.9.5)\n",
      "Requirement already satisfied: sortedcontainers>=2.0.5 in /usr/local/lib/python3.10/dist-packages (from distributed==2023.9.2->dask-cudf-cu11) (2.4.0)\n",
      "Requirement already satisfied: tblib>=1.6.0 in /usr/local/lib/python3.10/dist-packages (from distributed==2023.9.2->dask-cudf-cu11) (3.0.0)\n",
      "Requirement already satisfied: tornado>=6.0.4 in /usr/local/lib/python3.10/dist-packages (from distributed==2023.9.2->dask-cudf-cu11) (6.3.2)\n",
      "Requirement already satisfied: urllib3>=1.24.3 in /usr/local/lib/python3.10/dist-packages (from distributed==2023.9.2->dask-cudf-cu11) (2.0.7)\n",
      "Requirement already satisfied: zict>=3.0.0 in /usr/local/lib/python3.10/dist-packages (from distributed==2023.9.2->dask-cudf-cu11) (3.0.0)\n",
      "Collecting dask-cuda==23.10.* (from cuml-cu11)\n",
      "  Downloading dask_cuda-23.10.0-py3-none-any.whl (124 kB)\n",
      "\u001b[2K     \u001b[90m━━━━━━━━━━━━━━━━━━━━━━━━━━━━━━━━━━━━━━━━\u001b[0m \u001b[32m124.3/124.3 kB\u001b[0m \u001b[31m16.6 MB/s\u001b[0m eta \u001b[36m0:00:00\u001b[0m\n",
      "\u001b[?25hRequirement already satisfied: joblib>=0.11 in /usr/local/lib/python3.10/dist-packages (from cuml-cu11) (1.3.2)\n",
      "Collecting raft-dask-cu11==23.10.* (from cuml-cu11)\n",
      "  Downloading https://pypi.nvidia.com/raft-dask-cu11/raft_dask_cu11-23.10.0-cp310-cp310-manylinux_2_17_x86_64.manylinux2014_x86_64.whl (214.8 MB)\n",
      "\u001b[2K     \u001b[90m━━━━━━━━━━━━━━━━━━━━━━━━━━━━━━━━━━━━━━━━\u001b[0m \u001b[32m214.8/214.8 MB\u001b[0m \u001b[31m5.6 MB/s\u001b[0m eta \u001b[36m0:00:00\u001b[0m\n",
      "\u001b[?25hRequirement already satisfied: scipy>=1.8.0 in /usr/local/lib/python3.10/dist-packages (from cuml-cu11) (1.11.3)\n",
      "Collecting treelite==3.9.1 (from cuml-cu11)\n",
      "  Downloading treelite-3.9.1-py3-none-manylinux2014_x86_64.whl (1.0 MB)\n",
      "\u001b[2K     \u001b[90m━━━━━━━━━━━━━━━━━━━━━━━━━━━━━━━━━━━━━━━━\u001b[0m \u001b[32m1.0/1.0 MB\u001b[0m \u001b[31m82.3 MB/s\u001b[0m eta \u001b[36m0:00:00\u001b[0m\n",
      "\u001b[?25hCollecting treelite-runtime==3.9.1 (from cuml-cu11)\n",
      "  Downloading treelite_runtime-3.9.1-py3-none-manylinux2014_x86_64.whl (198 kB)\n",
      "\u001b[2K     \u001b[90m━━━━━━━━━━━━━━━━━━━━━━━━━━━━━━━━━━━━━━━━\u001b[0m \u001b[32m198.7/198.7 kB\u001b[0m \u001b[31m24.0 MB/s\u001b[0m eta \u001b[36m0:00:00\u001b[0m\n",
      "\u001b[?25hCollecting pynvml<11.5,>=11.0.0 (from dask-cuda==23.10.*->cuml-cu11)\n",
      "  Downloading pynvml-11.4.1-py3-none-any.whl (46 kB)\n",
      "\u001b[2K     \u001b[90m━━━━━━━━━━━━━━━━━━━━━━━━━━━━━━━━━━━━━━━━\u001b[0m \u001b[32m47.0/47.0 kB\u001b[0m \u001b[31m5.9 MB/s\u001b[0m eta \u001b[36m0:00:00\u001b[0m\n",
      "\u001b[?25hCollecting pylibraft-cu11==23.10.* (from raft-dask-cu11==23.10.*->cuml-cu11)\n",
      "  Downloading https://pypi.nvidia.com/pylibraft-cu11/pylibraft_cu11-23.10.0-cp310-cp310-manylinux_2_17_x86_64.manylinux2014_x86_64.whl (520.0 MB)\n",
      "\u001b[2K     \u001b[90m━━━━━━━━━━━━━━━━━━━━━━━━━━━━━━━━━━━━━━━━\u001b[0m \u001b[32m520.0/520.0 MB\u001b[0m \u001b[31m3.2 MB/s\u001b[0m eta \u001b[36m0:00:00\u001b[0m\n",
      "\u001b[?25hCollecting ucx-py-cu11==0.34.* (from raft-dask-cu11==23.10.*->cuml-cu11)\n",
      "  Downloading https://pypi.nvidia.com/ucx-py-cu11/ucx_py_cu11-0.34.0-cp310-cp310-manylinux_2_17_x86_64.manylinux2014_x86_64.whl (7.7 MB)\n",
      "\u001b[2K     \u001b[90m━━━━━━━━━━━━━━━━━━━━━━━━━━━━━━━━━━━━━━━━\u001b[0m \u001b[32m7.7/7.7 MB\u001b[0m \u001b[31m118.7 MB/s\u001b[0m eta \u001b[36m0:00:00\u001b[0m\n",
      "\u001b[?25hCollecting pylibcugraph-cu11==23.10.* (from cugraph-cu11)\n",
      "  Downloading https://pypi.nvidia.com/pylibcugraph-cu11/pylibcugraph_cu11-23.10.0-cp310-cp310-manylinux_2_17_x86_64.manylinux2014_x86_64.whl (1232.8 MB)\n",
      "\u001b[2K     \u001b[90m━━━━━━━━━━━━━━━━━━━━━━━━━━━━━━━━━━━━━━━━\u001b[0m \u001b[32m1.2/1.2 GB\u001b[0m \u001b[31m913.0 kB/s\u001b[0m eta \u001b[36m0:00:00\u001b[0m\n",
      "\u001b[?25hRequirement already satisfied: fastrlock>=0.5 in /usr/local/lib/python3.10/dist-packages (from cupy-cuda11x>=12.0.0->cudf-cu11) (0.8.2)\n",
      "Requirement already satisfied: requests in /usr/local/lib/python3.10/dist-packages (from fsspec>=0.6.0->cudf-cu11) (2.31.0)\n",
      "Requirement already satisfied: aiohttp!=4.0.0a0,!=4.0.0a1 in /usr/local/lib/python3.10/dist-packages (from fsspec>=0.6.0->cudf-cu11) (3.8.6)\n",
      "Collecting llvmlite<0.41,>=0.40.0dev0 (from numba<0.58,>=0.57->cudf-cu11)\n",
      "  Downloading llvmlite-0.40.1-cp310-cp310-manylinux_2_17_x86_64.manylinux2014_x86_64.whl (42.1 MB)\n",
      "\u001b[2K     \u001b[90m━━━━━━━━━━━━━━━━━━━━━━━━━━━━━━━━━━━━━━━━\u001b[0m \u001b[32m42.1/42.1 MB\u001b[0m \u001b[31m9.9 MB/s\u001b[0m eta \u001b[36m0:00:00\u001b[0m\n",
      "\u001b[?25hRequirement already satisfied: python-dateutil>=2.8.1 in /usr/local/lib/python3.10/dist-packages (from pandas<1.6.0dev0,>=1.3->cudf-cu11) (2.8.2)\n",
      "Requirement already satisfied: pytz>=2020.1 in /usr/local/lib/python3.10/dist-packages (from pandas<1.6.0dev0,>=1.3->cudf-cu11) (2023.3.post1)\n",
      "Requirement already satisfied: markdown-it-py>=2.2.0 in /usr/local/lib/python3.10/dist-packages (from rich->cudf-cu11) (3.0.0)\n",
      "Requirement already satisfied: pygments<3.0.0,>=2.13.0 in /usr/local/lib/python3.10/dist-packages (from rich->cudf-cu11) (2.16.1)\n",
      "Requirement already satisfied: attrs>=17.3.0 in /usr/local/lib/python3.10/dist-packages (from aiohttp!=4.0.0a0,!=4.0.0a1->fsspec>=0.6.0->cudf-cu11) (23.1.0)\n",
      "Requirement already satisfied: charset-normalizer<4.0,>=2.0 in /usr/local/lib/python3.10/dist-packages (from aiohttp!=4.0.0a0,!=4.0.0a1->fsspec>=0.6.0->cudf-cu11) (3.3.2)\n",
      "Requirement already satisfied: multidict<7.0,>=4.5 in /usr/local/lib/python3.10/dist-packages (from aiohttp!=4.0.0a0,!=4.0.0a1->fsspec>=0.6.0->cudf-cu11) (6.0.4)\n",
      "Requirement already satisfied: async-timeout<5.0,>=4.0.0a3 in /usr/local/lib/python3.10/dist-packages (from aiohttp!=4.0.0a0,!=4.0.0a1->fsspec>=0.6.0->cudf-cu11) (4.0.3)\n",
      "Requirement already satisfied: yarl<2.0,>=1.0 in /usr/local/lib/python3.10/dist-packages (from aiohttp!=4.0.0a0,!=4.0.0a1->fsspec>=0.6.0->cudf-cu11) (1.9.2)\n",
      "Requirement already satisfied: frozenlist>=1.1.1 in /usr/local/lib/python3.10/dist-packages (from aiohttp!=4.0.0a0,!=4.0.0a1->fsspec>=0.6.0->cudf-cu11) (1.4.0)\n",
      "Requirement already satisfied: aiosignal>=1.1.2 in /usr/local/lib/python3.10/dist-packages (from aiohttp!=4.0.0a0,!=4.0.0a1->fsspec>=0.6.0->cudf-cu11) (1.3.1)\n",
      "Requirement already satisfied: zipp>=0.5 in /usr/local/lib/python3.10/dist-packages (from importlib-metadata>=4.13.0->dask==2023.9.2->dask-cudf-cu11) (3.17.0)\n",
      "Requirement already satisfied: MarkupSafe>=2.0 in /usr/local/lib/python3.10/dist-packages (from jinja2>=2.10.3->distributed==2023.9.2->dask-cudf-cu11) (2.1.3)\n",
      "Requirement already satisfied: mdurl~=0.1 in /usr/local/lib/python3.10/dist-packages (from markdown-it-py>=2.2.0->rich->cudf-cu11) (0.1.2)\n",
      "Requirement already satisfied: six>=1.5 in /usr/local/lib/python3.10/dist-packages (from python-dateutil>=2.8.1->pandas<1.6.0dev0,>=1.3->cudf-cu11) (1.16.0)\n",
      "Requirement already satisfied: idna<4,>=2.5 in /usr/local/lib/python3.10/dist-packages (from requests->fsspec>=0.6.0->cudf-cu11) (3.4)\n",
      "Requirement already satisfied: certifi>=2017.4.17 in /usr/local/lib/python3.10/dist-packages (from requests->fsspec>=0.6.0->cudf-cu11) (2023.7.22)\n",
      "Installing collected packages: ptxcompiler-cu11, nvtx, cuda-python, cubinlinker-cu11, pynvml, pyarrow, protobuf, llvmlite, cupy-cuda11x, ucx-py-cu11, treelite-runtime, treelite, numba, dask, rmm-cu11, distributed, pylibraft-cu11, dask-cuda, cudf-cu11, raft-dask-cu11, pylibcugraph-cu11, dask-cudf-cu11, cuml-cu11, cugraph-cu11\n",
      "  Attempting uninstall: pyarrow\n",
      "    Found existing installation: pyarrow 9.0.0\n",
      "    Uninstalling pyarrow-9.0.0:\n",
      "      Successfully uninstalled pyarrow-9.0.0\n",
      "  Attempting uninstall: llvmlite\n",
      "    Found existing installation: llvmlite 0.41.1\n",
      "    Uninstalling llvmlite-0.41.1:\n",
      "      Successfully uninstalled llvmlite-0.41.1\n",
      "  Attempting uninstall: cupy-cuda11x\n",
      "    Found existing installation: cupy-cuda11x 11.0.0\n",
      "    Uninstalling cupy-cuda11x-11.0.0:\n",
      "      Successfully uninstalled cupy-cuda11x-11.0.0\n",
      "  Attempting uninstall: numba\n",
      "    Found existing installation: numba 0.58.1\n",
      "    Uninstalling numba-0.58.1:\n",
      "      Successfully uninstalled numba-0.58.1\n",
      "  Attempting uninstall: dask\n",
      "    Found existing installation: dask 2023.8.1\n",
      "    Uninstalling dask-2023.8.1:\n",
      "      Successfully uninstalled dask-2023.8.1\n",
      "  Attempting uninstall: distributed\n",
      "    Found existing installation: distributed 2023.8.1\n",
      "    Uninstalling distributed-2023.8.1:\n",
      "      Successfully uninstalled distributed-2023.8.1\n",
      "\u001b[31mERROR: pip's dependency resolver does not currently take into account all the packages that are installed. This behaviour is the source of the following dependency conflicts.\n",
      "pandas-gbq 0.17.9 requires pyarrow<10.0dev,>=3.0.0, but you have pyarrow 12.0.1 which is incompatible.\n",
      "tensorflow-metadata 1.14.0 requires protobuf<4.21,>=3.20.3, but you have protobuf 4.25.1 which is incompatible.\u001b[0m\u001b[31m\n",
      "\u001b[0mSuccessfully installed cubinlinker-cu11-0.3.0.post1 cuda-python-11.8.3 cudf-cu11-23.10.2 cugraph-cu11-23.10.0 cuml-cu11-23.10.0 cupy-cuda11x-12.2.0 dask-2023.9.2 dask-cuda-23.10.0 dask-cudf-cu11-23.10.2 distributed-2023.9.2 llvmlite-0.40.1 numba-0.57.1 nvtx-0.2.8 protobuf-4.25.1 ptxcompiler-cu11-0.7.0.post1 pyarrow-12.0.1 pylibcugraph-cu11-23.10.0 pylibraft-cu11-23.10.0 pynvml-11.4.1 raft-dask-cu11-23.10.0 rmm-cu11-23.10.0 treelite-3.9.1 treelite-runtime-3.9.1 ucx-py-cu11-0.34.0\n"
     ]
    }
   ],
   "source": [
    "!pip uninstall --yes protobuf tensorflow tensorboard; pip install cupy-cuda11x\n",
    "\n",
    "!pip install cudf-cu11 dask-cudf-cu11 cuml-cu11 cugraph-cu11 --extra-index-url https://pypi.nvidia.com\n"
   ]
  },
  {
   "cell_type": "markdown",
   "metadata": {
    "id": "9tS5d7DFfA4z"
   },
   "source": [
    "## Initialization\n",
    "\n",
    "import libraries."
   ]
  },
  {
   "cell_type": "code",
   "execution_count": 7,
   "metadata": {
    "id": "WMjOR4r0ZNNR"
   },
   "outputs": [],
   "source": [
    "import os\n",
    "import time\n",
    "import pandas as pd\n",
    "import numpy as np\n",
    "import cudf\n",
    "import cuml.cluster\n",
    "import sklearn.cluster\n"
   ]
  },
  {
   "cell_type": "markdown",
   "metadata": {
    "application/vnd.databricks.v1+cell": {
     "inputWidgets": {},
     "nuid": "d9eb532f-aee3-4732-8db8-9b627a785c47",
     "showTitle": false,
     "title": ""
    },
    "id": "qidSZWeTOF4U"
   },
   "source": [
    "# Example 1: simple statistics (cuDF)\n",
    "\n",
    "This example computes, for each license, the number of trips performed.\n",
    "\n",
    "We have the code using CuDF and Pandas, printing the time for doing the computation.\n"
   ]
  },
  {
   "cell_type": "markdown",
   "metadata": {
    "application/vnd.databricks.v1+cell": {
     "inputWidgets": {},
     "nuid": "9e667272-66f4-4789-9136-69fe489293b8",
     "showTitle": false,
     "title": ""
    },
    "id": "y4UIp-puOF4U"
   },
   "source": [
    "### Code: CuDF"
   ]
  },
  {
   "cell_type": "code",
   "execution_count": 8,
   "metadata": {
    "application/vnd.databricks.v1+cell": {
     "inputWidgets": {},
     "nuid": "aa3a555d-41ce-4301-bb60-9c13bacb2b0c",
     "showTitle": false,
     "title": ""
    },
    "colab": {
     "base_uri": "https://localhost:8080/"
    },
    "id": "ZndZwASXOF4U",
    "outputId": "1c3812bc-39ba-40e9-afd6-bc276c0130d8"
   },
   "outputs": [
    {
     "name": "stdout",
     "output_type": "stream",
     "text": [
      "                                  medallion  pickup_datetime  \\\n",
      "hack_license                                                   \n",
      "2D6E98895D9E4FF08519FB2433988F1A        122              122   \n",
      "27C10878193D5607F220BF78B2C893A3          1                1   \n",
      "571ECD7243F7A43B88F652DD7610EB8C        288              288   \n",
      "0E6AED19C1605D0397146A1AD3798A17         34               34   \n",
      "7895E8BDFDB5AE3C913D9AFEF756B75E          1                1   \n",
      "...                                     ...              ...   \n",
      "C73BE7726024DDC4F89031A5BB76832E          1                1   \n",
      "549755BB2C577826AC9DBEA6D28182AB        148              148   \n",
      "4F2FE8F7A29AFEF2FE141FF902170BF7        163              163   \n",
      "0DECA0712DEFFBA24A0A347D0E6C1A65        184              184   \n",
      "C85719E27AE39040C2B1538E2A15AE85        248              248   \n",
      "\n",
      "                                  dropoff_datetime  trip_time_in_secs  \\\n",
      "hack_license                                                            \n",
      "2D6E98895D9E4FF08519FB2433988F1A               122                122   \n",
      "27C10878193D5607F220BF78B2C893A3                 1                  1   \n",
      "571ECD7243F7A43B88F652DD7610EB8C               288                288   \n",
      "0E6AED19C1605D0397146A1AD3798A17                34                 34   \n",
      "7895E8BDFDB5AE3C913D9AFEF756B75E                 1                  1   \n",
      "...                                            ...                ...   \n",
      "C73BE7726024DDC4F89031A5BB76832E                 1                  1   \n",
      "549755BB2C577826AC9DBEA6D28182AB               148                148   \n",
      "4F2FE8F7A29AFEF2FE141FF902170BF7               163                163   \n",
      "0DECA0712DEFFBA24A0A347D0E6C1A65               184                184   \n",
      "C85719E27AE39040C2B1538E2A15AE85               248                248   \n",
      "\n",
      "                                  trip_distance  pickup_longitude  \\\n",
      "hack_license                                                        \n",
      "2D6E98895D9E4FF08519FB2433988F1A            122               122   \n",
      "27C10878193D5607F220BF78B2C893A3              1                 1   \n",
      "571ECD7243F7A43B88F652DD7610EB8C            288               288   \n",
      "0E6AED19C1605D0397146A1AD3798A17             34                34   \n",
      "7895E8BDFDB5AE3C913D9AFEF756B75E              1                 1   \n",
      "...                                         ...               ...   \n",
      "C73BE7726024DDC4F89031A5BB76832E              1                 1   \n",
      "549755BB2C577826AC9DBEA6D28182AB            148               148   \n",
      "4F2FE8F7A29AFEF2FE141FF902170BF7            163               163   \n",
      "0DECA0712DEFFBA24A0A347D0E6C1A65            184               184   \n",
      "C85719E27AE39040C2B1538E2A15AE85            248               248   \n",
      "\n",
      "                                  pickup_latitude  dropoff_longitude  \\\n",
      "hack_license                                                           \n",
      "2D6E98895D9E4FF08519FB2433988F1A              122                122   \n",
      "27C10878193D5607F220BF78B2C893A3                1                  1   \n",
      "571ECD7243F7A43B88F652DD7610EB8C              288                288   \n",
      "0E6AED19C1605D0397146A1AD3798A17               34                 34   \n",
      "7895E8BDFDB5AE3C913D9AFEF756B75E                1                  1   \n",
      "...                                           ...                ...   \n",
      "C73BE7726024DDC4F89031A5BB76832E                1                  1   \n",
      "549755BB2C577826AC9DBEA6D28182AB              148                148   \n",
      "4F2FE8F7A29AFEF2FE141FF902170BF7              163                163   \n",
      "0DECA0712DEFFBA24A0A347D0E6C1A65              184                184   \n",
      "C85719E27AE39040C2B1538E2A15AE85              248                248   \n",
      "\n",
      "                                  dropoff_latitude  payment_type  fare_amount  \\\n",
      "hack_license                                                                    \n",
      "2D6E98895D9E4FF08519FB2433988F1A               122           122          122   \n",
      "27C10878193D5607F220BF78B2C893A3                 1             1            1   \n",
      "571ECD7243F7A43B88F652DD7610EB8C               288           288          288   \n",
      "0E6AED19C1605D0397146A1AD3798A17                34            34           34   \n",
      "7895E8BDFDB5AE3C913D9AFEF756B75E                 1             1            1   \n",
      "...                                            ...           ...          ...   \n",
      "C73BE7726024DDC4F89031A5BB76832E                 1             1            1   \n",
      "549755BB2C577826AC9DBEA6D28182AB               148           148          148   \n",
      "4F2FE8F7A29AFEF2FE141FF902170BF7               163           163          163   \n",
      "0DECA0712DEFFBA24A0A347D0E6C1A65               184           184          184   \n",
      "C85719E27AE39040C2B1538E2A15AE85               248           248          248   \n",
      "\n",
      "                                  surcharge  mta_tax  tip_amount  \\\n",
      "hack_license                                                       \n",
      "2D6E98895D9E4FF08519FB2433988F1A        122      122         122   \n",
      "27C10878193D5607F220BF78B2C893A3          1        1           1   \n",
      "571ECD7243F7A43B88F652DD7610EB8C        288      288         288   \n",
      "0E6AED19C1605D0397146A1AD3798A17         34       34          34   \n",
      "7895E8BDFDB5AE3C913D9AFEF756B75E          1        1           1   \n",
      "...                                     ...      ...         ...   \n",
      "C73BE7726024DDC4F89031A5BB76832E          1        1           1   \n",
      "549755BB2C577826AC9DBEA6D28182AB        148      148         148   \n",
      "4F2FE8F7A29AFEF2FE141FF902170BF7        163      163         163   \n",
      "0DECA0712DEFFBA24A0A347D0E6C1A65        184      184         184   \n",
      "C85719E27AE39040C2B1538E2A15AE85        248      248         248   \n",
      "\n",
      "                                  tolls_amount  total_amount  \n",
      "hack_license                                                  \n",
      "2D6E98895D9E4FF08519FB2433988F1A           122           122  \n",
      "27C10878193D5607F220BF78B2C893A3             1             1  \n",
      "571ECD7243F7A43B88F652DD7610EB8C           288           288  \n",
      "0E6AED19C1605D0397146A1AD3798A17            34            34  \n",
      "7895E8BDFDB5AE3C913D9AFEF756B75E             1             1  \n",
      "...                                        ...           ...  \n",
      "C73BE7726024DDC4F89031A5BB76832E             1             1  \n",
      "549755BB2C577826AC9DBEA6D28182AB           148           148  \n",
      "4F2FE8F7A29AFEF2FE141FF902170BF7           163           163  \n",
      "0DECA0712DEFFBA24A0A347D0E6C1A65           184           184  \n",
      "C85719E27AE39040C2B1538E2A15AE85           248           248  \n",
      "\n",
      "[20354 rows x 16 columns]\n",
      "Runtime = 12.973647594451904\n"
     ]
    }
   ],
   "source": [
    "start_time = time.time()\n",
    "mySchema = [\"medallion\", \"hack_license\", \"pickup_datetime\",\n",
    "            \"dropoff_datetime\", \"trip_time_in_secs\", \"trip_distance\",\n",
    "            \"pickup_longitude\", \"pickup_latitude\", \"dropoff_longitude\",\n",
    "            \"dropoff_latitude\", \"payment_type\", \"fare_amount\",\n",
    "            \"surcharge\", \"mta_tax\", \"tip_amount\",\n",
    "            \"tolls_amount\", \"total_amount\"]\n",
    "\n",
    "dataset = cudf.read_csv(FILENAME,names=mySchema,compression=\"gzip\")\n",
    "result = dataset.groupby(\"hack_license\").count()\n",
    "print(result)\n",
    "\n",
    "end_time = time.time()\n",
    "\n",
    "print( \"Runtime = \" + str(end_time - start_time))\n"
   ]
  },
  {
   "cell_type": "markdown",
   "metadata": {
    "application/vnd.databricks.v1+cell": {
     "inputWidgets": {},
     "nuid": "fbceb57e-91d7-430a-8406-ad44dec1b38a",
     "showTitle": false,
     "title": ""
    },
    "id": "9z_yPC3rOF4V"
   },
   "source": [
    "### Code: Pandas library"
   ]
  },
  {
   "cell_type": "code",
   "execution_count": 9,
   "metadata": {
    "application/vnd.databricks.v1+cell": {
     "inputWidgets": {},
     "nuid": "2708ac4e-177f-4c8b-a7c3-b9ebe08a55f2",
     "showTitle": false,
     "title": ""
    },
    "colab": {
     "base_uri": "https://localhost:8080/"
    },
    "id": "22aJB9HqOF4V",
    "outputId": "42108b66-56ef-44b2-fb91-03c157b0c35e"
   },
   "outputs": [
    {
     "name": "stdout",
     "output_type": "stream",
     "text": [
      "                                  medallion  pickup_datetime  \\\n",
      "hack_license                                                   \n",
      "0008B3E338CE8C3377E071A4D80D3694        129              129   \n",
      "000B8D660A329BBDBF888500E4BD8B98          2                2   \n",
      "000CCA239BFDC0ABE2895AC9086C4290         11               11   \n",
      "00184958F5D5FD0A9EC0B115C5B55796         62               62   \n",
      "001C8AAB90AEE49F36FCAA7B4136C81A        178              178   \n",
      "...                                     ...              ...   \n",
      "FFF5AD65C673251C1F275CF5B43EC414          2                2   \n",
      "FFF6401CC16911710E7590FE197E986A         33               33   \n",
      "FFF657CFEC6A06384C97ACB500916913         68               68   \n",
      "FFF909B1353148850AD3E40BB878618B        124              124   \n",
      "FFFBCEA3D4E21E05902EE67AD556F67C        177              177   \n",
      "\n",
      "                                  dropoff_datetime  trip_time_in_secs  \\\n",
      "hack_license                                                            \n",
      "0008B3E338CE8C3377E071A4D80D3694               129                129   \n",
      "000B8D660A329BBDBF888500E4BD8B98                 2                  2   \n",
      "000CCA239BFDC0ABE2895AC9086C4290                11                 11   \n",
      "00184958F5D5FD0A9EC0B115C5B55796                62                 62   \n",
      "001C8AAB90AEE49F36FCAA7B4136C81A               178                178   \n",
      "...                                            ...                ...   \n",
      "FFF5AD65C673251C1F275CF5B43EC414                 2                  2   \n",
      "FFF6401CC16911710E7590FE197E986A                33                 33   \n",
      "FFF657CFEC6A06384C97ACB500916913                68                 68   \n",
      "FFF909B1353148850AD3E40BB878618B               124                124   \n",
      "FFFBCEA3D4E21E05902EE67AD556F67C               177                177   \n",
      "\n",
      "                                  trip_distance  pickup_longitude  \\\n",
      "hack_license                                                        \n",
      "0008B3E338CE8C3377E071A4D80D3694            129               129   \n",
      "000B8D660A329BBDBF888500E4BD8B98              2                 2   \n",
      "000CCA239BFDC0ABE2895AC9086C4290             11                11   \n",
      "00184958F5D5FD0A9EC0B115C5B55796             62                62   \n",
      "001C8AAB90AEE49F36FCAA7B4136C81A            178               178   \n",
      "...                                         ...               ...   \n",
      "FFF5AD65C673251C1F275CF5B43EC414              2                 2   \n",
      "FFF6401CC16911710E7590FE197E986A             33                33   \n",
      "FFF657CFEC6A06384C97ACB500916913             68                68   \n",
      "FFF909B1353148850AD3E40BB878618B            124               124   \n",
      "FFFBCEA3D4E21E05902EE67AD556F67C            177               177   \n",
      "\n",
      "                                  pickup_latitude  dropoff_longitude  \\\n",
      "hack_license                                                           \n",
      "0008B3E338CE8C3377E071A4D80D3694              129                129   \n",
      "000B8D660A329BBDBF888500E4BD8B98                2                  2   \n",
      "000CCA239BFDC0ABE2895AC9086C4290               11                 11   \n",
      "00184958F5D5FD0A9EC0B115C5B55796               62                 62   \n",
      "001C8AAB90AEE49F36FCAA7B4136C81A              178                178   \n",
      "...                                           ...                ...   \n",
      "FFF5AD65C673251C1F275CF5B43EC414                2                  2   \n",
      "FFF6401CC16911710E7590FE197E986A               33                 33   \n",
      "FFF657CFEC6A06384C97ACB500916913               68                 68   \n",
      "FFF909B1353148850AD3E40BB878618B              124                124   \n",
      "FFFBCEA3D4E21E05902EE67AD556F67C              177                177   \n",
      "\n",
      "                                  dropoff_latitude  payment_type  fare_amount  \\\n",
      "hack_license                                                                    \n",
      "0008B3E338CE8C3377E071A4D80D3694               129           129          129   \n",
      "000B8D660A329BBDBF888500E4BD8B98                 2             2            2   \n",
      "000CCA239BFDC0ABE2895AC9086C4290                11            11           11   \n",
      "00184958F5D5FD0A9EC0B115C5B55796                62            62           62   \n",
      "001C8AAB90AEE49F36FCAA7B4136C81A               178           178          178   \n",
      "...                                            ...           ...          ...   \n",
      "FFF5AD65C673251C1F275CF5B43EC414                 2             2            2   \n",
      "FFF6401CC16911710E7590FE197E986A                33            33           33   \n",
      "FFF657CFEC6A06384C97ACB500916913                68            68           68   \n",
      "FFF909B1353148850AD3E40BB878618B               124           124          124   \n",
      "FFFBCEA3D4E21E05902EE67AD556F67C               177           177          177   \n",
      "\n",
      "                                  surcharge  mta_tax  tip_amount  \\\n",
      "hack_license                                                       \n",
      "0008B3E338CE8C3377E071A4D80D3694        129      129         129   \n",
      "000B8D660A329BBDBF888500E4BD8B98          2        2           2   \n",
      "000CCA239BFDC0ABE2895AC9086C4290         11       11          11   \n",
      "00184958F5D5FD0A9EC0B115C5B55796         62       62          62   \n",
      "001C8AAB90AEE49F36FCAA7B4136C81A        178      178         178   \n",
      "...                                     ...      ...         ...   \n",
      "FFF5AD65C673251C1F275CF5B43EC414          2        2           2   \n",
      "FFF6401CC16911710E7590FE197E986A         33       33          33   \n",
      "FFF657CFEC6A06384C97ACB500916913         68       68          68   \n",
      "FFF909B1353148850AD3E40BB878618B        124      124         124   \n",
      "FFFBCEA3D4E21E05902EE67AD556F67C        177      177         177   \n",
      "\n",
      "                                  tolls_amount  total_amount  \n",
      "hack_license                                                  \n",
      "0008B3E338CE8C3377E071A4D80D3694           129           129  \n",
      "000B8D660A329BBDBF888500E4BD8B98             2             2  \n",
      "000CCA239BFDC0ABE2895AC9086C4290            11            11  \n",
      "00184958F5D5FD0A9EC0B115C5B55796            62            62  \n",
      "001C8AAB90AEE49F36FCAA7B4136C81A           178           178  \n",
      "...                                        ...           ...  \n",
      "FFF5AD65C673251C1F275CF5B43EC414             2             2  \n",
      "FFF6401CC16911710E7590FE197E986A            33            33  \n",
      "FFF657CFEC6A06384C97ACB500916913            68            68  \n",
      "FFF909B1353148850AD3E40BB878618B           124           124  \n",
      "FFFBCEA3D4E21E05902EE67AD556F67C           177           177  \n",
      "\n",
      "[20354 rows x 16 columns]\n",
      "Runtime = 19.35666012763977\n"
     ]
    }
   ],
   "source": [
    "start_time = time.time()\n",
    "mySchema = [\"medallion\", \"hack_license\", \"pickup_datetime\",\n",
    "            \"dropoff_datetime\", \"trip_time_in_secs\", \"trip_distance\",\n",
    "            \"pickup_longitude\", \"pickup_latitude\", \"dropoff_longitude\",\n",
    "            \"dropoff_latitude\", \"payment_type\", \"fare_amount\",\n",
    "            \"surcharge\", \"mta_tax\", \"tip_amount\",\n",
    "            \"tolls_amount\", \"total_amount\"]\n",
    "\n",
    "dataset = pd.read_csv(FILENAME,names=mySchema,compression=\"gzip\")\n",
    "result = dataset.groupby(\"hack_license\").count()\n",
    "print(result)\n",
    "\n",
    "end_time = time.time()\n",
    "\n",
    "print( \"Runtime = \" + str(end_time - start_time))\n"
   ]
  },
  {
   "cell_type": "markdown",
   "metadata": {
    "application/vnd.databricks.v1+cell": {
     "inputWidgets": {},
     "nuid": "b5345a02-01de-46da-aaeb-150747d13ae4",
     "showTitle": false,
     "title": ""
    },
    "id": "pvUMvGA5OF4V"
   },
   "source": [
    "# Example 2 (cuDF)\n",
    "\n",
    "An example that does some statistics.\n",
    "Let's find the most frequent routes whose distance is greater than 6.\n"
   ]
  },
  {
   "cell_type": "markdown",
   "metadata": {
    "id": "l4AeoquOLG37"
   },
   "source": [
    "#### CuDF"
   ]
  },
  {
   "cell_type": "code",
   "execution_count": 15,
   "metadata": {
    "colab": {
     "base_uri": "https://localhost:8080/"
    },
    "id": "eXNQONmNd01d",
    "outputId": "cc148211-5cce-4903-efcf-e83ccc812b07"
   },
   "outputs": [
    {
     "name": "stdout",
     "output_type": "stream",
     "text": [
      "                                               trip_distance\n",
      "pickup_lon pickup_lat dropoff_lon dropoff_lat               \n",
      "-73.863042 40.769763  -73.985755  40.758534              198\n",
      "-73.872021 40.774254  -73.985755  40.758534              187\n",
      "                      -73.973783  40.756288              179\n",
      "-73.985755 40.758534  -73.872021  40.774254              157\n",
      "-73.973783 40.756288  -73.872021  40.774254              156\n",
      "-73.979769 40.763025  -73.872021  40.774254              154\n",
      "-73.863042 40.769763  -73.973783  40.756288              149\n",
      "-73.872021 40.774254  -73.979769  40.763025              137\n",
      "-73.863042 40.769763  -73.979769  40.763025              136\n",
      "-73.985755 40.760780  -73.872021  40.774254              134\n",
      "-73.872021 40.774254  -73.970790  40.756288              132\n",
      "-73.863042 40.769763  -73.970790  40.756288              122\n",
      "-73.872021 40.774254  -73.976776  40.751796              119\n",
      "-73.982762 40.763025  -73.872021  40.774254              111\n",
      "-73.872021 40.774254  -73.982762  40.756288              110\n",
      "                                  40.763025              107\n",
      "-73.988748 40.758534  -73.872021  40.774254              105\n",
      "-73.863042 40.769763  -73.982762  40.756288              103\n",
      "-73.985755 40.758534  -73.863042  40.767517              102\n",
      "-73.863042 40.769763  -73.976776  40.751796              102\n",
      "Runtime = 2.6669235229492188\n"
     ]
    }
   ],
   "source": [
    "start_time = time.time()\n",
    "mySchema = [\"medallion\", \"hack_license\", \"pickup_datetime\",\n",
    "            \"dropoff_datetime\", \"trip_time_in_secs\", \"trip_distance\",\n",
    "            \"pickup_longitude\", \"pickup_latitude\", \"dropoff_longitude\",\n",
    "            \"dropoff_latitude\", \"payment_type\", \"fare_amount\",\n",
    "            \"surcharge\", \"mta_tax\", \"tip_amount\",\n",
    "            \"tolls_amount\", \"total_amount\"]\n",
    "\n",
    "# Squares of 250 meters\n",
    "latitudeStep = 0.004491556 / 2\n",
    "longitudeStep = 0.005986 / 2\n",
    "northLatitude = 41.474937 - 0.5 * latitudeStep\n",
    "southLatitude = northLatitude - 600 * latitudeStep\n",
    "westLongitude = -74.913585 - 0.5 * longitudeStep\n",
    "eastLongitude = westLongitude + 600 * longitudeStep\n",
    "\n",
    "# function to round longitude to a point in the middle of the square\n",
    "def lonRound( val):\n",
    "    return ((val - eastLongitude) // longitudeStep) * longitudeStep + eastLongitude + longitudeStep / 2\n",
    "\n",
    "# function to round latitude to a point in the middle of the square\n",
    "def latRound( l):\n",
    "    return northLatitude - ((northLatitude - l) // latitudeStep) * latitudeStep - latitudeStep / 2\n",
    "\n",
    "dataset = cudf.read_csv(FILENAME,names=mySchema,compression=\"gzip\")\n",
    "filtered = dataset[(dataset.pickup_longitude >= westLongitude) &\n",
    "                   (dataset.pickup_longitude <= eastLongitude) &\n",
    "                   (dataset.dropoff_longitude >=  westLongitude) &\n",
    "                   (dataset.dropoff_longitude <= eastLongitude) &\n",
    "                   (dataset.pickup_latitude <= northLatitude) &\n",
    "                   (dataset.pickup_latitude >= southLatitude) &\n",
    "                   (dataset.dropoff_latitude <= northLatitude) &\n",
    "                   (dataset.dropoff_latitude >= southLatitude) &\n",
    "                   (dataset.trip_distance > 6)]\n",
    "filtered[\"pickup_lon\"]=lonRound(filtered.pickup_longitude)\n",
    "filtered[\"pickup_lat\"]=latRound(filtered.pickup_latitude)\n",
    "filtered[\"dropoff_lon\"]=lonRound(filtered.dropoff_longitude)\n",
    "filtered[\"dropoff_lat\"]=latRound(filtered.dropoff_latitude)\n",
    "filtered = filtered[[\"trip_distance\",\"pickup_lon\",\"pickup_lat\",\"dropoff_lon\",\"dropoff_lat\"]]\n",
    "result = filtered.groupby([\"pickup_lon\",\"pickup_lat\",\"dropoff_lon\",\"dropoff_lat\"]).count().sort_values(\"trip_distance\",ascending=False).head(20)\n",
    "#result = filtered.groupby([\"pickup_lon\",\"pickup_lat\",\"dropoff_lon\",\"dropoff_lat\"]).count().head(20)\n",
    "print(result)\n",
    "end_time = time.time()\n",
    "\n",
    "print( \"Runtime = \" + str(end_time - start_time))\n"
   ]
  },
  {
   "cell_type": "markdown",
   "metadata": {
    "id": "RiHUHzbuLXBi"
   },
   "source": [
    "#### Pandas"
   ]
  },
  {
   "cell_type": "code",
   "execution_count": 16,
   "metadata": {
    "application/vnd.databricks.v1+cell": {
     "inputWidgets": {},
     "nuid": "33b92f6b-d79e-439b-a73c-3b7c28062d58",
     "showTitle": false,
     "title": ""
    },
    "colab": {
     "base_uri": "https://localhost:8080/"
    },
    "id": "1hEJJl8cOF4V",
    "outputId": "27260659-2847-4fcf-b4b7-ca7f4113364f"
   },
   "outputs": [
    {
     "name": "stdout",
     "output_type": "stream",
     "text": [
      "                                               medallion\n",
      "pickup_lon pickup_lat dropoff_lon dropoff_lat           \n",
      "-73.863042 40.769763  -73.985755  40.758534          198\n",
      "-73.872021 40.774254  -73.985755  40.758534          187\n",
      "                      -73.973783  40.756288          179\n",
      "-73.985755 40.758534  -73.872021  40.774254          157\n",
      "-73.973783 40.756288  -73.872021  40.774254          156\n",
      "-73.979769 40.763025  -73.872021  40.774254          154\n",
      "-73.863042 40.769763  -73.973783  40.756288          149\n",
      "-73.872021 40.774254  -73.979769  40.763025          137\n",
      "-73.863042 40.769763  -73.979769  40.763025          136\n",
      "-73.985755 40.760780  -73.872021  40.774254          134\n",
      "-73.872021 40.774254  -73.970790  40.756288          132\n",
      "-73.863042 40.769763  -73.970790  40.756288          122\n",
      "-73.872021 40.774254  -73.976776  40.751796          119\n",
      "-73.982762 40.763025  -73.872021  40.774254          111\n",
      "-73.872021 40.774254  -73.982762  40.756288          110\n",
      "                                  40.763025          107\n",
      "-73.988748 40.758534  -73.872021  40.774254          105\n",
      "-73.863042 40.769763  -73.982762  40.756288          103\n",
      "-73.985755 40.758534  -73.863042  40.767517          102\n",
      "-73.863042 40.769763  -73.976776  40.751796          102\n",
      "Runtime = 9.837346076965332\n"
     ]
    },
    {
     "name": "stderr",
     "output_type": "stream",
     "text": [
      "<ipython-input-16-39b0391302f8>:35: SettingWithCopyWarning: \n",
      "A value is trying to be set on a copy of a slice from a DataFrame.\n",
      "Try using .loc[row_indexer,col_indexer] = value instead\n",
      "\n",
      "See the caveats in the documentation: https://pandas.pydata.org/pandas-docs/stable/user_guide/indexing.html#returning-a-view-versus-a-copy\n",
      "  filtered[\"pickup_lon\"]=lonRound(filtered.pickup_longitude)\n",
      "<ipython-input-16-39b0391302f8>:36: SettingWithCopyWarning: \n",
      "A value is trying to be set on a copy of a slice from a DataFrame.\n",
      "Try using .loc[row_indexer,col_indexer] = value instead\n",
      "\n",
      "See the caveats in the documentation: https://pandas.pydata.org/pandas-docs/stable/user_guide/indexing.html#returning-a-view-versus-a-copy\n",
      "  filtered[\"pickup_lat\"]=latRound(filtered.pickup_latitude)\n",
      "<ipython-input-16-39b0391302f8>:37: SettingWithCopyWarning: \n",
      "A value is trying to be set on a copy of a slice from a DataFrame.\n",
      "Try using .loc[row_indexer,col_indexer] = value instead\n",
      "\n",
      "See the caveats in the documentation: https://pandas.pydata.org/pandas-docs/stable/user_guide/indexing.html#returning-a-view-versus-a-copy\n",
      "  filtered[\"dropoff_lon\"]=lonRound(filtered.dropoff_longitude)\n",
      "<ipython-input-16-39b0391302f8>:38: SettingWithCopyWarning: \n",
      "A value is trying to be set on a copy of a slice from a DataFrame.\n",
      "Try using .loc[row_indexer,col_indexer] = value instead\n",
      "\n",
      "See the caveats in the documentation: https://pandas.pydata.org/pandas-docs/stable/user_guide/indexing.html#returning-a-view-versus-a-copy\n",
      "  filtered[\"dropoff_lat\"]=latRound(filtered.dropoff_latitude)\n"
     ]
    }
   ],
   "source": [
    "start_time = time.time()\n",
    "mySchema = [\"medallion\", \"hack_license\", \"pickup_datetime\",\n",
    "            \"dropoff_datetime\", \"trip_time_in_secs\", \"trip_distance\",\n",
    "            \"pickup_longitude\", \"pickup_latitude\", \"dropoff_longitude\",\n",
    "            \"dropoff_latitude\", \"payment_type\", \"fare_amount\",\n",
    "            \"surcharge\", \"mta_tax\", \"tip_amount\",\n",
    "            \"tolls_amount\", \"total_amount\"]\n",
    "\n",
    "# Squares of 250 meters\n",
    "latitudeStep = 0.004491556 / 2\n",
    "longitudeStep = 0.005986 / 2\n",
    "northLatitude = 41.474937 - 0.5 * latitudeStep\n",
    "southLatitude = northLatitude - 600 * latitudeStep\n",
    "westLongitude = -74.913585 - 0.5 * longitudeStep\n",
    "eastLongitude = westLongitude + 600 * longitudeStep\n",
    "\n",
    "# function to round longitude to a point in the middle of the square\n",
    "def lonRound( val):\n",
    "    return ((val - eastLongitude) // longitudeStep) * longitudeStep + eastLongitude + longitudeStep / 2\n",
    "\n",
    "# function to round latitude to a point in the middle of the square\n",
    "def latRound( l):\n",
    "    return northLatitude - ((northLatitude - l) // latitudeStep) * latitudeStep - latitudeStep / 2\n",
    "\n",
    "dataset = pd.read_csv(FILENAME,names=mySchema,compression=\"gzip\")\n",
    "filtered = dataset[(dataset.pickup_longitude >= westLongitude) &\n",
    "                   (dataset.pickup_longitude <= eastLongitude) &\n",
    "                   (dataset.dropoff_longitude >=  westLongitude) &\n",
    "                   (dataset.dropoff_longitude <= eastLongitude) &\n",
    "                   (dataset.pickup_latitude <= northLatitude) &\n",
    "                   (dataset.pickup_latitude >= southLatitude) &\n",
    "                   (dataset.dropoff_latitude <= northLatitude) &\n",
    "                   (dataset.dropoff_latitude >= southLatitude) &\n",
    "                   (dataset.trip_distance > 6)]\n",
    "filtered[\"pickup_lon\"]=lonRound(filtered.pickup_longitude)\n",
    "filtered[\"pickup_lat\"]=latRound(filtered.pickup_latitude)\n",
    "filtered[\"dropoff_lon\"]=lonRound(filtered.dropoff_longitude)\n",
    "filtered[\"dropoff_lat\"]=latRound(filtered.dropoff_latitude)\n",
    "filtered = filtered[[\"medallion\",\"pickup_lon\",\"pickup_lat\",\"dropoff_lon\",\"dropoff_lat\"]]\n",
    "result = filtered.groupby([\"pickup_lon\",\"pickup_lat\",\"dropoff_lon\",\"dropoff_lat\"]).count().sort_values(\"medallion\",ascending=False).head(20)\n",
    "#result = filtered.groupby([\"pickup_lon\",\"pickup_lat\",\"dropoff_lon\",\"dropoff_lat\"]).count().head(20)\n",
    "print(result)\n",
    "end_time = time.time()\n",
    "\n",
    "print( \"Runtime = \" + str(end_time - start_time))"
   ]
  },
  {
   "cell_type": "markdown",
   "metadata": {
    "application/vnd.databricks.v1+cell": {
     "inputWidgets": {},
     "nuid": "85a2968b-96fa-4772-8e58-f6cdbe580f77",
     "showTitle": false,
     "title": ""
    },
    "id": "FS3Z8RXlOF4W"
   },
   "source": [
    "## Example 3 (cuML)\n",
    "\n",
    "This example uses KMeans, by clustering pickup locations."
   ]
  },
  {
   "cell_type": "markdown",
   "metadata": {
    "id": "1LZndeFAZ8CQ"
   },
   "source": [
    "#### CuDF"
   ]
  },
  {
   "cell_type": "code",
   "execution_count": 14,
   "metadata": {
    "colab": {
     "base_uri": "https://localhost:8080/"
    },
    "id": "KucUDJIoSHbj",
    "outputId": "c2495e79-c4e7-48f4-f194-08b5ed00ccf3"
   },
   "outputs": [
    {
     "name": "stdout",
     "output_type": "stream",
     "text": [
      "Score = -0.08144558534149837\n",
      "Runtime = 5.946503162384033\n"
     ]
    }
   ],
   "source": [
    "start_time = time.time()\n",
    "mySchema = [\"medallion\", \"hack_license\", \"pickup_datetime\",\n",
    "            \"dropoff_datetime\", \"trip_time_in_secs\", \"trip_distance\",\n",
    "            \"pickup_longitude\", \"pickup_latitude\", \"dropoff_longitude\",\n",
    "            \"dropoff_latitude\", \"payment_type\", \"fare_amount\",\n",
    "            \"surcharge\", \"mta_tax\", \"tip_amount\",\n",
    "            \"tolls_amount\", \"total_amount\"]\n",
    "\n",
    "northLatitude = 40.86\n",
    "southLatitude = 40.68\n",
    "westLongitude = -74.03\n",
    "eastLongitude = -73.92\n",
    "\n",
    "dataset = cudf.read_csv(FILENAME,names=mySchema,compression=\"gzip\")\n",
    "filtered = dataset[(dataset.pickup_longitude <= eastLongitude) &\n",
    "                   (dataset.pickup_longitude >=  westLongitude) &\n",
    "                   (dataset.pickup_latitude <= northLatitude) &\n",
    "                   (dataset.pickup_latitude >= southLatitude)]\n",
    "filtered = filtered[[\"pickup_longitude\",\"pickup_latitude\"]].copy()\n",
    "\n",
    "model = cuml.cluster.KMeans(n_clusters=100, max_iter=30, n_init=1,init='k-means||')\n",
    "model.fit(filtered)\n",
    "#using the score included in this class\n",
    "score = model.score(filtered)\n",
    "print(\"Score = \" + str(score))\n",
    "\n",
    "end_time = time.time()\n",
    "\n",
    "print( \"Runtime = \" + str(end_time - start_time))\n"
   ]
  },
  {
   "cell_type": "markdown",
   "metadata": {
    "id": "iBpU-MrcZ4ur"
   },
   "source": [
    "#### Pandas"
   ]
  },
  {
   "cell_type": "code",
   "execution_count": 13,
   "metadata": {
    "colab": {
     "base_uri": "https://localhost:8080/"
    },
    "id": "hkh4R88tZdhw",
    "outputId": "c630602c-e140-4790-aca0-d29ee4535f9a"
   },
   "outputs": [
    {
     "name": "stdout",
     "output_type": "stream",
     "text": [
      "Score = -12.847048618329463\n",
      "Runtime = 41.048604249954224\n"
     ]
    }
   ],
   "source": [
    "import sklearn.cluster\n",
    "\n",
    "start_time = time.time()\n",
    "mySchema = [\"medallion\", \"hack_license\", \"pickup_datetime\",\n",
    "            \"dropoff_datetime\", \"trip_time_in_secs\", \"trip_distance\",\n",
    "            \"pickup_longitude\", \"pickup_latitude\", \"dropoff_longitude\",\n",
    "            \"dropoff_latitude\", \"payment_type\", \"fare_amount\",\n",
    "            \"surcharge\", \"mta_tax\", \"tip_amount\",\n",
    "            \"tolls_amount\", \"total_amount\"]\n",
    "\n",
    "northLatitude = 40.86\n",
    "southLatitude = 40.68\n",
    "westLongitude = -74.03\n",
    "eastLongitude = -73.92\n",
    "\n",
    "dataset = pd.read_csv(FILENAME,names=mySchema,compression=\"gzip\")\n",
    "filtered = dataset[(dataset.pickup_longitude <= eastLongitude) &\n",
    "                   (dataset.pickup_longitude >=  westLongitude) &\n",
    "                   (dataset.pickup_latitude <= northLatitude) &\n",
    "                   (dataset.pickup_latitude >= southLatitude)]\n",
    "filtered = filtered[[\"pickup_longitude\",\"pickup_latitude\"]].copy()\n",
    "\n",
    "model = sklearn.cluster.KMeans(n_clusters=100, max_iter=30, n_init=1,init='k-means++')\n",
    "model.fit(filtered)\n",
    "score = model.score(filtered)\n",
    "print(\"Score = \" + str(score))\n",
    "\n",
    "end_time = time.time()\n",
    "\n",
    "print( \"Runtime = \" + str(end_time - start_time))"
   ]
  }
 ],
 "metadata": {
  "accelerator": "GPU",
  "application/vnd.databricks.v1+notebook": {
   "dashboards": [],
   "language": "python",
   "notebookName": "Group project resolution - template final",
   "notebookOrigID": 149761708232030,
   "widgets": {}
  },
  "colab": {
   "gpuType": "T4",
   "provenance": []
  },
  "kernelspec": {
   "display_name": "Python 3 (ipykernel)",
   "language": "python",
   "name": "python3"
  },
  "language_info": {
   "codemirror_mode": {
    "name": "ipython",
    "version": 3
   },
   "file_extension": ".py",
   "mimetype": "text/x-python",
   "name": "python",
   "nbconvert_exporter": "python",
   "pygments_lexer": "ipython3",
   "version": "3.11.4"
  }
 },
 "nbformat": 4,
 "nbformat_minor": 1
}
