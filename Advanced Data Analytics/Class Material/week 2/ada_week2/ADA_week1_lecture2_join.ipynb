{
 "cells": [
  {
   "cell_type": "markdown",
   "id": "d9e90bac",
   "metadata": {},
   "source": [
    "# Advanced Data Analysis - week 1, lecture 2, examples\n",
    "\n",
    "In the advanced data analysis course, we assume basic knowledge of Python, as could be acquired by attending the *Introduction to Programming* bridging course.\n",
    "\n",
    "This notebook includes the examples and exercises on combining Dataframes presented in **Week 1** lecture no. 2. \n"
   ]
  },
  {
   "cell_type": "code",
   "execution_count": 3,
   "id": "73635174-7db8-48d7-a52a-35e50d149d15",
   "metadata": {},
   "outputs": [],
   "source": [
    "import pandas as pd"
   ]
  },
  {
   "cell_type": "markdown",
   "id": "00790476",
   "metadata": {},
   "source": [
    "## Functions over multiple Dataframe\n",
    "\n",
    "Often, data will be in multiple tables/Dataframes. To process data, it is necessary to execute operations over these tables. \n",
    "\n",
    "We now introduce some of the operations available on Pandas for combining multiple tables.\n"
   ]
  },
  {
   "cell_type": "markdown",
   "id": "dc783041",
   "metadata": {},
   "source": [
    "### Appending tables\n",
    "\n",
    "Sometimes, we have data over which we want to perform a computation that is in two different Dataframes - e.g. because we read data from different files.\n",
    "\n",
    "Consider we have the following tables:\n",
    "\n",
    "| country | population |\n",
    "|---------|------------|\n",
    "| PT | 10276617 |\n",
    "| ES | 46937060 |\n",
    "| DE | 83019213 |\n",
    "\n",
    "and \n",
    "\n",
    "| capital | population | country |\n",
    "|---------|------------|---------|\n",
    "| Brasilia | 211049519 | BR |\n",
    "| Mexico City | 127575529 | MX |\n",
    "| Montevideu | 3461731 | UY |\n",
    "\n",
    "```pd.concat([dataframe,dataframe2])``` creates a new table that combines the values in the first dataframe followed by the values in dataframe2, using the columns name. If some column does not exist in one table, the value of the rows will be **NaN**.\n",
    "\n",
    "| country | population | capital |\n",
    "|---------|------------|---------|\n",
    "| PT | 10276617 | NaN |\n",
    "| ES | 46937060 | NaN |\n",
    "| DE | 83019213 | NaN |\n",
    "| BR | 211049519 | Brasilia |\n",
    "| MX | 127575529 | Mexico City |\n",
    "| UY | 3461731 | Montevideu |\n",
    "\n",
    "| country | population | language |\n",
    "|---------|------------|---------|\n",
    "| PT | 10276617 | Portuguese |\n",
    "| ES | 46937060 | Spanish |\n",
    "| ES | 46937060 | Catalan |\n",
    "| DE | 83019213 | German |\n",
    "| BR | 211049519 | Portuguese |\n",
    "| MX | 127575529 | Spanish |\n",
    "| UY | 3461731 | NaN |\n",
    "| AR | NaN | Spanish |\n",
    "| IT | NaN | Italian |\n",
    "\n",
    "The following code show the example running.\n"
   ]
  },
  {
   "cell_type": "code",
   "execution_count": 4,
   "id": "19a02400",
   "metadata": {},
   "outputs": [
    {
     "name": "stdout",
     "output_type": "stream",
     "text": [
      "  country  population\n",
      "0      PT    10276617\n",
      "1      ES    46937060\n",
      "2      DE    83019213\n"
     ]
    }
   ],
   "source": [
    "population1 = pd.DataFrame( { \"country\": [\"PT\", \"ES\", \"DE\"] , \\\n",
    "                            \"population\": [10276617, 46937060, 83019213]})\n",
    "\n",
    "print( population1)\n",
    "\n"
   ]
  },
  {
   "cell_type": "code",
   "execution_count": 5,
   "id": "c8d61f46",
   "metadata": {},
   "outputs": [
    {
     "name": "stdout",
     "output_type": "stream",
     "text": [
      "       capital  population country\n",
      "0     Brasilia   211049519      BR\n",
      "1  Mexico City   127575529      MX\n",
      "2   Montevideu     3461731      UY\n"
     ]
    }
   ],
   "source": [
    "population2 = pd.DataFrame( {\"capital\" : [\"Brasilia\", \"Mexico City\", \"Montevideu\"],\\\n",
    "                            \"population\": [211049519, 127575529, 3461731], \\\n",
    "                            \"country\": [\"BR\", \"MX\", \"UY\"]})\n",
    "\n",
    "print( population2)\n",
    "\n"
   ]
  },
  {
   "cell_type": "code",
   "execution_count": 6,
   "id": "126dea23",
   "metadata": {},
   "outputs": [
    {
     "name": "stdout",
     "output_type": "stream",
     "text": [
      "  country  population      capital\n",
      "0      PT    10276617          NaN\n",
      "1      ES    46937060          NaN\n",
      "2      DE    83019213          NaN\n",
      "0      BR   211049519     Brasilia\n",
      "1      MX   127575529  Mexico City\n",
      "2      UY     3461731   Montevideu\n"
     ]
    }
   ],
   "source": [
    "population = pd.concat([population1,population2]) \n",
    "print( population)"
   ]
  },
  {
   "cell_type": "markdown",
   "id": "481c2940",
   "metadata": {},
   "source": [
    "### Joining tables\n",
    "\n",
    "More interestingly, we might want to combine the columns from one or more tables into a new table.\n",
    "\n",
    "Consider thehat we have the following two tables. The first table has a list of countries and their population.\n",
    "\n",
    "| country | population |\n",
    "|---------|------------|\n",
    "| PT | 10276617 |\n",
    "| ES | 46937060 |\n",
    "| DE | 83019213 |\n",
    "\n",
    "The second table has the language spoken in each country.\n",
    "\n",
    "| country | language |\n",
    "|---------|----------|\n",
    "| PT | Portuguese |\n",
    "| ES | Spanish |\n",
    "| MX | Spanish |\n",
    "| AR | Spanish |\n",
    "| DE | German |\n",
    "| IT | Italian |\n",
    "| BR | Portuguese |\n",
    "\n",
    "\n",
    "| country | language |\n",
    "|---------|----------|\n",
    "| DE | German |\n",
    "| PT | Portuguese |\n",
    "| ES | Spanish |\n",
    "\n",
    "\n",
    "\n",
    "If we want to compute the number of persons that speak each language, it would be interesting to have a single table with the country, population and language columns. To this end, we need to combine both of the previous tables (this can also be seen as extending the first table with the values of the second table).\n",
    "\n",
    "What we want to achieve is the following table, with columns country, population and language: \n",
    "\n",
    "| country | population | language |\n",
    "|---------|------------|----------|\n",
    "| PT | 10276617 | Portuguese |\n",
    "| ES | 46937060 | Spanish |\n",
    "| DE | 83019213 | German |\n",
    "\n",
    "\n",
    "The ```dataframe.join(dataframe2,on=column,how=\"left\"|\"right\"|\"inner\")``` function allows to combine two tables. By default, the two table are combined using the index, i.e., a row with index **i** in daataframe is combined with the row with index **i** in dataframe2. \n",
    "\n",
    "The ```dataframe.merge(dataframe2,left_on=column,right_on=column,how=\"left\"|\"right\"|\"inner\")``` function does the same as join, but allows to specify the columns to be used to combine in both dataframes. \n",
    "\n",
    "In our example, we want to combine the row with country value **N** of the first table with the row with country value **N** in the second table. To this end, we can use the ```on=\"country\"```to specify that we want to use the value of the column *country* in the first table. For dataframe2, the index will be used -- this require us to chaneg the index of dataframe2, using the ```dataframe2.set_index( col)``` function.\n",
    "\n",
    "This example is coded in the following cells."
   ]
  },
  {
   "cell_type": "markdown",
   "id": "215138eb",
   "metadata": {},
   "source": [
    "### Joining tables\n",
    "\n",
    "More interestingly, we might want to combine the columns from one or more tables into a new table.\n",
    "\n",
    "Consider thehat we have the following two tables. The first table has a list of countries and their population.\n",
    "\n",
    "| country | population |\n",
    "|---------|------------|\n",
    "| PT | 10276617 |\n",
    "| ES | 46937060 |\n",
    "| DE | 83019213 |\n",
    "\n",
    "The second table has the language spoken in each country.\n",
    "\n",
    "| country | language |\n",
    "|---------|----------|\n",
    "| PT | Portuguese |\n",
    "| ES | Spanish |\n",
    "| MX | Spanish |\n",
    "| AR | Spanish |\n",
    "| DE | German |\n",
    "| IT | Italian |\n",
    "| BR | Portuguese |\n",
    "\n",
    "If we want to compute the number of persons that speak each language, it would be interesting to have a single table with the country, population and language columns. To this end, we need to combine both of the previous tables (this can also be seen as extending the first table with the values of the second table).\n",
    "\n",
    "What we want to achieve is the following table, with columns country, population and language: \n",
    "\n",
    "| country | population | language |\n",
    "|---------|------------|----------|\n",
    "| PT | 10276617 | Portuguese |\n",
    "| ES | 46937060 | Spanish |\n",
    "| DE | 83019213 | German |\n",
    "\n",
    "\n",
    "The ```dataframe.join(dataframe2,on=column,how=\"left\"|\"right\"|\"inner\")``` function allows to combine two tables. By default, the two table are combined using the index, i.e., a row with index **i** in daataframe is combined with the row with index **i** in dataframe2. \n",
    "\n",
    "In our example, we want to combine the row with country value **N** of the first table with the row with country value **N** in the second table. To this end, we can use the ```on=\"country\"```to specify that we want to use the value of the column *country* in the first table. For dataframe2, the index will be used -- this require us to chaneg the index of dataframe2, using the ```dataframe2.set_index( col)``` function.\n",
    "\n",
    "This example is coded in the following cells."
   ]
  },
  {
   "cell_type": "code",
   "execution_count": 7,
   "id": "985f60cf",
   "metadata": {},
   "outputs": [
    {
     "name": "stdout",
     "output_type": "stream",
     "text": [
      "  country0    language\n",
      "0       PT  Portuguese\n",
      "1       ES     Spanish\n",
      "2       MX     Spanish\n",
      "3       AR     Spanish\n",
      "4       DE      German\n",
      "5       BR  Portuguese\n"
     ]
    }
   ],
   "source": [
    "language = pd.DataFrame( { \"country0\": [\"PT\", \"ES\", \"MX\", \"AR\", \"DE\", \"BR\"] , \\\n",
    "                            \"language\": [\"Portuguese\", \"Spanish\", \"Spanish\", \"Spanish\", \"German\", \"Portuguese\"]})\n",
    "\n",
    "print( language)\n",
    "\n"
   ]
  },
  {
   "cell_type": "code",
   "execution_count": 8,
   "id": "fceaf588",
   "metadata": {},
   "outputs": [
    {
     "name": "stdout",
     "output_type": "stream",
     "text": [
      "  country  population    language\n",
      "0      PT    10276617  Portuguese\n",
      "1      ES    46937060     Spanish\n",
      "2      DE    83019213      German\n"
     ]
    }
   ],
   "source": [
    "countries1 = population1.join(language.set_index(\"country0\"),on=\"country\")\n",
    "\n",
    "print(countries1)"
   ]
  },
  {
   "cell_type": "code",
   "execution_count": 9,
   "id": "df7dbc66-7201-47c5-bfb8-521b0ea7b013",
   "metadata": {},
   "outputs": [
    {
     "name": "stdout",
     "output_type": "stream",
     "text": [
      "  country  population country0    language\n",
      "0      PT    10276617       PT  Portuguese\n",
      "1      ES    46937060       ES     Spanish\n",
      "2      DE    83019213       DE      German\n"
     ]
    }
   ],
   "source": [
    "countries1merge = population1.merge(language,left_on=\"country\",right_on=\"country0\")\n",
    "\n",
    "print(countries1merge)"
   ]
  },
  {
   "cell_type": "markdown",
   "id": "a88930e6",
   "metadata": {},
   "source": [
    "Based on the population Dataframe computed before, compute the number of persons that speak each language."
   ]
  },
  {
   "cell_type": "code",
   "execution_count": 10,
   "id": "ceecc1e0",
   "metadata": {},
   "outputs": [
    {
     "name": "stdout",
     "output_type": "stream",
     "text": [
      "language\n",
      "German        83019213\n",
      "Portuguese    10276617\n",
      "Spanish       46937060\n",
      "Name: population, dtype: int64\n"
     ]
    }
   ],
   "source": [
    "## TODO Complete\n",
    "langStats = countries1.groupby(\"language\")[\"population\"].sum()\n",
    "\n",
    "print(langStats)"
   ]
  },
  {
   "cell_type": "markdown",
   "id": "a9d7d58c",
   "metadata": {},
   "source": [
    "### Join type : left (default)\n",
    "\n",
    "The way join works varies depending on the \n",
    "\n",
    "In a left join, each row of *dataframe* is combined with all possible values of *dataframe2*. If no row in the second dataframe matches the joining column of the first, then the value for the columns will be **NaN**.\n",
    "\n",
    "For better exemplifying, we start by extending our language table to include one other language for Spain : Catalan.\n",
    "\n",
    "| country | language |\n",
    "|---------|----------|\n",
    "| PT | Portuguese |\n",
    "| ES | Spanish |\n",
    "| ES | Catalan |\n",
    "| MX | Spanish |\n",
    "| AR | Spanish |\n",
    "| DE | German |\n",
    "| IT | Italian |\n",
    "| BR | Portuguese |\n"
   ]
  },
  {
   "cell_type": "code",
   "execution_count": 11,
   "id": "e1242faa",
   "metadata": {},
   "outputs": [
    {
     "name": "stdout",
     "output_type": "stream",
     "text": [
      "  country    language\n",
      "0      PT  Portuguese\n",
      "1      ES     Spanish\n",
      "2      ES     Catalan\n",
      "3      MX     Spanish\n",
      "4      AR     Spanish\n",
      "5      DE      German\n",
      "6      IT     Italian\n",
      "7      BR  Portuguese\n"
     ]
    }
   ],
   "source": [
    "languageExt = pd.DataFrame( { \"country\": [\"PT\", \"ES\", \"ES\", \"MX\", \"AR\", \"DE\", \"IT\", \"BR\"] , \\\n",
    "                            \"language\": [\"Portuguese\", \"Spanish\", \"Catalan\", \"Spanish\", \"Spanish\", \"German\", \"Italian\", \"Portuguese\"]})\n",
    "\n",
    "print( languageExt)\n"
   ]
  },
  {
   "cell_type": "code",
   "execution_count": 12,
   "id": "29a60261",
   "metadata": {},
   "outputs": [
    {
     "name": "stdout",
     "output_type": "stream",
     "text": [
      "  country  population    language\n",
      "0      PT    10276617  Portuguese\n",
      "1      ES    46937060     Spanish\n",
      "1      ES    46937060     Catalan\n",
      "2      DE    83019213      German\n",
      "0      BR   211049519  Portuguese\n",
      "1      MX   127575529     Spanish\n",
      "2      UY     3461731         NaN\n"
     ]
    }
   ],
   "source": [
    "countries = population[[\"country\",\"population\"]].join(languageExt.set_index(\"country\"),on=\"country\")\n",
    "\n",
    "print(countries)"
   ]
  },
  {
   "cell_type": "code",
   "execution_count": 13,
   "id": "c49afed3-36b9-42cd-ae73-4a252ddf13cc",
   "metadata": {},
   "outputs": [
    {
     "name": "stdout",
     "output_type": "stream",
     "text": [
      "  country  population    language\n",
      "0      PT    10276617  Portuguese\n",
      "1      ES    46937060     Spanish\n",
      "2      ES    46937060     Catalan\n",
      "3      DE    83019213      German\n",
      "4      BR   211049519  Portuguese\n",
      "5      MX   127575529     Spanish\n"
     ]
    }
   ],
   "source": [
    "# merge with just \"on\" will use the column with the specified name in both Dataframes \n",
    "countries = population[[\"country\",\"population\"]].merge(languageExt,on=\"country\")\n",
    "\n",
    "print(countries)"
   ]
  },
  {
   "cell_type": "markdown",
   "id": "5552476a",
   "metadata": {},
   "source": [
    "The line for Uruguay (UY) has **NaN** in the language column.\n"
   ]
  },
  {
   "cell_type": "markdown",
   "id": "2b35d405",
   "metadata": {},
   "source": [
    "### Join type : right\n",
    "\n",
    "In a right join, each row of *dataframe2* is combined with all possible values in the first *dataframe*. If no row in the first dataframe matches the joining column of the second, then the value for the columns will be **NaN**.\n",
    "\n"
   ]
  },
  {
   "cell_type": "code",
   "execution_count": 14,
   "id": "6b5ad906",
   "metadata": {},
   "outputs": [
    {
     "name": "stdout",
     "output_type": "stream",
     "text": [
      "    country   population      capital    language\n",
      "0.0      PT   10276617.0          NaN  Portuguese\n",
      "1.0      ES   46937060.0          NaN     Spanish\n",
      "1.0      ES   46937060.0          NaN     Catalan\n",
      "1.0      MX  127575529.0  Mexico City     Spanish\n",
      "NaN      AR          NaN          NaN     Spanish\n",
      "2.0      DE   83019213.0          NaN      German\n",
      "NaN      IT          NaN          NaN     Italian\n",
      "0.0      BR  211049519.0     Brasilia  Portuguese\n"
     ]
    }
   ],
   "source": [
    "countries = population.join(languageExt.set_index(\"country\"),on=\"country\",how=\"right\")\n",
    "\n",
    "print(countries)\n"
   ]
  },
  {
   "cell_type": "code",
   "execution_count": 15,
   "id": "57a7c203-630a-4e1a-ae04-382da4b842f8",
   "metadata": {},
   "outputs": [
    {
     "name": "stdout",
     "output_type": "stream",
     "text": [
      "  country  population      capital    language\n",
      "0      PT    10276617          NaN  Portuguese\n",
      "1      ES    46937060          NaN     Spanish\n",
      "2      ES    46937060          NaN     Catalan\n",
      "3      DE    83019213          NaN      German\n",
      "4      BR   211049519     Brasilia  Portuguese\n",
      "5      MX   127575529  Mexico City     Spanish\n"
     ]
    }
   ],
   "source": [
    "countriesMerge = population.merge(languageExt,on=\"country\")\n",
    "\n",
    "print(countriesMerge)\n"
   ]
  },
  {
   "cell_type": "markdown",
   "id": "59400c03",
   "metadata": {},
   "source": [
    "### Join type : inner\n",
    "\n",
    "In an inner join, each row of *dataframe* is combined with all possible values in the second *dataframe*. If no row in the second dataframe matches the joining column of the first, then the row will not be part of the result.\n",
    "\n"
   ]
  },
  {
   "cell_type": "code",
   "execution_count": 16,
   "id": "8357bfd9",
   "metadata": {},
   "outputs": [
    {
     "name": "stdout",
     "output_type": "stream",
     "text": [
      "  country  population      capital    language\n",
      "0      PT    10276617          NaN  Portuguese\n",
      "1      ES    46937060          NaN     Spanish\n",
      "1      ES    46937060          NaN     Catalan\n",
      "2      DE    83019213          NaN      German\n",
      "0      BR   211049519     Brasilia  Portuguese\n",
      "1      MX   127575529  Mexico City     Spanish\n"
     ]
    }
   ],
   "source": [
    "countries = population.join(languageExt.set_index(\"country\"),on=\"country\",how=\"inner\")\n",
    "\n",
    "print(countries)\n"
   ]
  },
  {
   "cell_type": "code",
   "execution_count": 17,
   "id": "c77bcb18-17ec-4450-bb78-3ff0c1bae1b3",
   "metadata": {},
   "outputs": [
    {
     "name": "stdout",
     "output_type": "stream",
     "text": [
      "  country  population      capital    language\n",
      "0      PT    10276617          NaN  Portuguese\n",
      "1      ES    46937060          NaN     Spanish\n",
      "2      ES    46937060          NaN     Catalan\n",
      "3      DE    83019213          NaN      German\n",
      "4      BR   211049519     Brasilia  Portuguese\n",
      "5      MX   127575529  Mexico City     Spanish\n"
     ]
    }
   ],
   "source": [
    "countries = population.merge(languageExt,on=\"country\",how=\"inner\")\n",
    "\n",
    "print(countries)\n"
   ]
  },
  {
   "cell_type": "markdown",
   "id": "3126348d",
   "metadata": {},
   "source": [
    "### Join type : outer\n",
    "\n",
    "In an outnner join, each row of *dataframe* is combined with all possible values in the second *dataframe*. If no row exists in any of the dataframes, both row will appear in the final result.\n",
    "\n"
   ]
  },
  {
   "cell_type": "code",
   "execution_count": 18,
   "id": "109c1387",
   "metadata": {},
   "outputs": [
    {
     "name": "stdout",
     "output_type": "stream",
     "text": [
      "    country   population      capital    language\n",
      "0.0      PT   10276617.0          NaN  Portuguese\n",
      "1.0      ES   46937060.0          NaN     Spanish\n",
      "1.0      ES   46937060.0          NaN     Catalan\n",
      "2.0      DE   83019213.0          NaN      German\n",
      "0.0      BR  211049519.0     Brasilia  Portuguese\n",
      "1.0      MX  127575529.0  Mexico City     Spanish\n",
      "2.0      UY    3461731.0   Montevideu         NaN\n",
      "NaN      AR          NaN          NaN     Spanish\n",
      "NaN      IT          NaN          NaN     Italian\n"
     ]
    }
   ],
   "source": [
    "countries = population.join(languageExt.set_index(\"country\"),on=\"country\",how=\"outer\")\n",
    "\n",
    "print(countries)"
   ]
  },
  {
   "cell_type": "code",
   "execution_count": 19,
   "id": "1666eb6f-4467-4703-8582-e32158b6a790",
   "metadata": {},
   "outputs": [
    {
     "name": "stdout",
     "output_type": "stream",
     "text": [
      "  country   population      capital    language\n",
      "0      PT   10276617.0          NaN  Portuguese\n",
      "1      ES   46937060.0          NaN     Spanish\n",
      "2      ES   46937060.0          NaN     Catalan\n",
      "3      DE   83019213.0          NaN      German\n",
      "4      BR  211049519.0     Brasilia  Portuguese\n",
      "5      MX  127575529.0  Mexico City     Spanish\n",
      "6      UY    3461731.0   Montevideu         NaN\n",
      "7      AR          NaN          NaN     Spanish\n",
      "8      IT          NaN          NaN     Italian\n"
     ]
    }
   ],
   "source": [
    "countries = population.merge(languageExt,on=\"country\",how=\"outer\")\n",
    "\n",
    "print(countries)"
   ]
  },
  {
   "cell_type": "markdown",
   "id": "d9a019da",
   "metadata": {},
   "source": [
    "## Exercises\n"
   ]
  },
  {
   "cell_type": "markdown",
   "id": "9b916263",
   "metadata": {},
   "source": [
    "### Exercise 1\n",
    "\n",
    "Based on the given data, compute the population that speaks Spanish."
   ]
  },
  {
   "cell_type": "code",
   "execution_count": 20,
   "id": "6f9ea070",
   "metadata": {},
   "outputs": [
    {
     "name": "stdout",
     "output_type": "stream",
     "text": [
      "174512589.0\n"
     ]
    }
   ],
   "source": [
    "print(countries.loc[countries[\"language\"] == \"Spanish\"][\"population\"].sum())"
   ]
  },
  {
   "cell_type": "markdown",
   "id": "71e0bf2b",
   "metadata": {},
   "source": [
    "### Exercise 2\n",
    "\n",
    "For each language for which there is some known population, compute the population that speaks such language."
   ]
  },
  {
   "cell_type": "code",
   "execution_count": 23,
   "id": "03b8b314",
   "metadata": {},
   "outputs": [
    {
     "name": "stdout",
     "output_type": "stream",
     "text": [
      "language\n",
      "Catalan        46937060.0\n",
      "German         83019213.0\n",
      "Portuguese    221326136.0\n",
      "Spanish       174512589.0\n",
      "Name: population, dtype: float64\n"
     ]
    }
   ],
   "source": [
    "print(countries.loc[countries[\"population\"] > 0].groupby(\"language\")[\"population\"].sum())"
   ]
  }
 ],
 "metadata": {
  "kernelspec": {
   "display_name": "Python 3 (ipykernel)",
   "language": "python",
   "name": "python3"
  },
  "language_info": {
   "codemirror_mode": {
    "name": "ipython",
    "version": 3
   },
   "file_extension": ".py",
   "mimetype": "text/x-python",
   "name": "python",
   "nbconvert_exporter": "python",
   "pygments_lexer": "ipython3",
   "version": "3.11.4"
  }
 },
 "nbformat": 4,
 "nbformat_minor": 5
}
