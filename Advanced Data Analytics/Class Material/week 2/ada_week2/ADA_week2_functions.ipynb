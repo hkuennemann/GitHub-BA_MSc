{
 "cells": [
  {
   "cell_type": "markdown",
   "id": "d9e90bac",
   "metadata": {},
   "source": [
    "# Advanced Data Analysis - week 2 - functions\n",
    "\n",
    "In the advanced data analysis course, we assume basic knowledge of Python, as could be acquired by attending the *Introduction to Programming* bridging course.\n",
    "\n",
    "This notebook presents more examples on functions and their use in Pandas.\n",
    "\n"
   ]
  },
  {
   "cell_type": "markdown",
   "id": "7a3c4a3c",
   "metadata": {},
   "source": [
    "## Preliminaries\n",
    "\n",
    "Let's start by import Pandas, matplotlib and os libraries."
   ]
  },
  {
   "cell_type": "code",
   "execution_count": 1,
   "id": "dc27bd22",
   "metadata": {},
   "outputs": [],
   "source": [
    "# imports pandas\n",
    "import pandas as pd\n",
    "\n",
    "\n",
    "import os"
   ]
  },
  {
   "cell_type": "markdown",
   "id": "4bb93293",
   "metadata": {},
   "source": [
    "## Examples\n",
    "\n",
    "We will start by creating a simple "
   ]
  },
  {
   "cell_type": "code",
   "execution_count": 2,
   "id": "e655c50b",
   "metadata": {},
   "outputs": [
    {
     "name": "stdout",
     "output_type": "stream",
     "text": [
      "  country  population    language\n",
      "0      PT    10276617  Portuguese\n",
      "1      ES    46937060     Spanish\n",
      "2      DE    83019213      German\n",
      "3      BR   211049519  Portuguese\n",
      "4      MX   127575529     Spanish\n",
      "5      UY     3461731     Spanish\n"
     ]
    }
   ],
   "source": [
    "data = pd.DataFrame( { \"country\": [\"PT\", \"ES\", \"DE\", \"BR\", \"MX\", \"UY\"] , \\\n",
    "                            \"population\": [10276617, 46937060, 83019213, 211049519, 127575529, 3461731], \\\n",
    "                            \"language\": [\"Portuguese\", \"Spanish\", \"German\", \"Portuguese\", \"Spanish\", \"Spanish\"]})\n",
    "\n",
    "print(data)"
   ]
  },
  {
   "cell_type": "markdown",
   "id": "ac043e0b",
   "metadata": {},
   "source": [
    "Consider we want to compute the number of persons that speak each language.\n",
    "\n",
    "We would need to group the information by the language, and for each group sum the population."
   ]
  },
  {
   "cell_type": "code",
   "execution_count": 3,
   "id": "88c0c11a",
   "metadata": {},
   "outputs": [
    {
     "name": "stdout",
     "output_type": "stream",
     "text": [
      "            population\n",
      "language              \n",
      "German        83019213\n",
      "Portuguese   221326136\n",
      "Spanish      177974320\n"
     ]
    }
   ],
   "source": [
    "stats = data[[\"population\",\"language\"]].groupby(\"language\").sum()\n",
    "\n",
    "print( stats)"
   ]
  },
  {
   "cell_type": "markdown",
   "id": "998089a8",
   "metadata": {},
   "source": [
    "What if we wanted to print the information about the country with the largest population for each language?\n",
    "\n",
    "As the function ```nlargest``` is not defined for the result of the groupby, we need to define a function that computes the ```nlargest```. The function apply allows to define a function that will be applied to each group individually - the data of each group is passed to the function as a DataFrame, allowing us to call any function defined on Dataframes, including the ```nlargest```. Given this, the code of our function only needs to return the largest row, given the population. Pandas will automatically call the function for each group.\n",
    "\n",
    "The syntax for defining a function is the following:\n",
    "\n",
    "```\n",
    "def nameOfFunction( arguments):\n",
    "    statement\n",
    "    return expression\n",
    "```\n",
    "\n",
    "where arguments is a list of variables, possibly empty, and statement and expression is any Python statement or expression.\n"
   ]
  },
  {
   "cell_type": "code",
   "execution_count": 6,
   "id": "da1a6d8f",
   "metadata": {},
   "outputs": [
    {
     "name": "stdout",
     "output_type": "stream",
     "text": [
      "             country  population    language\n",
      "language                                    \n",
      "German     2      DE    83019213      German\n",
      "Portuguese 3      BR   211049519  Portuguese\n",
      "Spanish    4      MX   127575529     Spanish\n"
     ]
    }
   ],
   "source": [
    "def mylargest( p):\n",
    "    return p.nlargest(1,[\"population\"])\n",
    "\n",
    "stats2 = data.groupby(\"language\").apply(mylargest)\n",
    "\n",
    "print( stats2)"
   ]
  },
  {
   "cell_type": "markdown",
   "id": "9e3dccfb",
   "metadata": {},
   "source": [
    "To better show up what is going on, let's do some printing in the code of function.\n",
    "\n",
    "We will be printing the type of the variable received - to confirm that it is a DataFrame - and the contents of the Dataframe."
   ]
  },
  {
   "cell_type": "code",
   "execution_count": 7,
   "id": "d1352245",
   "metadata": {},
   "outputs": [
    {
     "name": "stdout",
     "output_type": "stream",
     "text": [
      "The type of variable p is <class 'pandas.core.frame.DataFrame'>\n",
      "The contents of p :\n",
      "  country  population language\n",
      "2      DE    83019213   German\n",
      "-------------------------\n",
      "The type of variable p is <class 'pandas.core.frame.DataFrame'>\n",
      "The contents of p :\n",
      "  country  population    language\n",
      "0      PT    10276617  Portuguese\n",
      "3      BR   211049519  Portuguese\n",
      "-------------------------\n",
      "The type of variable p is <class 'pandas.core.frame.DataFrame'>\n",
      "The contents of p :\n",
      "  country  population language\n",
      "1      ES    46937060  Spanish\n",
      "4      MX   127575529  Spanish\n",
      "5      UY     3461731  Spanish\n",
      "-------------------------\n",
      "Final result\n",
      "             country  population    language\n",
      "language                                    \n",
      "German     2      DE    83019213      German\n",
      "Portuguese 3      BR   211049519  Portuguese\n",
      "Spanish    4      MX   127575529     Spanish\n"
     ]
    }
   ],
   "source": [
    "def mylargest2( p):\n",
    "    print( \"The type of variable p is \" + str(type(p)))\n",
    "    print( \"The contents of p :\")\n",
    "    print( p)\n",
    "    print( \"-------------------------\")\n",
    "    return p.nlargest(1,[\"population\"])\n",
    "\n",
    "stats2 = data.groupby(\"language\").apply(mylargest2)\n",
    "\n",
    "print( \"Final result\")\n",
    "print( stats2)"
   ]
  },
  {
   "cell_type": "markdown",
   "id": "ae9847f6",
   "metadata": {},
   "source": [
    "As you can see, the function was called three time, one for each group.\n",
    "\n",
    "The functions defined in one cell are available in the following cells. For example, we can use function ```mylargest2```without defining it again."
   ]
  },
  {
   "cell_type": "code",
   "execution_count": 8,
   "id": "176225b6",
   "metadata": {},
   "outputs": [
    {
     "name": "stdout",
     "output_type": "stream",
     "text": [
      "The type of variable p is <class 'pandas.core.frame.DataFrame'>\n",
      "The contents of p :\n",
      "  country  population language\n",
      "2      DE    83019213   German\n",
      "-------------------------\n",
      "The type of variable p is <class 'pandas.core.frame.DataFrame'>\n",
      "The contents of p :\n",
      "  country  population    language\n",
      "0      PT    10276617  Portuguese\n",
      "3      BR   211049519  Portuguese\n",
      "-------------------------\n",
      "The type of variable p is <class 'pandas.core.frame.DataFrame'>\n",
      "The contents of p :\n",
      "  country  population language\n",
      "1      ES    46937060  Spanish\n",
      "4      MX   127575529  Spanish\n",
      "5      UY     3461731  Spanish\n",
      "-------------------------\n",
      "Final result\n",
      "             country  population    language\n",
      "language                                    \n",
      "German     2      DE    83019213      German\n",
      "Portuguese 3      BR   211049519  Portuguese\n",
      "Spanish    4      MX   127575529     Spanish\n"
     ]
    }
   ],
   "source": [
    "stats2 = data.groupby(\"language\").apply(mylargest2)\n",
    "\n",
    "print( \"Final result\")\n",
    "print( stats2)"
   ]
  },
  {
   "cell_type": "markdown",
   "id": "8fa9274e",
   "metadata": {},
   "source": [
    "When performing data analysis, the functions use are often simple, containing a single line. \n",
    "\n",
    "For simple functions, instead of defining a function using the normal syntax, it is possible to use a lambda function. The lambda function is definded with the following syntax:\n",
    "\n",
    "```lambda arguments : expression```\n",
    "\n",
    "This is equivalent to define the function\n",
    "\n",
    "```\n",
    "def myfun( arguments):\n",
    "    return expression\n",
    "```\n",
    "\n",
    "So, let's rewrite the previous code using a lambda function."
   ]
  },
  {
   "cell_type": "code",
   "execution_count": 7,
   "id": "d1fb575e",
   "metadata": {},
   "outputs": [
    {
     "name": "stdout",
     "output_type": "stream",
     "text": [
      "             country  population    language\n",
      "language                                    \n",
      "German     2      DE    83019213      German\n",
      "Portuguese 3      BR   211049519  Portuguese\n",
      "Spanish    4      MX   127575529     Spanish\n"
     ]
    }
   ],
   "source": [
    "stats2 = data.groupby(\"language\").apply(lambda p: p.nlargest(1,[\"population\"]) )\n",
    "\n",
    "print( stats2)"
   ]
  },
  {
   "cell_type": "markdown",
   "id": "11bc37f7",
   "metadata": {},
   "source": [
    "In data analysis code it is common to have functions defined as lambda functions.\n",
    "\n",
    "I hope this notebooks has helps consolidating your knowledge about functions. As a final exercise, compute the number of persons that speak each language (our first example in this notebook) using a function defined by you."
   ]
  },
  {
   "cell_type": "code",
   "execution_count": null,
   "id": "7806d509",
   "metadata": {},
   "outputs": [],
   "source": []
  }
 ],
 "metadata": {
  "kernelspec": {
   "display_name": "Python 3 (ipykernel)",
   "language": "python",
   "name": "python3"
  },
  "language_info": {
   "codemirror_mode": {
    "name": "ipython",
    "version": 3
   },
   "file_extension": ".py",
   "mimetype": "text/x-python",
   "name": "python",
   "nbconvert_exporter": "python",
   "pygments_lexer": "ipython3",
   "version": "3.11.4"
  }
 },
 "nbformat": 4,
 "nbformat_minor": 5
}
