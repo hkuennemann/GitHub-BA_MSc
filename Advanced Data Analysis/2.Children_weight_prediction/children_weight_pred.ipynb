{
 "cells": [
  {
   "cell_type": "markdown",
   "metadata": {},
   "source": [
    "# Children Weight Prediction"
   ]
  },
  {
   "cell_type": "markdown",
   "metadata": {},
   "source": [
    "# Dataset"
   ]
  },
  {
   "cell_type": "markdown",
   "metadata": {},
   "source": [
    "The file children.csv contains a file with two columns. The first column is the age of each child in\n",
    "months, and the second the weight in Kg. The data is from the National Health and Nutrition Examination\n",
    "Survey of 2017-2018 and represents a sample of children up to 24 months old.\n",
    "\n",
    "The following code loads the children.csv file "
   ]
  },
  {
   "cell_type": "code",
   "execution_count": 1,
   "metadata": {},
   "outputs": [
    {
     "data": {
      "text/html": [
       "<div>\n",
       "<style scoped>\n",
       "    .dataframe tbody tr th:only-of-type {\n",
       "        vertical-align: middle;\n",
       "    }\n",
       "\n",
       "    .dataframe tbody tr th {\n",
       "        vertical-align: top;\n",
       "    }\n",
       "\n",
       "    .dataframe thead th {\n",
       "        text-align: right;\n",
       "    }\n",
       "</style>\n",
       "<table border=\"1\" class=\"dataframe\">\n",
       "  <thead>\n",
       "    <tr style=\"text-align: right;\">\n",
       "      <th></th>\n",
       "      <th>age</th>\n",
       "      <th>weight</th>\n",
       "    </tr>\n",
       "  </thead>\n",
       "  <tbody>\n",
       "    <tr>\n",
       "      <th>0</th>\n",
       "      <td>11.0</td>\n",
       "      <td>10.2</td>\n",
       "    </tr>\n",
       "    <tr>\n",
       "      <th>1</th>\n",
       "      <td>21.0</td>\n",
       "      <td>10.6</td>\n",
       "    </tr>\n",
       "    <tr>\n",
       "      <th>2</th>\n",
       "      <td>7.0</td>\n",
       "      <td>9.3</td>\n",
       "    </tr>\n",
       "    <tr>\n",
       "      <th>3</th>\n",
       "      <td>19.0</td>\n",
       "      <td>8.3</td>\n",
       "    </tr>\n",
       "    <tr>\n",
       "      <th>4</th>\n",
       "      <td>16.0</td>\n",
       "      <td>9.2</td>\n",
       "    </tr>\n",
       "  </tbody>\n",
       "</table>\n",
       "</div>"
      ],
      "text/plain": [
       "    age  weight\n",
       "0  11.0    10.2\n",
       "1  21.0    10.6\n",
       "2   7.0     9.3\n",
       "3  19.0     8.3\n",
       "4  16.0     9.2"
      ]
     },
     "execution_count": 1,
     "metadata": {},
     "output_type": "execute_result"
    }
   ],
   "source": [
    "# This code cell does not need to be changed\n",
    "import os\n",
    "import pandas as pd\n",
    "\n",
    "dataFileName = os.path.join( \"data\", \"children.csv\")\n",
    "dataDF = pd.read_csv(dataFileName)\n",
    "dataDF.head()"
   ]
  },
  {
   "cell_type": "markdown",
   "metadata": {},
   "source": [
    "In this project, I aim to predict the weight of a children until 24 monthts old based on child age. \n",
    "\n",
    "\n",
    "I start by importing the needed libraries"
   ]
  },
  {
   "cell_type": "code",
   "execution_count": 2,
   "metadata": {},
   "outputs": [],
   "source": [
    "import numpy as np\n",
    "from sklearn import linear_model\n",
    "from sklearn.preprocessing import PolynomialFeatures\n",
    "import matplotlib.pyplot as plt"
   ]
  },
  {
   "cell_type": "markdown",
   "metadata": {},
   "source": [
    "## Part 1\n",
    "\n",
    "In this part, I aim to create a linear regression model do predict the weight of a children based on his/her age. \n",
    "\n",
    "### **1.a)** Let's start by plotting the data in a scatter plot.  Is there any correlation between the weight and age of children?"
   ]
  },
  {
   "cell_type": "code",
   "execution_count": 3,
   "metadata": {},
   "outputs": [
    {
     "data": {
      "image/png": "[encoded data removed]",
      "text/plain": [
       "<Figure size 640x480 with 1 Axes>"
      ]
     },
     "metadata": {},
     "output_type": "display_data"
    }
   ],
   "source": [
    "age = dataDF[[\"age\"]]\n",
    "weight = dataDF[[\"weight\"]]\n",
    "\n",
    "plt.scatter(age, weight, c = \"b\")\n",
    "plt.xlabel(\"age\")\n",
    "plt.ylabel(\"weight\")\n",
    "plt.show()"
   ]
  },
  {
   "cell_type": "code",
   "execution_count": 4,
   "metadata": {},
   "outputs": [
    {
     "data": {
      "text/html": [
       "<div>\n",
       "<style scoped>\n",
       "    .dataframe tbody tr th:only-of-type {\n",
       "        vertical-align: middle;\n",
       "    }\n",
       "\n",
       "    .dataframe tbody tr th {\n",
       "        vertical-align: top;\n",
       "    }\n",
       "\n",
       "    .dataframe thead th {\n",
       "        text-align: right;\n",
       "    }\n",
       "</style>\n",
       "<table border=\"1\" class=\"dataframe\">\n",
       "  <thead>\n",
       "    <tr style=\"text-align: right;\">\n",
       "      <th></th>\n",
       "      <th>age</th>\n",
       "      <th>weight</th>\n",
       "    </tr>\n",
       "  </thead>\n",
       "  <tbody>\n",
       "    <tr>\n",
       "      <th>age</th>\n",
       "      <td>1.000000</td>\n",
       "      <td>0.879615</td>\n",
       "    </tr>\n",
       "    <tr>\n",
       "      <th>weight</th>\n",
       "      <td>0.879615</td>\n",
       "      <td>1.000000</td>\n",
       "    </tr>\n",
       "  </tbody>\n",
       "</table>\n",
       "</div>"
      ],
      "text/plain": [
       "             age    weight\n",
       "age     1.000000  0.879615\n",
       "weight  0.879615  1.000000"
      ]
     },
     "execution_count": 4,
     "metadata": {},
     "output_type": "execute_result"
    }
   ],
   "source": [
    "dataDF.corr()"
   ]
  },
  {
   "cell_type": "markdown",
   "metadata": {},
   "source": [
    "**Note** As the correlation between age and weight is approximately 0.88 they are strongly positive correlated, meaning that there seems to be a linear relationship between those variables. Thus, it does make sense to create a linear regression model to predict the weight of a children.\n",
    "\n",
    "The data provided only lists weights for people under 25 (\"children\"). Thus, it is important to mention, that this correlation might change, once this threshold is disregarded. "
   ]
  },
  {
   "cell_type": "markdown",
   "metadata": {},
   "source": [
    "### **1.b)** Building a linear regression model and estimating the true error"
   ]
  },
  {
   "cell_type": "markdown",
   "metadata": {},
   "source": [
    "As the true error cannot be computed, I can only estimate it. In order to do so, a good approach is creating a linear regression model. Before doing so, however, I first split the entire dataset into two sub-datasets: A train and a test dataset. I then created the linear regression model for the train dataset and looked at the model performance on the test dataset. For that, the Mean Squared Error (MSE) is a good measurement."
   ]
  },
  {
   "cell_type": "code",
   "execution_count": 5,
   "metadata": {},
   "outputs": [
    {
     "name": "stdout",
     "output_type": "stream",
     "text": [
      "Test Error: 1.754934812771458\n"
     ]
    }
   ],
   "source": [
    "from sklearn.model_selection import train_test_split\n",
    "from sklearn.metrics import mean_squared_error\n",
    "\n",
    "seed = 10\n",
    "\n",
    "polynomial_features_Q1 = PolynomialFeatures(1) # Up until now, we only care for degree = 1\n",
    "\n",
    "# Transform the original input data\n",
    "poly_trans_Q1 = polynomial_features_Q1.fit_transform(age)\n",
    "input_df_Q1 = pd.DataFrame(poly_trans_Q1)\n",
    "input_df_Q1[\"weight\"] = weight # after transformation append the target variable y to the DataFrame df\n",
    "\n",
    "# Split the data into train and test set: 20% of original sample --> test; 80% train\n",
    "train_set_Q1, test_set_Q1 = train_test_split(input_df_Q1, test_size = 0.2, random_state = seed)\n",
    "\n",
    "# Order train data by x (just a trick to show properly the polynomial model)\n",
    "train_set_Q1 = train_set_Q1.sort_values(1) \n",
    "\n",
    "# Defining the input dataset for the training and the respective weight values\n",
    "train_input_df_Q1 = train_set_Q1.iloc[:,0:(len(train_set_Q1.columns)-1)] \n",
    "weight_train_Q1 = train_set_Q1[[\"weight\"]]\n",
    "\n",
    "# Defining the input dataset for the testing and the respective weight values\n",
    "test_input_df_Q1 = test_set_Q1.iloc[:,0:(len(test_set_Q1.columns)-1)] \n",
    "weight_test_Q1 = test_set_Q1[[\"weight\"]]\n",
    "\n",
    "# Train Model\n",
    "model_Q1 = linear_model.LinearRegression()\n",
    "model_Q1.fit(train_input_df_Q1, weight_train_Q1)\n",
    "\n",
    "# Apply model to Training Set\n",
    "poly_model_Q1 = model_Q1.predict(train_input_df_Q1)\n",
    "\n",
    "# Apply model to Test Set\n",
    "poly_pred_test_Q1 = model_Q1.predict(test_input_df_Q1)\n",
    "\n",
    "# Compute square error on train data\n",
    "error_train_Q1 = mean_squared_error(weight_train_Q1, poly_model_Q1)\n",
    "\n",
    "# Compute square error on test data (unseen)\n",
    "error_test_Q1 = mean_squared_error(weight_test_Q1, poly_pred_test_Q1)\n",
    "\n",
    "print(\"Test Error:\", error_test_Q1) "
   ]
  },
  {
   "cell_type": "markdown",
   "metadata": {},
   "source": [
    "The MSE for the test set, which is also the true error estimation, is 1.71.\n",
    "\n",
    "Note: It is also interesting to look at the MSE for the train set. As shown below, this is approximately 1.62."
   ]
  },
  {
   "cell_type": "code",
   "execution_count": 6,
   "metadata": {},
   "outputs": [
    {
     "name": "stdout",
     "output_type": "stream",
     "text": [
      "Train Error: 1.6022001067894955\n"
     ]
    }
   ],
   "source": [
    "print(\"Train Error:\", error_train_Q1)"
   ]
  },
  {
   "cell_type": "markdown",
   "metadata": {},
   "source": [
    "In order to retrieve a better estimate, it is, however, a good idea to use a k-fold validation. Here, I will use k = 10. By doing so, I reduce the variance of the performance estimate, which is important for a solid true error estimate."
   ]
  },
  {
   "cell_type": "code",
   "execution_count": 7,
   "metadata": {},
   "outputs": [
    {
     "name": "stdout",
     "output_type": "stream",
     "text": [
      "K-fold estimate: -1.636245443944943\n"
     ]
    }
   ],
   "source": [
    "from sklearn.model_selection import cross_val_score\n",
    "import sklearn\n",
    "\n",
    "model_Q1_kfold = linear_model.LinearRegression()\n",
    "\n",
    "k_fold = cross_val_score(model_Q1_kfold, input_df_Q1.iloc[:, :2], weight, scoring='neg_mean_squared_error', cv=10).mean()\n",
    "print(\"K-fold estimate:\", k_fold)"
   ]
  },
  {
   "cell_type": "markdown",
   "metadata": {},
   "source": [
    "The most solid true error estimate I can provide is the one retrieved from the k-fold validation, and, therefore, has a value of approximately 1.64."
   ]
  },
  {
   "cell_type": "markdown",
   "metadata": {},
   "source": [
    "### **1.c)** Displaying in a visualization the data used to build the model as well as the model obtained."
   ]
  },
  {
   "cell_type": "markdown",
   "metadata": {},
   "source": [
    "**Approach 1 (Splitting the dataset into a train- and testset)**"
   ]
  },
  {
   "cell_type": "code",
   "execution_count": 8,
   "metadata": {},
   "outputs": [
    {
     "data": {
      "image/png": "[encoded data removed]",
      "text/plain": [
       "<Figure size 640x480 with 1 Axes>"
      ]
     },
     "metadata": {},
     "output_type": "display_data"
    }
   ],
   "source": [
    "# Plot train set and show the model\n",
    "plt.scatter(train_input_df_Q1.iloc[:,1], weight_train_Q1, c = \"blue\") # train set\n",
    "\n",
    "plt.plot(train_input_df_Q1.iloc[:,1], poly_model_Q1, color = \"green\", lw = 3) #  model\n",
    "plt.show()"
   ]
  },
  {
   "cell_type": "markdown",
   "metadata": {},
   "source": [
    "In order to build the model, I only use the train dataset, here presented by the blue dots. This train dataset is 80% of the orignial dataset. For these datapoints I computed a linear regression (the model), here presented by the green line. As computed in 1b) the MSE of this regression for the train dataset is approximately 1.6.\n",
    "\n",
    "Note: It is also interesting to look at the model and the test dataset. Here, the computed MSE is approximately 1.75."
   ]
  },
  {
   "cell_type": "code",
   "execution_count": 9,
   "metadata": {},
   "outputs": [
    {
     "data": {
      "image/png": "[encoded data removed]",
      "text/plain": [
       "<Figure size 640x480 with 1 Axes>"
      ]
     },
     "metadata": {},
     "output_type": "display_data"
    }
   ],
   "source": [
    "# Plot test set and show the model \n",
    "plt.scatter(test_input_df_Q1.iloc[:,1], weight_test_Q1, c = \"red\") # test set\n",
    "\n",
    "plt.plot(train_input_df_Q1.iloc[:,1],poly_model_Q1, color = \"green\", lw = 3) #  model\n",
    "plt.show()"
   ]
  },
  {
   "cell_type": "markdown",
   "metadata": {},
   "source": [
    "The equation of the model obtained is:"
   ]
  },
  {
   "cell_type": "code",
   "execution_count": 10,
   "metadata": {},
   "outputs": [
    {
     "name": "stdout",
     "output_type": "stream",
     "text": [
      "weight ≈ 0.33934 * age + 5.70009\n"
     ]
    }
   ],
   "source": [
    "print(\"weight ≈\",round(model_Q1.coef_[0][1], 5), \"* age +\", round(model_Q1.intercept_[0], 5))"
   ]
  },
  {
   "cell_type": "markdown",
   "metadata": {},
   "source": [
    "**Approach 2 (k-fold validation)**"
   ]
  },
  {
   "cell_type": "code",
   "execution_count": 11,
   "metadata": {},
   "outputs": [
    {
     "name": "stdout",
     "output_type": "stream",
     "text": [
      "weight ≈ 0.33859 * age + 5.66962\n"
     ]
    },
    {
     "data": {
      "image/png": "[encoded data removed]",
      "text/plain": [
       "<Figure size 640x480 with 1 Axes>"
      ]
     },
     "metadata": {},
     "output_type": "display_data"
    }
   ],
   "source": [
    "# fitting the linear regression\n",
    "fitted = model_Q1_kfold.fit(age, weight)\n",
    "\n",
    "# prediction\n",
    "xy = fitted.predict(age)\n",
    "\n",
    "# show equation\n",
    "print(\"weight ≈\",round(model_Q1_kfold.coef_[0][0], 5), \"* age +\", round(model_Q1_kfold.intercept_[0], 5))\n",
    "\n",
    "# plotting the model\n",
    "plt.scatter(age, weight)\n",
    "plt.xlabel(\"age\")\n",
    "plt.ylabel(\"weight\")\n",
    "plt.plot(age, xy, color = \"red\")\n",
    "plt.show()"
   ]
  },
  {
   "cell_type": "markdown",
   "metadata": {},
   "source": [
    "**Note** Note that the equation retrieved by the k-fold approach is slightly different than the one from the single-split approach. This does make sense, as we split k times, here k = 10, in the k-fold validation process. \n",
    "\n",
    "I, personally, would go with the k-fold approach, because, as aforementioned, this approach provides a more robust  estimate of the model's performance by utilizing multiple train-test splits."
   ]
  },
  {
   "cell_type": "markdown",
   "metadata": {},
   "source": [
    "## Part 2"
   ]
  },
  {
   "cell_type": "markdown",
   "metadata": {},
   "source": [
    "Here, we aim to find out if we can create a better model to predict the weigth of children based on their age."
   ]
  },
  {
   "cell_type": "markdown",
   "metadata": {},
   "source": [
    "### **2.a)** Evaluating polynomial models of degrees 1 through 10. What degree is best in order to have a better model when compared to the model built previously?"
   ]
  },
  {
   "cell_type": "markdown",
   "metadata": {},
   "source": [
    "As aforementioned, the approach to use in order to get a solid true error estimate is the k-fold validation. I will use the k-fold validation with k = 10 here for each degree (from 1 to 10) and based on those values, I can make a decision about the degree I would choose."
   ]
  },
  {
   "cell_type": "code",
   "execution_count": 12,
   "metadata": {},
   "outputs": [
    {
     "data": {
      "text/html": [
       "<div>\n",
       "<style scoped>\n",
       "    .dataframe tbody tr th:only-of-type {\n",
       "        vertical-align: middle;\n",
       "    }\n",
       "\n",
       "    .dataframe tbody tr th {\n",
       "        vertical-align: top;\n",
       "    }\n",
       "\n",
       "    .dataframe thead th {\n",
       "        text-align: right;\n",
       "    }\n",
       "</style>\n",
       "<table border=\"1\" class=\"dataframe\">\n",
       "  <thead>\n",
       "    <tr style=\"text-align: right;\">\n",
       "      <th></th>\n",
       "      <th>degree</th>\n",
       "      <th>test_error</th>\n",
       "    </tr>\n",
       "  </thead>\n",
       "  <tbody>\n",
       "    <tr>\n",
       "      <th>9</th>\n",
       "      <td>10</td>\n",
       "      <td>-1.400894</td>\n",
       "    </tr>\n",
       "    <tr>\n",
       "      <th>7</th>\n",
       "      <td>8</td>\n",
       "      <td>-1.407284</td>\n",
       "    </tr>\n",
       "    <tr>\n",
       "      <th>2</th>\n",
       "      <td>3</td>\n",
       "      <td>-1.409529</td>\n",
       "    </tr>\n",
       "    <tr>\n",
       "      <th>3</th>\n",
       "      <td>4</td>\n",
       "      <td>-1.412721</td>\n",
       "    </tr>\n",
       "    <tr>\n",
       "      <th>8</th>\n",
       "      <td>9</td>\n",
       "      <td>-1.413353</td>\n",
       "    </tr>\n",
       "    <tr>\n",
       "      <th>6</th>\n",
       "      <td>7</td>\n",
       "      <td>-1.417251</td>\n",
       "    </tr>\n",
       "    <tr>\n",
       "      <th>4</th>\n",
       "      <td>5</td>\n",
       "      <td>-1.419276</td>\n",
       "    </tr>\n",
       "    <tr>\n",
       "      <th>5</th>\n",
       "      <td>6</td>\n",
       "      <td>-1.421643</td>\n",
       "    </tr>\n",
       "    <tr>\n",
       "      <th>1</th>\n",
       "      <td>2</td>\n",
       "      <td>-1.443860</td>\n",
       "    </tr>\n",
       "    <tr>\n",
       "      <th>0</th>\n",
       "      <td>1</td>\n",
       "      <td>-1.636245</td>\n",
       "    </tr>\n",
       "  </tbody>\n",
       "</table>\n",
       "</div>"
      ],
      "text/plain": [
       "   degree  test_error\n",
       "9      10   -1.400894\n",
       "7       8   -1.407284\n",
       "2       3   -1.409529\n",
       "3       4   -1.412721\n",
       "8       9   -1.413353\n",
       "6       7   -1.417251\n",
       "4       5   -1.419276\n",
       "5       6   -1.421643\n",
       "1       2   -1.443860\n",
       "0       1   -1.636245"
      ]
     },
     "execution_count": 12,
     "metadata": {},
     "output_type": "execute_result"
    }
   ],
   "source": [
    "def trans_data(degree):\n",
    "    polynomial_features = PolynomialFeatures(degree)\n",
    "    \n",
    "    # Transform the original input data\n",
    "    poly_trans = polynomial_features.fit_transform(age)\n",
    "    input_df = pd.DataFrame(poly_trans)\n",
    "    return input_df\n",
    "\n",
    "model_Q2a = linear_model.LinearRegression()\n",
    "\n",
    "df = pd.DataFrame({'degree' : range(1, 11)})\n",
    "\n",
    "df['test_error'] = df['degree'].apply(lambda deg: cross_val_score(model_Q2a, trans_data(deg), weight, scoring='neg_mean_squared_error', cv=10).mean()) \n",
    "df.sort_values('test_error', ascending=False) "
   ]
  },
  {
   "cell_type": "markdown",
   "metadata": {},
   "source": [
    "According to the documentation of \"neg_mean_squared_error\", the best value is 0.0. Thus, as degree 10 gives the value closest to 0.0, this degree is the degree of my choice.\n",
    "\n",
    "Here, it is important to mention that a regression with degree 10 is prone to overfitting. Overfitting occurs when a model fits the training data too closely, capturing noise and leading to poor generalization on new data. Looking at the sorted dataframe provided above, choosing a degree of 3 is also very reasonable, because the score retrieved from the k-fold validation does not differ too much from the score from degree 10. Nevertheless, the k-fold cross-validation method already serves as a strategy to mitigate overfitting, as it offers a more robust evaluation of a model's performance and diminishes the likelihood of fitting noise in the data. Thus, I the degree of 10 is still the degree of my choice."
   ]
  },
  {
   "cell_type": "markdown",
   "metadata": {},
   "source": [
    "### **2.b)** Finding the coefficients of the best curve using the best polynomial degree"
   ]
  },
  {
   "cell_type": "markdown",
   "metadata": {},
   "source": [
    "**Degree = 10 (degree of my choice):**"
   ]
  },
  {
   "cell_type": "code",
   "execution_count": 13,
   "metadata": {},
   "outputs": [
    {
     "name": "stdout",
     "output_type": "stream",
     "text": [
      "[ 0.00000000e+00  3.02568656e-04  1.19871712e+00 -7.28334741e-01\n",
      "  2.17973206e-01 -3.69359649e-02  3.75055564e-03 -2.32362444e-04\n",
      "  8.59710585e-06 -1.74429951e-07  1.49262785e-09]\n",
      "4.56147016013783\n",
      "\n",
      "-------------------------\n",
      "\n",
      "Model:\n",
      "weight ≈ 0.0 * age + 1.199 * age^2 + -0.728 * age^3 + 0.218 * age^4 + -0.037 * age^5 + 0.004 * age^6 + -0.0 * age^7 + 0.0 * age^8 + -0.0 * age^9 + 0.0 * age^10 + 4.561\n"
     ]
    }
   ],
   "source": [
    "# Initializing the degree\n",
    "polynomial_features_deg10 = PolynomialFeatures(10)\n",
    "\n",
    "# Transform the original input data\n",
    "poly_trans_deg10 = polynomial_features_deg10.fit_transform(age)\n",
    "input_df_deg10 = pd.DataFrame(poly_trans_deg10)\n",
    "\n",
    "model_deg10 = linear_model.LinearRegression()\n",
    "\n",
    "fitted_deg10 = model_deg10.fit(input_df_deg10, weight)\n",
    "\n",
    "# showing coefficients\n",
    "print(fitted_deg10.coef_[0])\n",
    "print(fitted_deg10.intercept_[0])\n",
    "\n",
    "print(\"\\n-------------------------\\n\")\n",
    "\n",
    "# printing out the model\n",
    "\n",
    "equation_str_deg10 = \"weight ≈ \"\n",
    "\n",
    "for i, coefficient in enumerate(fitted_deg10.coef_[0]):\n",
    "    if i == 1:\n",
    "        equation_str_deg10 += str(round(coefficient, 3)) + \" * age\" \n",
    "    elif i > 1:\n",
    "        equation_str_deg10 += \" + \" + str(round(coefficient, 3)) + \" * age^\" + str(i)\n",
    "\n",
    "equation_str_deg10 += \" + \" + str(round(fitted_deg10.intercept_[0], 3))\n",
    "\n",
    "print(\"Model:\")\n",
    "print(equation_str_deg10)"
   ]
  },
  {
   "cell_type": "markdown",
   "metadata": {},
   "source": [
    "**Degree = 3 (also very reasonable degree):**"
   ]
  },
  {
   "cell_type": "code",
   "execution_count": 14,
   "metadata": {},
   "outputs": [
    {
     "name": "stdout",
     "output_type": "stream",
     "text": [
      "[ 0.          0.80023602 -0.03769543  0.00081819]\n",
      "4.561069241606085\n",
      "\n",
      "-------------------------\n",
      "\n",
      "Model:\n",
      "weight ≈ 0.8 * age + -0.038 * age^2 + 0.001 * age^3 + 4.561\n"
     ]
    }
   ],
   "source": [
    "# Initializing the degree\n",
    "polynomial_features_deg3 = PolynomialFeatures(3)\n",
    "\n",
    "# Transform the original input data\n",
    "poly_trans_deg3 = polynomial_features_deg3.fit_transform(age)\n",
    "input_df_deg3 = pd.DataFrame(poly_trans_deg3)\n",
    "\n",
    "model_deg3 = linear_model.LinearRegression()\n",
    "\n",
    "fitted_deg3 = model_deg3.fit(input_df_deg3, weight)\n",
    "\n",
    "# showing coefficients\n",
    "print(fitted_deg3.coef_[0])\n",
    "print(fitted_deg3.intercept_[0])\n",
    "\n",
    "print(\"\\n-------------------------\\n\")\n",
    "\n",
    "# printing out the model\n",
    "\n",
    "equation_str_deg3 = \"weight ≈ \"\n",
    "\n",
    "for i, coefficient in enumerate(fitted_deg3.coef_[0]):\n",
    "    if i == 1:\n",
    "        equation_str_deg3 += str(round(coefficient, 3)) + \" * age\" \n",
    "    elif i > 1:\n",
    "        equation_str_deg3 += \" + \" + str(round(coefficient, 3)) + \" * age^\" + str(i)\n",
    "\n",
    "equation_str_deg3 += \" + \" + str(round(fitted_deg3.intercept_[0], 3))\n",
    "\n",
    "print(\"Model:\")\n",
    "print(equation_str_deg3)"
   ]
  }
 ],
 "metadata": {
  "anaconda-cloud": {},
  "kernelspec": {
   "display_name": "Python 3 (ipykernel)",
   "language": "python",
   "name": "python3"
  },
  "language_info": {
   "codemirror_mode": {
    "name": "ipython",
    "version": 3
   },
   "file_extension": ".py",
   "mimetype": "text/x-python",
   "name": "python",
   "nbconvert_exporter": "python",
   "pygments_lexer": "ipython3",
   "version": "3.11.4"
  }
 },
 "nbformat": 4,
 "nbformat_minor": 1
}
