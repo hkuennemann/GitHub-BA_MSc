{
 "cells": [
  {
   "cell_type": "markdown",
   "metadata": {},
   "source": [
    "# CellInsight AI"
   ]
  },
  {
   "cell_type": "markdown",
   "metadata": {},
   "source": [
    "## Content"
   ]
  },
  {
   "cell_type": "markdown",
   "metadata": {},
   "source": [
    "## Datasets"
   ]
  },
  {
   "cell_type": "markdown",
   "metadata": {},
   "source": [
    "## Imports & Functions"
   ]
  },
  {
   "cell_type": "markdown",
   "metadata": {},
   "source": [
    "## Data cleaning and EDA"
   ]
  },
  {
   "cell_type": "markdown",
   "metadata": {},
   "source": [
    "**Metrics to measure the data quality**\n",
    "\n",
    "• *Completeness*: Data values are present\n",
    "\n",
    "• *Consistency*: Data satisfies constraints (format, allowable ranges and values, domain rules)\n",
    "\n",
    "• *Correctness*: Values are true and unbiased with respect to their real-world state\n",
    "\n",
    "• *Uniqueness*: Records representing a single customer are not replicated\n",
    "\n",
    "• *Timeliness*: Data is up-to-date to their real-world state for the task in hand\n",
    "\n",
    "• *Stability*: Data inherent concepts and statistics are comparable among sources over time\n",
    "\n",
    "• *Relevance*: Data is useful for the task\n",
    "\n",
    "• *Contextualization*: Data is annotated with the acquisition context, their meaning and semantics"
   ]
  },
  {
   "cell_type": "markdown",
   "metadata": {},
   "source": [
    "## Feature Engineering and feature importance"
   ]
  },
  {
   "cell_type": "markdown",
   "metadata": {},
   "source": [
    "## Modeling"
   ]
  },
  {
   "cell_type": "markdown",
   "metadata": {},
   "source": [
    "### Baseline"
   ]
  },
  {
   "cell_type": "markdown",
   "metadata": {},
   "source": [
    "### Deep Learning"
   ]
  },
  {
   "cell_type": "markdown",
   "metadata": {},
   "source": [
    "## Conclusion"
   ]
  }
 ],
 "metadata": {
  "language_info": {
   "name": "python"
  }
 },
 "nbformat": 4,
 "nbformat_minor": 2
}
