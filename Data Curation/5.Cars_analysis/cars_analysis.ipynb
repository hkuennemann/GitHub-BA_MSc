{
 "cells": [
  {
   "cell_type": "markdown",
   "metadata": {},
   "source": [
    "# Lemon or Peach?\n",
    "\n",
    "For those who have taken ECON 101, you should already be quite familar with the term **lemon car** that refers to a car found to be defective only after it has been bought. In 1970, economist George Akerlof published a paper \"The Market for Lemons: Quality Uncertainty and the Market Mechanism\" that explored how the quality of goods traded in a market can degrade in the presence of *information asymmetry* between buyers and sellers. This leads to the **adverse selection** problem that  sellers will sell only when they hold \"lemons\" and they will leave the market when they hold \"peaches\". As such, Adverse selection is a market mechanism that can lead to a market collapse. In 2001, Akerlof, along with Michael Spence, and Joseph Stiglitz, jointly received the Nobel Memorial Prize in Economic Sciences, for their research on issues related to asymmetric information.\n",
    "\n",
    "![lemoncar](https://blog.drivetime.com/wp-content/uploads/2014/06/lemon-car.png)\n",
    "\n",
    "Online information system creates platform for buyers and sellers to trade their goods with information about the goods. However, lemon problem becomes even worse as buyers have no way to verify and examine the goods (such as used cars) and have to rely on information posted by the sellers. \n",
    "\n",
    "In order to address this problem, large-scale historical purchase data would allow online retailers to alleviate the issue. For example, OLX group is a global online marketplace operating in 45 countries. The OLX marketplace is a platform for buying and selling services and goods such as electronics, fashion items, furniture, household goods, Properties, cars and bikes. Their business model is to charge sellers listing fees when they post the advertisement. Their business objective is to facilitate transactions on the platform such that buyers would be willing to repeately purchase quality goods with reasonable price and sellers would be willing to list more goods for profits. \n",
    "\n",
    "As the analyst, you are given the task **to examine the information about listings of used cars on OLX Portugal that a car is considered to be sold or not if the days of listing is within the 30 days.** Otherwise, the seller has to pay extra to relist the advertisement until it is sold or withdrawn. \n",
    "\n",
    "\n",
    "\n",
    "**OLX Car Dataset (olx_car_dataset.csv)**\n",
    "All car listings are contained in the file olx_car_dataset.csv. Each line of this file after the header row represents one listing of car on the OLX platform, and has the following format:\n",
    "**`'ID', 'region_id', 'private_business', 'price', 'make', 'model', 'fuel_type', 'mileage', 'reg_year', 'eng_capacity', 'color', 'capacity', 'dayslive'`**\n",
    "\n",
    "The columns are quite self-explained. `dayslive` is the days of the listing on the OLX until the card is sold or withdrawn. "
   ]
  },
  {
   "cell_type": "code",
   "execution_count": 1,
   "metadata": {},
   "outputs": [],
   "source": [
    "import pandas as pd\n",
    "import numpy as np"
   ]
  },
  {
   "cell_type": "markdown",
   "metadata": {},
   "source": [
    "The dataset can store up to 10,000 car listings and therefore in total contains 3 parts. \n",
    "\n",
    "Meanwhile, each part of the data contains a few errors that need to be resolved:\n",
    "\n",
    "- the ```price``` column of part1 is mistakenly encoded as ```prices``` \n",
    "- the ```region_id``` column of part 1 is all in the wrong sign, e.g. the region_id of 11 is wrongly encoded as -11\n",
    "- the ```private_business``` column of part2 is mistakenly encoded as ```private```\n",
    "- the ```mileage``` column of part2 is miscalculated by taking a logarithm of its original value\n",
    "- the ```capacity``` column of part3 is wrongly set as missing value when the capacity is 5\n",
    "- the ```model``` column of part3 is wrongly encoded with also the ```make``` columns, e.g. BMW 320 should have BMW in the column ```make``` and 320 in the column ```model```.\n",
    "\n",
    "Read the datasets and concatenate them all into one dataset and show how many car listings are in the entire dataset?"
   ]
  },
  {
   "cell_type": "code",
   "execution_count": 91,
   "metadata": {},
   "outputs": [],
   "source": [
    "cars_1 = pd.read_csv('cars_dataset_part1.csv', index_col = 0)\n",
    "cars_1.drop(columns = 'Unnamed: 0.1', inplace = True)\n",
    "\n",
    "cars_1.rename(columns = {'prices':'price'}, inplace=True) # 1.1\n",
    "cars_1['region_id'] = cars_1['region_id'].abs() # 1.2\n",
    "\n",
    "\n",
    "cars_2 = pd.read_csv('cars_dataset_part2.csv', index_col = 0)\n",
    "cars_2.drop(columns = 'Unnamed: 0.1', inplace = True)\n",
    "\n",
    "cars_2.rename(columns = {'private':'private_business'}, inplace=True) # 1.3\n",
    "cars_2.mileage = round(cars_2.mileage * 10000, 0) # 1.4\n",
    "\n",
    "\n",
    "cars_3 = pd.read_csv('cars_dataset_part3.csv', index_col = 0)\n",
    "cars_3.drop(columns = 'Unnamed: 0.1', inplace = True)\n",
    "\n",
    "cars_3[['capacity']] = cars_3[['capacity']].fillna(value = 5) # 1.5\n",
    "\n",
    "\n",
    "dataframes = [cars_1, cars_2, cars_3]\n",
    "df = pd.concat(dataframes)"
   ]
  },
  {
   "cell_type": "markdown",
   "metadata": {},
   "source": [
    "Show the average price of all diesel cars"
   ]
  },
  {
   "cell_type": "code",
   "execution_count": 95,
   "metadata": {},
   "outputs": [
    {
     "name": "stdout",
     "output_type": "stream",
     "text": [
      "17820.63\n"
     ]
    }
   ],
   "source": [
    "print(round(df.loc[df.fuel_type == 'diesel']['price'].mean(), 2))"
   ]
  },
  {
   "cell_type": "markdown",
   "metadata": {},
   "source": [
    "Show the median mileage of all eletric vehicles from region 13:"
   ]
  },
  {
   "cell_type": "code",
   "execution_count": 98,
   "metadata": {},
   "outputs": [
    {
     "name": "stdout",
     "output_type": "stream",
     "text": [
      "54000.0\n"
     ]
    }
   ],
   "source": [
    "print(df.loc[(df.fuel_type == 'electric') & (df.region_id == 13)]['mileage'].median())"
   ]
  },
  {
   "cell_type": "markdown",
   "metadata": {},
   "source": [
    "Show the top 5 most popular car make listed by private owners and registered since 2017: "
   ]
  },
  {
   "cell_type": "code",
   "execution_count": 166,
   "metadata": {},
   "outputs": [
    {
     "data": {
      "text/html": [
       "<div>\n",
       "<style scoped>\n",
       "    .dataframe tbody tr th:only-of-type {\n",
       "        vertical-align: middle;\n",
       "    }\n",
       "\n",
       "    .dataframe tbody tr th {\n",
       "        vertical-align: top;\n",
       "    }\n",
       "\n",
       "    .dataframe thead th {\n",
       "        text-align: right;\n",
       "    }\n",
       "</style>\n",
       "<table border=\"1\" class=\"dataframe\">\n",
       "  <thead>\n",
       "    <tr style=\"text-align: right;\">\n",
       "      <th></th>\n",
       "      <th>make</th>\n",
       "    </tr>\n",
       "  </thead>\n",
       "  <tbody>\n",
       "    <tr>\n",
       "      <th>renault</th>\n",
       "      <td>553</td>\n",
       "    </tr>\n",
       "    <tr>\n",
       "      <th>nissan</th>\n",
       "      <td>328</td>\n",
       "    </tr>\n",
       "    <tr>\n",
       "      <th>mercedes-benz</th>\n",
       "      <td>310</td>\n",
       "    </tr>\n",
       "    <tr>\n",
       "      <th>peugeot</th>\n",
       "      <td>296</td>\n",
       "    </tr>\n",
       "    <tr>\n",
       "      <th>bmw</th>\n",
       "      <td>283</td>\n",
       "    </tr>\n",
       "  </tbody>\n",
       "</table>\n",
       "</div>"
      ],
      "text/plain": [
       "               make\n",
       "renault         553\n",
       "nissan          328\n",
       "mercedes-benz   310\n",
       "peugeot         296\n",
       "bmw             283"
      ]
     },
     "execution_count": 166,
     "metadata": {},
     "output_type": "execute_result"
    }
   ],
   "source": [
    "pd.DataFrame(df.loc[(df.private_business == 'business') & (df.reg_year == 2017)]['make'].value_counts()).head(5)"
   ]
  },
  {
   "cell_type": "markdown",
   "metadata": {},
   "source": [
    "Show the difference of average price of diesel cars with mileage larger than 100,000 kms and smaller than 5,000 kms. What do you find? How about gaz cars? "
   ]
  },
  {
   "cell_type": "code",
   "execution_count": 200,
   "metadata": {},
   "outputs": [
    {
     "name": "stdout",
     "output_type": "stream",
     "text": [
      "The difference of average price of diesel cars with mileage > 100,000 kms and < 5,000 kms is:\n",
      "\tEUR 11859.4\n"
     ]
    }
   ],
   "source": [
    "# diesel\n",
    "p_diesel_over_100k = df.loc[(df.fuel_type == 'diesel') & (df.mileage > 100000)]['price'].mean()\n",
    "p_diesel_under_5k = df.loc[(df.fuel_type == 'diesel') & (df.mileage < 5000)]['price'].mean()\n",
    "\n",
    "print(f'''The difference of average price of diesel cars with mileage > 100,000 kms and < 5,000 kms is:\n",
    "\\tEUR {round(p_diesel_under_5k - p_diesel_over_100k, 1)}''')\n",
    "\n",
    "# answer is below"
   ]
  },
  {
   "cell_type": "code",
   "execution_count": 202,
   "metadata": {},
   "outputs": [
    {
     "name": "stdout",
     "output_type": "stream",
     "text": [
      "The difference of average price of diesel cars with mileage > 100,000 kms and < 5,000 kms is:\n",
      "\tEUR 13442.0\n"
     ]
    }
   ],
   "source": [
    "# gaz\n",
    "p_gaz_over_100k = df.loc[(df.fuel_type == 'gaz') & (df.mileage > 100000)]['price'].mean()\n",
    "p_gaz_under_5k = df.loc[(df.fuel_type == 'gaz') & (df.mileage < 5000)]['price'].mean()\n",
    "\n",
    "print(f'''The difference of average price of diesel cars with mileage > 100,000 kms and < 5,000 kms is:\n",
    "\\tEUR {round(p_gaz_under_5k - p_gaz_over_100k, 1)}''')\n",
    "\n",
    "# answer is below"
   ]
  },
  {
   "cell_type": "markdown",
   "metadata": {},
   "source": [
    "**ANSWER:**\n",
    "Mileage has a greater impact on price on gaz cars than on diesel cars, since the difference in average price is greater. In other words, gaz cars devaluate faster."
   ]
  },
  {
   "cell_type": "markdown",
   "metadata": {},
   "source": [
    "For cars with the most popular color, how many of them are sold by business sellers in region 11 and with capacity of 5 passengers?"
   ]
  },
  {
   "cell_type": "code",
   "execution_count": 205,
   "metadata": {},
   "outputs": [
    {
     "name": "stdout",
     "output_type": "stream",
     "text": [
      "Out of 11180 cars of the most popular color:\n",
      "2101 are sold by business sellers in region 11 and with capacity of 5 passengers\n"
     ]
    }
   ],
   "source": [
    "most_popular_color_number = df['color'].value_counts()\n",
    "\n",
    "top_color = list(most_popular_color_number.index)[0]\n",
    "\n",
    "# most popular color is white - 11 180 cars - stored in variable top_color\n",
    "\n",
    "result = df.loc[(df.color == top_color) & (df.private_business == 'business') & (df.region_id == 11) & (df.capacity == 5)]['color'].value_counts()\n",
    "\n",
    "print(f'''Out of {most_popular_color_number[0]} cars of the most popular color:\n",
    "{result[0]} are sold by business sellers in region 11 and with capacity of 5 passengers''')"
   ]
  },
  {
   "cell_type": "markdown",
   "metadata": {},
   "source": [
    "Which model is listed the most expensive? On average, how many days does this model stay on the listing?"
   ]
  },
  {
   "cell_type": "code",
   "execution_count": 195,
   "metadata": {},
   "outputs": [
    {
     "name": "stdout",
     "output_type": "stream",
     "text": [
      "Most expensive make and model, respectively: audi a6-avant.\n",
      "This model stays listed an average of 62 days.\n"
     ]
    }
   ],
   "source": [
    "most_expensive_model = df.sort_values(by='price', ascending=False).head(1)\n",
    "make = list(most_expensive_model['make'])[0]\n",
    "model = list(most_expensive_model['model'])[0]\n",
    "\n",
    "avg_days_listed = df[(df.make == make) & (df.model == model)]['dayslive'].mean()\n",
    "\n",
    "print(f'Most expensive make and model, respectively: {make} {model}.')\n",
    "print(f'This model stays listed an average of {round(avg_days_listed)} days.')"
   ]
  },
  {
   "cell_type": "markdown",
   "metadata": {},
   "source": [
    "For cars listed in region of 11 and 13, can you identify the top 5 model and make of cars that have the highest sales (i.e. the listing days smaller or less than 30 days)?"
   ]
  },
  {
   "cell_type": "code",
   "execution_count": 181,
   "metadata": {},
   "outputs": [
    {
     "data": {
      "text/html": [
       "<div>\n",
       "<style scoped>\n",
       "    .dataframe tbody tr th:only-of-type {\n",
       "        vertical-align: middle;\n",
       "    }\n",
       "\n",
       "    .dataframe tbody tr th {\n",
       "        vertical-align: top;\n",
       "    }\n",
       "\n",
       "    .dataframe thead th {\n",
       "        text-align: right;\n",
       "    }\n",
       "</style>\n",
       "<table border=\"1\" class=\"dataframe\">\n",
       "  <thead>\n",
       "    <tr style=\"text-align: right;\">\n",
       "      <th></th>\n",
       "      <th>count of cars</th>\n",
       "    </tr>\n",
       "    <tr>\n",
       "      <th>model</th>\n",
       "      <th></th>\n",
       "    </tr>\n",
       "  </thead>\n",
       "  <tbody>\n",
       "    <tr>\n",
       "      <th>clio</th>\n",
       "      <td>203</td>\n",
       "    </tr>\n",
       "    <tr>\n",
       "      <th>ibiza</th>\n",
       "      <td>159</td>\n",
       "    </tr>\n",
       "    <tr>\n",
       "      <th>megane</th>\n",
       "      <td>146</td>\n",
       "    </tr>\n",
       "    <tr>\n",
       "      <th>fortwo</th>\n",
       "      <td>127</td>\n",
       "    </tr>\n",
       "    <tr>\n",
       "      <th>qashqai</th>\n",
       "      <td>119</td>\n",
       "    </tr>\n",
       "  </tbody>\n",
       "</table>\n",
       "</div>"
      ],
      "text/plain": [
       "         count of cars\n",
       "model                 \n",
       "clio               203\n",
       "ibiza              159\n",
       "megane             146\n",
       "fortwo             127\n",
       "qashqai            119"
      ]
     },
     "execution_count": 181,
     "metadata": {},
     "output_type": "execute_result"
    }
   ],
   "source": [
    "a = df.loc[((df.region_id == 11) | (df.region_id == 13)) & (df.dayslive < 30)].sort_values('model')\n",
    "\n",
    "df_8 = pd.DataFrame(a.groupby(a['model']).size().sort_values(ascending = False).head(5))\n",
    "df_8.columns = ['count of cars']\n",
    "\n",
    "df_8"
   ]
  },
  {
   "cell_type": "markdown",
   "metadata": {},
   "source": [
    "Show the correlation between mileage, reg_year, eng_capacity and price. What do you observe? "
   ]
  },
  {
   "cell_type": "code",
   "execution_count": 164,
   "metadata": {},
   "outputs": [
    {
     "data": {
      "text/html": [
       "<div>\n",
       "<style scoped>\n",
       "    .dataframe tbody tr th:only-of-type {\n",
       "        vertical-align: middle;\n",
       "    }\n",
       "\n",
       "    .dataframe tbody tr th {\n",
       "        vertical-align: top;\n",
       "    }\n",
       "\n",
       "    .dataframe thead th {\n",
       "        text-align: right;\n",
       "    }\n",
       "</style>\n",
       "<table border=\"1\" class=\"dataframe\">\n",
       "  <thead>\n",
       "    <tr style=\"text-align: right;\">\n",
       "      <th></th>\n",
       "      <th>mileage</th>\n",
       "      <th>reg_year</th>\n",
       "      <th>eng_capacity</th>\n",
       "      <th>price</th>\n",
       "    </tr>\n",
       "  </thead>\n",
       "  <tbody>\n",
       "    <tr>\n",
       "      <th>mileage</th>\n",
       "      <td>1.000000</td>\n",
       "      <td>-0.537396</td>\n",
       "      <td>0.145914</td>\n",
       "      <td>-0.122086</td>\n",
       "    </tr>\n",
       "    <tr>\n",
       "      <th>reg_year</th>\n",
       "      <td>-0.537396</td>\n",
       "      <td>1.000000</td>\n",
       "      <td>-0.138543</td>\n",
       "      <td>0.148113</td>\n",
       "    </tr>\n",
       "    <tr>\n",
       "      <th>eng_capacity</th>\n",
       "      <td>0.145914</td>\n",
       "      <td>-0.138543</td>\n",
       "      <td>1.000000</td>\n",
       "      <td>0.083119</td>\n",
       "    </tr>\n",
       "    <tr>\n",
       "      <th>price</th>\n",
       "      <td>-0.122086</td>\n",
       "      <td>0.148113</td>\n",
       "      <td>0.083119</td>\n",
       "      <td>1.000000</td>\n",
       "    </tr>\n",
       "  </tbody>\n",
       "</table>\n",
       "</div>"
      ],
      "text/plain": [
       "               mileage  reg_year  eng_capacity     price\n",
       "mileage       1.000000 -0.537396      0.145914 -0.122086\n",
       "reg_year     -0.537396  1.000000     -0.138543  0.148113\n",
       "eng_capacity  0.145914 -0.138543      1.000000  0.083119\n",
       "price        -0.122086  0.148113      0.083119  1.000000"
      ]
     },
     "execution_count": 164,
     "metadata": {},
     "output_type": "execute_result"
    }
   ],
   "source": [
    "df[['mileage', 'reg_year', 'eng_capacity', 'price']].corr()"
   ]
  },
  {
   "cell_type": "markdown",
   "metadata": {},
   "source": [
    "**ANSWER:** There is a significant negative correlation between mileage and reg_year, meaning cars that have high mileages tend to have been listed earlier, and in the past years it is cars with lower mileages that are being listed.\n",
    "\n",
    "Other than that, there are no relevant positive or negative correlations."
   ]
  },
  {
   "cell_type": "markdown",
   "metadata": {},
   "source": [
    "Show the pivot table of mean and standard deviation for car prices  across the type of sellers and region (as the row), and fuel_types (as the column). If there are no available cars in each category, set the value to be 0."
   ]
  },
  {
   "cell_type": "code",
   "execution_count": 184,
   "metadata": {},
   "outputs": [
    {
     "data": {
      "text/html": [
       "<div>\n",
       "<style scoped>\n",
       "    .dataframe tbody tr th:only-of-type {\n",
       "        vertical-align: middle;\n",
       "    }\n",
       "\n",
       "    .dataframe tbody tr th {\n",
       "        vertical-align: top;\n",
       "    }\n",
       "\n",
       "    .dataframe thead th {\n",
       "        text-align: right;\n",
       "    }\n",
       "</style>\n",
       "<table border=\"1\" class=\"dataframe\">\n",
       "  <thead>\n",
       "    <tr style=\"text-align: right;\">\n",
       "      <th></th>\n",
       "      <th>fuel_type</th>\n",
       "      <th>diesel</th>\n",
       "      <th>electric</th>\n",
       "      <th>gaz</th>\n",
       "      <th>gpl</th>\n",
       "      <th>hibride-diesel</th>\n",
       "      <th>hibride-gaz</th>\n",
       "    </tr>\n",
       "    <tr>\n",
       "      <th>region_id</th>\n",
       "      <th>ID</th>\n",
       "      <th></th>\n",
       "      <th></th>\n",
       "      <th></th>\n",
       "      <th></th>\n",
       "      <th></th>\n",
       "      <th></th>\n",
       "    </tr>\n",
       "  </thead>\n",
       "  <tbody>\n",
       "    <tr>\n",
       "      <th rowspan=\"5\" valign=\"top\">0</th>\n",
       "      <th>000dc445ec70114ac054e0d5bb3eb5212d497974</th>\n",
       "      <td>0.0</td>\n",
       "      <td>0.0</td>\n",
       "      <td>20500.0</td>\n",
       "      <td>0.0</td>\n",
       "      <td>0.0</td>\n",
       "      <td>0.0</td>\n",
       "    </tr>\n",
       "    <tr>\n",
       "      <th>0024e85227b5903203d5fb61e53065a7a99b6496</th>\n",
       "      <td>14600.0</td>\n",
       "      <td>0.0</td>\n",
       "      <td>0.0</td>\n",
       "      <td>0.0</td>\n",
       "      <td>0.0</td>\n",
       "      <td>0.0</td>\n",
       "    </tr>\n",
       "    <tr>\n",
       "      <th>005b23c5838a36ebafbad8142ca2a28cb7f48b84</th>\n",
       "      <td>21800.0</td>\n",
       "      <td>0.0</td>\n",
       "      <td>0.0</td>\n",
       "      <td>0.0</td>\n",
       "      <td>0.0</td>\n",
       "      <td>0.0</td>\n",
       "    </tr>\n",
       "    <tr>\n",
       "      <th>0073d137d9cc705aefce9d4992c19cf2d754fd09</th>\n",
       "      <td>25900.0</td>\n",
       "      <td>0.0</td>\n",
       "      <td>0.0</td>\n",
       "      <td>0.0</td>\n",
       "      <td>0.0</td>\n",
       "      <td>0.0</td>\n",
       "    </tr>\n",
       "    <tr>\n",
       "      <th>019603341aa89cd03b778f520bac00a4d15bd434</th>\n",
       "      <td>20700.0</td>\n",
       "      <td>0.0</td>\n",
       "      <td>0.0</td>\n",
       "      <td>0.0</td>\n",
       "      <td>0.0</td>\n",
       "      <td>0.0</td>\n",
       "    </tr>\n",
       "    <tr>\n",
       "      <th>...</th>\n",
       "      <th>...</th>\n",
       "      <td>...</td>\n",
       "      <td>...</td>\n",
       "      <td>...</td>\n",
       "      <td>...</td>\n",
       "      <td>...</td>\n",
       "      <td>...</td>\n",
       "    </tr>\n",
       "    <tr>\n",
       "      <th rowspan=\"3\" valign=\"top\">43</th>\n",
       "      <th>344d3de2948c6428d42ccc1e24c2db12b9cde1cd</th>\n",
       "      <td>0.0</td>\n",
       "      <td>0.0</td>\n",
       "      <td>43862.0</td>\n",
       "      <td>0.0</td>\n",
       "      <td>0.0</td>\n",
       "      <td>0.0</td>\n",
       "    </tr>\n",
       "    <tr>\n",
       "      <th>475686a27d99abe184e6e5f26c7c6a24fe6369d4</th>\n",
       "      <td>0.0</td>\n",
       "      <td>0.0</td>\n",
       "      <td>0.0</td>\n",
       "      <td>0.0</td>\n",
       "      <td>0.0</td>\n",
       "      <td>5526125.0</td>\n",
       "    </tr>\n",
       "    <tr>\n",
       "      <th>f12c83cb987d79b6090f1896fdc6f57490746858</th>\n",
       "      <td>0.0</td>\n",
       "      <td>0.0</td>\n",
       "      <td>4800.0</td>\n",
       "      <td>0.0</td>\n",
       "      <td>0.0</td>\n",
       "      <td>0.0</td>\n",
       "    </tr>\n",
       "    <tr>\n",
       "      <th>45</th>\n",
       "      <th>f29d8127dd4061b7c653c8a8f18891ce4dedda77</th>\n",
       "      <td>22000.0</td>\n",
       "      <td>0.0</td>\n",
       "      <td>0.0</td>\n",
       "      <td>0.0</td>\n",
       "      <td>0.0</td>\n",
       "      <td>0.0</td>\n",
       "    </tr>\n",
       "    <tr>\n",
       "      <th>54</th>\n",
       "      <th>083034461f96eb2cb0d14245696f0f54bb3491b1</th>\n",
       "      <td>0.0</td>\n",
       "      <td>0.0</td>\n",
       "      <td>7273.0</td>\n",
       "      <td>0.0</td>\n",
       "      <td>0.0</td>\n",
       "      <td>0.0</td>\n",
       "    </tr>\n",
       "  </tbody>\n",
       "</table>\n",
       "<p>26370 rows × 6 columns</p>\n",
       "</div>"
      ],
      "text/plain": [
       "fuel_type                                            diesel  electric  \\\n",
       "region_id ID                                                            \n",
       "0         000dc445ec70114ac054e0d5bb3eb5212d497974      0.0       0.0   \n",
       "          0024e85227b5903203d5fb61e53065a7a99b6496  14600.0       0.0   \n",
       "          005b23c5838a36ebafbad8142ca2a28cb7f48b84  21800.0       0.0   \n",
       "          0073d137d9cc705aefce9d4992c19cf2d754fd09  25900.0       0.0   \n",
       "          019603341aa89cd03b778f520bac00a4d15bd434  20700.0       0.0   \n",
       "...                                                     ...       ...   \n",
       "43        344d3de2948c6428d42ccc1e24c2db12b9cde1cd      0.0       0.0   \n",
       "          475686a27d99abe184e6e5f26c7c6a24fe6369d4      0.0       0.0   \n",
       "          f12c83cb987d79b6090f1896fdc6f57490746858      0.0       0.0   \n",
       "45        f29d8127dd4061b7c653c8a8f18891ce4dedda77  22000.0       0.0   \n",
       "54        083034461f96eb2cb0d14245696f0f54bb3491b1      0.0       0.0   \n",
       "\n",
       "fuel_type                                               gaz  gpl  \\\n",
       "region_id ID                                                       \n",
       "0         000dc445ec70114ac054e0d5bb3eb5212d497974  20500.0  0.0   \n",
       "          0024e85227b5903203d5fb61e53065a7a99b6496      0.0  0.0   \n",
       "          005b23c5838a36ebafbad8142ca2a28cb7f48b84      0.0  0.0   \n",
       "          0073d137d9cc705aefce9d4992c19cf2d754fd09      0.0  0.0   \n",
       "          019603341aa89cd03b778f520bac00a4d15bd434      0.0  0.0   \n",
       "...                                                     ...  ...   \n",
       "43        344d3de2948c6428d42ccc1e24c2db12b9cde1cd  43862.0  0.0   \n",
       "          475686a27d99abe184e6e5f26c7c6a24fe6369d4      0.0  0.0   \n",
       "          f12c83cb987d79b6090f1896fdc6f57490746858   4800.0  0.0   \n",
       "45        f29d8127dd4061b7c653c8a8f18891ce4dedda77      0.0  0.0   \n",
       "54        083034461f96eb2cb0d14245696f0f54bb3491b1   7273.0  0.0   \n",
       "\n",
       "fuel_type                                           hibride-diesel  \\\n",
       "region_id ID                                                         \n",
       "0         000dc445ec70114ac054e0d5bb3eb5212d497974             0.0   \n",
       "          0024e85227b5903203d5fb61e53065a7a99b6496             0.0   \n",
       "          005b23c5838a36ebafbad8142ca2a28cb7f48b84             0.0   \n",
       "          0073d137d9cc705aefce9d4992c19cf2d754fd09             0.0   \n",
       "          019603341aa89cd03b778f520bac00a4d15bd434             0.0   \n",
       "...                                                            ...   \n",
       "43        344d3de2948c6428d42ccc1e24c2db12b9cde1cd             0.0   \n",
       "          475686a27d99abe184e6e5f26c7c6a24fe6369d4             0.0   \n",
       "          f12c83cb987d79b6090f1896fdc6f57490746858             0.0   \n",
       "45        f29d8127dd4061b7c653c8a8f18891ce4dedda77             0.0   \n",
       "54        083034461f96eb2cb0d14245696f0f54bb3491b1             0.0   \n",
       "\n",
       "fuel_type                                           hibride-gaz  \n",
       "region_id ID                                                     \n",
       "0         000dc445ec70114ac054e0d5bb3eb5212d497974          0.0  \n",
       "          0024e85227b5903203d5fb61e53065a7a99b6496          0.0  \n",
       "          005b23c5838a36ebafbad8142ca2a28cb7f48b84          0.0  \n",
       "          0073d137d9cc705aefce9d4992c19cf2d754fd09          0.0  \n",
       "          019603341aa89cd03b778f520bac00a4d15bd434          0.0  \n",
       "...                                                         ...  \n",
       "43        344d3de2948c6428d42ccc1e24c2db12b9cde1cd          0.0  \n",
       "          475686a27d99abe184e6e5f26c7c6a24fe6369d4    5526125.0  \n",
       "          f12c83cb987d79b6090f1896fdc6f57490746858          0.0  \n",
       "45        f29d8127dd4061b7c653c8a8f18891ce4dedda77          0.0  \n",
       "54        083034461f96eb2cb0d14245696f0f54bb3491b1          0.0  \n",
       "\n",
       "[26370 rows x 6 columns]"
      ]
     },
     "execution_count": 184,
     "metadata": {},
     "output_type": "execute_result"
    }
   ],
   "source": [
    "pivot_t = df.pivot_table(index = ['region_id','ID'], columns = 'fuel_type', values = 'price', aggfunc = 'mean')\n",
    "pivot_t.fillna(0, inplace = True)\n",
    "\n",
    "pivot_t"
   ]
  }
 ],
 "metadata": {
  "kernelspec": {
   "display_name": "Python 3 (ipykernel)",
   "language": "python",
   "name": "python3"
  },
  "language_info": {
   "codemirror_mode": {
    "name": "ipython",
    "version": 3
   },
   "file_extension": ".py",
   "mimetype": "text/x-python",
   "name": "python",
   "nbconvert_exporter": "python",
   "pygments_lexer": "ipython3",
   "version": "3.11.4"
  }
 },
 "nbformat": 4,
 "nbformat_minor": 4
}
