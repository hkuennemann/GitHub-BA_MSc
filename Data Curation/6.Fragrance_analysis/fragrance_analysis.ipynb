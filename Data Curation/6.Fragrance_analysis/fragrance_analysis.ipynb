{
 "cells": [
  {
   "cell_type": "markdown",
   "metadata": {},
   "source": [
    "## 2659-T1 Data Curation for Business Analytics Final Exam Part 2\n",
    "\n",
    "This part of final exam will contain 1 question with subquestions for 70% of the total points.\n",
    "\n",
    "### Chanel No.5 or Burnt Hair?\n",
    "\n",
    "<img src=\"https://upload.wikimedia.org/wikipedia/commons/8/85/CHANEL_No5_parfum.jpg\" alt=\"burnthair\" width=\"300\"/>\n",
    "\n",
    "<img src=\"https://www.teslarati.com/wp-content/uploads/2022/10/Elon-Musk-sold-28700-bottles-of-Burnt-Hair-perfume.png\" alt=\"burnthair\" width=\"800\"/>\n",
    "\n",
    "The word perfume derives from the Latin perfumare, meaning \"to smoke through\". Perfumery, as the art of making perfumes, began in ancient Mesopotamia, Egypt, the Indus Valley civilization and possibly Ancient China.\n",
    "\n",
    "The precise formulae of commercial perfumes are kept secret. Even if they were widely published, they would be dominated by such complex ingredients and odorants that they would be of little use in providing a guide to the general consumer in description of the experience of a scent. Nonetheless, connoisseurs of perfume can become extremely skillful at identifying components and origins of scents in the same manner as wine experts.\n",
    "\n",
    "**Perfume is described in a musical metaphor as having three sets of notes, making the harmonious scent accord.** The notes unfold over time, with the immediate impression of the top note leading to the deeper middle notes, and the base notes gradually appearing as the final stage. These notes are created carefully with knowledge of the evaporation process of the perfume.\n",
    "\n",
    "- Top notes: Also called the head notes. The scents that are perceived immediately on application of a perfume. Top notes consist of small, light molecules that evaporate quickly. They form a person's initial impression of a perfume and thus are very important in the selling of a perfume. Examples of top notes include mint, lavender and coriander.\n",
    "- Middle notes: Also referred to as heart notes. The scent of a perfume that emerges just prior to the dissipation of the top note. The middle note compounds form the \"heart\" or main body of a perfume and act to mask the often unpleasant initial impression of base notes, which become more pleasant with time. Examples of middle notes include seawater, sandalwood and jasmine.\n",
    "- Base notes: The scent of a perfume that appears close to the departure of the middle notes. The base and middle notes together are the main theme of a perfume. Base notes bring depth and solidity to a perfume. Compounds of this class of scents are typically rich and \"deep\" and are usually not perceived until 30 minutes after application. Examples of base notes include tobacco, amber and musk.\n",
    "\n",
    "We are going to examine a perfume dataset manually scraped from [fragrantica](https://www.fragrantica.com/)  which provides comprehensive information about perfumes, branded or not, with their compounds and popularity. \n",
    "\n",
    "This dataset describes rating, votes and their compounds that include top notes, middle notes and base notes. The data are contained in the file fragrance.csv. More details about the contents and use of all these files follows.\n",
    "\n",
    "**Fragrance Data File Structure (fragrance.csv)**\n",
    "All fragrance are contained in the file fragrance.csv. Each line of this file after the header row represents one frgrance and has the following format:\n",
    "`name, brand, rating, number_votes, top_notes, middle_notes, base_notes`\n",
    "\n",
    "\n",
    "Answer the following questions using the provided dataset. You can write down intermediate results towards the final answers"
   ]
  },
  {
   "cell_type": "code",
   "execution_count": 1,
   "metadata": {},
   "outputs": [],
   "source": [
    "import pandas as pd\n",
    "import numpy as np"
   ]
  },
  {
   "cell_type": "markdown",
   "metadata": {},
   "source": [
    "### Question 1 (15 points)\n",
    "\n",
    "Read the csv file as the dataframe with the column names as \"Name, Brand, Rating, Number_votes, Top_notes, Middle_notes, Base_notes\". You may have noticed that errors and inconsistencies may exist in these files as this is scraped from the website: there are missing values for ratings and number of votes. You should fill them with the median values of all fragrances first. Then, the ratings contain mixed used of dot and comma for separating decimals. You need to correct this as well. \n",
    "\n",
    "The ratings should be made on a 5-point scale, with half-star increments (0.5 - 5.0). So if we will need to round the ratings to the nearest 0.5-point. For example, if a movie is rated 3.6, then you need to change the value to 3.5. Similarly, if a movie is rated 3.8, then it should be changed to 4.\n",
    "\n",
    "```\n",
    "def round_to_nearest_half_int(num):\n",
    "    return round(num * 2) / 2\n",
    "\n",
    "```\n",
    "\n",
    "Once you are done, make sure that rating is just one decimal (e.g. 3.5, 4.0) and the number of votes is the integer. \n",
    "\n",
    "Note: if you cannot load the csv file, it might be some errors in the data that you need to address first."
   ]
  },
  {
   "cell_type": "code",
   "execution_count": 2,
   "metadata": {},
   "outputs": [
    {
     "data": {
      "text/html": [
       "<div>\n",
       "<style scoped>\n",
       "    .dataframe tbody tr th:only-of-type {\n",
       "        vertical-align: middle;\n",
       "    }\n",
       "\n",
       "    .dataframe tbody tr th {\n",
       "        vertical-align: top;\n",
       "    }\n",
       "\n",
       "    .dataframe thead th {\n",
       "        text-align: right;\n",
       "    }\n",
       "</style>\n",
       "<table border=\"1\" class=\"dataframe\">\n",
       "  <thead>\n",
       "    <tr style=\"text-align: right;\">\n",
       "      <th></th>\n",
       "      <th>name</th>\n",
       "      <th>brand</th>\n",
       "      <th>rating</th>\n",
       "      <th>number_votes</th>\n",
       "      <th>top_notes</th>\n",
       "      <th>middle_notes</th>\n",
       "      <th>base_notes</th>\n",
       "    </tr>\n",
       "  </thead>\n",
       "  <tbody>\n",
       "    <tr>\n",
       "      <th>0</th>\n",
       "      <td>Angels' Share</td>\n",
       "      <td>By Kilian</td>\n",
       "      <td>4.31</td>\n",
       "      <td>682.0</td>\n",
       "      <td>['Cognac']</td>\n",
       "      <td>['Cinnamon', 'Tonka Bean', 'Oak']</td>\n",
       "      <td>['Praline', 'Vanilla', 'Sandalwood']</td>\n",
       "    </tr>\n",
       "    <tr>\n",
       "      <th>1</th>\n",
       "      <td>My Way</td>\n",
       "      <td>Giorgio Armani</td>\n",
       "      <td>3.5700000000000003</td>\n",
       "      <td>1471.0</td>\n",
       "      <td>['Orange Blossom', 'Bergamot']</td>\n",
       "      <td>['Tuberose', 'Indian Jasmine']</td>\n",
       "      <td>['White Musk', 'Madagascar Vanilla', 'Virginia...</td>\n",
       "    </tr>\n",
       "    <tr>\n",
       "      <th>2</th>\n",
       "      <td>Libre Intense</td>\n",
       "      <td>Yves Saint Laurent</td>\n",
       "      <td>4.02</td>\n",
       "      <td>858.0</td>\n",
       "      <td>['Lavender', 'Mandarin Orange', 'Bergamot']</td>\n",
       "      <td>['Lavender', 'Tunisian Orange Blossom', 'Jasmi...</td>\n",
       "      <td>['Madagascar Vanilla', 'Tonka Bean', 'Ambergri...</td>\n",
       "    </tr>\n",
       "    <tr>\n",
       "      <th>3</th>\n",
       "      <td>Dior Homme 2020</td>\n",
       "      <td>Christian Dior</td>\n",
       "      <td>3.42</td>\n",
       "      <td>1402.0</td>\n",
       "      <td>['Bergamot', 'Pink Pepper', 'elemi']</td>\n",
       "      <td>['Cashmere Wood', 'Atlas Cedar', 'Patchouli']</td>\n",
       "      <td>['Iso E Super', 'Haitian Vetiver', 'White Musk']</td>\n",
       "    </tr>\n",
       "    <tr>\n",
       "      <th>4</th>\n",
       "      <td>Acqua di Giò Profondo</td>\n",
       "      <td>Giorgio Armani</td>\n",
       "      <td>4.03</td>\n",
       "      <td>869.0</td>\n",
       "      <td>['Sea Notes', 'Aquozone', 'Bergamot', 'Green M...</td>\n",
       "      <td>['Rosemary', 'Cypress', 'Lavender', 'Mastic or...</td>\n",
       "      <td>['Mineral notes', 'Musk', 'Patchouli', 'Amber']</td>\n",
       "    </tr>\n",
       "    <tr>\n",
       "      <th>...</th>\n",
       "      <td>...</td>\n",
       "      <td>...</td>\n",
       "      <td>...</td>\n",
       "      <td>...</td>\n",
       "      <td>...</td>\n",
       "      <td>...</td>\n",
       "      <td>...</td>\n",
       "    </tr>\n",
       "    <tr>\n",
       "      <th>4817</th>\n",
       "      <td>Jean-Louis Scherrer Eau de Parfum</td>\n",
       "      <td>Jean-Louis Scherrer</td>\n",
       "      <td>4</td>\n",
       "      <td>1</td>\n",
       "      <td>['Italian', 'Tangerine', 'Calabrian', 'bergamo...</td>\n",
       "      <td>['iris', 'Jasmine', 'Bulgarian', 'Rose']</td>\n",
       "      <td>['Patchouli', 'Bourbon', 'Vetiver', 'Mysore', ...</td>\n",
       "    </tr>\n",
       "    <tr>\n",
       "      <th>4818</th>\n",
       "      <td>Iranzol Perfume Oil</td>\n",
       "      <td>Bruno Acampora</td>\n",
       "      <td>4,34</td>\n",
       "      <td>35</td>\n",
       "      <td>['Sandalwood', 'Musk']</td>\n",
       "      <td>['Galbanum', 'Amber', 'Jasmine', 'Rose']</td>\n",
       "      <td>['Patchouli', 'Vanilla']</td>\n",
       "    </tr>\n",
       "    <tr>\n",
       "      <th>4819</th>\n",
       "      <td>Night Scented Stock</td>\n",
       "      <td>Penhaligon's</td>\n",
       "      <td>3,93</td>\n",
       "      <td>256</td>\n",
       "      <td>['Clove', 'Cinnamon']</td>\n",
       "      <td>['Ylang-', 'Ylang', 'Lily', 'Heliotrope', 'Vio...</td>\n",
       "      <td>['Tonka', 'Bean', 'Benzoin', 'Musk', 'Sandalwo...</td>\n",
       "    </tr>\n",
       "    <tr>\n",
       "      <th>4820</th>\n",
       "      <td>Complice</td>\n",
       "      <td>Coty</td>\n",
       "      <td>4,25</td>\n",
       "      <td>68</td>\n",
       "      <td>['Aldehydes', 'African', 'Orange', 'flower', '...</td>\n",
       "      <td>['Lily-of-the-', 'Valley', 'Rose', 'Lilac', 'N...</td>\n",
       "      <td>['oak', 'moss', 'Vetiver', 'Musk', 'Benzoin', ...</td>\n",
       "    </tr>\n",
       "    <tr>\n",
       "      <th>4821</th>\n",
       "      <td>Revillon pour Homme</td>\n",
       "      <td>Revillon</td>\n",
       "      <td>4,5</td>\n",
       "      <td>46</td>\n",
       "      <td>['Rosemary', 'Lavender', 'Artemisia', 'Petitgr...</td>\n",
       "      <td>['Pine', 'Tree', 'Needles', 'Carnation', 'Gera...</td>\n",
       "      <td>['Oakmoss', 'Fir', 'Cedar', 'Tonka', 'Bean']</td>\n",
       "    </tr>\n",
       "  </tbody>\n",
       "</table>\n",
       "<p>4822 rows × 7 columns</p>\n",
       "</div>"
      ],
      "text/plain": [
       "                                   name                brand  \\\n",
       "0                         Angels' Share            By Kilian   \n",
       "1                                My Way       Giorgio Armani   \n",
       "2                         Libre Intense   Yves Saint Laurent   \n",
       "3                       Dior Homme 2020       Christian Dior   \n",
       "4                 Acqua di Giò Profondo       Giorgio Armani   \n",
       "...                                 ...                  ...   \n",
       "4817  Jean-Louis Scherrer Eau de Parfum  Jean-Louis Scherrer   \n",
       "4818                Iranzol Perfume Oil       Bruno Acampora   \n",
       "4819                Night Scented Stock         Penhaligon's   \n",
       "4820                           Complice                 Coty   \n",
       "4821                Revillon pour Homme             Revillon   \n",
       "\n",
       "                  rating number_votes  \\\n",
       "0                   4.31        682.0   \n",
       "1     3.5700000000000003       1471.0   \n",
       "2                   4.02        858.0   \n",
       "3                   3.42       1402.0   \n",
       "4                   4.03        869.0   \n",
       "...                  ...          ...   \n",
       "4817                   4            1   \n",
       "4818                4,34           35   \n",
       "4819                3,93          256   \n",
       "4820                4,25           68   \n",
       "4821                 4,5           46   \n",
       "\n",
       "                                              top_notes  \\\n",
       "0                                            ['Cognac']   \n",
       "1                        ['Orange Blossom', 'Bergamot']   \n",
       "2           ['Lavender', 'Mandarin Orange', 'Bergamot']   \n",
       "3                  ['Bergamot', 'Pink Pepper', 'elemi']   \n",
       "4     ['Sea Notes', 'Aquozone', 'Bergamot', 'Green M...   \n",
       "...                                                 ...   \n",
       "4817  ['Italian', 'Tangerine', 'Calabrian', 'bergamo...   \n",
       "4818                             ['Sandalwood', 'Musk']   \n",
       "4819                              ['Clove', 'Cinnamon']   \n",
       "4820  ['Aldehydes', 'African', 'Orange', 'flower', '...   \n",
       "4821  ['Rosemary', 'Lavender', 'Artemisia', 'Petitgr...   \n",
       "\n",
       "                                           middle_notes  \\\n",
       "0                     ['Cinnamon', 'Tonka Bean', 'Oak']   \n",
       "1                        ['Tuberose', 'Indian Jasmine']   \n",
       "2     ['Lavender', 'Tunisian Orange Blossom', 'Jasmi...   \n",
       "3         ['Cashmere Wood', 'Atlas Cedar', 'Patchouli']   \n",
       "4     ['Rosemary', 'Cypress', 'Lavender', 'Mastic or...   \n",
       "...                                                 ...   \n",
       "4817           ['iris', 'Jasmine', 'Bulgarian', 'Rose']   \n",
       "4818           ['Galbanum', 'Amber', 'Jasmine', 'Rose']   \n",
       "4819  ['Ylang-', 'Ylang', 'Lily', 'Heliotrope', 'Vio...   \n",
       "4820  ['Lily-of-the-', 'Valley', 'Rose', 'Lilac', 'N...   \n",
       "4821  ['Pine', 'Tree', 'Needles', 'Carnation', 'Gera...   \n",
       "\n",
       "                                             base_notes  \n",
       "0                  ['Praline', 'Vanilla', 'Sandalwood']  \n",
       "1     ['White Musk', 'Madagascar Vanilla', 'Virginia...  \n",
       "2     ['Madagascar Vanilla', 'Tonka Bean', 'Ambergri...  \n",
       "3      ['Iso E Super', 'Haitian Vetiver', 'White Musk']  \n",
       "4       ['Mineral notes', 'Musk', 'Patchouli', 'Amber']  \n",
       "...                                                 ...  \n",
       "4817  ['Patchouli', 'Bourbon', 'Vetiver', 'Mysore', ...  \n",
       "4818                           ['Patchouli', 'Vanilla']  \n",
       "4819  ['Tonka', 'Bean', 'Benzoin', 'Musk', 'Sandalwo...  \n",
       "4820  ['oak', 'moss', 'Vetiver', 'Musk', 'Benzoin', ...  \n",
       "4821       ['Oakmoss', 'Fir', 'Cedar', 'Tonka', 'Bean']  \n",
       "\n",
       "[4822 rows x 7 columns]"
      ]
     },
     "execution_count": 2,
     "metadata": {},
     "output_type": "execute_result"
    }
   ],
   "source": [
    "headers = [\"name\", \"brand\", \"rating\", \"number_votes\", \"top_notes\", \"middle_notes\", \"base_notes\"]\n",
    "\n",
    "perfumeDF = pd.read_csv(\"fragrance.csv\", skiprows = 1, delimiter = \";\").set_axis(headers,axis=1)\n",
    "perfumeDF"
   ]
  },
  {
   "cell_type": "code",
   "execution_count": 3,
   "metadata": {},
   "outputs": [],
   "source": [
    "perfumeDF[\"rating\"] = perfumeDF[\"rating\"].str.replace(\",\", \".\", regex=True)\n",
    "perfumeDF[\"rating\"] = perfumeDF[\"rating\"].astype(float)"
   ]
  },
  {
   "cell_type": "code",
   "execution_count": 4,
   "metadata": {},
   "outputs": [],
   "source": [
    "perfumeDF[\"number_votes\"] = perfumeDF[\"number_votes\"].str.replace(\",\", \"\", regex=True)\n",
    "perfumeDF[\"number_votes\"] = perfumeDF[\"number_votes\"].astype(float)"
   ]
  },
  {
   "cell_type": "code",
   "execution_count": 5,
   "metadata": {},
   "outputs": [],
   "source": [
    "median_ratings = perfumeDF.rating.median()\n",
    "median_votes = perfumeDF.number_votes.median()\n",
    "\n",
    "perfumeDF[\"rating\"] = perfumeDF.rating.fillna(median_ratings)\n",
    "perfumeDF[\"number_votes\"] = perfumeDF.number_votes.fillna(median_votes)\n",
    "perfumeDF[\"number_votes\"] = perfumeDF[\"number_votes\"].astype(int)"
   ]
  },
  {
   "cell_type": "code",
   "execution_count": 6,
   "metadata": {},
   "outputs": [
    {
     "data": {
      "text/plain": [
       "4.06"
      ]
     },
     "execution_count": 6,
     "metadata": {},
     "output_type": "execute_result"
    }
   ],
   "source": [
    "median_ratings"
   ]
  },
  {
   "cell_type": "code",
   "execution_count": 7,
   "metadata": {},
   "outputs": [
    {
     "data": {
      "text/plain": [
       "dtype('float64')"
      ]
     },
     "execution_count": 7,
     "metadata": {},
     "output_type": "execute_result"
    }
   ],
   "source": [
    "perfumeDF.rating.dtype"
   ]
  },
  {
   "cell_type": "code",
   "execution_count": 8,
   "metadata": {},
   "outputs": [
    {
     "data": {
      "text/plain": [
       "dtype('int64')"
      ]
     },
     "execution_count": 8,
     "metadata": {},
     "output_type": "execute_result"
    }
   ],
   "source": [
    "perfumeDF.number_votes.dtype"
   ]
  },
  {
   "cell_type": "code",
   "execution_count": 9,
   "metadata": {},
   "outputs": [],
   "source": [
    "def round_to_nearest_half_int(num):\n",
    "    return round(num * 2) / 2\n",
    "\n",
    "perfumeDF[\"rating\"] = perfumeDF.rating.apply(lambda x: round_to_nearest_half_int(x))"
   ]
  },
  {
   "cell_type": "markdown",
   "metadata": {},
   "source": [
    "### Question 2 (10 points)\n",
    "\n",
    "What is the top 10 most highly rated brands (in terms of **average rating**)?"
   ]
  },
  {
   "cell_type": "code",
   "execution_count": 10,
   "metadata": {},
   "outputs": [
    {
     "data": {
      "text/plain": [
       "brand\n",
       "Holistick               5.000000\n",
       "Bienaimé                5.000000\n",
       "Flora                   5.000000\n",
       "Mary McFadden           5.000000\n",
       "Walter Wolf             5.000000\n",
       "Ellen Betrix            5.000000\n",
       "Aromática Cosméticos    5.000000\n",
       "Jean d'Albret           4.875000\n",
       "Galimard                4.750000\n",
       "Corday                  4.666667\n",
       "Name: rating, dtype: float64"
      ]
     },
     "execution_count": 10,
     "metadata": {},
     "output_type": "execute_result"
    }
   ],
   "source": [
    "perfumeDF.groupby(\"brand\")[\"rating\"].mean().sort_values(ascending = False).head(10)"
   ]
  },
  {
   "cell_type": "markdown",
   "metadata": {},
   "source": [
    "### Question 3 (10 points)\n",
    "\n",
    "Categorize fragrances into different quartiles of popularity (in terms of **number of votes**), you need to also set the popularity level as \"First Level\", \"Second Level\", \"Third Level\", and \"Fourth Level\", respectively. Show the top 3 brands with the most number of fragrances at each popularity level, respectively."
   ]
  },
  {
   "cell_type": "code",
   "execution_count": 11,
   "metadata": {},
   "outputs": [
    {
     "data": {
      "text/plain": [
       "quartiles                      \n",
       "First Level   Guerlain             118\n",
       "              Dior                  87\n",
       "              Chanel                80\n",
       "Second Level  Guerlain              14\n",
       "              Chanel                14\n",
       "              Dior                  11\n",
       "Third Level   Dior                   8\n",
       "              Versace                4\n",
       "              Narciso Rodriguez      3\n",
       "Fourth Level  Mugler                 4\n",
       "              Chanel                 3\n",
       "              Dior                   3\n",
       "Name: brand, dtype: int64"
      ]
     },
     "execution_count": 11,
     "metadata": {},
     "output_type": "execute_result"
    }
   ],
   "source": [
    "label_names = [\"First Level\", \"Second Level\", \"Third Level\", \"Fourth Level\"]\n",
    "\n",
    "perfumeDF[\"quartiles\"] = pd.cut(perfumeDF.number_votes, 4, labels = label_names)\n",
    "\n",
    "# Group by \"quartiles\" first\n",
    "quartile_groups = perfumeDF.groupby(\"quartiles\")\n",
    "\n",
    "# Define a function to find the top 3 brands within each quartile\n",
    "def top_brands(group):\n",
    "    return group[\"brand\"].value_counts().nlargest(3)\n",
    "\n",
    "# Apply the function to each quartile group\n",
    "quartile_groups.apply(top_brands)"
   ]
  },
  {
   "cell_type": "code",
   "execution_count": 12,
   "metadata": {},
   "outputs": [
    {
     "data": {
      "text/plain": [
       "name            11\n",
       "brand           11\n",
       "rating          11\n",
       "number_votes    11\n",
       "top_notes       11\n",
       "middle_notes    11\n",
       "base_notes      11\n",
       "quartiles       11\n",
       "dtype: int64"
      ]
     },
     "execution_count": 12,
     "metadata": {},
     "output_type": "execute_result"
    }
   ],
   "source": [
    "perfumeDF[(perfumeDF.brand == \"Dior\") & (perfumeDF.quartiles == \"Second Level\")].count()"
   ]
  },
  {
   "cell_type": "markdown",
   "metadata": {},
   "source": [
    "### Question 4 (10 points)\n",
    "Does the length of the fragrance name have any relations to its rating? Let's try to create a **pivot table** with the row of popularity level and column of long_name (above the median name length) and short_name (below the median name length) and value of average ratings. So you need to first create a new column \"Name_length_long\" to indicate whether the length of the fragrance name is aboveor below the median name length of all fragrances. Explain your findings."
   ]
  },
  {
   "cell_type": "code",
   "execution_count": 13,
   "metadata": {},
   "outputs": [
    {
     "data": {
      "text/html": [
       "<div>\n",
       "<style scoped>\n",
       "    .dataframe tbody tr th:only-of-type {\n",
       "        vertical-align: middle;\n",
       "    }\n",
       "\n",
       "    .dataframe tbody tr th {\n",
       "        vertical-align: top;\n",
       "    }\n",
       "\n",
       "    .dataframe thead th {\n",
       "        text-align: right;\n",
       "    }\n",
       "</style>\n",
       "<table border=\"1\" class=\"dataframe\">\n",
       "  <thead>\n",
       "    <tr style=\"text-align: right;\">\n",
       "      <th>Name_length_long</th>\n",
       "      <th>long_name</th>\n",
       "      <th>median</th>\n",
       "      <th>short_name</th>\n",
       "    </tr>\n",
       "    <tr>\n",
       "      <th>quartiles</th>\n",
       "      <th></th>\n",
       "      <th></th>\n",
       "      <th></th>\n",
       "    </tr>\n",
       "  </thead>\n",
       "  <tbody>\n",
       "    <tr>\n",
       "      <th>First Level</th>\n",
       "      <td>4.083648</td>\n",
       "      <td>4.023649</td>\n",
       "      <td>4.045926</td>\n",
       "    </tr>\n",
       "    <tr>\n",
       "      <th>Second Level</th>\n",
       "      <td>4.073034</td>\n",
       "      <td>4.041667</td>\n",
       "      <td>3.918803</td>\n",
       "    </tr>\n",
       "    <tr>\n",
       "      <th>Third Level</th>\n",
       "      <td>3.973684</td>\n",
       "      <td>NaN</td>\n",
       "      <td>4.017857</td>\n",
       "    </tr>\n",
       "    <tr>\n",
       "      <th>Fourth Level</th>\n",
       "      <td>3.916667</td>\n",
       "      <td>NaN</td>\n",
       "      <td>3.900000</td>\n",
       "    </tr>\n",
       "  </tbody>\n",
       "</table>\n",
       "</div>"
      ],
      "text/plain": [
       "Name_length_long  long_name    median  short_name\n",
       "quartiles                                        \n",
       "First Level        4.083648  4.023649    4.045926\n",
       "Second Level       4.073034  4.041667    3.918803\n",
       "Third Level        3.973684       NaN    4.017857\n",
       "Fourth Level       3.916667       NaN    3.900000"
      ]
     },
     "execution_count": 13,
     "metadata": {},
     "output_type": "execute_result"
    }
   ],
   "source": [
    "median_name = perfumeDF.name.str.len().median()\n",
    "perfumeDF[\"Name_length_long\"] = \"median\"\n",
    "perfumeDF.loc[perfumeDF.name.str.len() < median_name, \"Name_length_long\"] = \"short_name\"\n",
    "perfumeDF.loc[perfumeDF.name.str.len() > median_name, \"Name_length_long\"] = \"long_name\"\n",
    "\n",
    "pd.pivot_table(perfumeDF, index = \"quartiles\", columns = \"Name_length_long\", values = \"rating\", aggfunc = \"mean\")"
   ]
  },
  {
   "cell_type": "markdown",
   "metadata": {},
   "source": [
    "### Question 5 (10 points)\n",
    "\n",
    "For Chanel perfume, what is the most popular note choice for **top note, middle note and base note, respectively** (e.g. the most popular one out of Rose, Jasmine, Orange, etc. for top note and then for middle note and base note)?  Note that the top/middle/base notes may contain several notes and so you need to split them first. How many Chanel perfumes contain all three most popular notes?"
   ]
  },
  {
   "cell_type": "code",
   "execution_count": 14,
   "metadata": {},
   "outputs": [
    {
     "data": {
      "text/html": [
       "<div>\n",
       "<style scoped>\n",
       "    .dataframe tbody tr th:only-of-type {\n",
       "        vertical-align: middle;\n",
       "    }\n",
       "\n",
       "    .dataframe tbody tr th {\n",
       "        vertical-align: top;\n",
       "    }\n",
       "\n",
       "    .dataframe thead th {\n",
       "        text-align: right;\n",
       "    }\n",
       "</style>\n",
       "<table border=\"1\" class=\"dataframe\">\n",
       "  <thead>\n",
       "    <tr style=\"text-align: right;\">\n",
       "      <th></th>\n",
       "      <th>name</th>\n",
       "      <th>brand</th>\n",
       "      <th>rating</th>\n",
       "      <th>number_votes</th>\n",
       "      <th>top_notes</th>\n",
       "      <th>middle_notes</th>\n",
       "      <th>base_notes</th>\n",
       "      <th>quartiles</th>\n",
       "      <th>Name_length_long</th>\n",
       "    </tr>\n",
       "  </thead>\n",
       "  <tbody>\n",
       "    <tr>\n",
       "      <th>0</th>\n",
       "      <td>Angels' Share</td>\n",
       "      <td>By Kilian</td>\n",
       "      <td>4.5</td>\n",
       "      <td>682</td>\n",
       "      <td>['Cognac']</td>\n",
       "      <td>['Cinnamon', 'Tonka Bean', 'Oak']</td>\n",
       "      <td>['Praline', 'Vanilla', 'Sandalwood']</td>\n",
       "      <td>First Level</td>\n",
       "      <td>median</td>\n",
       "    </tr>\n",
       "    <tr>\n",
       "      <th>1</th>\n",
       "      <td>My Way</td>\n",
       "      <td>Giorgio Armani</td>\n",
       "      <td>3.5</td>\n",
       "      <td>1471</td>\n",
       "      <td>['Orange Blossom', 'Bergamot']</td>\n",
       "      <td>['Tuberose', 'Indian Jasmine']</td>\n",
       "      <td>['White Musk', 'Madagascar Vanilla', 'Virginia...</td>\n",
       "      <td>First Level</td>\n",
       "      <td>short_name</td>\n",
       "    </tr>\n",
       "    <tr>\n",
       "      <th>2</th>\n",
       "      <td>Libre Intense</td>\n",
       "      <td>Yves Saint Laurent</td>\n",
       "      <td>4.0</td>\n",
       "      <td>858</td>\n",
       "      <td>['Lavender', 'Mandarin Orange', 'Bergamot']</td>\n",
       "      <td>['Lavender', 'Tunisian Orange Blossom', 'Jasmi...</td>\n",
       "      <td>['Madagascar Vanilla', 'Tonka Bean', 'Ambergri...</td>\n",
       "      <td>First Level</td>\n",
       "      <td>median</td>\n",
       "    </tr>\n",
       "    <tr>\n",
       "      <th>3</th>\n",
       "      <td>Dior Homme 2020</td>\n",
       "      <td>Christian Dior</td>\n",
       "      <td>3.5</td>\n",
       "      <td>1402</td>\n",
       "      <td>['Bergamot', 'Pink Pepper', 'elemi']</td>\n",
       "      <td>['Cashmere Wood', 'Atlas Cedar', 'Patchouli']</td>\n",
       "      <td>['Iso E Super', 'Haitian Vetiver', 'White Musk']</td>\n",
       "      <td>First Level</td>\n",
       "      <td>long_name</td>\n",
       "    </tr>\n",
       "    <tr>\n",
       "      <th>4</th>\n",
       "      <td>Acqua di Giò Profondo</td>\n",
       "      <td>Giorgio Armani</td>\n",
       "      <td>4.0</td>\n",
       "      <td>869</td>\n",
       "      <td>['Sea Notes', 'Aquozone', 'Bergamot', 'Green M...</td>\n",
       "      <td>['Rosemary', 'Cypress', 'Lavender', 'Mastic or...</td>\n",
       "      <td>['Mineral notes', 'Musk', 'Patchouli', 'Amber']</td>\n",
       "      <td>First Level</td>\n",
       "      <td>long_name</td>\n",
       "    </tr>\n",
       "    <tr>\n",
       "      <th>...</th>\n",
       "      <td>...</td>\n",
       "      <td>...</td>\n",
       "      <td>...</td>\n",
       "      <td>...</td>\n",
       "      <td>...</td>\n",
       "      <td>...</td>\n",
       "      <td>...</td>\n",
       "      <td>...</td>\n",
       "      <td>...</td>\n",
       "    </tr>\n",
       "    <tr>\n",
       "      <th>4817</th>\n",
       "      <td>Jean-Louis Scherrer Eau de Parfum</td>\n",
       "      <td>Jean-Louis Scherrer</td>\n",
       "      <td>4.0</td>\n",
       "      <td>1</td>\n",
       "      <td>['Italian', 'Tangerine', 'Calabrian', 'bergamo...</td>\n",
       "      <td>['iris', 'Jasmine', 'Bulgarian', 'Rose']</td>\n",
       "      <td>['Patchouli', 'Bourbon', 'Vetiver', 'Mysore', ...</td>\n",
       "      <td>First Level</td>\n",
       "      <td>long_name</td>\n",
       "    </tr>\n",
       "    <tr>\n",
       "      <th>4818</th>\n",
       "      <td>Iranzol Perfume Oil</td>\n",
       "      <td>Bruno Acampora</td>\n",
       "      <td>4.5</td>\n",
       "      <td>35</td>\n",
       "      <td>['Sandalwood', 'Musk']</td>\n",
       "      <td>['Galbanum', 'Amber', 'Jasmine', 'Rose']</td>\n",
       "      <td>['Patchouli', 'Vanilla']</td>\n",
       "      <td>First Level</td>\n",
       "      <td>long_name</td>\n",
       "    </tr>\n",
       "    <tr>\n",
       "      <th>4819</th>\n",
       "      <td>Night Scented Stock</td>\n",
       "      <td>Penhaligon's</td>\n",
       "      <td>4.0</td>\n",
       "      <td>256</td>\n",
       "      <td>['Clove', 'Cinnamon']</td>\n",
       "      <td>['Ylang-', 'Ylang', 'Lily', 'Heliotrope', 'Vio...</td>\n",
       "      <td>['Tonka', 'Bean', 'Benzoin', 'Musk', 'Sandalwo...</td>\n",
       "      <td>First Level</td>\n",
       "      <td>long_name</td>\n",
       "    </tr>\n",
       "    <tr>\n",
       "      <th>4820</th>\n",
       "      <td>Complice</td>\n",
       "      <td>Coty</td>\n",
       "      <td>4.0</td>\n",
       "      <td>68</td>\n",
       "      <td>['Aldehydes', 'African', 'Orange', 'flower', '...</td>\n",
       "      <td>['Lily-of-the-', 'Valley', 'Rose', 'Lilac', 'N...</td>\n",
       "      <td>['oak', 'moss', 'Vetiver', 'Musk', 'Benzoin', ...</td>\n",
       "      <td>First Level</td>\n",
       "      <td>short_name</td>\n",
       "    </tr>\n",
       "    <tr>\n",
       "      <th>4821</th>\n",
       "      <td>Revillon pour Homme</td>\n",
       "      <td>Revillon</td>\n",
       "      <td>4.5</td>\n",
       "      <td>46</td>\n",
       "      <td>['Rosemary', 'Lavender', 'Artemisia', 'Petitgr...</td>\n",
       "      <td>['Pine', 'Tree', 'Needles', 'Carnation', 'Gera...</td>\n",
       "      <td>['Oakmoss', 'Fir', 'Cedar', 'Tonka', 'Bean']</td>\n",
       "      <td>First Level</td>\n",
       "      <td>long_name</td>\n",
       "    </tr>\n",
       "  </tbody>\n",
       "</table>\n",
       "<p>4822 rows × 9 columns</p>\n",
       "</div>"
      ],
      "text/plain": [
       "                                   name                brand  rating  \\\n",
       "0                         Angels' Share            By Kilian     4.5   \n",
       "1                                My Way       Giorgio Armani     3.5   \n",
       "2                         Libre Intense   Yves Saint Laurent     4.0   \n",
       "3                       Dior Homme 2020       Christian Dior     3.5   \n",
       "4                 Acqua di Giò Profondo       Giorgio Armani     4.0   \n",
       "...                                 ...                  ...     ...   \n",
       "4817  Jean-Louis Scherrer Eau de Parfum  Jean-Louis Scherrer     4.0   \n",
       "4818                Iranzol Perfume Oil       Bruno Acampora     4.5   \n",
       "4819                Night Scented Stock         Penhaligon's     4.0   \n",
       "4820                           Complice                 Coty     4.0   \n",
       "4821                Revillon pour Homme             Revillon     4.5   \n",
       "\n",
       "      number_votes                                          top_notes  \\\n",
       "0              682                                         ['Cognac']   \n",
       "1             1471                     ['Orange Blossom', 'Bergamot']   \n",
       "2              858        ['Lavender', 'Mandarin Orange', 'Bergamot']   \n",
       "3             1402               ['Bergamot', 'Pink Pepper', 'elemi']   \n",
       "4              869  ['Sea Notes', 'Aquozone', 'Bergamot', 'Green M...   \n",
       "...            ...                                                ...   \n",
       "4817             1  ['Italian', 'Tangerine', 'Calabrian', 'bergamo...   \n",
       "4818            35                             ['Sandalwood', 'Musk']   \n",
       "4819           256                              ['Clove', 'Cinnamon']   \n",
       "4820            68  ['Aldehydes', 'African', 'Orange', 'flower', '...   \n",
       "4821            46  ['Rosemary', 'Lavender', 'Artemisia', 'Petitgr...   \n",
       "\n",
       "                                           middle_notes  \\\n",
       "0                     ['Cinnamon', 'Tonka Bean', 'Oak']   \n",
       "1                        ['Tuberose', 'Indian Jasmine']   \n",
       "2     ['Lavender', 'Tunisian Orange Blossom', 'Jasmi...   \n",
       "3         ['Cashmere Wood', 'Atlas Cedar', 'Patchouli']   \n",
       "4     ['Rosemary', 'Cypress', 'Lavender', 'Mastic or...   \n",
       "...                                                 ...   \n",
       "4817           ['iris', 'Jasmine', 'Bulgarian', 'Rose']   \n",
       "4818           ['Galbanum', 'Amber', 'Jasmine', 'Rose']   \n",
       "4819  ['Ylang-', 'Ylang', 'Lily', 'Heliotrope', 'Vio...   \n",
       "4820  ['Lily-of-the-', 'Valley', 'Rose', 'Lilac', 'N...   \n",
       "4821  ['Pine', 'Tree', 'Needles', 'Carnation', 'Gera...   \n",
       "\n",
       "                                             base_notes    quartiles  \\\n",
       "0                  ['Praline', 'Vanilla', 'Sandalwood']  First Level   \n",
       "1     ['White Musk', 'Madagascar Vanilla', 'Virginia...  First Level   \n",
       "2     ['Madagascar Vanilla', 'Tonka Bean', 'Ambergri...  First Level   \n",
       "3      ['Iso E Super', 'Haitian Vetiver', 'White Musk']  First Level   \n",
       "4       ['Mineral notes', 'Musk', 'Patchouli', 'Amber']  First Level   \n",
       "...                                                 ...          ...   \n",
       "4817  ['Patchouli', 'Bourbon', 'Vetiver', 'Mysore', ...  First Level   \n",
       "4818                           ['Patchouli', 'Vanilla']  First Level   \n",
       "4819  ['Tonka', 'Bean', 'Benzoin', 'Musk', 'Sandalwo...  First Level   \n",
       "4820  ['oak', 'moss', 'Vetiver', 'Musk', 'Benzoin', ...  First Level   \n",
       "4821       ['Oakmoss', 'Fir', 'Cedar', 'Tonka', 'Bean']  First Level   \n",
       "\n",
       "     Name_length_long  \n",
       "0              median  \n",
       "1          short_name  \n",
       "2              median  \n",
       "3           long_name  \n",
       "4           long_name  \n",
       "...               ...  \n",
       "4817        long_name  \n",
       "4818        long_name  \n",
       "4819        long_name  \n",
       "4820       short_name  \n",
       "4821        long_name  \n",
       "\n",
       "[4822 rows x 9 columns]"
      ]
     },
     "execution_count": 14,
     "metadata": {},
     "output_type": "execute_result"
    }
   ],
   "source": [
    "perfumeDF"
   ]
  },
  {
   "cell_type": "code",
   "execution_count": 15,
   "metadata": {},
   "outputs": [],
   "source": [
    "def cleaning(str_):\n",
    "    str_ = str_.replace('[', '')\n",
    "    str_ = str_.replace(']', '')\n",
    "    str_ = str_.replace(\"'\", \"\")\n",
    "    str_ = str_.replace('\"', '')\n",
    "    \n",
    "    list_ = str_.split(\",\")\n",
    "    for i, element in enumerate(list_):\n",
    "        list_[i] = element.strip()\n",
    "    \n",
    "    return list_\n",
    "\n",
    "perfumeDF[\"top_notes\"] = perfumeDF.top_notes.apply(cleaning)\n",
    "perfumeDF[\"middle_notes\"] = perfumeDF.middle_notes.apply(cleaning)\n",
    "perfumeDF[\"base_notes\"] = perfumeDF.base_notes.apply(cleaning)"
   ]
  },
  {
   "cell_type": "code",
   "execution_count": 16,
   "metadata": {},
   "outputs": [
    {
     "name": "stdout",
     "output_type": "stream",
     "text": [
      "MVP Top Note: Bergamot\n",
      "MVP Middle Note: Jasmine\n",
      "MVP Base Note: Musk\n"
     ]
    }
   ],
   "source": [
    "ChanelDF = perfumeDF[perfumeDF.brand == \"Chanel\"]\n",
    "ChanelDF\n",
    "\n",
    "MVP_top_note = ChanelDF.top_notes.explode().value_counts().nlargest(1)\n",
    "MVP_middle_note = ChanelDF.middle_notes.explode().value_counts().nlargest(1)\n",
    "MVP_base_note = ChanelDF.base_notes.explode().value_counts().nlargest(1)\n",
    "\n",
    "print(\"MVP Top Note:\", MVP_top_note.reset_index().iloc[0,0])\n",
    "print(\"MVP Middle Note:\", MVP_middle_note.reset_index().iloc[0,0])\n",
    "print(\"MVP Base Note:\", MVP_base_note.reset_index().iloc[0,0])"
   ]
  },
  {
   "cell_type": "markdown",
   "metadata": {},
   "source": [
    "### Question 6 (15 points)\n",
    "\n",
    "Chanel No.5 Eau de Parfum has very classic notes combination. For example, Bergamot for top note, Rose for Middle note, and Vanilla for Base note. If you like it, you probably want to explore what other perfume you might also like. So now design personalized recommendations for Elon Musk to choose the perfumes similar to Chanel No.5 as follows.\n",
    "\n",
    "1. Identify the perfumes with the same note combination (i.e., use **Bergamot** for top note, **Rose** for Middle note, and **Vanilla** for Base note)\n",
    "2. From these perfumes, let's get the most popular ones (i.e., they are in the **Fourth Level** of popularity) \n",
    "3. Now add some \"Musk\" flavor to choose perfumes that also have **Musk** in their Base note\n",
    "4. Show top 3 perfume and brands with the highest **Rating**\n",
    "\n",
    "\n",
    "\n",
    "\n"
   ]
  },
  {
   "cell_type": "code",
   "execution_count": 17,
   "metadata": {},
   "outputs": [
    {
     "data": {
      "text/plain": [
       "brand   name             \n",
       "Chanel  Coco Mademoiselle    4.0\n",
       "Dior    J'adore              4.0\n",
       "Mugler  Angel                3.5\n",
       "Name: rating, dtype: float64"
      ]
     },
     "execution_count": 17,
     "metadata": {},
     "output_type": "execute_result"
    }
   ],
   "source": [
    "# Bergamot for top note, Rose for Middle note, and Vanilla for Base note\n",
    "selectionDF = perfumeDF[(perfumeDF[\"top_notes\"].str.contains(\"Bergamot\", regex=False)) & (perfumeDF[\"middle_notes\"].str.contains(\"Rose\", regex=False)) & (perfumeDF[\"base_notes\"].str.contains(\"Vanilla\", regex=False))]\n",
    "\n",
    "# most popular\n",
    "selectionDF_2 = selectionDF[selectionDF.quartiles == \"Fourth Level\"]\n",
    "\n",
    "# Musk in base note\n",
    "selectionDF_3 = selectionDF_2[(selectionDF_2[\"base_notes\"].str.contains(\"Musk\", regex=False))]\n",
    "#print(selectionDF_3[[\"name\", \"brand\", \"rating\", \"top_notes\", \"middle_notes\", \"base_notes\"]])\n",
    "\n",
    "# Show top 3 perfume and brands with the highest Rating\n",
    "selectionDF_3.groupby([\"brand\", \"name\"])[\"rating\"].mean().nlargest(3)\n"
   ]
  },
  {
   "cell_type": "markdown",
   "metadata": {},
   "source": [
    "Congratulations! I trust your recommendations to Elon Musk are surely better than his Burnt Hair :)"
   ]
  }
 ],
 "metadata": {
  "kernelspec": {
   "display_name": "Python 3 (ipykernel)",
   "language": "python",
   "name": "python3"
  },
  "language_info": {
   "codemirror_mode": {
    "name": "ipython",
    "version": 3
   },
   "file_extension": ".py",
   "mimetype": "text/x-python",
   "name": "python",
   "nbconvert_exporter": "python",
   "pygments_lexer": "ipython3",
   "version": "3.11.4"
  },
  "toc": {
   "base_numbering": 1,
   "nav_menu": {},
   "number_sections": true,
   "sideBar": true,
   "skip_h1_title": false,
   "title_cell": "Table of Contents",
   "title_sidebar": "Contents",
   "toc_cell": false,
   "toc_position": {},
   "toc_section_display": true,
   "toc_window_display": false
  }
 },
 "nbformat": 4,
 "nbformat_minor": 2
}
